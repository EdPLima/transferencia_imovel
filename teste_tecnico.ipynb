{
 "cells": [
  {
   "cell_type": "markdown",
   "metadata": {},
   "source": [
    "# 📊 Projeto de Teste Técnico — Cientista de Dados Júnior\n",
    "\n",
    "* Este projeto tem como objetivo demonstrar habilidades analíticas, conhecimento em ciência de dados e capacidade de transformar dados brutos em insights acionáveis. Para isso, serão aplicadas técnicas de exploração, processamento e modelagem de dados, utilizando ferramentas e bibliotecas populares da área.\n",
    "\n",
    "\n",
    "## 📌 Introdução\n",
    "\n",
    "O desafio envolve a análise de um conjunto de dados fornecido, passando pelas seguintes etapas:\n",
    "\n",
    "- **Entendimento dos Dados**: Compreensão da estrutura do dataset, as variáveis disponíveis.\n",
    "- **Pré-processamento dos dados**: Identificação e remoção de outliers, tratamento de valores ausentes se tiver, engenharia de atributos.\n",
    "- **Pré-processamento de texto (NLP)**: Aplicação de técnicas de **Processamento de Linguagem Natural (NLP)**, incluindo remoção de stopwords, stemming, lematização e vetorização de texto para melhorar a qualidade dos dados textuais.\n",
    "- **Extração de outras fontes de dados**: Requisição feita na API do IBGE para a extração da informação sobre a região geográfica de cada estado.\n",
    "- **Análise Exploratória de dados**: Entender como as variáveis estão distribuidas\n",
    "- **Resolução das Perguntas Propostas**\n",
    "\n",
    "1 - Quais são os estados e cidades com o maior número de transações?\n",
    "\n",
    "2 - Como as transações são distribuídas ao longo do tempo (por mês/ano)?\n",
    "\n",
    "3 - Houve um aumento ou diminuição no número de transações ao longo do tempo? Em quais estados isso é mais evidente?\n",
    "\n",
    "4 - Gere um gráfico de série temporal mostrando a evolução das transações ao longo dos meses\n",
    "\n",
    "5 - Proponha uma segmentação dos cartórios com base nos critérios que achar relevante.\n",
    "\n",
    "\n"
   ]
  },
  {
   "cell_type": "markdown",
   "metadata": {},
   "source": [
    "### Dicionário de dados:\n",
    "\n",
    "* id_cartorio: Variável numérica - regra: 1 cartório pode ter diversos tipos de transações\n",
    "* texto: Variável string - Variável Texto - Possui informações sobre as transações, tipo de transacao, quem comprou e vendeu, tipo do imóvel e o tamanho\n",
    "* Estado: Variável Categórica - Possui a sigla do Estado\n",
    "* Cidade: Variável Categórica - Possui o nome das cidades\n",
    "* data: Variável do tipo data - Possui o mês e o ano da transação\n",
    "\n",
    "**Extraído via NLP**\n",
    "\n",
    "* tamanho_imovel (metros quadrados): Variável numérica - poussui valores inteiros\n",
    "* Tipo_transferência: Variável Categórica - Com valores sendo  \"Usucapião Extrajudicial\", \"Recuperação de Crédito\", \"Compra e Venda\"\n",
    "* Tipo_imóvel: Variável Categórica - Com valores sendo \"Casa\", \"Apartamento\" e \"Terreno Rural\"\n",
    "\n",
    "**Extra**\n",
    "\n",
    "regiao: Variável categórica - Nome da região sendo \"Norte, Nordeste, Centro Oeste, Sul, Sudeste\""
   ]
  },
  {
   "cell_type": "code",
   "execution_count": null,
   "metadata": {},
   "outputs": [],
   "source": [
    "# Visualização e Manipulação de dados\n",
    "\n",
    "import pandas as pd\n",
    "import numpy as np\n",
    "import plotly.express as px\n",
    "from scipy import stats\n",
    "\n",
    "#Requisicao HTTP\n",
    "import requests\n",
    "\n",
    "#Avaliacao da clusterizacao e modelo nao supervisionado\n",
    "from sklearn.metrics import silhouette_score\n",
    "from sklearn.cluster import KMeans"
   ]
  },
  {
   "cell_type": "code",
   "execution_count": null,
   "metadata": {},
   "outputs": [],
   "source": [
    "# Manipulação de texto\n",
    "import re\n",
    "import spacy\n",
    "\n",
    "\n",
    "\n",
    "#Processamento de texto\n",
    "from fuzzywuzzy import fuzz, process\n",
    "import string\n",
    "\n",
    "# Codificacao de variáveis\n",
    "from sklearn.preprocessing import LabelEncoder"
   ]
  },
  {
   "cell_type": "markdown",
   "metadata": {},
   "source": [
    "# 📌 Entendimento dos Dados  \n",
    "\n",
    "Nesta etapa, realizamos uma análise inicial do conjunto de dados para garantir que ele esteja adequado para as próximas fases do projeto. Esse processo inclui a verificação da estrutura dos dados, identificação de possíveis inconsistências e a definição de estratégias para tratá-las.  \n",
    "\n",
    "Os principais aspectos analisados são:  \n",
    "\n",
    "- **Extração dos Dados**: Importação e carregamento dos dados a partir da fonte original.\n",
    "- **Verificação de Valores Ausentes**: Identificação de possíveis lacunas nos dados e definição de estratégias para lidar com elas.\n",
    "- **Tipos das Variáveis**: Análise dos tipos de dados (numéricos, categóricos, texto, etc.) para garantir compatibilidade com os métodos de análise e modelagem.\n",
    "- **Descrição Estatística**: Estatísticas descritivas, como média, mediana, desvio padrão e distribuição das variáveis.\n",
    "- **Possíveis Problemas**: Por existir uma coluna de texto, precisamos avaliar quais técnicas seram úteis para capturar informações relevantes para análise\n",
    "\n",
    "\n",
    "### Conceitos importantes.\n",
    "\n",
    "**Compra e venda**: é o processo jurídico e financeiro que envolve a transferência de um imóvel de um vendedor para um comprador, com o pagamento de um preço acordado. Esse processo é regulamentado por leis específicar e envolve uma séria de etapas para garantir que a transação seja legal, segura e válida.\n",
    "\n",
    "\n",
    "**Recuperação de crédito**: é o processo pelo qual uma instituição financeira, empresa ou credor busca recuperar valores devidos por clientes ou empresas que não cumpriram com suas obrigações financeiras, como o pgamento de dívidas ou empréstimos. Esse processo é uma parte essencial da gestão de crédito, garantindo que o credor congia minimizar perdas financeiras decorrentes de inadimplência,\n",
    "\n",
    "\n",
    "**Usucapião Extrajudicial**: é um procedimento legal que permite a aquisição da propriedade de um bem imóvel por meio da posse contínua e ininterrupta por um determinado período, sem a necessidade de processo judicial. Esse processo ocorre diretamente no **cartório de registro de imóveis**, sendo uma alternativa mais rápida e menos burocrática em comparação com a usucapião judicial, que exige a intervenção do Poder Judiciário.\n",
    "\n",
    "\n",
    "**Usucapião**: é a forma pela qual uma pessoa adquire a propriedade de um imóvel através da posse prolongada e sem oposição do proprietário anterior.\n",
    "\n"
   ]
  },
  {
   "cell_type": "code",
   "execution_count": 300,
   "metadata": {},
   "outputs": [],
   "source": [
    "# Extraindo os dados\n",
    "dados = pd.read_csv('dataset_registros_imobiliarios.csv')"
   ]
  },
  {
   "cell_type": "code",
   "execution_count": 301,
   "metadata": {},
   "outputs": [
    {
     "name": "stdout",
     "output_type": "stream",
     "text": [
      "<class 'pandas.core.frame.DataFrame'>\n",
      "RangeIndex: 10485 entries, 0 to 10484\n",
      "Data columns (total 5 columns):\n",
      " #   Column       Non-Null Count  Dtype \n",
      "---  ------       --------------  ----- \n",
      " 0   id_cartorio  10485 non-null  int64 \n",
      " 1   texto        10485 non-null  object\n",
      " 2   estado       10485 non-null  object\n",
      " 3   cidade       10485 non-null  object\n",
      " 4   data         10485 non-null  object\n",
      "dtypes: int64(1), object(4)\n",
      "memory usage: 409.7+ KB\n"
     ]
    }
   ],
   "source": [
    "dados.info()"
   ]
  },
  {
   "cell_type": "markdown",
   "metadata": {},
   "source": [
    "# Pré-processamento\n",
    "\n",
    "* A coluna de data se encontra no tipo 'object', será feito uma transformação para que seja transmita sua informação de maneira mais concreta."
   ]
  },
  {
   "cell_type": "code",
   "execution_count": 302,
   "metadata": {},
   "outputs": [
    {
     "data": {
      "text/html": [
       "<div>\n",
       "<style scoped>\n",
       "    .dataframe tbody tr th:only-of-type {\n",
       "        vertical-align: middle;\n",
       "    }\n",
       "\n",
       "    .dataframe tbody tr th {\n",
       "        vertical-align: top;\n",
       "    }\n",
       "\n",
       "    .dataframe thead th {\n",
       "        text-align: right;\n",
       "    }\n",
       "</style>\n",
       "<table border=\"1\" class=\"dataframe\">\n",
       "  <thead>\n",
       "    <tr style=\"text-align: right;\">\n",
       "      <th></th>\n",
       "      <th>id_cartorio</th>\n",
       "      <th>texto</th>\n",
       "      <th>estado</th>\n",
       "      <th>cidade</th>\n",
       "      <th>data</th>\n",
       "    </tr>\n",
       "  </thead>\n",
       "  <tbody>\n",
       "    <tr>\n",
       "      <th>0</th>\n",
       "      <td>193</td>\n",
       "      <td>Processo de Usucapião Extrajudicial: Apartamen...</td>\n",
       "      <td>PI</td>\n",
       "      <td>Picos</td>\n",
       "      <td>08/2023</td>\n",
       "    </tr>\n",
       "    <tr>\n",
       "      <th>1</th>\n",
       "      <td>276</td>\n",
       "      <td>Processo de Usucapião Extrajudicial: Terreno R...</td>\n",
       "      <td>MA</td>\n",
       "      <td>São Luís</td>\n",
       "      <td>11/2023</td>\n",
       "    </tr>\n",
       "    <tr>\n",
       "      <th>2</th>\n",
       "      <td>70</td>\n",
       "      <td>Processo de Usucapião Extrajudicial: Terreno R...</td>\n",
       "      <td>SC</td>\n",
       "      <td>Blumenau</td>\n",
       "      <td>02/2024</td>\n",
       "    </tr>\n",
       "    <tr>\n",
       "      <th>3</th>\n",
       "      <td>277</td>\n",
       "      <td>Casa (291m²) transferido de Ana Beatriz da Roc...</td>\n",
       "      <td>CE</td>\n",
       "      <td>Fortaleza</td>\n",
       "      <td>04/2024</td>\n",
       "    </tr>\n",
       "    <tr>\n",
       "      <th>4</th>\n",
       "      <td>166</td>\n",
       "      <td>Processo de Compra e Venda: Casa de 153m² pass...</td>\n",
       "      <td>RJ</td>\n",
       "      <td>Niterói</td>\n",
       "      <td>10/2024</td>\n",
       "    </tr>\n",
       "  </tbody>\n",
       "</table>\n",
       "</div>"
      ],
      "text/plain": [
       "   id_cartorio                                              texto estado  \\\n",
       "0          193  Processo de Usucapião Extrajudicial: Apartamen...     PI   \n",
       "1          276  Processo de Usucapião Extrajudicial: Terreno R...     MA   \n",
       "2           70  Processo de Usucapião Extrajudicial: Terreno R...     SC   \n",
       "3          277  Casa (291m²) transferido de Ana Beatriz da Roc...     CE   \n",
       "4          166  Processo de Compra e Venda: Casa de 153m² pass...     RJ   \n",
       "\n",
       "      cidade     data  \n",
       "0      Picos  08/2023  \n",
       "1   São Luís  11/2023  \n",
       "2   Blumenau  02/2024  \n",
       "3  Fortaleza  04/2024  \n",
       "4    Niterói  10/2024  "
      ]
     },
     "execution_count": 302,
     "metadata": {},
     "output_type": "execute_result"
    }
   ],
   "source": [
    "dados.head()"
   ]
  },
  {
   "cell_type": "code",
   "execution_count": 303,
   "metadata": {},
   "outputs": [
    {
     "data": {
      "text/plain": [
       "id_cartorio             int64\n",
       "texto                  object\n",
       "estado                 object\n",
       "cidade                 object\n",
       "data           datetime64[ns]\n",
       "dtype: object"
      ]
     },
     "execution_count": 303,
     "metadata": {},
     "output_type": "execute_result"
    }
   ],
   "source": [
    "dados['data'] = pd.to_datetime(dados['data'], format = '%m/%Y')\n",
    "dados.dtypes"
   ]
  },
  {
   "cell_type": "markdown",
   "metadata": {},
   "source": [
    "A **engenharia de atributos** é um processo fundamental no ciclo de vida de um projeto de ciência de dados. Consiste na criação, modificação ou seleção de variáveis (atributos) que serão utilizadas nos modelos de machine learning, com o objetivo de melhorar a performance e a capacidade preditiva dos modelos.\n",
    "\n",
    "Esse processo pode ser dividido em várias etapas, dependendo dos dados e do problema que estamos tentando resolver. Algumas das principais atividades envolvem:\n",
    "\n",
    " 1. **Criação de Atributos**\n",
    "A criação de novos atributos pode ser feita a partir de variáveis já existentes. Isso pode incluir:\n",
    "- Combinação de várias colunas para gerar uma nova variável (por exemplo, somar a idade e a experiência para criar uma variável de \"experiência total\").\n",
    "- Conversão de variáveis categóricas em variáveis numéricas (como o uso de one-hot encoding ou label encoding).\n",
    "- Extração de informações de texto, como mostrado anteriormente, para capturar dados importantes que podem não ser explícitos na estrutura original dos dados.\n",
    "\n",
    "2. **Transformação de Atributos**\n",
    "Em alguns casos, as variáveis precisam ser transformadas para tornar os modelos mais eficientes:\n",
    "- **Escalonamento de variáveis** (normalização ou padronização) para garantir que as variáveis numéricas estejam na mesma escala, evitando que variáveis com maior magnitude dominem a análise.\n",
    "- **Log-transform** para lidar com distribuições assimétricas ou com grandes variações entre os dados.\n",
    "\n",
    "\n",
    "No nosso caso, criamos a variável mês e ano a partir da coluna de data."
   ]
  },
  {
   "cell_type": "code",
   "execution_count": 304,
   "metadata": {},
   "outputs": [
    {
     "data": {
      "text/html": [
       "<div>\n",
       "<style scoped>\n",
       "    .dataframe tbody tr th:only-of-type {\n",
       "        vertical-align: middle;\n",
       "    }\n",
       "\n",
       "    .dataframe tbody tr th {\n",
       "        vertical-align: top;\n",
       "    }\n",
       "\n",
       "    .dataframe thead th {\n",
       "        text-align: right;\n",
       "    }\n",
       "</style>\n",
       "<table border=\"1\" class=\"dataframe\">\n",
       "  <thead>\n",
       "    <tr style=\"text-align: right;\">\n",
       "      <th></th>\n",
       "      <th>id_cartorio</th>\n",
       "      <th>texto</th>\n",
       "      <th>estado</th>\n",
       "      <th>cidade</th>\n",
       "      <th>data</th>\n",
       "      <th>ano</th>\n",
       "      <th>mes</th>\n",
       "    </tr>\n",
       "  </thead>\n",
       "  <tbody>\n",
       "    <tr>\n",
       "      <th>0</th>\n",
       "      <td>193</td>\n",
       "      <td>Processo de Usucapião Extrajudicial: Apartamen...</td>\n",
       "      <td>PI</td>\n",
       "      <td>Picos</td>\n",
       "      <td>2023-08-01</td>\n",
       "      <td>2023</td>\n",
       "      <td>8</td>\n",
       "    </tr>\n",
       "    <tr>\n",
       "      <th>1</th>\n",
       "      <td>276</td>\n",
       "      <td>Processo de Usucapião Extrajudicial: Terreno R...</td>\n",
       "      <td>MA</td>\n",
       "      <td>São Luís</td>\n",
       "      <td>2023-11-01</td>\n",
       "      <td>2023</td>\n",
       "      <td>11</td>\n",
       "    </tr>\n",
       "  </tbody>\n",
       "</table>\n",
       "</div>"
      ],
      "text/plain": [
       "   id_cartorio                                              texto estado  \\\n",
       "0          193  Processo de Usucapião Extrajudicial: Apartamen...     PI   \n",
       "1          276  Processo de Usucapião Extrajudicial: Terreno R...     MA   \n",
       "\n",
       "     cidade       data   ano  mes  \n",
       "0     Picos 2023-08-01  2023    8  \n",
       "1  São Luís 2023-11-01  2023   11  "
      ]
     },
     "execution_count": 304,
     "metadata": {},
     "output_type": "execute_result"
    }
   ],
   "source": [
    "# Agora com a coluna transformada, iremos extrair o mes e o ano\n",
    "dados['ano'] = dados['data'].dt.year\n",
    "dados['mes'] = dados['data'].dt.month\n",
    "dados.head(2)"
   ]
  },
  {
   "cell_type": "markdown",
   "metadata": {},
   "source": [
    "🔍 Extração de Informações de Texto\n",
    "\n",
    "A coluna de texto contém frases longas, que podem incluir informações valiosas para futuras análises. No entanto, esses dados não estruturados precisam ser processados para que possamos extrair insights úteis. Alguns dos elementos que podem ser extraídos incluem:\n",
    "\n",
    "- **Tipo de Transferência**: Identificação do tipo de transação imobiliária realizada.\n",
    "- **Tipo do Imóvel**: Classificação do imóvel, como casa, apartamento, terreno, entre outros.\n",
    "- **Tamanho do Imóvel**: Extração de informações sobre área construída ou área total.\n",
    "\n",
    "Para tornar essas informações utilizáveis em nossas análises, é essencial realizar um **pré-processamento de texto**. Esse processo envolve a limpeza e estruturação dos dados textuais, o que pode incluir:\n",
    "\n",
    "✅ **Remoção de caracteres especiais e stopwords** para evitar ruídos na análise.\n",
    "\n",
    "✅ **Tokenização** para segmentar as frases em palavras individuais.\n",
    "\n",
    "✅ **Identificação de padrões e extração de palavras-chave** para capturar as informações relevantes.\n",
    "\n",
    "Esse tratamento garante que os dados textuais sejam transformados em variáveis estruturadas, facilitando análises futuras e contribuindo para uma modelagem mais eficiente.\n",
    "\n",
    "Esse processo é conhecido como processamento de linguagem natural, será melhor definido mais a frente\n"
   ]
  },
  {
   "cell_type": "code",
   "execution_count": 305,
   "metadata": {},
   "outputs": [
    {
     "name": "stdout",
     "output_type": "stream",
     "text": [
      "Processo de Recuperação de Crédito: Casa de 277m² passou de Ferreira (90.163.257/0001-57) para Raul Monteiro (176.384.259-28).\n",
      "Apartamento de 204m² transferido de Ryan Novaes (146.985.027-30) para Mirella Castro (470.836.259-56) via Usucapião Extrajudicial.\n",
      "Terreno Rural de 43156m² transferido de Mendonça (73.548.169/0001-54) para Araújo (85.641.397/0001-53) via Recuperação de Crédito.\n",
      "Apartamento de 204m² transferido de Cirino e Filhos (76.025.983/0001-82) para Ribeiro (70.246.983/0001-26) via Compra e Venda.\n",
      "Casa de 199m², Usucapião Extrajudicial realizado entre Rafaela da Luz (301.879.425-79) e Moraes Andrade - ME (65.984.172/0001-92).\n"
     ]
    }
   ],
   "source": [
    "# Como está estruturado a coluna de texto\n",
    "for i in range(-5, 0):\n",
    "    print(dados['texto'].iloc[i])"
   ]
  },
  {
   "cell_type": "markdown",
   "metadata": {},
   "source": [
    "# Pré-processamento de texto (NLP)\n",
    "\n",
    "**Processamento de Linguagem Natural (NLP)** é uma subárea da Inteligência Artificial (IA) que envolve a interação entre computadores e a linguagem humana. O principal objetivo do NLP é permitir que os computadores compreendam, interpretem, analisem e gerem linguagem natural de maneira útil e significativa.\n",
    "\n",
    "### Fuzzy Matching \n",
    "\n",
    "**Fuzzy Matching** é uma técnica que permite encontrar correspondências aproximadas entre strings (sequências de caracteres), ou seja, não é necessário que as palavras ou frases sejam idênticas. Em vez de exigir uma correspondência exata, o Fuzzy Matching encontra strings que são **semelhantes**, mesmo quando há erros de digitação, variações de escrita ou pequenas diferenças.\n",
    "\n",
    "Por exemplo, ao tentar encontrar a palavra \"apartamento\", o Fuzzy Matching pode identificar palavras semelhantes, como \"apartamanto\" ou \"apartemanto\", mesmo que haja erros de digitação.\n",
    "\n",
    "O Fuzzy Matching é útil em várias situações, como:\n",
    "\n",
    "- **Correção de erros de digitação** em buscas de texto.\n",
    "- **Identificação de palavras semelhantes**, mesmo que tenham variações ortográficas.\n",
    "- **Busca aproximada** em bases de dados ou sistemas de recomendação.\n",
    "\n",
    "Como o Fuzzy Matching Funciona\n",
    "\n",
    "O Fuzzy Matching funciona calculando a **semelhança** entre duas strings usando algoritmos específicos, como:\n",
    "\n",
    "- **Distância de Levenshtein**: Mede o número mínimo de edições (inserções, exclusões ou substituições) necessárias para transformar uma string em outra. Quanto menor a distância, maior a similaridade entre as palavras.\n",
    "- **Algoritmo de Jaccard**: Mede a similaridade entre conjuntos de palavras ou caracteres.\n",
    "- **Algoritmo de Jaro-Winkler**: É uma variação da distância de Jaro que penaliza mais as diferenças no início das palavras, que são mais significativas.\n",
    "\n",
    "Que no nosso caso, estamos utilizando o **scorer** que é uma variação do cálculo de distância de Levenshtein. O que ele faz é comparar a palavra do texto com as opções da lista (no caso, os tipos de imoveis, tipo de transferencia) e calcular a distância de Levenshtein. Ele considera o alinhamento da palavra no texto com as palavras da lista, permitindo uma correspondÇencia mais flexível, até mesmo quando a palavra no texto é apenas uma parte da palavra da lista\n",
    "\n",
    "Diferença entre Fuzzy Matching e Outras Bibliotecas de NLP\n",
    "\n",
    "O Fuzzy Matching é diferente de outras bibliotecas de NLP porque seu foco não está na **análise semântica** ou na **compreensão profunda** do texto, mas sim em **comparar e medir a similaridade entre palavras ou frases**.\n",
    "\n",
    "Outro ponto interessante do Fuzzy, é que ele se mostrou mais rápido em alguns processos do que modelos de nlp.\n",
    "\n",
    "Enquanto o Fuzzy Matching se concentra em encontrar correspondências aproximadas de strings, as bibliotecas de NLP muitas vezes analisam o significado das palavras e as relações contextuais entre elas, utilizando modelos baseados em aprendizado profundo (deep learning). No nosso caso, Fuzzy apresentou ser bastante eficiente para o problema atual\n",
    "\n",
    "\n",
    "Foi escolhido o modelo \"pt_core_news_sm\" porque ele foi treinado para entender a gramática, sintaxe e semântica do português."
   ]
  },
  {
   "cell_type": "code",
   "execution_count": 306,
   "metadata": {},
   "outputs": [],
   "source": [
    "# Carregar modelo de processamento de linguagem natural em português\n",
    "nlp = spacy.load(\"pt_core_news_sm\")"
   ]
  },
  {
   "cell_type": "code",
   "execution_count": 307,
   "metadata": {},
   "outputs": [],
   "source": [
    "# Limpa e pré-processa o texto removendo pontuação, caracteres especiais e stopwords.\n",
    "\n",
    "def preprocessar_texto(texto):\n",
    "\n",
    "    # Remover caracteres especiais e pontuação\n",
    "    texto = texto.translate(str.maketrans(\"\", \"\", string.punctuation))\n",
    "    texto = re.sub(r'[@#\\$%\\&\\*\\(\\)\\+\\=\\[\\]\\{\\};:<>/\\\\,.\\?¡!]', '', texto)\n",
    "\n",
    "    # Criar o objeto doc usando spaCy\n",
    "    doc = nlp(texto)\n",
    "\n",
    "    # Remover stopwords e manter apenas tokens relevantes\n",
    "    tokens_processados = [token.text for token in doc if not token.is_stop]\n",
    "\n",
    "    # Reconstruir o texto processado\n",
    "    texto_processado = \" \".join(tokens_processados)\n",
    "    return texto_processado\n",
    "\n",
    "def extrair_tamanho(texto):\n",
    "    # Regex para capturar o tamanho do imóvel (em m², m, ou número apenas)\n",
    "    match = re.search(r'(\\d+)(?:[ ]?m²?|m)?', texto)\n",
    "\n",
    "    if match:\n",
    "        return int(match.group(1))\n",
    "\n",
    "    return None"
   ]
  },
  {
   "cell_type": "markdown",
   "metadata": {},
   "source": [
    "No contexto de análise de texto, como no caso da extração de tipos de imóvel e transações, o uso de Fuzzy Matching pode ser mais vantajoso em comparação com abordagens baseadas em modelos de linguagem natural (NLP) tradicionais, como o spaCy, Foi escolhido o Fuzzy por alguns motivos:\n",
    "\n",
    "- *1 Variações de Texto: Muitas vezes, os textos podem conter erros de digitação, abreviações ou variações na forma como os termos são escritos. O Fuzzy Matching permite que se identifique correspondências aproximadas entre palavras ou frases, mesmo que estas não coincidam exatamente. Isso é útil para lidar com erros de digitação ou expressões que não sejam padronizadas.\n",
    "\n",
    "- *2 Simplicidade: O uso de Fuzzy Matching é mais simples e direto quando os tipos de dados a serem extraídos são conhecidos e limitados, como listas de tipos de imóvel ou transações. Ao usar Fuzzy Matching, a comparação é feita diretamente entre a entrada do usuário (texto) e os possíveis tipos, sem a necessidade de um modelo complexo de NLP.\n",
    "\n",
    "- 3* Performance: O Fuzzy Matching, especialmente com algoritmos como o Levenshtein Distance (usado pelo fuzz.partial_ratio), oferece uma solução computacionalmente mais eficiente para tarefas de correspondência aproximada entre texto curto (como os nomes de tipos de imóveis ou transações) em comparação com o uso de modelos pesados de NLP.\n",
    "\n",
    "O modelo carregado foi testado em algumas atividades, como a extração do tipo de imóvel, e apresentou um custo computacional significativamente maior, resultando em uma execução mais lenta da função. Para tarefas simples de correspondência exata, como a que estamos realizando, o uso do spaCy pode ser mais custoso do que realmente necessário. Por esse motivo, o spaCy foi utilizado com parcimônia durante o processo, enquanto o Fuzzy Matching teve maior ênfase, pois é mais rápido e eficiente para essas tarefas específicas."
   ]
  },
  {
   "cell_type": "code",
   "execution_count": 308,
   "metadata": {},
   "outputs": [],
   "source": [
    "\n",
    "def extrair_tipo_imovel(texto):\n",
    "    tipos_imovel = [\"casa\", \"apartamento\", \"terreno rural\"]\n",
    "\n",
    "    # Tokeniza o texto para trabalhar palavra por palavra\n",
    "    palavras = texto.split()\n",
    "\n",
    "    tipo_imovel_encontrado = None\n",
    "    maior_score = 0\n",
    "\n",
    "    for palavra in palavras:\n",
    "        # Faz o Fuzzy Matching para comparar cada palavra\n",
    "        melhor_match, score = process.extractOne(palavra, tipos_imovel, scorer=fuzz.partial_ratio)\n",
    "\n",
    "        if score > maior_score:\n",
    "            maior_score = score\n",
    "            tipo_imovel_encontrado = melhor_match\n",
    "\n",
    "    return tipo_imovel_encontrado if maior_score > 80 else None\n",
    "\n",
    "def extrair_tipo_transacao(texto):\n",
    "    # Definir os tipos de transações comuns\n",
    "    tipos_transacao = [\"Compra e Venda\", \"Usucapião Extrajudicial\", \"Recuperação de Crédito\"]\n",
    "\n",
    "    # Criar uma lista de possíveis correspondências\n",
    "    tipo_transacao_encontrado = None\n",
    "    for transacao in tipos_transacao:\n",
    "\n",
    "        # Fuzzy matching para lidar com variações\n",
    "        match = process.extractOne(transacao, texto.split(), scorer=fuzz.partial_ratio)\n",
    "        if match and match[1] > 80:  # Define a confiança de 80% para considerar a correspondência\n",
    "            tipo_transacao_encontrado = transacao\n",
    "            break\n",
    "\n",
    "    return tipo_transacao_encontrado"
   ]
  },
  {
   "cell_type": "code",
   "execution_count": 309,
   "metadata": {},
   "outputs": [],
   "source": [
    "# Limparemos o texto primeiro para evitar problemáticas a frente\n",
    "dados['texto'] = dados['texto'].apply(preprocessar_texto)\n",
    "dados['tamanho_imovel'] = dados['texto'].apply(extrair_tamanho)"
   ]
  },
  {
   "cell_type": "code",
   "execution_count": 310,
   "metadata": {},
   "outputs": [],
   "source": [
    "dados['tipo_transferencia'] = dados['texto'].apply(extrair_tipo_transacao)"
   ]
  },
  {
   "cell_type": "code",
   "execution_count": 311,
   "metadata": {},
   "outputs": [],
   "source": [
    "dados['tipo_imovel'] = dados['texto'].apply(extrair_tipo_imovel)"
   ]
  },
  {
   "cell_type": "markdown",
   "metadata": {},
   "source": [
    "A função extrair_tipo_transacao ou extrair_tipo_imovel retorna None quando não encontra uma correspondência com os tipos de transação definidos na lista tipos_transacao. Isso ocorre porque, no bloco de código onde realizamos o fuzzy matching com a função process.extractOne, comparamos a transação do texto com as transações pré-definidas. Caso o score de confiança da correspondência seja inferior a 80, a função não considera a transação como válida e retorna None.\n",
    "\n",
    "O retorno de None tem como objetivo facilitar a identificação dos casos em que o tipo de transação não foi adequadamente identificado ou registrado. Isso permite que, ao utilizarmos dados.isnull().sum(), possamos verificar rapidamente quais registros possuem valores ausentes (nulos) e precisam ser corrigidos ou ajustados, seja por erro de digitação ou por outros fatores que impediram a identificação correta do tipo de transação. Essa abordagem facilita a limpeza e a organização dos dados antes de realizar análises mais aprofundadas."
   ]
  },
  {
   "cell_type": "code",
   "execution_count": 312,
   "metadata": {},
   "outputs": [
    {
     "data": {
      "text/plain": [
       "id_cartorio           0\n",
       "texto                 0\n",
       "estado                0\n",
       "cidade                0\n",
       "data                  0\n",
       "ano                   0\n",
       "mes                   0\n",
       "tamanho_imovel        0\n",
       "tipo_transferencia    0\n",
       "tipo_imovel           2\n",
       "dtype: int64"
      ]
     },
     "execution_count": 312,
     "metadata": {},
     "output_type": "execute_result"
    }
   ],
   "source": [
    "dados.isnull().sum()"
   ]
  },
  {
   "cell_type": "code",
   "execution_count": 313,
   "metadata": {},
   "outputs": [
    {
     "data": {
      "text/html": [
       "<div>\n",
       "<style scoped>\n",
       "    .dataframe tbody tr th:only-of-type {\n",
       "        vertical-align: middle;\n",
       "    }\n",
       "\n",
       "    .dataframe tbody tr th {\n",
       "        vertical-align: top;\n",
       "    }\n",
       "\n",
       "    .dataframe thead th {\n",
       "        text-align: right;\n",
       "    }\n",
       "</style>\n",
       "<table border=\"1\" class=\"dataframe\">\n",
       "  <thead>\n",
       "    <tr style=\"text-align: right;\">\n",
       "      <th></th>\n",
       "      <th>id_cartorio</th>\n",
       "      <th>texto</th>\n",
       "      <th>estado</th>\n",
       "      <th>cidade</th>\n",
       "      <th>data</th>\n",
       "      <th>ano</th>\n",
       "      <th>mes</th>\n",
       "      <th>tamanho_imovel</th>\n",
       "      <th>tipo_transferencia</th>\n",
       "      <th>tipo_imovel</th>\n",
       "    </tr>\n",
       "  </thead>\n",
       "  <tbody>\n",
       "    <tr>\n",
       "      <th>3108</th>\n",
       "      <td>54</td>\n",
       "      <td>Csa 194 m² transferido José Miguel Paz 8910642...</td>\n",
       "      <td>RJ</td>\n",
       "      <td>Niterói</td>\n",
       "      <td>2023-03-01</td>\n",
       "      <td>2023</td>\n",
       "      <td>3</td>\n",
       "      <td>194</td>\n",
       "      <td>Usucapião Extrajudicial</td>\n",
       "      <td>None</td>\n",
       "    </tr>\n",
       "    <tr>\n",
       "      <th>9909</th>\n",
       "      <td>75</td>\n",
       "      <td>Caa 237 m² transferido Sousa 45681390000140 Sr...</td>\n",
       "      <td>SE</td>\n",
       "      <td>Nossa Senhora do Socorro</td>\n",
       "      <td>2024-01-01</td>\n",
       "      <td>2024</td>\n",
       "      <td>1</td>\n",
       "      <td>237</td>\n",
       "      <td>Usucapião Extrajudicial</td>\n",
       "      <td>None</td>\n",
       "    </tr>\n",
       "  </tbody>\n",
       "</table>\n",
       "</div>"
      ],
      "text/plain": [
       "      id_cartorio                                              texto estado  \\\n",
       "3108           54  Csa 194 m² transferido José Miguel Paz 8910642...     RJ   \n",
       "9909           75  Caa 237 m² transferido Sousa 45681390000140 Sr...     SE   \n",
       "\n",
       "                        cidade       data   ano  mes  tamanho_imovel  \\\n",
       "3108                   Niterói 2023-03-01  2023    3             194   \n",
       "9909  Nossa Senhora do Socorro 2024-01-01  2024    1             237   \n",
       "\n",
       "           tipo_transferencia tipo_imovel  \n",
       "3108  Usucapião Extrajudicial        None  \n",
       "9909  Usucapião Extrajudicial        None  "
      ]
     },
     "execution_count": 313,
     "metadata": {},
     "output_type": "execute_result"
    }
   ],
   "source": [
    "# Verificando as linhas que não foram atribuidas valor do tipo_imovel devidamente\n",
    "dados[dados['tipo_imovel'].isnull()]"
   ]
  },
  {
   "cell_type": "markdown",
   "metadata": {},
   "source": [
    "Como dois textos apresentaram o nome da casa digitado incorretamente após o processamento, foi decidida a utilização de um replace para corrigir esses erros na coluna. Após essa correção, a função para extrair os tipos de imóveis foi executada novamente para garantir a precisão dos dados."
   ]
  },
  {
   "cell_type": "code",
   "execution_count": 314,
   "metadata": {},
   "outputs": [],
   "source": [
    "# Condição para selecionar cartórios 54 ou 75\n",
    "indice_alteracao = dados['id_cartorio'].isin([54, 75])\n",
    "\n",
    "# Substituindo 'Csa' e 'Caa' por 'Casa' na coluna 'texto' onde a condição é verdadeira\n",
    "dados.loc[indice_alteracao , 'texto'] = dados.loc[indice_alteracao , 'texto'].replace({'Csa': 'Casa', 'Caa': 'Casa'}, regex=True)"
   ]
  },
  {
   "cell_type": "code",
   "execution_count": 315,
   "metadata": {},
   "outputs": [
    {
     "data": {
      "text/html": [
       "<div>\n",
       "<style scoped>\n",
       "    .dataframe tbody tr th:only-of-type {\n",
       "        vertical-align: middle;\n",
       "    }\n",
       "\n",
       "    .dataframe tbody tr th {\n",
       "        vertical-align: top;\n",
       "    }\n",
       "\n",
       "    .dataframe thead th {\n",
       "        text-align: right;\n",
       "    }\n",
       "</style>\n",
       "<table border=\"1\" class=\"dataframe\">\n",
       "  <thead>\n",
       "    <tr style=\"text-align: right;\">\n",
       "      <th></th>\n",
       "      <th>id_cartorio</th>\n",
       "      <th>texto</th>\n",
       "      <th>estado</th>\n",
       "      <th>cidade</th>\n",
       "      <th>data</th>\n",
       "      <th>ano</th>\n",
       "      <th>mes</th>\n",
       "      <th>tamanho_imovel</th>\n",
       "      <th>tipo_transferencia</th>\n",
       "      <th>tipo_imovel</th>\n",
       "    </tr>\n",
       "  </thead>\n",
       "  <tbody>\n",
       "    <tr>\n",
       "      <th>3108</th>\n",
       "      <td>54</td>\n",
       "      <td>Casa 194 m² transferido José Miguel Paz 891064...</td>\n",
       "      <td>RJ</td>\n",
       "      <td>Niterói</td>\n",
       "      <td>2023-03-01</td>\n",
       "      <td>2023</td>\n",
       "      <td>3</td>\n",
       "      <td>194</td>\n",
       "      <td>Usucapião Extrajudicial</td>\n",
       "      <td>None</td>\n",
       "    </tr>\n",
       "    <tr>\n",
       "      <th>9909</th>\n",
       "      <td>75</td>\n",
       "      <td>Casa 237 m² transferido Sousa 45681390000140 S...</td>\n",
       "      <td>SE</td>\n",
       "      <td>Nossa Senhora do Socorro</td>\n",
       "      <td>2024-01-01</td>\n",
       "      <td>2024</td>\n",
       "      <td>1</td>\n",
       "      <td>237</td>\n",
       "      <td>Usucapião Extrajudicial</td>\n",
       "      <td>None</td>\n",
       "    </tr>\n",
       "  </tbody>\n",
       "</table>\n",
       "</div>"
      ],
      "text/plain": [
       "      id_cartorio                                              texto estado  \\\n",
       "3108           54  Casa 194 m² transferido José Miguel Paz 891064...     RJ   \n",
       "9909           75  Casa 237 m² transferido Sousa 45681390000140 S...     SE   \n",
       "\n",
       "                        cidade       data   ano  mes  tamanho_imovel  \\\n",
       "3108                   Niterói 2023-03-01  2023    3             194   \n",
       "9909  Nossa Senhora do Socorro 2024-01-01  2024    1             237   \n",
       "\n",
       "           tipo_transferencia tipo_imovel  \n",
       "3108  Usucapião Extrajudicial        None  \n",
       "9909  Usucapião Extrajudicial        None  "
      ]
     },
     "execution_count": 315,
     "metadata": {},
     "output_type": "execute_result"
    }
   ],
   "source": [
    "dados[dados['tipo_imovel'].isnull()]"
   ]
  },
  {
   "cell_type": "code",
   "execution_count": 316,
   "metadata": {},
   "outputs": [],
   "source": [
    "# Realizando o processo novamente\n",
    "dados['tipo_imovel'] = dados['texto'].apply(extrair_tipo_imovel)"
   ]
  },
  {
   "cell_type": "code",
   "execution_count": 317,
   "metadata": {},
   "outputs": [
    {
     "data": {
      "text/plain": [
       "id_cartorio           0\n",
       "texto                 0\n",
       "estado                0\n",
       "cidade                0\n",
       "data                  0\n",
       "ano                   0\n",
       "mes                   0\n",
       "tamanho_imovel        0\n",
       "tipo_transferencia    0\n",
       "tipo_imovel           0\n",
       "dtype: int64"
      ]
     },
     "execution_count": 317,
     "metadata": {},
     "output_type": "execute_result"
    }
   ],
   "source": [
    "# Verificando se ouve algum caso onde algum valor não foi colocado\n",
    "dados.isnull().sum()"
   ]
  },
  {
   "cell_type": "markdown",
   "metadata": {},
   "source": [
    "### Análise de Inconsistências no Conjunto de Dados\n",
    "\n",
    "Durante a análise, identificamos registros com tamanhos de imóveis irreais, como o caso de imóveis com apenas 2 metros quadrados. Esses registros foram considerados inconsistentes e, portanto, excluídos. Especificamente, foram encontrados 2 casos com essa característica:\n",
    "ID Cartório 51 e 7.\n",
    "Esses registros foram tratados para garantir a qualidade dos dados e a precisão das análises subsequentes."
   ]
  },
  {
   "cell_type": "code",
   "execution_count": 318,
   "metadata": {},
   "outputs": [
    {
     "data": {
      "text/html": [
       "<div>\n",
       "<style scoped>\n",
       "    .dataframe tbody tr th:only-of-type {\n",
       "        vertical-align: middle;\n",
       "    }\n",
       "\n",
       "    .dataframe tbody tr th {\n",
       "        vertical-align: top;\n",
       "    }\n",
       "\n",
       "    .dataframe thead th {\n",
       "        text-align: right;\n",
       "    }\n",
       "</style>\n",
       "<table border=\"1\" class=\"dataframe\">\n",
       "  <thead>\n",
       "    <tr style=\"text-align: right;\">\n",
       "      <th></th>\n",
       "      <th>id_cartorio</th>\n",
       "      <th>texto</th>\n",
       "      <th>estado</th>\n",
       "      <th>cidade</th>\n",
       "      <th>data</th>\n",
       "      <th>ano</th>\n",
       "      <th>mes</th>\n",
       "      <th>tamanho_imovel</th>\n",
       "      <th>tipo_transferencia</th>\n",
       "      <th>tipo_imovel</th>\n",
       "    </tr>\n",
       "  </thead>\n",
       "  <tbody>\n",
       "    <tr>\n",
       "      <th>2246</th>\n",
       "      <td>51</td>\n",
       "      <td>Casa 2 m² transferido Sra Maria Júlia Albuquer...</td>\n",
       "      <td>PI</td>\n",
       "      <td>Parnaíba</td>\n",
       "      <td>2024-06-01</td>\n",
       "      <td>2024</td>\n",
       "      <td>6</td>\n",
       "      <td>2</td>\n",
       "      <td>Compra e Venda</td>\n",
       "      <td>casa</td>\n",
       "    </tr>\n",
       "    <tr>\n",
       "      <th>2750</th>\n",
       "      <td>7</td>\n",
       "      <td>Casa 2 m² transferido Rios 92641875000190 Anth...</td>\n",
       "      <td>AP</td>\n",
       "      <td>Macapá</td>\n",
       "      <td>2024-02-01</td>\n",
       "      <td>2024</td>\n",
       "      <td>2</td>\n",
       "      <td>2</td>\n",
       "      <td>Recuperação de Crédito</td>\n",
       "      <td>casa</td>\n",
       "    </tr>\n",
       "  </tbody>\n",
       "</table>\n",
       "</div>"
      ],
      "text/plain": [
       "      id_cartorio                                              texto estado  \\\n",
       "2246           51  Casa 2 m² transferido Sra Maria Júlia Albuquer...     PI   \n",
       "2750            7  Casa 2 m² transferido Rios 92641875000190 Anth...     AP   \n",
       "\n",
       "        cidade       data   ano  mes  tamanho_imovel      tipo_transferencia  \\\n",
       "2246  Parnaíba 2024-06-01  2024    6               2          Compra e Venda   \n",
       "2750    Macapá 2024-02-01  2024    2               2  Recuperação de Crédito   \n",
       "\n",
       "     tipo_imovel  \n",
       "2246        casa  \n",
       "2750        casa  "
      ]
     },
     "execution_count": 318,
     "metadata": {},
     "output_type": "execute_result"
    }
   ],
   "source": [
    "tamanho = dados['tamanho_imovel'].min()\n",
    "dados[dados['tamanho_imovel'] == tamanho]"
   ]
  },
  {
   "cell_type": "code",
   "execution_count": 319,
   "metadata": {},
   "outputs": [],
   "source": [
    "indices_para_remover = dados[dados['id_cartorio'].isin([51, 7])].index\n",
    "dados = dados.drop(indices_para_remover)"
   ]
  },
  {
   "cell_type": "markdown",
   "metadata": {},
   "source": [
    "Análise de Transações por Ano e Identificação de Possíveis Outliers\n",
    "Durante a análise dos registros de transações agrupados por ano, observamos uma anomalia no ano de 2025. Este ano apresenta um número de transações significativamente baixo, sugerindo que os dados podem estar incompletos. O último registro disponível é de fevereiro, um mês que ainda não se completou, o que pode indicar que o conjunto de dados está incompleto até o momento, caracterizando-se como um possível outlier.\n",
    "\n",
    "Além disso, a análise da série temporal revelou que o mês de fevereiro de 2023 também apresenta um valor abaixo da média, com apenas 224 registros. Esse dado também deve ser tratado com cautela, pois, ao analisar séries temporais, a presença de meses com número reduzido de registros pode distorcer as conclusões.\n",
    "\n",
    "É importante ressaltar que, ao observar o crescimento dos meses anteriores, pode-se observar uma tendência de aumento nas transações. Contudo, ao chegarmos a 2025, especialmente em fevereiro, é possível que uma aparente queda seja observada, devido à possível falta de dados completos para esse ano. Essa redução aparente pode ser apenas um reflexo da falta de registros suficientes para representar fielmente o mês, o que é esperado, já que o mês de fevereiro ainda não terminou."
   ]
  },
  {
   "cell_type": "code",
   "execution_count": 320,
   "metadata": {},
   "outputs": [
    {
     "data": {
      "text/html": [
       "<div>\n",
       "<style scoped>\n",
       "    .dataframe tbody tr th:only-of-type {\n",
       "        vertical-align: middle;\n",
       "    }\n",
       "\n",
       "    .dataframe tbody tr th {\n",
       "        vertical-align: top;\n",
       "    }\n",
       "\n",
       "    .dataframe thead th {\n",
       "        text-align: right;\n",
       "    }\n",
       "</style>\n",
       "<table border=\"1\" class=\"dataframe\">\n",
       "  <thead>\n",
       "    <tr style=\"text-align: right;\">\n",
       "      <th></th>\n",
       "      <th>ano</th>\n",
       "      <th>contagem</th>\n",
       "    </tr>\n",
       "  </thead>\n",
       "  <tbody>\n",
       "    <tr>\n",
       "      <th>1</th>\n",
       "      <td>2024</td>\n",
       "      <td>5214</td>\n",
       "    </tr>\n",
       "    <tr>\n",
       "      <th>0</th>\n",
       "      <td>2023</td>\n",
       "      <td>4567</td>\n",
       "    </tr>\n",
       "    <tr>\n",
       "      <th>2</th>\n",
       "      <td>2025</td>\n",
       "      <td>636</td>\n",
       "    </tr>\n",
       "  </tbody>\n",
       "</table>\n",
       "</div>"
      ],
      "text/plain": [
       "    ano  contagem\n",
       "1  2024      5214\n",
       "0  2023      4567\n",
       "2  2025       636"
      ]
     },
     "execution_count": 320,
     "metadata": {},
     "output_type": "execute_result"
    }
   ],
   "source": [
    "ano_agrupados = dados.groupby('ano').size().reset_index(name = 'contagem')\n",
    "ano_agrupados = ano_agrupados.sort_values(by = 'contagem', ascending= False)\n",
    "ano_agrupados"
   ]
  },
  {
   "cell_type": "code",
   "execution_count": 321,
   "metadata": {},
   "outputs": [
    {
     "data": {
      "text/html": [
       "<div>\n",
       "<style scoped>\n",
       "    .dataframe tbody tr th:only-of-type {\n",
       "        vertical-align: middle;\n",
       "    }\n",
       "\n",
       "    .dataframe tbody tr th {\n",
       "        vertical-align: top;\n",
       "    }\n",
       "\n",
       "    .dataframe thead th {\n",
       "        text-align: right;\n",
       "    }\n",
       "</style>\n",
       "<table border=\"1\" class=\"dataframe\">\n",
       "  <thead>\n",
       "    <tr style=\"text-align: right;\">\n",
       "      <th></th>\n",
       "      <th>data</th>\n",
       "      <th>contagem</th>\n",
       "    </tr>\n",
       "  </thead>\n",
       "  <tbody>\n",
       "    <tr>\n",
       "      <th>0</th>\n",
       "      <td>2023-02-01</td>\n",
       "      <td>224</td>\n",
       "    </tr>\n",
       "    <tr>\n",
       "      <th>1</th>\n",
       "      <td>2023-03-01</td>\n",
       "      <td>412</td>\n",
       "    </tr>\n",
       "    <tr>\n",
       "      <th>2</th>\n",
       "      <td>2023-04-01</td>\n",
       "      <td>448</td>\n",
       "    </tr>\n",
       "    <tr>\n",
       "      <th>3</th>\n",
       "      <td>2023-05-01</td>\n",
       "      <td>466</td>\n",
       "    </tr>\n",
       "    <tr>\n",
       "      <th>4</th>\n",
       "      <td>2023-06-01</td>\n",
       "      <td>406</td>\n",
       "    </tr>\n",
       "    <tr>\n",
       "      <th>5</th>\n",
       "      <td>2023-07-01</td>\n",
       "      <td>461</td>\n",
       "    </tr>\n",
       "    <tr>\n",
       "      <th>6</th>\n",
       "      <td>2023-08-01</td>\n",
       "      <td>480</td>\n",
       "    </tr>\n",
       "    <tr>\n",
       "      <th>7</th>\n",
       "      <td>2023-09-01</td>\n",
       "      <td>406</td>\n",
       "    </tr>\n",
       "    <tr>\n",
       "      <th>8</th>\n",
       "      <td>2023-10-01</td>\n",
       "      <td>439</td>\n",
       "    </tr>\n",
       "    <tr>\n",
       "      <th>9</th>\n",
       "      <td>2023-11-01</td>\n",
       "      <td>419</td>\n",
       "    </tr>\n",
       "    <tr>\n",
       "      <th>10</th>\n",
       "      <td>2023-12-01</td>\n",
       "      <td>406</td>\n",
       "    </tr>\n",
       "    <tr>\n",
       "      <th>11</th>\n",
       "      <td>2024-01-01</td>\n",
       "      <td>429</td>\n",
       "    </tr>\n",
       "    <tr>\n",
       "      <th>12</th>\n",
       "      <td>2024-02-01</td>\n",
       "      <td>405</td>\n",
       "    </tr>\n",
       "    <tr>\n",
       "      <th>13</th>\n",
       "      <td>2024-03-01</td>\n",
       "      <td>441</td>\n",
       "    </tr>\n",
       "    <tr>\n",
       "      <th>14</th>\n",
       "      <td>2024-04-01</td>\n",
       "      <td>431</td>\n",
       "    </tr>\n",
       "    <tr>\n",
       "      <th>15</th>\n",
       "      <td>2024-05-01</td>\n",
       "      <td>476</td>\n",
       "    </tr>\n",
       "    <tr>\n",
       "      <th>16</th>\n",
       "      <td>2024-06-01</td>\n",
       "      <td>438</td>\n",
       "    </tr>\n",
       "    <tr>\n",
       "      <th>17</th>\n",
       "      <td>2024-07-01</td>\n",
       "      <td>425</td>\n",
       "    </tr>\n",
       "    <tr>\n",
       "      <th>18</th>\n",
       "      <td>2024-08-01</td>\n",
       "      <td>439</td>\n",
       "    </tr>\n",
       "    <tr>\n",
       "      <th>19</th>\n",
       "      <td>2024-09-01</td>\n",
       "      <td>432</td>\n",
       "    </tr>\n",
       "    <tr>\n",
       "      <th>20</th>\n",
       "      <td>2024-10-01</td>\n",
       "      <td>438</td>\n",
       "    </tr>\n",
       "    <tr>\n",
       "      <th>21</th>\n",
       "      <td>2024-11-01</td>\n",
       "      <td>416</td>\n",
       "    </tr>\n",
       "    <tr>\n",
       "      <th>22</th>\n",
       "      <td>2024-12-01</td>\n",
       "      <td>444</td>\n",
       "    </tr>\n",
       "    <tr>\n",
       "      <th>23</th>\n",
       "      <td>2025-01-01</td>\n",
       "      <td>459</td>\n",
       "    </tr>\n",
       "    <tr>\n",
       "      <th>24</th>\n",
       "      <td>2025-02-01</td>\n",
       "      <td>177</td>\n",
       "    </tr>\n",
       "  </tbody>\n",
       "</table>\n",
       "</div>"
      ],
      "text/plain": [
       "         data  contagem\n",
       "0  2023-02-01       224\n",
       "1  2023-03-01       412\n",
       "2  2023-04-01       448\n",
       "3  2023-05-01       466\n",
       "4  2023-06-01       406\n",
       "5  2023-07-01       461\n",
       "6  2023-08-01       480\n",
       "7  2023-09-01       406\n",
       "8  2023-10-01       439\n",
       "9  2023-11-01       419\n",
       "10 2023-12-01       406\n",
       "11 2024-01-01       429\n",
       "12 2024-02-01       405\n",
       "13 2024-03-01       441\n",
       "14 2024-04-01       431\n",
       "15 2024-05-01       476\n",
       "16 2024-06-01       438\n",
       "17 2024-07-01       425\n",
       "18 2024-08-01       439\n",
       "19 2024-09-01       432\n",
       "20 2024-10-01       438\n",
       "21 2024-11-01       416\n",
       "22 2024-12-01       444\n",
       "23 2025-01-01       459\n",
       "24 2025-02-01       177"
      ]
     },
     "execution_count": 321,
     "metadata": {},
     "output_type": "execute_result"
    }
   ],
   "source": [
    "data_agrupada = dados.groupby('data').size().reset_index(name = 'contagem')\n",
    "data_agrupada = data_agrupada.sort_values(by = 'data')\n",
    "data_agrupada"
   ]
  },
  {
   "cell_type": "code",
   "execution_count": 322,
   "metadata": {},
   "outputs": [
    {
     "name": "stdout",
     "output_type": "stream",
     "text": [
      "Média da quantidade de transacoes por ano: 416.68\n"
     ]
    }
   ],
   "source": [
    "print(\"Média da quantidade de transacoes por ano:\",data_agrupada['contagem'].mean())"
   ]
  },
  {
   "cell_type": "markdown",
   "metadata": {},
   "source": [
    "# Extração de dados de outras fontes\n",
    "\n",
    "Para enriquecer o conjunto de dados, utilizamos informações sobre os estados brasileiros e suas respectivas regiões geográficas. Esses dados foram obtidos diretamente da **API pública do IBGE**, garantindo que as informações estejam sempre atualizadas e estruturadas.\n",
    "\n",
    "A obtenção dos dados foi realizada através de uma **requisição HTTP**, resultando em um arquivo **JSON** contendo a sigla do estado e sua respectiva região geográfica. Para facilitar a manipulação e integração com nosso conjunto de dados, os dados foram convertidos para um **DataFrame do pandas**.\n",
    "\n",
    "Essa abordagem permitiu uma integração dinâmica e confiável, garantindo que qualquer atualização realizada pelo IBGE seja refletida automaticamente em nosso sistema."
   ]
  },
  {
   "cell_type": "code",
   "execution_count": 323,
   "metadata": {},
   "outputs": [],
   "source": [
    "url = \"https://servicodados.ibge.gov.br/api/v1/localidades/estados\"\n",
    "response = requests.get(url)\n",
    "estados_dados = response.json()\n",
    "dados_regioes = pd.DataFrame([(estado['sigla'], estado['regiao']['nome']) for estado in estados_dados], columns = ['estado', 'regiao'])"
   ]
  },
  {
   "cell_type": "code",
   "execution_count": 324,
   "metadata": {},
   "outputs": [
    {
     "data": {
      "text/html": [
       "<div>\n",
       "<style scoped>\n",
       "    .dataframe tbody tr th:only-of-type {\n",
       "        vertical-align: middle;\n",
       "    }\n",
       "\n",
       "    .dataframe tbody tr th {\n",
       "        vertical-align: top;\n",
       "    }\n",
       "\n",
       "    .dataframe thead th {\n",
       "        text-align: right;\n",
       "    }\n",
       "</style>\n",
       "<table border=\"1\" class=\"dataframe\">\n",
       "  <thead>\n",
       "    <tr style=\"text-align: right;\">\n",
       "      <th></th>\n",
       "      <th>id_cartorio</th>\n",
       "      <th>texto</th>\n",
       "      <th>estado</th>\n",
       "      <th>cidade</th>\n",
       "      <th>data</th>\n",
       "      <th>ano</th>\n",
       "      <th>mes</th>\n",
       "      <th>tamanho_imovel</th>\n",
       "      <th>tipo_transferencia</th>\n",
       "      <th>tipo_imovel</th>\n",
       "      <th>regiao</th>\n",
       "    </tr>\n",
       "  </thead>\n",
       "  <tbody>\n",
       "    <tr>\n",
       "      <th>0</th>\n",
       "      <td>193</td>\n",
       "      <td>Processo Usucapião Extrajudicial Apartamento 1...</td>\n",
       "      <td>PI</td>\n",
       "      <td>Picos</td>\n",
       "      <td>2023-08-01</td>\n",
       "      <td>2023</td>\n",
       "      <td>8</td>\n",
       "      <td>121</td>\n",
       "      <td>Usucapião Extrajudicial</td>\n",
       "      <td>apartamento</td>\n",
       "      <td>Nordeste</td>\n",
       "    </tr>\n",
       "    <tr>\n",
       "      <th>1</th>\n",
       "      <td>276</td>\n",
       "      <td>Processo Usucapião Extrajudicial Terreno Rural...</td>\n",
       "      <td>MA</td>\n",
       "      <td>São Luís</td>\n",
       "      <td>2023-11-01</td>\n",
       "      <td>2023</td>\n",
       "      <td>11</td>\n",
       "      <td>35049</td>\n",
       "      <td>Usucapião Extrajudicial</td>\n",
       "      <td>terreno rural</td>\n",
       "      <td>Nordeste</td>\n",
       "    </tr>\n",
       "    <tr>\n",
       "      <th>2</th>\n",
       "      <td>70</td>\n",
       "      <td>Processo Usucapião Extrajudicial Terreno Rural...</td>\n",
       "      <td>SC</td>\n",
       "      <td>Blumenau</td>\n",
       "      <td>2024-02-01</td>\n",
       "      <td>2024</td>\n",
       "      <td>2</td>\n",
       "      <td>28034</td>\n",
       "      <td>Usucapião Extrajudicial</td>\n",
       "      <td>terreno rural</td>\n",
       "      <td>Sul</td>\n",
       "    </tr>\n",
       "  </tbody>\n",
       "</table>\n",
       "</div>"
      ],
      "text/plain": [
       "   id_cartorio                                              texto estado  \\\n",
       "0          193  Processo Usucapião Extrajudicial Apartamento 1...     PI   \n",
       "1          276  Processo Usucapião Extrajudicial Terreno Rural...     MA   \n",
       "2           70  Processo Usucapião Extrajudicial Terreno Rural...     SC   \n",
       "\n",
       "     cidade       data   ano  mes  tamanho_imovel       tipo_transferencia  \\\n",
       "0     Picos 2023-08-01  2023    8             121  Usucapião Extrajudicial   \n",
       "1  São Luís 2023-11-01  2023   11           35049  Usucapião Extrajudicial   \n",
       "2  Blumenau 2024-02-01  2024    2           28034  Usucapião Extrajudicial   \n",
       "\n",
       "     tipo_imovel    regiao  \n",
       "0    apartamento  Nordeste  \n",
       "1  terreno rural  Nordeste  \n",
       "2  terreno rural       Sul  "
      ]
     },
     "execution_count": 324,
     "metadata": {},
     "output_type": "execute_result"
    }
   ],
   "source": [
    "# Merge junta os dois dataframes pela coluna sigla\n",
    "dados = dados.merge(dados_regioes, on = 'estado', how = 'left')\n",
    "dados.head(3)"
   ]
  },
  {
   "cell_type": "markdown",
   "metadata": {},
   "source": [
    "# Análise Exploratória\n",
    "\n"
   ]
  },
  {
   "cell_type": "markdown",
   "metadata": {},
   "source": [
    "Observa-se que o imóvel do tipo \"apartamento\" apresenta um valor de tamanho maior em comparação aos outros tipos de imóvel, embora a diferença não seja muito expressiva."
   ]
  },
  {
   "cell_type": "code",
   "execution_count": 325,
   "metadata": {},
   "outputs": [
    {
     "data": {
      "application/vnd.plotly.v1+json": {
       "config": {
        "plotlyServerURL": "https://plot.ly"
       },
       "data": [
        {
         "hovertemplate": "Imóvel=%{x}<br>Número de Registros=%{y}<extra></extra>",
         "legendgroup": "",
         "marker": {
          "color": "royalblue",
          "line": {
           "color": "black",
           "width": 1
          },
          "pattern": {
           "shape": ""
          }
         },
         "name": "",
         "orientation": "v",
         "showlegend": false,
         "textposition": "inside",
         "texttemplate": "%{y}",
         "type": "bar",
         "x": [
          "apartamento",
          "casa",
          "terreno rural"
         ],
         "xaxis": "x",
         "y": {
          "bdata": "rg2bDWgN",
          "dtype": "i2"
         },
         "yaxis": "y"
        }
       ],
       "layout": {
        "bargap": 0.15,
        "barmode": "relative",
        "legend": {
         "tracegroupgap": 0
        },
        "plot_bgcolor": "white",
        "showlegend": false,
        "template": {
         "data": {
          "bar": [
           {
            "error_x": {
             "color": "#2a3f5f"
            },
            "error_y": {
             "color": "#2a3f5f"
            },
            "marker": {
             "line": {
              "color": "#E5ECF6",
              "width": 0.5
             },
             "pattern": {
              "fillmode": "overlay",
              "size": 10,
              "solidity": 0.2
             }
            },
            "type": "bar"
           }
          ],
          "barpolar": [
           {
            "marker": {
             "line": {
              "color": "#E5ECF6",
              "width": 0.5
             },
             "pattern": {
              "fillmode": "overlay",
              "size": 10,
              "solidity": 0.2
             }
            },
            "type": "barpolar"
           }
          ],
          "carpet": [
           {
            "aaxis": {
             "endlinecolor": "#2a3f5f",
             "gridcolor": "white",
             "linecolor": "white",
             "minorgridcolor": "white",
             "startlinecolor": "#2a3f5f"
            },
            "baxis": {
             "endlinecolor": "#2a3f5f",
             "gridcolor": "white",
             "linecolor": "white",
             "minorgridcolor": "white",
             "startlinecolor": "#2a3f5f"
            },
            "type": "carpet"
           }
          ],
          "choropleth": [
           {
            "colorbar": {
             "outlinewidth": 0,
             "ticks": ""
            },
            "type": "choropleth"
           }
          ],
          "contour": [
           {
            "colorbar": {
             "outlinewidth": 0,
             "ticks": ""
            },
            "colorscale": [
             [
              0,
              "#0d0887"
             ],
             [
              0.1111111111111111,
              "#46039f"
             ],
             [
              0.2222222222222222,
              "#7201a8"
             ],
             [
              0.3333333333333333,
              "#9c179e"
             ],
             [
              0.4444444444444444,
              "#bd3786"
             ],
             [
              0.5555555555555556,
              "#d8576b"
             ],
             [
              0.6666666666666666,
              "#ed7953"
             ],
             [
              0.7777777777777778,
              "#fb9f3a"
             ],
             [
              0.8888888888888888,
              "#fdca26"
             ],
             [
              1,
              "#f0f921"
             ]
            ],
            "type": "contour"
           }
          ],
          "contourcarpet": [
           {
            "colorbar": {
             "outlinewidth": 0,
             "ticks": ""
            },
            "type": "contourcarpet"
           }
          ],
          "heatmap": [
           {
            "colorbar": {
             "outlinewidth": 0,
             "ticks": ""
            },
            "colorscale": [
             [
              0,
              "#0d0887"
             ],
             [
              0.1111111111111111,
              "#46039f"
             ],
             [
              0.2222222222222222,
              "#7201a8"
             ],
             [
              0.3333333333333333,
              "#9c179e"
             ],
             [
              0.4444444444444444,
              "#bd3786"
             ],
             [
              0.5555555555555556,
              "#d8576b"
             ],
             [
              0.6666666666666666,
              "#ed7953"
             ],
             [
              0.7777777777777778,
              "#fb9f3a"
             ],
             [
              0.8888888888888888,
              "#fdca26"
             ],
             [
              1,
              "#f0f921"
             ]
            ],
            "type": "heatmap"
           }
          ],
          "histogram": [
           {
            "marker": {
             "pattern": {
              "fillmode": "overlay",
              "size": 10,
              "solidity": 0.2
             }
            },
            "type": "histogram"
           }
          ],
          "histogram2d": [
           {
            "colorbar": {
             "outlinewidth": 0,
             "ticks": ""
            },
            "colorscale": [
             [
              0,
              "#0d0887"
             ],
             [
              0.1111111111111111,
              "#46039f"
             ],
             [
              0.2222222222222222,
              "#7201a8"
             ],
             [
              0.3333333333333333,
              "#9c179e"
             ],
             [
              0.4444444444444444,
              "#bd3786"
             ],
             [
              0.5555555555555556,
              "#d8576b"
             ],
             [
              0.6666666666666666,
              "#ed7953"
             ],
             [
              0.7777777777777778,
              "#fb9f3a"
             ],
             [
              0.8888888888888888,
              "#fdca26"
             ],
             [
              1,
              "#f0f921"
             ]
            ],
            "type": "histogram2d"
           }
          ],
          "histogram2dcontour": [
           {
            "colorbar": {
             "outlinewidth": 0,
             "ticks": ""
            },
            "colorscale": [
             [
              0,
              "#0d0887"
             ],
             [
              0.1111111111111111,
              "#46039f"
             ],
             [
              0.2222222222222222,
              "#7201a8"
             ],
             [
              0.3333333333333333,
              "#9c179e"
             ],
             [
              0.4444444444444444,
              "#bd3786"
             ],
             [
              0.5555555555555556,
              "#d8576b"
             ],
             [
              0.6666666666666666,
              "#ed7953"
             ],
             [
              0.7777777777777778,
              "#fb9f3a"
             ],
             [
              0.8888888888888888,
              "#fdca26"
             ],
             [
              1,
              "#f0f921"
             ]
            ],
            "type": "histogram2dcontour"
           }
          ],
          "mesh3d": [
           {
            "colorbar": {
             "outlinewidth": 0,
             "ticks": ""
            },
            "type": "mesh3d"
           }
          ],
          "parcoords": [
           {
            "line": {
             "colorbar": {
              "outlinewidth": 0,
              "ticks": ""
             }
            },
            "type": "parcoords"
           }
          ],
          "pie": [
           {
            "automargin": true,
            "type": "pie"
           }
          ],
          "scatter": [
           {
            "fillpattern": {
             "fillmode": "overlay",
             "size": 10,
             "solidity": 0.2
            },
            "type": "scatter"
           }
          ],
          "scatter3d": [
           {
            "line": {
             "colorbar": {
              "outlinewidth": 0,
              "ticks": ""
             }
            },
            "marker": {
             "colorbar": {
              "outlinewidth": 0,
              "ticks": ""
             }
            },
            "type": "scatter3d"
           }
          ],
          "scattercarpet": [
           {
            "marker": {
             "colorbar": {
              "outlinewidth": 0,
              "ticks": ""
             }
            },
            "type": "scattercarpet"
           }
          ],
          "scattergeo": [
           {
            "marker": {
             "colorbar": {
              "outlinewidth": 0,
              "ticks": ""
             }
            },
            "type": "scattergeo"
           }
          ],
          "scattergl": [
           {
            "marker": {
             "colorbar": {
              "outlinewidth": 0,
              "ticks": ""
             }
            },
            "type": "scattergl"
           }
          ],
          "scattermap": [
           {
            "marker": {
             "colorbar": {
              "outlinewidth": 0,
              "ticks": ""
             }
            },
            "type": "scattermap"
           }
          ],
          "scattermapbox": [
           {
            "marker": {
             "colorbar": {
              "outlinewidth": 0,
              "ticks": ""
             }
            },
            "type": "scattermapbox"
           }
          ],
          "scatterpolar": [
           {
            "marker": {
             "colorbar": {
              "outlinewidth": 0,
              "ticks": ""
             }
            },
            "type": "scatterpolar"
           }
          ],
          "scatterpolargl": [
           {
            "marker": {
             "colorbar": {
              "outlinewidth": 0,
              "ticks": ""
             }
            },
            "type": "scatterpolargl"
           }
          ],
          "scatterternary": [
           {
            "marker": {
             "colorbar": {
              "outlinewidth": 0,
              "ticks": ""
             }
            },
            "type": "scatterternary"
           }
          ],
          "surface": [
           {
            "colorbar": {
             "outlinewidth": 0,
             "ticks": ""
            },
            "colorscale": [
             [
              0,
              "#0d0887"
             ],
             [
              0.1111111111111111,
              "#46039f"
             ],
             [
              0.2222222222222222,
              "#7201a8"
             ],
             [
              0.3333333333333333,
              "#9c179e"
             ],
             [
              0.4444444444444444,
              "#bd3786"
             ],
             [
              0.5555555555555556,
              "#d8576b"
             ],
             [
              0.6666666666666666,
              "#ed7953"
             ],
             [
              0.7777777777777778,
              "#fb9f3a"
             ],
             [
              0.8888888888888888,
              "#fdca26"
             ],
             [
              1,
              "#f0f921"
             ]
            ],
            "type": "surface"
           }
          ],
          "table": [
           {
            "cells": {
             "fill": {
              "color": "#EBF0F8"
             },
             "line": {
              "color": "white"
             }
            },
            "header": {
             "fill": {
              "color": "#C8D4E3"
             },
             "line": {
              "color": "white"
             }
            },
            "type": "table"
           }
          ]
         },
         "layout": {
          "annotationdefaults": {
           "arrowcolor": "#2a3f5f",
           "arrowhead": 0,
           "arrowwidth": 1
          },
          "autotypenumbers": "strict",
          "coloraxis": {
           "colorbar": {
            "outlinewidth": 0,
            "ticks": ""
           }
          },
          "colorscale": {
           "diverging": [
            [
             0,
             "#8e0152"
            ],
            [
             0.1,
             "#c51b7d"
            ],
            [
             0.2,
             "#de77ae"
            ],
            [
             0.3,
             "#f1b6da"
            ],
            [
             0.4,
             "#fde0ef"
            ],
            [
             0.5,
             "#f7f7f7"
            ],
            [
             0.6,
             "#e6f5d0"
            ],
            [
             0.7,
             "#b8e186"
            ],
            [
             0.8,
             "#7fbc41"
            ],
            [
             0.9,
             "#4d9221"
            ],
            [
             1,
             "#276419"
            ]
           ],
           "sequential": [
            [
             0,
             "#0d0887"
            ],
            [
             0.1111111111111111,
             "#46039f"
            ],
            [
             0.2222222222222222,
             "#7201a8"
            ],
            [
             0.3333333333333333,
             "#9c179e"
            ],
            [
             0.4444444444444444,
             "#bd3786"
            ],
            [
             0.5555555555555556,
             "#d8576b"
            ],
            [
             0.6666666666666666,
             "#ed7953"
            ],
            [
             0.7777777777777778,
             "#fb9f3a"
            ],
            [
             0.8888888888888888,
             "#fdca26"
            ],
            [
             1,
             "#f0f921"
            ]
           ],
           "sequentialminus": [
            [
             0,
             "#0d0887"
            ],
            [
             0.1111111111111111,
             "#46039f"
            ],
            [
             0.2222222222222222,
             "#7201a8"
            ],
            [
             0.3333333333333333,
             "#9c179e"
            ],
            [
             0.4444444444444444,
             "#bd3786"
            ],
            [
             0.5555555555555556,
             "#d8576b"
            ],
            [
             0.6666666666666666,
             "#ed7953"
            ],
            [
             0.7777777777777778,
             "#fb9f3a"
            ],
            [
             0.8888888888888888,
             "#fdca26"
            ],
            [
             1,
             "#f0f921"
            ]
           ]
          },
          "colorway": [
           "#636efa",
           "#EF553B",
           "#00cc96",
           "#ab63fa",
           "#FFA15A",
           "#19d3f3",
           "#FF6692",
           "#B6E880",
           "#FF97FF",
           "#FECB52"
          ],
          "font": {
           "color": "#2a3f5f"
          },
          "geo": {
           "bgcolor": "white",
           "lakecolor": "white",
           "landcolor": "#E5ECF6",
           "showlakes": true,
           "showland": true,
           "subunitcolor": "white"
          },
          "hoverlabel": {
           "align": "left"
          },
          "hovermode": "closest",
          "mapbox": {
           "style": "light"
          },
          "paper_bgcolor": "white",
          "plot_bgcolor": "#E5ECF6",
          "polar": {
           "angularaxis": {
            "gridcolor": "white",
            "linecolor": "white",
            "ticks": ""
           },
           "bgcolor": "#E5ECF6",
           "radialaxis": {
            "gridcolor": "white",
            "linecolor": "white",
            "ticks": ""
           }
          },
          "scene": {
           "xaxis": {
            "backgroundcolor": "#E5ECF6",
            "gridcolor": "white",
            "gridwidth": 2,
            "linecolor": "white",
            "showbackground": true,
            "ticks": "",
            "zerolinecolor": "white"
           },
           "yaxis": {
            "backgroundcolor": "#E5ECF6",
            "gridcolor": "white",
            "gridwidth": 2,
            "linecolor": "white",
            "showbackground": true,
            "ticks": "",
            "zerolinecolor": "white"
           },
           "zaxis": {
            "backgroundcolor": "#E5ECF6",
            "gridcolor": "white",
            "gridwidth": 2,
            "linecolor": "white",
            "showbackground": true,
            "ticks": "",
            "zerolinecolor": "white"
           }
          },
          "shapedefaults": {
           "line": {
            "color": "#2a3f5f"
           }
          },
          "ternary": {
           "aaxis": {
            "gridcolor": "white",
            "linecolor": "white",
            "ticks": ""
           },
           "baxis": {
            "gridcolor": "white",
            "linecolor": "white",
            "ticks": ""
           },
           "bgcolor": "#E5ECF6",
           "caxis": {
            "gridcolor": "white",
            "linecolor": "white",
            "ticks": ""
           }
          },
          "title": {
           "x": 0.05
          },
          "xaxis": {
           "automargin": true,
           "gridcolor": "white",
           "linecolor": "white",
           "ticks": "",
           "title": {
            "standoff": 15
           },
           "zerolinecolor": "white",
           "zerolinewidth": 2
          },
          "yaxis": {
           "automargin": true,
           "gridcolor": "white",
           "linecolor": "white",
           "ticks": "",
           "title": {
            "standoff": 15
           },
           "zerolinecolor": "white",
           "zerolinewidth": 2
          }
         }
        },
        "title": {
         "text": "Distribuição do Tipo de Imóvel"
        },
        "xaxis": {
         "anchor": "y",
         "domain": [
          0,
          1
         ],
         "tickangle": 0,
         "title": {
          "text": "Imóvel"
         }
        },
        "yaxis": {
         "anchor": "x",
         "domain": [
          0,
          1
         ],
         "title": {
          "text": "Número de Registros"
         }
        }
       }
      }
     },
     "metadata": {},
     "output_type": "display_data"
    }
   ],
   "source": [
    "tipo_imovel = dados.groupby('tipo_imovel').size().reset_index(name='contagem')\n",
    "\n",
    "fig1 = px.bar(tipo_imovel,\n",
    "              x='tipo_imovel',\n",
    "              y='contagem',\n",
    "              title='Distribuição do Tipo de Imóvel',\n",
    "              labels={'contagem': 'Número de Registros', 'tipo_imovel': 'Imóvel'},\n",
    "              color_discrete_sequence=['royalblue'])\n",
    "\n",
    "\n",
    "# Ajuste para melhorar a exibição das barras\n",
    "fig1.update_traces(\n",
    "    texttemplate='%{y}',\n",
    "    textposition='inside',\n",
    "    marker=dict(line=dict(color='black', width=1))\n",
    ")\n",
    "\n",
    "fig1.update_layout(\n",
    "    xaxis_tickangle=0,\n",
    "    plot_bgcolor='white',\n",
    "    showlegend=False,\n",
    "    bargap=0.15\n",
    ")\n",
    "\n",
    "fig1.show()"
   ]
  },
  {
   "cell_type": "markdown",
   "metadata": {},
   "source": [
    "O processo de compra e venda apresenta um valor superior em relação aos outros processos analisados. No entanto, a diferença não é tão expressiva, indicando que, embora haja uma variação, os outros tipos de transação, como usucapião extrajudicial e recuperação de crédito, possuem valores próximos. Isso pode sugerir que as transações de compra e venda são frequentes, mas não são, de maneira significativa, mais representativas ou impactantes do que os demais processos, pelo menos dentro do contexto dos dados analisados. A ausência de uma grande disparidade entre os valores sugere um equilíbrio nas transações realizadas em comparação com os outros tipos de processo."
   ]
  },
  {
   "cell_type": "code",
   "execution_count": 326,
   "metadata": {},
   "outputs": [
    {
     "data": {
      "application/vnd.plotly.v1+json": {
       "config": {
        "plotlyServerURL": "https://plot.ly"
       },
       "data": [
        {
         "hovertemplate": "Tipo de Transferência=%{x}<br>Número de Registros=%{y}<extra></extra>",
         "legendgroup": "",
         "marker": {
          "color": "royalblue",
          "line": {
           "color": "black",
           "width": 1
          },
          "pattern": {
           "shape": ""
          }
         },
         "name": "",
         "orientation": "v",
         "showlegend": false,
         "textposition": "inside",
         "texttemplate": "%{y}",
         "type": "bar",
         "x": [
          "Compra e Venda",
          "Recuperação de Crédito",
          "Usucapião Extrajudicial"
         ],
         "xaxis": "x",
         "y": {
          "bdata": "vA2CDXMN",
          "dtype": "i2"
         },
         "yaxis": "y"
        }
       ],
       "layout": {
        "bargap": 0.15,
        "barmode": "relative",
        "legend": {
         "tracegroupgap": 0
        },
        "plot_bgcolor": "white",
        "showlegend": false,
        "template": {
         "data": {
          "bar": [
           {
            "error_x": {
             "color": "#2a3f5f"
            },
            "error_y": {
             "color": "#2a3f5f"
            },
            "marker": {
             "line": {
              "color": "#E5ECF6",
              "width": 0.5
             },
             "pattern": {
              "fillmode": "overlay",
              "size": 10,
              "solidity": 0.2
             }
            },
            "type": "bar"
           }
          ],
          "barpolar": [
           {
            "marker": {
             "line": {
              "color": "#E5ECF6",
              "width": 0.5
             },
             "pattern": {
              "fillmode": "overlay",
              "size": 10,
              "solidity": 0.2
             }
            },
            "type": "barpolar"
           }
          ],
          "carpet": [
           {
            "aaxis": {
             "endlinecolor": "#2a3f5f",
             "gridcolor": "white",
             "linecolor": "white",
             "minorgridcolor": "white",
             "startlinecolor": "#2a3f5f"
            },
            "baxis": {
             "endlinecolor": "#2a3f5f",
             "gridcolor": "white",
             "linecolor": "white",
             "minorgridcolor": "white",
             "startlinecolor": "#2a3f5f"
            },
            "type": "carpet"
           }
          ],
          "choropleth": [
           {
            "colorbar": {
             "outlinewidth": 0,
             "ticks": ""
            },
            "type": "choropleth"
           }
          ],
          "contour": [
           {
            "colorbar": {
             "outlinewidth": 0,
             "ticks": ""
            },
            "colorscale": [
             [
              0,
              "#0d0887"
             ],
             [
              0.1111111111111111,
              "#46039f"
             ],
             [
              0.2222222222222222,
              "#7201a8"
             ],
             [
              0.3333333333333333,
              "#9c179e"
             ],
             [
              0.4444444444444444,
              "#bd3786"
             ],
             [
              0.5555555555555556,
              "#d8576b"
             ],
             [
              0.6666666666666666,
              "#ed7953"
             ],
             [
              0.7777777777777778,
              "#fb9f3a"
             ],
             [
              0.8888888888888888,
              "#fdca26"
             ],
             [
              1,
              "#f0f921"
             ]
            ],
            "type": "contour"
           }
          ],
          "contourcarpet": [
           {
            "colorbar": {
             "outlinewidth": 0,
             "ticks": ""
            },
            "type": "contourcarpet"
           }
          ],
          "heatmap": [
           {
            "colorbar": {
             "outlinewidth": 0,
             "ticks": ""
            },
            "colorscale": [
             [
              0,
              "#0d0887"
             ],
             [
              0.1111111111111111,
              "#46039f"
             ],
             [
              0.2222222222222222,
              "#7201a8"
             ],
             [
              0.3333333333333333,
              "#9c179e"
             ],
             [
              0.4444444444444444,
              "#bd3786"
             ],
             [
              0.5555555555555556,
              "#d8576b"
             ],
             [
              0.6666666666666666,
              "#ed7953"
             ],
             [
              0.7777777777777778,
              "#fb9f3a"
             ],
             [
              0.8888888888888888,
              "#fdca26"
             ],
             [
              1,
              "#f0f921"
             ]
            ],
            "type": "heatmap"
           }
          ],
          "histogram": [
           {
            "marker": {
             "pattern": {
              "fillmode": "overlay",
              "size": 10,
              "solidity": 0.2
             }
            },
            "type": "histogram"
           }
          ],
          "histogram2d": [
           {
            "colorbar": {
             "outlinewidth": 0,
             "ticks": ""
            },
            "colorscale": [
             [
              0,
              "#0d0887"
             ],
             [
              0.1111111111111111,
              "#46039f"
             ],
             [
              0.2222222222222222,
              "#7201a8"
             ],
             [
              0.3333333333333333,
              "#9c179e"
             ],
             [
              0.4444444444444444,
              "#bd3786"
             ],
             [
              0.5555555555555556,
              "#d8576b"
             ],
             [
              0.6666666666666666,
              "#ed7953"
             ],
             [
              0.7777777777777778,
              "#fb9f3a"
             ],
             [
              0.8888888888888888,
              "#fdca26"
             ],
             [
              1,
              "#f0f921"
             ]
            ],
            "type": "histogram2d"
           }
          ],
          "histogram2dcontour": [
           {
            "colorbar": {
             "outlinewidth": 0,
             "ticks": ""
            },
            "colorscale": [
             [
              0,
              "#0d0887"
             ],
             [
              0.1111111111111111,
              "#46039f"
             ],
             [
              0.2222222222222222,
              "#7201a8"
             ],
             [
              0.3333333333333333,
              "#9c179e"
             ],
             [
              0.4444444444444444,
              "#bd3786"
             ],
             [
              0.5555555555555556,
              "#d8576b"
             ],
             [
              0.6666666666666666,
              "#ed7953"
             ],
             [
              0.7777777777777778,
              "#fb9f3a"
             ],
             [
              0.8888888888888888,
              "#fdca26"
             ],
             [
              1,
              "#f0f921"
             ]
            ],
            "type": "histogram2dcontour"
           }
          ],
          "mesh3d": [
           {
            "colorbar": {
             "outlinewidth": 0,
             "ticks": ""
            },
            "type": "mesh3d"
           }
          ],
          "parcoords": [
           {
            "line": {
             "colorbar": {
              "outlinewidth": 0,
              "ticks": ""
             }
            },
            "type": "parcoords"
           }
          ],
          "pie": [
           {
            "automargin": true,
            "type": "pie"
           }
          ],
          "scatter": [
           {
            "fillpattern": {
             "fillmode": "overlay",
             "size": 10,
             "solidity": 0.2
            },
            "type": "scatter"
           }
          ],
          "scatter3d": [
           {
            "line": {
             "colorbar": {
              "outlinewidth": 0,
              "ticks": ""
             }
            },
            "marker": {
             "colorbar": {
              "outlinewidth": 0,
              "ticks": ""
             }
            },
            "type": "scatter3d"
           }
          ],
          "scattercarpet": [
           {
            "marker": {
             "colorbar": {
              "outlinewidth": 0,
              "ticks": ""
             }
            },
            "type": "scattercarpet"
           }
          ],
          "scattergeo": [
           {
            "marker": {
             "colorbar": {
              "outlinewidth": 0,
              "ticks": ""
             }
            },
            "type": "scattergeo"
           }
          ],
          "scattergl": [
           {
            "marker": {
             "colorbar": {
              "outlinewidth": 0,
              "ticks": ""
             }
            },
            "type": "scattergl"
           }
          ],
          "scattermap": [
           {
            "marker": {
             "colorbar": {
              "outlinewidth": 0,
              "ticks": ""
             }
            },
            "type": "scattermap"
           }
          ],
          "scattermapbox": [
           {
            "marker": {
             "colorbar": {
              "outlinewidth": 0,
              "ticks": ""
             }
            },
            "type": "scattermapbox"
           }
          ],
          "scatterpolar": [
           {
            "marker": {
             "colorbar": {
              "outlinewidth": 0,
              "ticks": ""
             }
            },
            "type": "scatterpolar"
           }
          ],
          "scatterpolargl": [
           {
            "marker": {
             "colorbar": {
              "outlinewidth": 0,
              "ticks": ""
             }
            },
            "type": "scatterpolargl"
           }
          ],
          "scatterternary": [
           {
            "marker": {
             "colorbar": {
              "outlinewidth": 0,
              "ticks": ""
             }
            },
            "type": "scatterternary"
           }
          ],
          "surface": [
           {
            "colorbar": {
             "outlinewidth": 0,
             "ticks": ""
            },
            "colorscale": [
             [
              0,
              "#0d0887"
             ],
             [
              0.1111111111111111,
              "#46039f"
             ],
             [
              0.2222222222222222,
              "#7201a8"
             ],
             [
              0.3333333333333333,
              "#9c179e"
             ],
             [
              0.4444444444444444,
              "#bd3786"
             ],
             [
              0.5555555555555556,
              "#d8576b"
             ],
             [
              0.6666666666666666,
              "#ed7953"
             ],
             [
              0.7777777777777778,
              "#fb9f3a"
             ],
             [
              0.8888888888888888,
              "#fdca26"
             ],
             [
              1,
              "#f0f921"
             ]
            ],
            "type": "surface"
           }
          ],
          "table": [
           {
            "cells": {
             "fill": {
              "color": "#EBF0F8"
             },
             "line": {
              "color": "white"
             }
            },
            "header": {
             "fill": {
              "color": "#C8D4E3"
             },
             "line": {
              "color": "white"
             }
            },
            "type": "table"
           }
          ]
         },
         "layout": {
          "annotationdefaults": {
           "arrowcolor": "#2a3f5f",
           "arrowhead": 0,
           "arrowwidth": 1
          },
          "autotypenumbers": "strict",
          "coloraxis": {
           "colorbar": {
            "outlinewidth": 0,
            "ticks": ""
           }
          },
          "colorscale": {
           "diverging": [
            [
             0,
             "#8e0152"
            ],
            [
             0.1,
             "#c51b7d"
            ],
            [
             0.2,
             "#de77ae"
            ],
            [
             0.3,
             "#f1b6da"
            ],
            [
             0.4,
             "#fde0ef"
            ],
            [
             0.5,
             "#f7f7f7"
            ],
            [
             0.6,
             "#e6f5d0"
            ],
            [
             0.7,
             "#b8e186"
            ],
            [
             0.8,
             "#7fbc41"
            ],
            [
             0.9,
             "#4d9221"
            ],
            [
             1,
             "#276419"
            ]
           ],
           "sequential": [
            [
             0,
             "#0d0887"
            ],
            [
             0.1111111111111111,
             "#46039f"
            ],
            [
             0.2222222222222222,
             "#7201a8"
            ],
            [
             0.3333333333333333,
             "#9c179e"
            ],
            [
             0.4444444444444444,
             "#bd3786"
            ],
            [
             0.5555555555555556,
             "#d8576b"
            ],
            [
             0.6666666666666666,
             "#ed7953"
            ],
            [
             0.7777777777777778,
             "#fb9f3a"
            ],
            [
             0.8888888888888888,
             "#fdca26"
            ],
            [
             1,
             "#f0f921"
            ]
           ],
           "sequentialminus": [
            [
             0,
             "#0d0887"
            ],
            [
             0.1111111111111111,
             "#46039f"
            ],
            [
             0.2222222222222222,
             "#7201a8"
            ],
            [
             0.3333333333333333,
             "#9c179e"
            ],
            [
             0.4444444444444444,
             "#bd3786"
            ],
            [
             0.5555555555555556,
             "#d8576b"
            ],
            [
             0.6666666666666666,
             "#ed7953"
            ],
            [
             0.7777777777777778,
             "#fb9f3a"
            ],
            [
             0.8888888888888888,
             "#fdca26"
            ],
            [
             1,
             "#f0f921"
            ]
           ]
          },
          "colorway": [
           "#636efa",
           "#EF553B",
           "#00cc96",
           "#ab63fa",
           "#FFA15A",
           "#19d3f3",
           "#FF6692",
           "#B6E880",
           "#FF97FF",
           "#FECB52"
          ],
          "font": {
           "color": "#2a3f5f"
          },
          "geo": {
           "bgcolor": "white",
           "lakecolor": "white",
           "landcolor": "#E5ECF6",
           "showlakes": true,
           "showland": true,
           "subunitcolor": "white"
          },
          "hoverlabel": {
           "align": "left"
          },
          "hovermode": "closest",
          "mapbox": {
           "style": "light"
          },
          "paper_bgcolor": "white",
          "plot_bgcolor": "#E5ECF6",
          "polar": {
           "angularaxis": {
            "gridcolor": "white",
            "linecolor": "white",
            "ticks": ""
           },
           "bgcolor": "#E5ECF6",
           "radialaxis": {
            "gridcolor": "white",
            "linecolor": "white",
            "ticks": ""
           }
          },
          "scene": {
           "xaxis": {
            "backgroundcolor": "#E5ECF6",
            "gridcolor": "white",
            "gridwidth": 2,
            "linecolor": "white",
            "showbackground": true,
            "ticks": "",
            "zerolinecolor": "white"
           },
           "yaxis": {
            "backgroundcolor": "#E5ECF6",
            "gridcolor": "white",
            "gridwidth": 2,
            "linecolor": "white",
            "showbackground": true,
            "ticks": "",
            "zerolinecolor": "white"
           },
           "zaxis": {
            "backgroundcolor": "#E5ECF6",
            "gridcolor": "white",
            "gridwidth": 2,
            "linecolor": "white",
            "showbackground": true,
            "ticks": "",
            "zerolinecolor": "white"
           }
          },
          "shapedefaults": {
           "line": {
            "color": "#2a3f5f"
           }
          },
          "ternary": {
           "aaxis": {
            "gridcolor": "white",
            "linecolor": "white",
            "ticks": ""
           },
           "baxis": {
            "gridcolor": "white",
            "linecolor": "white",
            "ticks": ""
           },
           "bgcolor": "#E5ECF6",
           "caxis": {
            "gridcolor": "white",
            "linecolor": "white",
            "ticks": ""
           }
          },
          "title": {
           "x": 0.05
          },
          "xaxis": {
           "automargin": true,
           "gridcolor": "white",
           "linecolor": "white",
           "ticks": "",
           "title": {
            "standoff": 15
           },
           "zerolinecolor": "white",
           "zerolinewidth": 2
          },
          "yaxis": {
           "automargin": true,
           "gridcolor": "white",
           "linecolor": "white",
           "ticks": "",
           "title": {
            "standoff": 15
           },
           "zerolinecolor": "white",
           "zerolinewidth": 2
          }
         }
        },
        "title": {
         "text": "Distribuição do Tipo de Transferência"
        },
        "xaxis": {
         "anchor": "y",
         "domain": [
          0,
          1
         ],
         "tickangle": 0,
         "title": {
          "text": "Tipo de Transferência"
         }
        },
        "yaxis": {
         "anchor": "x",
         "domain": [
          0,
          1
         ],
         "title": {
          "text": "Número de Registros"
         }
        }
       }
      }
     },
     "metadata": {},
     "output_type": "display_data"
    }
   ],
   "source": [
    "# Agrupar os dados pelo tipo de transferência\n",
    "tipo_transferencia = dados.groupby('tipo_transferencia').size().reset_index(name='contagem')\n",
    "\n",
    "fig1 = px.bar(tipo_transferencia,\n",
    "              x='tipo_transferencia',\n",
    "              y='contagem',\n",
    "              title='Distribuição do Tipo de Transferência',\n",
    "              labels={'contagem': 'Número de Registros', 'tipo_transferencia': 'Tipo de Transferência'})\n",
    "\n",
    "# Ajuste para melhorar a exibição das barras\n",
    "fig1.update_traces(\n",
    "    texttemplate='%{y}',\n",
    "    textposition='inside',\n",
    "    marker=dict(color='royalblue', line=dict(color='black', width=1))\n",
    ")\n",
    "\n",
    "fig1.update_layout(\n",
    "    xaxis_tickangle=0,\n",
    "    plot_bgcolor='white',\n",
    "    showlegend=False,\n",
    "    bargap=0.15\n",
    ")\n",
    "\n",
    "fig1.show()"
   ]
  },
  {
   "cell_type": "markdown",
   "metadata": {},
   "source": [
    "A suavização logarítmica foi aplicada devido à grande disparidade nos valores dos tamanhos dos imóveis, especialmente no caso dos terrenos rurais. Esses terrenos possuem valores significativamente mais altos, o que é esperado, já que podem representar áreas como fazendas, sítios ou terrenos para cultivo. Para lidar com essa diferença acentuada, utilizamos a mediana como medida de tendência central, pois ela é menos sensível a valores discrepantes, o que garante uma comparação mais robusta.\n",
    "\n",
    "A análise sugere que os tamanhos dos terrenos rurais, de fato, apresentam valores muito elevados em relação aos outros tipos de imóveis. Esse fato corrobora a hipótese de que qualquer comparação envolvendo a coluna de tamanhos de imóveis deve ser feita com cautela, especialmente quando envolve terrenos rurais, devido à sua magnitude. Portanto, qualquer análise comparativa envolvendo esses valores precisa ser moderada, considerando a natureza excepcional dos dados relacionados aos terrenos rurais."
   ]
  },
  {
   "cell_type": "code",
   "execution_count": 327,
   "metadata": {},
   "outputs": [
    {
     "data": {
      "application/vnd.plotly.v1+json": {
       "config": {
        "plotlyServerURL": "https://plot.ly"
       },
       "data": [
        {
         "hovertemplate": "Tipo de Imóvel=%{x}<br>Mediana do Tamanho do Imóvel (Log)=%{marker.color}<extra></extra>",
         "legendgroup": "",
         "marker": {
          "color": "royalblue",
          "coloraxis": "coloraxis",
          "line": {
           "color": "black",
           "width": 1
          },
          "pattern": {
           "shape": ""
          }
         },
         "name": "",
         "orientation": "v",
         "showlegend": false,
         "textposition": "inside",
         "texttemplate": "%{y:.2f}",
         "type": "bar",
         "x": [
          "apartamento",
          "casa",
          "terreno rural"
         ],
         "xaxis": "x",
         "y": {
          "bdata": "f09W9a+jFEDsu9KJRrUUQNXB7LOESCRA",
          "dtype": "f8"
         },
         "yaxis": "y"
        }
       ],
       "layout": {
        "bargap": 0.15,
        "barmode": "relative",
        "coloraxis": {
         "colorbar": {
          "title": {
           "text": "Mediana do Tamanho do Imóvel (Log)"
          }
         },
         "colorscale": [
          [
           0,
           "rgb(247,251,255)"
          ],
          [
           0.125,
           "rgb(222,235,247)"
          ],
          [
           0.25,
           "rgb(198,219,239)"
          ],
          [
           0.375,
           "rgb(158,202,225)"
          ],
          [
           0.5,
           "rgb(107,174,214)"
          ],
          [
           0.625,
           "rgb(66,146,198)"
          ],
          [
           0.75,
           "rgb(33,113,181)"
          ],
          [
           0.875,
           "rgb(8,81,156)"
          ],
          [
           1,
           "rgb(8,48,107)"
          ]
         ]
        },
        "legend": {
         "tracegroupgap": 0
        },
        "plot_bgcolor": "white",
        "showlegend": false,
        "template": {
         "data": {
          "bar": [
           {
            "error_x": {
             "color": "#2a3f5f"
            },
            "error_y": {
             "color": "#2a3f5f"
            },
            "marker": {
             "line": {
              "color": "#E5ECF6",
              "width": 0.5
             },
             "pattern": {
              "fillmode": "overlay",
              "size": 10,
              "solidity": 0.2
             }
            },
            "type": "bar"
           }
          ],
          "barpolar": [
           {
            "marker": {
             "line": {
              "color": "#E5ECF6",
              "width": 0.5
             },
             "pattern": {
              "fillmode": "overlay",
              "size": 10,
              "solidity": 0.2
             }
            },
            "type": "barpolar"
           }
          ],
          "carpet": [
           {
            "aaxis": {
             "endlinecolor": "#2a3f5f",
             "gridcolor": "white",
             "linecolor": "white",
             "minorgridcolor": "white",
             "startlinecolor": "#2a3f5f"
            },
            "baxis": {
             "endlinecolor": "#2a3f5f",
             "gridcolor": "white",
             "linecolor": "white",
             "minorgridcolor": "white",
             "startlinecolor": "#2a3f5f"
            },
            "type": "carpet"
           }
          ],
          "choropleth": [
           {
            "colorbar": {
             "outlinewidth": 0,
             "ticks": ""
            },
            "type": "choropleth"
           }
          ],
          "contour": [
           {
            "colorbar": {
             "outlinewidth": 0,
             "ticks": ""
            },
            "colorscale": [
             [
              0,
              "#0d0887"
             ],
             [
              0.1111111111111111,
              "#46039f"
             ],
             [
              0.2222222222222222,
              "#7201a8"
             ],
             [
              0.3333333333333333,
              "#9c179e"
             ],
             [
              0.4444444444444444,
              "#bd3786"
             ],
             [
              0.5555555555555556,
              "#d8576b"
             ],
             [
              0.6666666666666666,
              "#ed7953"
             ],
             [
              0.7777777777777778,
              "#fb9f3a"
             ],
             [
              0.8888888888888888,
              "#fdca26"
             ],
             [
              1,
              "#f0f921"
             ]
            ],
            "type": "contour"
           }
          ],
          "contourcarpet": [
           {
            "colorbar": {
             "outlinewidth": 0,
             "ticks": ""
            },
            "type": "contourcarpet"
           }
          ],
          "heatmap": [
           {
            "colorbar": {
             "outlinewidth": 0,
             "ticks": ""
            },
            "colorscale": [
             [
              0,
              "#0d0887"
             ],
             [
              0.1111111111111111,
              "#46039f"
             ],
             [
              0.2222222222222222,
              "#7201a8"
             ],
             [
              0.3333333333333333,
              "#9c179e"
             ],
             [
              0.4444444444444444,
              "#bd3786"
             ],
             [
              0.5555555555555556,
              "#d8576b"
             ],
             [
              0.6666666666666666,
              "#ed7953"
             ],
             [
              0.7777777777777778,
              "#fb9f3a"
             ],
             [
              0.8888888888888888,
              "#fdca26"
             ],
             [
              1,
              "#f0f921"
             ]
            ],
            "type": "heatmap"
           }
          ],
          "histogram": [
           {
            "marker": {
             "pattern": {
              "fillmode": "overlay",
              "size": 10,
              "solidity": 0.2
             }
            },
            "type": "histogram"
           }
          ],
          "histogram2d": [
           {
            "colorbar": {
             "outlinewidth": 0,
             "ticks": ""
            },
            "colorscale": [
             [
              0,
              "#0d0887"
             ],
             [
              0.1111111111111111,
              "#46039f"
             ],
             [
              0.2222222222222222,
              "#7201a8"
             ],
             [
              0.3333333333333333,
              "#9c179e"
             ],
             [
              0.4444444444444444,
              "#bd3786"
             ],
             [
              0.5555555555555556,
              "#d8576b"
             ],
             [
              0.6666666666666666,
              "#ed7953"
             ],
             [
              0.7777777777777778,
              "#fb9f3a"
             ],
             [
              0.8888888888888888,
              "#fdca26"
             ],
             [
              1,
              "#f0f921"
             ]
            ],
            "type": "histogram2d"
           }
          ],
          "histogram2dcontour": [
           {
            "colorbar": {
             "outlinewidth": 0,
             "ticks": ""
            },
            "colorscale": [
             [
              0,
              "#0d0887"
             ],
             [
              0.1111111111111111,
              "#46039f"
             ],
             [
              0.2222222222222222,
              "#7201a8"
             ],
             [
              0.3333333333333333,
              "#9c179e"
             ],
             [
              0.4444444444444444,
              "#bd3786"
             ],
             [
              0.5555555555555556,
              "#d8576b"
             ],
             [
              0.6666666666666666,
              "#ed7953"
             ],
             [
              0.7777777777777778,
              "#fb9f3a"
             ],
             [
              0.8888888888888888,
              "#fdca26"
             ],
             [
              1,
              "#f0f921"
             ]
            ],
            "type": "histogram2dcontour"
           }
          ],
          "mesh3d": [
           {
            "colorbar": {
             "outlinewidth": 0,
             "ticks": ""
            },
            "type": "mesh3d"
           }
          ],
          "parcoords": [
           {
            "line": {
             "colorbar": {
              "outlinewidth": 0,
              "ticks": ""
             }
            },
            "type": "parcoords"
           }
          ],
          "pie": [
           {
            "automargin": true,
            "type": "pie"
           }
          ],
          "scatter": [
           {
            "fillpattern": {
             "fillmode": "overlay",
             "size": 10,
             "solidity": 0.2
            },
            "type": "scatter"
           }
          ],
          "scatter3d": [
           {
            "line": {
             "colorbar": {
              "outlinewidth": 0,
              "ticks": ""
             }
            },
            "marker": {
             "colorbar": {
              "outlinewidth": 0,
              "ticks": ""
             }
            },
            "type": "scatter3d"
           }
          ],
          "scattercarpet": [
           {
            "marker": {
             "colorbar": {
              "outlinewidth": 0,
              "ticks": ""
             }
            },
            "type": "scattercarpet"
           }
          ],
          "scattergeo": [
           {
            "marker": {
             "colorbar": {
              "outlinewidth": 0,
              "ticks": ""
             }
            },
            "type": "scattergeo"
           }
          ],
          "scattergl": [
           {
            "marker": {
             "colorbar": {
              "outlinewidth": 0,
              "ticks": ""
             }
            },
            "type": "scattergl"
           }
          ],
          "scattermap": [
           {
            "marker": {
             "colorbar": {
              "outlinewidth": 0,
              "ticks": ""
             }
            },
            "type": "scattermap"
           }
          ],
          "scattermapbox": [
           {
            "marker": {
             "colorbar": {
              "outlinewidth": 0,
              "ticks": ""
             }
            },
            "type": "scattermapbox"
           }
          ],
          "scatterpolar": [
           {
            "marker": {
             "colorbar": {
              "outlinewidth": 0,
              "ticks": ""
             }
            },
            "type": "scatterpolar"
           }
          ],
          "scatterpolargl": [
           {
            "marker": {
             "colorbar": {
              "outlinewidth": 0,
              "ticks": ""
             }
            },
            "type": "scatterpolargl"
           }
          ],
          "scatterternary": [
           {
            "marker": {
             "colorbar": {
              "outlinewidth": 0,
              "ticks": ""
             }
            },
            "type": "scatterternary"
           }
          ],
          "surface": [
           {
            "colorbar": {
             "outlinewidth": 0,
             "ticks": ""
            },
            "colorscale": [
             [
              0,
              "#0d0887"
             ],
             [
              0.1111111111111111,
              "#46039f"
             ],
             [
              0.2222222222222222,
              "#7201a8"
             ],
             [
              0.3333333333333333,
              "#9c179e"
             ],
             [
              0.4444444444444444,
              "#bd3786"
             ],
             [
              0.5555555555555556,
              "#d8576b"
             ],
             [
              0.6666666666666666,
              "#ed7953"
             ],
             [
              0.7777777777777778,
              "#fb9f3a"
             ],
             [
              0.8888888888888888,
              "#fdca26"
             ],
             [
              1,
              "#f0f921"
             ]
            ],
            "type": "surface"
           }
          ],
          "table": [
           {
            "cells": {
             "fill": {
              "color": "#EBF0F8"
             },
             "line": {
              "color": "white"
             }
            },
            "header": {
             "fill": {
              "color": "#C8D4E3"
             },
             "line": {
              "color": "white"
             }
            },
            "type": "table"
           }
          ]
         },
         "layout": {
          "annotationdefaults": {
           "arrowcolor": "#2a3f5f",
           "arrowhead": 0,
           "arrowwidth": 1
          },
          "autotypenumbers": "strict",
          "coloraxis": {
           "colorbar": {
            "outlinewidth": 0,
            "ticks": ""
           }
          },
          "colorscale": {
           "diverging": [
            [
             0,
             "#8e0152"
            ],
            [
             0.1,
             "#c51b7d"
            ],
            [
             0.2,
             "#de77ae"
            ],
            [
             0.3,
             "#f1b6da"
            ],
            [
             0.4,
             "#fde0ef"
            ],
            [
             0.5,
             "#f7f7f7"
            ],
            [
             0.6,
             "#e6f5d0"
            ],
            [
             0.7,
             "#b8e186"
            ],
            [
             0.8,
             "#7fbc41"
            ],
            [
             0.9,
             "#4d9221"
            ],
            [
             1,
             "#276419"
            ]
           ],
           "sequential": [
            [
             0,
             "#0d0887"
            ],
            [
             0.1111111111111111,
             "#46039f"
            ],
            [
             0.2222222222222222,
             "#7201a8"
            ],
            [
             0.3333333333333333,
             "#9c179e"
            ],
            [
             0.4444444444444444,
             "#bd3786"
            ],
            [
             0.5555555555555556,
             "#d8576b"
            ],
            [
             0.6666666666666666,
             "#ed7953"
            ],
            [
             0.7777777777777778,
             "#fb9f3a"
            ],
            [
             0.8888888888888888,
             "#fdca26"
            ],
            [
             1,
             "#f0f921"
            ]
           ],
           "sequentialminus": [
            [
             0,
             "#0d0887"
            ],
            [
             0.1111111111111111,
             "#46039f"
            ],
            [
             0.2222222222222222,
             "#7201a8"
            ],
            [
             0.3333333333333333,
             "#9c179e"
            ],
            [
             0.4444444444444444,
             "#bd3786"
            ],
            [
             0.5555555555555556,
             "#d8576b"
            ],
            [
             0.6666666666666666,
             "#ed7953"
            ],
            [
             0.7777777777777778,
             "#fb9f3a"
            ],
            [
             0.8888888888888888,
             "#fdca26"
            ],
            [
             1,
             "#f0f921"
            ]
           ]
          },
          "colorway": [
           "#636efa",
           "#EF553B",
           "#00cc96",
           "#ab63fa",
           "#FFA15A",
           "#19d3f3",
           "#FF6692",
           "#B6E880",
           "#FF97FF",
           "#FECB52"
          ],
          "font": {
           "color": "#2a3f5f"
          },
          "geo": {
           "bgcolor": "white",
           "lakecolor": "white",
           "landcolor": "#E5ECF6",
           "showlakes": true,
           "showland": true,
           "subunitcolor": "white"
          },
          "hoverlabel": {
           "align": "left"
          },
          "hovermode": "closest",
          "mapbox": {
           "style": "light"
          },
          "paper_bgcolor": "white",
          "plot_bgcolor": "#E5ECF6",
          "polar": {
           "angularaxis": {
            "gridcolor": "white",
            "linecolor": "white",
            "ticks": ""
           },
           "bgcolor": "#E5ECF6",
           "radialaxis": {
            "gridcolor": "white",
            "linecolor": "white",
            "ticks": ""
           }
          },
          "scene": {
           "xaxis": {
            "backgroundcolor": "#E5ECF6",
            "gridcolor": "white",
            "gridwidth": 2,
            "linecolor": "white",
            "showbackground": true,
            "ticks": "",
            "zerolinecolor": "white"
           },
           "yaxis": {
            "backgroundcolor": "#E5ECF6",
            "gridcolor": "white",
            "gridwidth": 2,
            "linecolor": "white",
            "showbackground": true,
            "ticks": "",
            "zerolinecolor": "white"
           },
           "zaxis": {
            "backgroundcolor": "#E5ECF6",
            "gridcolor": "white",
            "gridwidth": 2,
            "linecolor": "white",
            "showbackground": true,
            "ticks": "",
            "zerolinecolor": "white"
           }
          },
          "shapedefaults": {
           "line": {
            "color": "#2a3f5f"
           }
          },
          "ternary": {
           "aaxis": {
            "gridcolor": "white",
            "linecolor": "white",
            "ticks": ""
           },
           "baxis": {
            "gridcolor": "white",
            "linecolor": "white",
            "ticks": ""
           },
           "bgcolor": "#E5ECF6",
           "caxis": {
            "gridcolor": "white",
            "linecolor": "white",
            "ticks": ""
           }
          },
          "title": {
           "x": 0.05
          },
          "xaxis": {
           "automargin": true,
           "gridcolor": "white",
           "linecolor": "white",
           "ticks": "",
           "title": {
            "standoff": 15
           },
           "zerolinecolor": "white",
           "zerolinewidth": 2
          },
          "yaxis": {
           "automargin": true,
           "gridcolor": "white",
           "linecolor": "white",
           "ticks": "",
           "title": {
            "standoff": 15
           },
           "zerolinecolor": "white",
           "zerolinewidth": 2
          }
         }
        },
        "title": {
         "text": "Mediana do Tamanho do Imóvel por Tipo de Imóvel (Escala Logarítmica)"
        },
        "xaxis": {
         "anchor": "y",
         "domain": [
          0,
          1
         ],
         "tickangle": 0,
         "title": {
          "text": "Tipo de Imóvel"
         }
        },
        "yaxis": {
         "anchor": "x",
         "domain": [
          0,
          1
         ],
         "title": {
          "text": "Mediana do Tamanho do Imóvel (Log)"
         }
        }
       }
      }
     },
     "metadata": {},
     "output_type": "display_data"
    }
   ],
   "source": [
    "mediana_tamanho_por_tipo = dados.groupby('tipo_imovel')['tamanho_imovel'].mean().reset_index(name='mediana_tamanho')\n",
    "\n",
    "# Aplicando transformação logarítmica para suavizar grandes discrepâncias\n",
    "mediana_tamanho_por_tipo['mediana_log'] = np.log1p(mediana_tamanho_por_tipo['mediana_tamanho'])\n",
    "\n",
    "fig = px.bar(mediana_tamanho_por_tipo,\n",
    "             x='tipo_imovel',\n",
    "             y='mediana_log',\n",
    "             title='Mediana do Tamanho do Imóvel por Tipo de Imóvel (Escala Logarítmica)',\n",
    "             labels={'mediana_log': 'Mediana do Tamanho do Imóvel (Log)', 'tipo_imovel': 'Tipo de Imóvel'},\n",
    "             color='mediana_log',\n",
    "             color_continuous_scale='blues')\n",
    "\n",
    "\n",
    "# Ajuste para melhorar a exibição das barras\n",
    "fig.update_traces(\n",
    "    texttemplate='%{y:.2f}',\n",
    "    textposition='inside',\n",
    "    marker=dict(color='royalblue', line=dict(color='black', width=1))\n",
    ")\n",
    "\n",
    "fig.update_layout(\n",
    "    xaxis_tickangle=360,\n",
    "    plot_bgcolor='white',\n",
    "    showlegend=False,\n",
    "    bargap=0.15\n",
    ")\n",
    "\n",
    "fig.show()"
   ]
  },
  {
   "cell_type": "markdown",
   "metadata": {},
   "source": [
    "# Solução das Perguntas\n",
    "\n",
    "\n",
    "# 1- Quais são os estados e cidades com o maior número de transações?\n",
    "\n",
    "* Para responder essa pergunta foi criado um gráfico de barras para cada grupo. Estados e cidades."
   ]
  },
  {
   "cell_type": "code",
   "execution_count": 328,
   "metadata": {},
   "outputs": [],
   "source": [
    "#Agrupando por estado e cidades\n",
    "estados_agrupados = dados.groupby('estado').size().reset_index(name='quantidade_registros')\n",
    "cidades_agrupados = dados.groupby('cidade').size().reset_index(name='quantidade_registros')\n",
    "\n",
    "#Ordenando por quantidade de registros\n",
    "estados_agrupados = estados_agrupados.sort_values(by = 'quantidade_registros', ascending= False)\n",
    "cidades_agrupados = cidades_agrupados.sort_values(by = 'quantidade_registros', ascending= False)\n",
    "\n",
    "top_10_estados = estados_agrupados.head(10)\n",
    "top_10_cidade = cidades_agrupados.head(10)"
   ]
  },
  {
   "cell_type": "code",
   "execution_count": 329,
   "metadata": {},
   "outputs": [
    {
     "data": {
      "application/vnd.plotly.v1+json": {
       "config": {
        "plotlyServerURL": "https://plot.ly"
       },
       "data": [
        {
         "hovertemplate": "Estado=%{x}<br>Número de Registros=%{marker.color}<extra></extra>",
         "legendgroup": "",
         "marker": {
          "color": {
           "bdata": "OgIaAtUB1AHOAcQBvgGqAakBpwE=",
           "dtype": "i2"
          },
          "coloraxis": "coloraxis",
          "line": {
           "color": "black",
           "width": 1
          },
          "pattern": {
           "shape": ""
          }
         },
         "name": "",
         "orientation": "v",
         "showlegend": false,
         "textposition": "inside",
         "texttemplate": "%{y}",
         "type": "bar",
         "x": [
          "TO",
          "AC",
          "PE",
          "PR",
          "BA",
          "GO",
          "ES",
          "MA",
          "RO",
          "RS"
         ],
         "xaxis": "x",
         "y": {
          "bdata": "OgIaAtUB1AHOAcQBvgGqAakBpwE=",
          "dtype": "i2"
         },
         "yaxis": "y"
        }
       ],
       "layout": {
        "barmode": "relative",
        "coloraxis": {
         "colorbar": {
          "title": {
           "text": "Número de Registros"
          }
         },
         "colorscale": [
          [
           0,
           "rgb(247,251,255)"
          ],
          [
           0.125,
           "rgb(222,235,247)"
          ],
          [
           0.25,
           "rgb(198,219,239)"
          ],
          [
           0.375,
           "rgb(158,202,225)"
          ],
          [
           0.5,
           "rgb(107,174,214)"
          ],
          [
           0.625,
           "rgb(66,146,198)"
          ],
          [
           0.75,
           "rgb(33,113,181)"
          ],
          [
           0.875,
           "rgb(8,81,156)"
          ],
          [
           1,
           "rgb(8,48,107)"
          ]
         ]
        },
        "legend": {
         "tracegroupgap": 0
        },
        "showlegend": false,
        "template": {
         "data": {
          "bar": [
           {
            "error_x": {
             "color": "#2a3f5f"
            },
            "error_y": {
             "color": "#2a3f5f"
            },
            "marker": {
             "line": {
              "color": "#E5ECF6",
              "width": 0.5
             },
             "pattern": {
              "fillmode": "overlay",
              "size": 10,
              "solidity": 0.2
             }
            },
            "type": "bar"
           }
          ],
          "barpolar": [
           {
            "marker": {
             "line": {
              "color": "#E5ECF6",
              "width": 0.5
             },
             "pattern": {
              "fillmode": "overlay",
              "size": 10,
              "solidity": 0.2
             }
            },
            "type": "barpolar"
           }
          ],
          "carpet": [
           {
            "aaxis": {
             "endlinecolor": "#2a3f5f",
             "gridcolor": "white",
             "linecolor": "white",
             "minorgridcolor": "white",
             "startlinecolor": "#2a3f5f"
            },
            "baxis": {
             "endlinecolor": "#2a3f5f",
             "gridcolor": "white",
             "linecolor": "white",
             "minorgridcolor": "white",
             "startlinecolor": "#2a3f5f"
            },
            "type": "carpet"
           }
          ],
          "choropleth": [
           {
            "colorbar": {
             "outlinewidth": 0,
             "ticks": ""
            },
            "type": "choropleth"
           }
          ],
          "contour": [
           {
            "colorbar": {
             "outlinewidth": 0,
             "ticks": ""
            },
            "colorscale": [
             [
              0,
              "#0d0887"
             ],
             [
              0.1111111111111111,
              "#46039f"
             ],
             [
              0.2222222222222222,
              "#7201a8"
             ],
             [
              0.3333333333333333,
              "#9c179e"
             ],
             [
              0.4444444444444444,
              "#bd3786"
             ],
             [
              0.5555555555555556,
              "#d8576b"
             ],
             [
              0.6666666666666666,
              "#ed7953"
             ],
             [
              0.7777777777777778,
              "#fb9f3a"
             ],
             [
              0.8888888888888888,
              "#fdca26"
             ],
             [
              1,
              "#f0f921"
             ]
            ],
            "type": "contour"
           }
          ],
          "contourcarpet": [
           {
            "colorbar": {
             "outlinewidth": 0,
             "ticks": ""
            },
            "type": "contourcarpet"
           }
          ],
          "heatmap": [
           {
            "colorbar": {
             "outlinewidth": 0,
             "ticks": ""
            },
            "colorscale": [
             [
              0,
              "#0d0887"
             ],
             [
              0.1111111111111111,
              "#46039f"
             ],
             [
              0.2222222222222222,
              "#7201a8"
             ],
             [
              0.3333333333333333,
              "#9c179e"
             ],
             [
              0.4444444444444444,
              "#bd3786"
             ],
             [
              0.5555555555555556,
              "#d8576b"
             ],
             [
              0.6666666666666666,
              "#ed7953"
             ],
             [
              0.7777777777777778,
              "#fb9f3a"
             ],
             [
              0.8888888888888888,
              "#fdca26"
             ],
             [
              1,
              "#f0f921"
             ]
            ],
            "type": "heatmap"
           }
          ],
          "histogram": [
           {
            "marker": {
             "pattern": {
              "fillmode": "overlay",
              "size": 10,
              "solidity": 0.2
             }
            },
            "type": "histogram"
           }
          ],
          "histogram2d": [
           {
            "colorbar": {
             "outlinewidth": 0,
             "ticks": ""
            },
            "colorscale": [
             [
              0,
              "#0d0887"
             ],
             [
              0.1111111111111111,
              "#46039f"
             ],
             [
              0.2222222222222222,
              "#7201a8"
             ],
             [
              0.3333333333333333,
              "#9c179e"
             ],
             [
              0.4444444444444444,
              "#bd3786"
             ],
             [
              0.5555555555555556,
              "#d8576b"
             ],
             [
              0.6666666666666666,
              "#ed7953"
             ],
             [
              0.7777777777777778,
              "#fb9f3a"
             ],
             [
              0.8888888888888888,
              "#fdca26"
             ],
             [
              1,
              "#f0f921"
             ]
            ],
            "type": "histogram2d"
           }
          ],
          "histogram2dcontour": [
           {
            "colorbar": {
             "outlinewidth": 0,
             "ticks": ""
            },
            "colorscale": [
             [
              0,
              "#0d0887"
             ],
             [
              0.1111111111111111,
              "#46039f"
             ],
             [
              0.2222222222222222,
              "#7201a8"
             ],
             [
              0.3333333333333333,
              "#9c179e"
             ],
             [
              0.4444444444444444,
              "#bd3786"
             ],
             [
              0.5555555555555556,
              "#d8576b"
             ],
             [
              0.6666666666666666,
              "#ed7953"
             ],
             [
              0.7777777777777778,
              "#fb9f3a"
             ],
             [
              0.8888888888888888,
              "#fdca26"
             ],
             [
              1,
              "#f0f921"
             ]
            ],
            "type": "histogram2dcontour"
           }
          ],
          "mesh3d": [
           {
            "colorbar": {
             "outlinewidth": 0,
             "ticks": ""
            },
            "type": "mesh3d"
           }
          ],
          "parcoords": [
           {
            "line": {
             "colorbar": {
              "outlinewidth": 0,
              "ticks": ""
             }
            },
            "type": "parcoords"
           }
          ],
          "pie": [
           {
            "automargin": true,
            "type": "pie"
           }
          ],
          "scatter": [
           {
            "fillpattern": {
             "fillmode": "overlay",
             "size": 10,
             "solidity": 0.2
            },
            "type": "scatter"
           }
          ],
          "scatter3d": [
           {
            "line": {
             "colorbar": {
              "outlinewidth": 0,
              "ticks": ""
             }
            },
            "marker": {
             "colorbar": {
              "outlinewidth": 0,
              "ticks": ""
             }
            },
            "type": "scatter3d"
           }
          ],
          "scattercarpet": [
           {
            "marker": {
             "colorbar": {
              "outlinewidth": 0,
              "ticks": ""
             }
            },
            "type": "scattercarpet"
           }
          ],
          "scattergeo": [
           {
            "marker": {
             "colorbar": {
              "outlinewidth": 0,
              "ticks": ""
             }
            },
            "type": "scattergeo"
           }
          ],
          "scattergl": [
           {
            "marker": {
             "colorbar": {
              "outlinewidth": 0,
              "ticks": ""
             }
            },
            "type": "scattergl"
           }
          ],
          "scattermap": [
           {
            "marker": {
             "colorbar": {
              "outlinewidth": 0,
              "ticks": ""
             }
            },
            "type": "scattermap"
           }
          ],
          "scattermapbox": [
           {
            "marker": {
             "colorbar": {
              "outlinewidth": 0,
              "ticks": ""
             }
            },
            "type": "scattermapbox"
           }
          ],
          "scatterpolar": [
           {
            "marker": {
             "colorbar": {
              "outlinewidth": 0,
              "ticks": ""
             }
            },
            "type": "scatterpolar"
           }
          ],
          "scatterpolargl": [
           {
            "marker": {
             "colorbar": {
              "outlinewidth": 0,
              "ticks": ""
             }
            },
            "type": "scatterpolargl"
           }
          ],
          "scatterternary": [
           {
            "marker": {
             "colorbar": {
              "outlinewidth": 0,
              "ticks": ""
             }
            },
            "type": "scatterternary"
           }
          ],
          "surface": [
           {
            "colorbar": {
             "outlinewidth": 0,
             "ticks": ""
            },
            "colorscale": [
             [
              0,
              "#0d0887"
             ],
             [
              0.1111111111111111,
              "#46039f"
             ],
             [
              0.2222222222222222,
              "#7201a8"
             ],
             [
              0.3333333333333333,
              "#9c179e"
             ],
             [
              0.4444444444444444,
              "#bd3786"
             ],
             [
              0.5555555555555556,
              "#d8576b"
             ],
             [
              0.6666666666666666,
              "#ed7953"
             ],
             [
              0.7777777777777778,
              "#fb9f3a"
             ],
             [
              0.8888888888888888,
              "#fdca26"
             ],
             [
              1,
              "#f0f921"
             ]
            ],
            "type": "surface"
           }
          ],
          "table": [
           {
            "cells": {
             "fill": {
              "color": "#EBF0F8"
             },
             "line": {
              "color": "white"
             }
            },
            "header": {
             "fill": {
              "color": "#C8D4E3"
             },
             "line": {
              "color": "white"
             }
            },
            "type": "table"
           }
          ]
         },
         "layout": {
          "annotationdefaults": {
           "arrowcolor": "#2a3f5f",
           "arrowhead": 0,
           "arrowwidth": 1
          },
          "autotypenumbers": "strict",
          "coloraxis": {
           "colorbar": {
            "outlinewidth": 0,
            "ticks": ""
           }
          },
          "colorscale": {
           "diverging": [
            [
             0,
             "#8e0152"
            ],
            [
             0.1,
             "#c51b7d"
            ],
            [
             0.2,
             "#de77ae"
            ],
            [
             0.3,
             "#f1b6da"
            ],
            [
             0.4,
             "#fde0ef"
            ],
            [
             0.5,
             "#f7f7f7"
            ],
            [
             0.6,
             "#e6f5d0"
            ],
            [
             0.7,
             "#b8e186"
            ],
            [
             0.8,
             "#7fbc41"
            ],
            [
             0.9,
             "#4d9221"
            ],
            [
             1,
             "#276419"
            ]
           ],
           "sequential": [
            [
             0,
             "#0d0887"
            ],
            [
             0.1111111111111111,
             "#46039f"
            ],
            [
             0.2222222222222222,
             "#7201a8"
            ],
            [
             0.3333333333333333,
             "#9c179e"
            ],
            [
             0.4444444444444444,
             "#bd3786"
            ],
            [
             0.5555555555555556,
             "#d8576b"
            ],
            [
             0.6666666666666666,
             "#ed7953"
            ],
            [
             0.7777777777777778,
             "#fb9f3a"
            ],
            [
             0.8888888888888888,
             "#fdca26"
            ],
            [
             1,
             "#f0f921"
            ]
           ],
           "sequentialminus": [
            [
             0,
             "#0d0887"
            ],
            [
             0.1111111111111111,
             "#46039f"
            ],
            [
             0.2222222222222222,
             "#7201a8"
            ],
            [
             0.3333333333333333,
             "#9c179e"
            ],
            [
             0.4444444444444444,
             "#bd3786"
            ],
            [
             0.5555555555555556,
             "#d8576b"
            ],
            [
             0.6666666666666666,
             "#ed7953"
            ],
            [
             0.7777777777777778,
             "#fb9f3a"
            ],
            [
             0.8888888888888888,
             "#fdca26"
            ],
            [
             1,
             "#f0f921"
            ]
           ]
          },
          "colorway": [
           "#636efa",
           "#EF553B",
           "#00cc96",
           "#ab63fa",
           "#FFA15A",
           "#19d3f3",
           "#FF6692",
           "#B6E880",
           "#FF97FF",
           "#FECB52"
          ],
          "font": {
           "color": "#2a3f5f"
          },
          "geo": {
           "bgcolor": "white",
           "lakecolor": "white",
           "landcolor": "#E5ECF6",
           "showlakes": true,
           "showland": true,
           "subunitcolor": "white"
          },
          "hoverlabel": {
           "align": "left"
          },
          "hovermode": "closest",
          "mapbox": {
           "style": "light"
          },
          "paper_bgcolor": "white",
          "plot_bgcolor": "#E5ECF6",
          "polar": {
           "angularaxis": {
            "gridcolor": "white",
            "linecolor": "white",
            "ticks": ""
           },
           "bgcolor": "#E5ECF6",
           "radialaxis": {
            "gridcolor": "white",
            "linecolor": "white",
            "ticks": ""
           }
          },
          "scene": {
           "xaxis": {
            "backgroundcolor": "#E5ECF6",
            "gridcolor": "white",
            "gridwidth": 2,
            "linecolor": "white",
            "showbackground": true,
            "ticks": "",
            "zerolinecolor": "white"
           },
           "yaxis": {
            "backgroundcolor": "#E5ECF6",
            "gridcolor": "white",
            "gridwidth": 2,
            "linecolor": "white",
            "showbackground": true,
            "ticks": "",
            "zerolinecolor": "white"
           },
           "zaxis": {
            "backgroundcolor": "#E5ECF6",
            "gridcolor": "white",
            "gridwidth": 2,
            "linecolor": "white",
            "showbackground": true,
            "ticks": "",
            "zerolinecolor": "white"
           }
          },
          "shapedefaults": {
           "line": {
            "color": "#2a3f5f"
           }
          },
          "ternary": {
           "aaxis": {
            "gridcolor": "white",
            "linecolor": "white",
            "ticks": ""
           },
           "baxis": {
            "gridcolor": "white",
            "linecolor": "white",
            "ticks": ""
           },
           "bgcolor": "#E5ECF6",
           "caxis": {
            "gridcolor": "white",
            "linecolor": "white",
            "ticks": ""
           }
          },
          "title": {
           "x": 0.05
          },
          "xaxis": {
           "automargin": true,
           "gridcolor": "white",
           "linecolor": "white",
           "ticks": "",
           "title": {
            "standoff": 15
           },
           "zerolinecolor": "white",
           "zerolinewidth": 2
          },
          "yaxis": {
           "automargin": true,
           "gridcolor": "white",
           "linecolor": "white",
           "ticks": "",
           "title": {
            "standoff": 15
           },
           "zerolinecolor": "white",
           "zerolinewidth": 2
          }
         }
        },
        "title": {
         "text": "Número de Registros por Estado"
        },
        "xaxis": {
         "anchor": "y",
         "domain": [
          0,
          1
         ],
         "title": {
          "text": "Estado"
         }
        },
        "yaxis": {
         "anchor": "x",
         "domain": [
          0,
          1
         ],
         "title": {
          "text": "Número de Registros"
         }
        }
       }
      }
     },
     "metadata": {},
     "output_type": "display_data"
    },
    {
     "data": {
      "application/vnd.plotly.v1+json": {
       "config": {
        "plotlyServerURL": "https://plot.ly"
       },
       "data": [
        {
         "hovertemplate": "Cidade=%{x}<br>Número de Registros=%{marker.color}<extra></extra>",
         "legendgroup": "",
         "marker": {
          "color": {
           "bdata": "IgEEAfAA4wDeANgA1gDMAMEAwAA=",
           "dtype": "i2"
          },
          "coloraxis": "coloraxis",
          "line": {
           "color": "black",
           "width": 1
          },
          "pattern": {
           "shape": ""
          }
         },
         "name": "",
         "orientation": "v",
         "showlegend": false,
         "textposition": "inside",
         "texttemplate": "%{y}",
         "type": "bar",
         "x": [
          "Brasília",
          "Feira de Santana",
          "Vitória",
          "Curitiba",
          "Palmas",
          "Ananindeua",
          "Itacoatiara",
          "São Luís",
          "Araguaína",
          "Caxias do Sul"
         ],
         "xaxis": "x",
         "y": {
          "bdata": "IgEEAfAA4wDeANgA1gDMAMEAwAA=",
          "dtype": "i2"
         },
         "yaxis": "y"
        }
       ],
       "layout": {
        "barmode": "relative",
        "coloraxis": {
         "colorbar": {
          "title": {
           "text": "Número de Registros"
          }
         },
         "colorscale": [
          [
           0,
           "rgb(247,252,245)"
          ],
          [
           0.125,
           "rgb(229,245,224)"
          ],
          [
           0.25,
           "rgb(199,233,192)"
          ],
          [
           0.375,
           "rgb(161,217,155)"
          ],
          [
           0.5,
           "rgb(116,196,118)"
          ],
          [
           0.625,
           "rgb(65,171,93)"
          ],
          [
           0.75,
           "rgb(35,139,69)"
          ],
          [
           0.875,
           "rgb(0,109,44)"
          ],
          [
           1,
           "rgb(0,68,27)"
          ]
         ]
        },
        "legend": {
         "tracegroupgap": 0
        },
        "showlegend": false,
        "template": {
         "data": {
          "bar": [
           {
            "error_x": {
             "color": "#2a3f5f"
            },
            "error_y": {
             "color": "#2a3f5f"
            },
            "marker": {
             "line": {
              "color": "#E5ECF6",
              "width": 0.5
             },
             "pattern": {
              "fillmode": "overlay",
              "size": 10,
              "solidity": 0.2
             }
            },
            "type": "bar"
           }
          ],
          "barpolar": [
           {
            "marker": {
             "line": {
              "color": "#E5ECF6",
              "width": 0.5
             },
             "pattern": {
              "fillmode": "overlay",
              "size": 10,
              "solidity": 0.2
             }
            },
            "type": "barpolar"
           }
          ],
          "carpet": [
           {
            "aaxis": {
             "endlinecolor": "#2a3f5f",
             "gridcolor": "white",
             "linecolor": "white",
             "minorgridcolor": "white",
             "startlinecolor": "#2a3f5f"
            },
            "baxis": {
             "endlinecolor": "#2a3f5f",
             "gridcolor": "white",
             "linecolor": "white",
             "minorgridcolor": "white",
             "startlinecolor": "#2a3f5f"
            },
            "type": "carpet"
           }
          ],
          "choropleth": [
           {
            "colorbar": {
             "outlinewidth": 0,
             "ticks": ""
            },
            "type": "choropleth"
           }
          ],
          "contour": [
           {
            "colorbar": {
             "outlinewidth": 0,
             "ticks": ""
            },
            "colorscale": [
             [
              0,
              "#0d0887"
             ],
             [
              0.1111111111111111,
              "#46039f"
             ],
             [
              0.2222222222222222,
              "#7201a8"
             ],
             [
              0.3333333333333333,
              "#9c179e"
             ],
             [
              0.4444444444444444,
              "#bd3786"
             ],
             [
              0.5555555555555556,
              "#d8576b"
             ],
             [
              0.6666666666666666,
              "#ed7953"
             ],
             [
              0.7777777777777778,
              "#fb9f3a"
             ],
             [
              0.8888888888888888,
              "#fdca26"
             ],
             [
              1,
              "#f0f921"
             ]
            ],
            "type": "contour"
           }
          ],
          "contourcarpet": [
           {
            "colorbar": {
             "outlinewidth": 0,
             "ticks": ""
            },
            "type": "contourcarpet"
           }
          ],
          "heatmap": [
           {
            "colorbar": {
             "outlinewidth": 0,
             "ticks": ""
            },
            "colorscale": [
             [
              0,
              "#0d0887"
             ],
             [
              0.1111111111111111,
              "#46039f"
             ],
             [
              0.2222222222222222,
              "#7201a8"
             ],
             [
              0.3333333333333333,
              "#9c179e"
             ],
             [
              0.4444444444444444,
              "#bd3786"
             ],
             [
              0.5555555555555556,
              "#d8576b"
             ],
             [
              0.6666666666666666,
              "#ed7953"
             ],
             [
              0.7777777777777778,
              "#fb9f3a"
             ],
             [
              0.8888888888888888,
              "#fdca26"
             ],
             [
              1,
              "#f0f921"
             ]
            ],
            "type": "heatmap"
           }
          ],
          "histogram": [
           {
            "marker": {
             "pattern": {
              "fillmode": "overlay",
              "size": 10,
              "solidity": 0.2
             }
            },
            "type": "histogram"
           }
          ],
          "histogram2d": [
           {
            "colorbar": {
             "outlinewidth": 0,
             "ticks": ""
            },
            "colorscale": [
             [
              0,
              "#0d0887"
             ],
             [
              0.1111111111111111,
              "#46039f"
             ],
             [
              0.2222222222222222,
              "#7201a8"
             ],
             [
              0.3333333333333333,
              "#9c179e"
             ],
             [
              0.4444444444444444,
              "#bd3786"
             ],
             [
              0.5555555555555556,
              "#d8576b"
             ],
             [
              0.6666666666666666,
              "#ed7953"
             ],
             [
              0.7777777777777778,
              "#fb9f3a"
             ],
             [
              0.8888888888888888,
              "#fdca26"
             ],
             [
              1,
              "#f0f921"
             ]
            ],
            "type": "histogram2d"
           }
          ],
          "histogram2dcontour": [
           {
            "colorbar": {
             "outlinewidth": 0,
             "ticks": ""
            },
            "colorscale": [
             [
              0,
              "#0d0887"
             ],
             [
              0.1111111111111111,
              "#46039f"
             ],
             [
              0.2222222222222222,
              "#7201a8"
             ],
             [
              0.3333333333333333,
              "#9c179e"
             ],
             [
              0.4444444444444444,
              "#bd3786"
             ],
             [
              0.5555555555555556,
              "#d8576b"
             ],
             [
              0.6666666666666666,
              "#ed7953"
             ],
             [
              0.7777777777777778,
              "#fb9f3a"
             ],
             [
              0.8888888888888888,
              "#fdca26"
             ],
             [
              1,
              "#f0f921"
             ]
            ],
            "type": "histogram2dcontour"
           }
          ],
          "mesh3d": [
           {
            "colorbar": {
             "outlinewidth": 0,
             "ticks": ""
            },
            "type": "mesh3d"
           }
          ],
          "parcoords": [
           {
            "line": {
             "colorbar": {
              "outlinewidth": 0,
              "ticks": ""
             }
            },
            "type": "parcoords"
           }
          ],
          "pie": [
           {
            "automargin": true,
            "type": "pie"
           }
          ],
          "scatter": [
           {
            "fillpattern": {
             "fillmode": "overlay",
             "size": 10,
             "solidity": 0.2
            },
            "type": "scatter"
           }
          ],
          "scatter3d": [
           {
            "line": {
             "colorbar": {
              "outlinewidth": 0,
              "ticks": ""
             }
            },
            "marker": {
             "colorbar": {
              "outlinewidth": 0,
              "ticks": ""
             }
            },
            "type": "scatter3d"
           }
          ],
          "scattercarpet": [
           {
            "marker": {
             "colorbar": {
              "outlinewidth": 0,
              "ticks": ""
             }
            },
            "type": "scattercarpet"
           }
          ],
          "scattergeo": [
           {
            "marker": {
             "colorbar": {
              "outlinewidth": 0,
              "ticks": ""
             }
            },
            "type": "scattergeo"
           }
          ],
          "scattergl": [
           {
            "marker": {
             "colorbar": {
              "outlinewidth": 0,
              "ticks": ""
             }
            },
            "type": "scattergl"
           }
          ],
          "scattermap": [
           {
            "marker": {
             "colorbar": {
              "outlinewidth": 0,
              "ticks": ""
             }
            },
            "type": "scattermap"
           }
          ],
          "scattermapbox": [
           {
            "marker": {
             "colorbar": {
              "outlinewidth": 0,
              "ticks": ""
             }
            },
            "type": "scattermapbox"
           }
          ],
          "scatterpolar": [
           {
            "marker": {
             "colorbar": {
              "outlinewidth": 0,
              "ticks": ""
             }
            },
            "type": "scatterpolar"
           }
          ],
          "scatterpolargl": [
           {
            "marker": {
             "colorbar": {
              "outlinewidth": 0,
              "ticks": ""
             }
            },
            "type": "scatterpolargl"
           }
          ],
          "scatterternary": [
           {
            "marker": {
             "colorbar": {
              "outlinewidth": 0,
              "ticks": ""
             }
            },
            "type": "scatterternary"
           }
          ],
          "surface": [
           {
            "colorbar": {
             "outlinewidth": 0,
             "ticks": ""
            },
            "colorscale": [
             [
              0,
              "#0d0887"
             ],
             [
              0.1111111111111111,
              "#46039f"
             ],
             [
              0.2222222222222222,
              "#7201a8"
             ],
             [
              0.3333333333333333,
              "#9c179e"
             ],
             [
              0.4444444444444444,
              "#bd3786"
             ],
             [
              0.5555555555555556,
              "#d8576b"
             ],
             [
              0.6666666666666666,
              "#ed7953"
             ],
             [
              0.7777777777777778,
              "#fb9f3a"
             ],
             [
              0.8888888888888888,
              "#fdca26"
             ],
             [
              1,
              "#f0f921"
             ]
            ],
            "type": "surface"
           }
          ],
          "table": [
           {
            "cells": {
             "fill": {
              "color": "#EBF0F8"
             },
             "line": {
              "color": "white"
             }
            },
            "header": {
             "fill": {
              "color": "#C8D4E3"
             },
             "line": {
              "color": "white"
             }
            },
            "type": "table"
           }
          ]
         },
         "layout": {
          "annotationdefaults": {
           "arrowcolor": "#2a3f5f",
           "arrowhead": 0,
           "arrowwidth": 1
          },
          "autotypenumbers": "strict",
          "coloraxis": {
           "colorbar": {
            "outlinewidth": 0,
            "ticks": ""
           }
          },
          "colorscale": {
           "diverging": [
            [
             0,
             "#8e0152"
            ],
            [
             0.1,
             "#c51b7d"
            ],
            [
             0.2,
             "#de77ae"
            ],
            [
             0.3,
             "#f1b6da"
            ],
            [
             0.4,
             "#fde0ef"
            ],
            [
             0.5,
             "#f7f7f7"
            ],
            [
             0.6,
             "#e6f5d0"
            ],
            [
             0.7,
             "#b8e186"
            ],
            [
             0.8,
             "#7fbc41"
            ],
            [
             0.9,
             "#4d9221"
            ],
            [
             1,
             "#276419"
            ]
           ],
           "sequential": [
            [
             0,
             "#0d0887"
            ],
            [
             0.1111111111111111,
             "#46039f"
            ],
            [
             0.2222222222222222,
             "#7201a8"
            ],
            [
             0.3333333333333333,
             "#9c179e"
            ],
            [
             0.4444444444444444,
             "#bd3786"
            ],
            [
             0.5555555555555556,
             "#d8576b"
            ],
            [
             0.6666666666666666,
             "#ed7953"
            ],
            [
             0.7777777777777778,
             "#fb9f3a"
            ],
            [
             0.8888888888888888,
             "#fdca26"
            ],
            [
             1,
             "#f0f921"
            ]
           ],
           "sequentialminus": [
            [
             0,
             "#0d0887"
            ],
            [
             0.1111111111111111,
             "#46039f"
            ],
            [
             0.2222222222222222,
             "#7201a8"
            ],
            [
             0.3333333333333333,
             "#9c179e"
            ],
            [
             0.4444444444444444,
             "#bd3786"
            ],
            [
             0.5555555555555556,
             "#d8576b"
            ],
            [
             0.6666666666666666,
             "#ed7953"
            ],
            [
             0.7777777777777778,
             "#fb9f3a"
            ],
            [
             0.8888888888888888,
             "#fdca26"
            ],
            [
             1,
             "#f0f921"
            ]
           ]
          },
          "colorway": [
           "#636efa",
           "#EF553B",
           "#00cc96",
           "#ab63fa",
           "#FFA15A",
           "#19d3f3",
           "#FF6692",
           "#B6E880",
           "#FF97FF",
           "#FECB52"
          ],
          "font": {
           "color": "#2a3f5f"
          },
          "geo": {
           "bgcolor": "white",
           "lakecolor": "white",
           "landcolor": "#E5ECF6",
           "showlakes": true,
           "showland": true,
           "subunitcolor": "white"
          },
          "hoverlabel": {
           "align": "left"
          },
          "hovermode": "closest",
          "mapbox": {
           "style": "light"
          },
          "paper_bgcolor": "white",
          "plot_bgcolor": "#E5ECF6",
          "polar": {
           "angularaxis": {
            "gridcolor": "white",
            "linecolor": "white",
            "ticks": ""
           },
           "bgcolor": "#E5ECF6",
           "radialaxis": {
            "gridcolor": "white",
            "linecolor": "white",
            "ticks": ""
           }
          },
          "scene": {
           "xaxis": {
            "backgroundcolor": "#E5ECF6",
            "gridcolor": "white",
            "gridwidth": 2,
            "linecolor": "white",
            "showbackground": true,
            "ticks": "",
            "zerolinecolor": "white"
           },
           "yaxis": {
            "backgroundcolor": "#E5ECF6",
            "gridcolor": "white",
            "gridwidth": 2,
            "linecolor": "white",
            "showbackground": true,
            "ticks": "",
            "zerolinecolor": "white"
           },
           "zaxis": {
            "backgroundcolor": "#E5ECF6",
            "gridcolor": "white",
            "gridwidth": 2,
            "linecolor": "white",
            "showbackground": true,
            "ticks": "",
            "zerolinecolor": "white"
           }
          },
          "shapedefaults": {
           "line": {
            "color": "#2a3f5f"
           }
          },
          "ternary": {
           "aaxis": {
            "gridcolor": "white",
            "linecolor": "white",
            "ticks": ""
           },
           "baxis": {
            "gridcolor": "white",
            "linecolor": "white",
            "ticks": ""
           },
           "bgcolor": "#E5ECF6",
           "caxis": {
            "gridcolor": "white",
            "linecolor": "white",
            "ticks": ""
           }
          },
          "title": {
           "x": 0.05
          },
          "xaxis": {
           "automargin": true,
           "gridcolor": "white",
           "linecolor": "white",
           "ticks": "",
           "title": {
            "standoff": 15
           },
           "zerolinecolor": "white",
           "zerolinewidth": 2
          },
          "yaxis": {
           "automargin": true,
           "gridcolor": "white",
           "linecolor": "white",
           "ticks": "",
           "title": {
            "standoff": 15
           },
           "zerolinecolor": "white",
           "zerolinewidth": 2
          }
         }
        },
        "title": {
         "text": "Número de Registros por Cidade"
        },
        "xaxis": {
         "anchor": "y",
         "domain": [
          0,
          1
         ],
         "title": {
          "text": "Cidade"
         }
        },
        "yaxis": {
         "anchor": "x",
         "domain": [
          0,
          1
         ],
         "title": {
          "text": "Número de Registros"
         }
        }
       }
      }
     },
     "metadata": {},
     "output_type": "display_data"
    }
   ],
   "source": [
    "# Gráfico para Estados\n",
    "fig1 = px.bar(top_10_estados,\n",
    "              x='estado',\n",
    "              y='quantidade_registros',\n",
    "              title='Número de Registros por Estado',\n",
    "              labels={'quantidade_registros': 'Número de Registros', 'estado': 'Estado'},\n",
    "              color='quantidade_registros',\n",
    "              color_continuous_scale='blues')\n",
    "\n",
    "fig1.update_traces(texttemplate='%{y}', textposition='inside', marker=dict(line=dict(color='black', width=1)))\n",
    "fig1.update_layout(showlegend=False)  # Remover a legenda\n",
    "fig1.show()\n",
    "\n",
    "# Gráfico para Cidades\n",
    "fig2 = px.bar(top_10_cidade,\n",
    "              x='cidade',\n",
    "              y='quantidade_registros',\n",
    "              title='Número de Registros por Cidade',\n",
    "              labels={'quantidade_registros': 'Número de Registros', 'cidade': 'Cidade'},\n",
    "              color='quantidade_registros',\n",
    "              color_continuous_scale='greens')\n",
    "\n",
    "fig2.update_traces(texttemplate='%{y}', textposition='inside', marker=dict(line=dict(color='black', width=1)))\n",
    "fig2.update_layout(showlegend=False)  # Remover a legenda\n",
    "fig2.show()"
   ]
  },
  {
   "cell_type": "markdown",
   "metadata": {},
   "source": [
    "**Notas**\n",
    "\n",
    "O gráfico superior mostra os 10 estados com o maior número de transações, enquanto o gráfico inferior exibe as 10 cidades com o maior volume de registros. Ambos os gráficos estão organizados de forma decrescente, proporcionando uma visualização clara das regiões com maior concentração de transações, facilitando a análise das áreas de maior atividade.\n"
   ]
  },
  {
   "cell_type": "markdown",
   "metadata": {},
   "source": [
    "# 2 - Como as transações são distribuídas ao longo do tempo (por mês/ano)?\n",
    "\n",
    "Dois gráficos serão gerados para esta análise. Conforme discutido anteriormente, há indícios de que o primeiro e o último mês podem ser considerados outliers, potencialmente distorcendo a análise das transações ao longo do tempo. A abordagem escolhida consiste em plotar ambos os gráficos — um que inclui todos os meses e outro que exclui os meses extremos — para comparar as diferenças entre eles. Dessa forma, será possível avaliar o impacto desses valores e tirar conclusões sobre o comportamento dos dados."
   ]
  },
  {
   "cell_type": "code",
   "execution_count": 330,
   "metadata": {},
   "outputs": [
    {
     "data": {
      "application/vnd.plotly.v1+json": {
       "config": {
        "plotlyServerURL": "https://plot.ly"
       },
       "data": [
        {
         "hovertemplate": "Mês/Ano=%{x}<br>Número de Transações=%{y}<extra></extra>",
         "legendgroup": "",
         "line": {
          "color": "#636efa",
          "dash": "solid"
         },
         "marker": {
          "symbol": "circle"
         },
         "mode": "lines+markers",
         "name": "",
         "orientation": "v",
         "showlegend": false,
         "type": "scatter",
         "x": [
          "2023-02-01T00:00:00.000000000",
          "2023-03-01T00:00:00.000000000",
          "2023-04-01T00:00:00.000000000",
          "2023-05-01T00:00:00.000000000",
          "2023-06-01T00:00:00.000000000",
          "2023-07-01T00:00:00.000000000",
          "2023-08-01T00:00:00.000000000",
          "2023-09-01T00:00:00.000000000",
          "2023-10-01T00:00:00.000000000",
          "2023-11-01T00:00:00.000000000",
          "2023-12-01T00:00:00.000000000",
          "2024-01-01T00:00:00.000000000",
          "2024-02-01T00:00:00.000000000",
          "2024-03-01T00:00:00.000000000",
          "2024-04-01T00:00:00.000000000",
          "2024-05-01T00:00:00.000000000",
          "2024-06-01T00:00:00.000000000",
          "2024-07-01T00:00:00.000000000",
          "2024-08-01T00:00:00.000000000",
          "2024-09-01T00:00:00.000000000",
          "2024-10-01T00:00:00.000000000",
          "2024-11-01T00:00:00.000000000",
          "2024-12-01T00:00:00.000000000",
          "2025-01-01T00:00:00.000000000",
          "2025-02-01T00:00:00.000000000"
         ],
         "xaxis": "x",
         "y": {
          "bdata": "4ACcAcAB0gGWAc0B4AGWAbcBowGWAa0BlQG5Aa8B3AG2AakBtwGwAbYBoAG8AcsBsQA=",
          "dtype": "i2"
         },
         "yaxis": "y"
        }
       ],
       "layout": {
        "annotations": [
         {
          "showarrow": false,
          "text": "Média: 416.68",
          "x": 0,
          "xanchor": "left",
          "xref": "x domain",
          "y": 416.68,
          "yanchor": "bottom",
          "yref": "y"
         }
        ],
        "legend": {
         "tracegroupgap": 0
        },
        "shapes": [
         {
          "line": {
           "color": "red",
           "dash": "dot"
          },
          "type": "line",
          "x0": 0,
          "x1": 1,
          "xref": "x domain",
          "y0": 416.68,
          "y1": 416.68,
          "yref": "y"
         }
        ],
        "template": {
         "data": {
          "bar": [
           {
            "error_x": {
             "color": "#2a3f5f"
            },
            "error_y": {
             "color": "#2a3f5f"
            },
            "marker": {
             "line": {
              "color": "#E5ECF6",
              "width": 0.5
             },
             "pattern": {
              "fillmode": "overlay",
              "size": 10,
              "solidity": 0.2
             }
            },
            "type": "bar"
           }
          ],
          "barpolar": [
           {
            "marker": {
             "line": {
              "color": "#E5ECF6",
              "width": 0.5
             },
             "pattern": {
              "fillmode": "overlay",
              "size": 10,
              "solidity": 0.2
             }
            },
            "type": "barpolar"
           }
          ],
          "carpet": [
           {
            "aaxis": {
             "endlinecolor": "#2a3f5f",
             "gridcolor": "white",
             "linecolor": "white",
             "minorgridcolor": "white",
             "startlinecolor": "#2a3f5f"
            },
            "baxis": {
             "endlinecolor": "#2a3f5f",
             "gridcolor": "white",
             "linecolor": "white",
             "minorgridcolor": "white",
             "startlinecolor": "#2a3f5f"
            },
            "type": "carpet"
           }
          ],
          "choropleth": [
           {
            "colorbar": {
             "outlinewidth": 0,
             "ticks": ""
            },
            "type": "choropleth"
           }
          ],
          "contour": [
           {
            "colorbar": {
             "outlinewidth": 0,
             "ticks": ""
            },
            "colorscale": [
             [
              0,
              "#0d0887"
             ],
             [
              0.1111111111111111,
              "#46039f"
             ],
             [
              0.2222222222222222,
              "#7201a8"
             ],
             [
              0.3333333333333333,
              "#9c179e"
             ],
             [
              0.4444444444444444,
              "#bd3786"
             ],
             [
              0.5555555555555556,
              "#d8576b"
             ],
             [
              0.6666666666666666,
              "#ed7953"
             ],
             [
              0.7777777777777778,
              "#fb9f3a"
             ],
             [
              0.8888888888888888,
              "#fdca26"
             ],
             [
              1,
              "#f0f921"
             ]
            ],
            "type": "contour"
           }
          ],
          "contourcarpet": [
           {
            "colorbar": {
             "outlinewidth": 0,
             "ticks": ""
            },
            "type": "contourcarpet"
           }
          ],
          "heatmap": [
           {
            "colorbar": {
             "outlinewidth": 0,
             "ticks": ""
            },
            "colorscale": [
             [
              0,
              "#0d0887"
             ],
             [
              0.1111111111111111,
              "#46039f"
             ],
             [
              0.2222222222222222,
              "#7201a8"
             ],
             [
              0.3333333333333333,
              "#9c179e"
             ],
             [
              0.4444444444444444,
              "#bd3786"
             ],
             [
              0.5555555555555556,
              "#d8576b"
             ],
             [
              0.6666666666666666,
              "#ed7953"
             ],
             [
              0.7777777777777778,
              "#fb9f3a"
             ],
             [
              0.8888888888888888,
              "#fdca26"
             ],
             [
              1,
              "#f0f921"
             ]
            ],
            "type": "heatmap"
           }
          ],
          "histogram": [
           {
            "marker": {
             "pattern": {
              "fillmode": "overlay",
              "size": 10,
              "solidity": 0.2
             }
            },
            "type": "histogram"
           }
          ],
          "histogram2d": [
           {
            "colorbar": {
             "outlinewidth": 0,
             "ticks": ""
            },
            "colorscale": [
             [
              0,
              "#0d0887"
             ],
             [
              0.1111111111111111,
              "#46039f"
             ],
             [
              0.2222222222222222,
              "#7201a8"
             ],
             [
              0.3333333333333333,
              "#9c179e"
             ],
             [
              0.4444444444444444,
              "#bd3786"
             ],
             [
              0.5555555555555556,
              "#d8576b"
             ],
             [
              0.6666666666666666,
              "#ed7953"
             ],
             [
              0.7777777777777778,
              "#fb9f3a"
             ],
             [
              0.8888888888888888,
              "#fdca26"
             ],
             [
              1,
              "#f0f921"
             ]
            ],
            "type": "histogram2d"
           }
          ],
          "histogram2dcontour": [
           {
            "colorbar": {
             "outlinewidth": 0,
             "ticks": ""
            },
            "colorscale": [
             [
              0,
              "#0d0887"
             ],
             [
              0.1111111111111111,
              "#46039f"
             ],
             [
              0.2222222222222222,
              "#7201a8"
             ],
             [
              0.3333333333333333,
              "#9c179e"
             ],
             [
              0.4444444444444444,
              "#bd3786"
             ],
             [
              0.5555555555555556,
              "#d8576b"
             ],
             [
              0.6666666666666666,
              "#ed7953"
             ],
             [
              0.7777777777777778,
              "#fb9f3a"
             ],
             [
              0.8888888888888888,
              "#fdca26"
             ],
             [
              1,
              "#f0f921"
             ]
            ],
            "type": "histogram2dcontour"
           }
          ],
          "mesh3d": [
           {
            "colorbar": {
             "outlinewidth": 0,
             "ticks": ""
            },
            "type": "mesh3d"
           }
          ],
          "parcoords": [
           {
            "line": {
             "colorbar": {
              "outlinewidth": 0,
              "ticks": ""
             }
            },
            "type": "parcoords"
           }
          ],
          "pie": [
           {
            "automargin": true,
            "type": "pie"
           }
          ],
          "scatter": [
           {
            "fillpattern": {
             "fillmode": "overlay",
             "size": 10,
             "solidity": 0.2
            },
            "type": "scatter"
           }
          ],
          "scatter3d": [
           {
            "line": {
             "colorbar": {
              "outlinewidth": 0,
              "ticks": ""
             }
            },
            "marker": {
             "colorbar": {
              "outlinewidth": 0,
              "ticks": ""
             }
            },
            "type": "scatter3d"
           }
          ],
          "scattercarpet": [
           {
            "marker": {
             "colorbar": {
              "outlinewidth": 0,
              "ticks": ""
             }
            },
            "type": "scattercarpet"
           }
          ],
          "scattergeo": [
           {
            "marker": {
             "colorbar": {
              "outlinewidth": 0,
              "ticks": ""
             }
            },
            "type": "scattergeo"
           }
          ],
          "scattergl": [
           {
            "marker": {
             "colorbar": {
              "outlinewidth": 0,
              "ticks": ""
             }
            },
            "type": "scattergl"
           }
          ],
          "scattermap": [
           {
            "marker": {
             "colorbar": {
              "outlinewidth": 0,
              "ticks": ""
             }
            },
            "type": "scattermap"
           }
          ],
          "scattermapbox": [
           {
            "marker": {
             "colorbar": {
              "outlinewidth": 0,
              "ticks": ""
             }
            },
            "type": "scattermapbox"
           }
          ],
          "scatterpolar": [
           {
            "marker": {
             "colorbar": {
              "outlinewidth": 0,
              "ticks": ""
             }
            },
            "type": "scatterpolar"
           }
          ],
          "scatterpolargl": [
           {
            "marker": {
             "colorbar": {
              "outlinewidth": 0,
              "ticks": ""
             }
            },
            "type": "scatterpolargl"
           }
          ],
          "scatterternary": [
           {
            "marker": {
             "colorbar": {
              "outlinewidth": 0,
              "ticks": ""
             }
            },
            "type": "scatterternary"
           }
          ],
          "surface": [
           {
            "colorbar": {
             "outlinewidth": 0,
             "ticks": ""
            },
            "colorscale": [
             [
              0,
              "#0d0887"
             ],
             [
              0.1111111111111111,
              "#46039f"
             ],
             [
              0.2222222222222222,
              "#7201a8"
             ],
             [
              0.3333333333333333,
              "#9c179e"
             ],
             [
              0.4444444444444444,
              "#bd3786"
             ],
             [
              0.5555555555555556,
              "#d8576b"
             ],
             [
              0.6666666666666666,
              "#ed7953"
             ],
             [
              0.7777777777777778,
              "#fb9f3a"
             ],
             [
              0.8888888888888888,
              "#fdca26"
             ],
             [
              1,
              "#f0f921"
             ]
            ],
            "type": "surface"
           }
          ],
          "table": [
           {
            "cells": {
             "fill": {
              "color": "#EBF0F8"
             },
             "line": {
              "color": "white"
             }
            },
            "header": {
             "fill": {
              "color": "#C8D4E3"
             },
             "line": {
              "color": "white"
             }
            },
            "type": "table"
           }
          ]
         },
         "layout": {
          "annotationdefaults": {
           "arrowcolor": "#2a3f5f",
           "arrowhead": 0,
           "arrowwidth": 1
          },
          "autotypenumbers": "strict",
          "coloraxis": {
           "colorbar": {
            "outlinewidth": 0,
            "ticks": ""
           }
          },
          "colorscale": {
           "diverging": [
            [
             0,
             "#8e0152"
            ],
            [
             0.1,
             "#c51b7d"
            ],
            [
             0.2,
             "#de77ae"
            ],
            [
             0.3,
             "#f1b6da"
            ],
            [
             0.4,
             "#fde0ef"
            ],
            [
             0.5,
             "#f7f7f7"
            ],
            [
             0.6,
             "#e6f5d0"
            ],
            [
             0.7,
             "#b8e186"
            ],
            [
             0.8,
             "#7fbc41"
            ],
            [
             0.9,
             "#4d9221"
            ],
            [
             1,
             "#276419"
            ]
           ],
           "sequential": [
            [
             0,
             "#0d0887"
            ],
            [
             0.1111111111111111,
             "#46039f"
            ],
            [
             0.2222222222222222,
             "#7201a8"
            ],
            [
             0.3333333333333333,
             "#9c179e"
            ],
            [
             0.4444444444444444,
             "#bd3786"
            ],
            [
             0.5555555555555556,
             "#d8576b"
            ],
            [
             0.6666666666666666,
             "#ed7953"
            ],
            [
             0.7777777777777778,
             "#fb9f3a"
            ],
            [
             0.8888888888888888,
             "#fdca26"
            ],
            [
             1,
             "#f0f921"
            ]
           ],
           "sequentialminus": [
            [
             0,
             "#0d0887"
            ],
            [
             0.1111111111111111,
             "#46039f"
            ],
            [
             0.2222222222222222,
             "#7201a8"
            ],
            [
             0.3333333333333333,
             "#9c179e"
            ],
            [
             0.4444444444444444,
             "#bd3786"
            ],
            [
             0.5555555555555556,
             "#d8576b"
            ],
            [
             0.6666666666666666,
             "#ed7953"
            ],
            [
             0.7777777777777778,
             "#fb9f3a"
            ],
            [
             0.8888888888888888,
             "#fdca26"
            ],
            [
             1,
             "#f0f921"
            ]
           ]
          },
          "colorway": [
           "#636efa",
           "#EF553B",
           "#00cc96",
           "#ab63fa",
           "#FFA15A",
           "#19d3f3",
           "#FF6692",
           "#B6E880",
           "#FF97FF",
           "#FECB52"
          ],
          "font": {
           "color": "#2a3f5f"
          },
          "geo": {
           "bgcolor": "white",
           "lakecolor": "white",
           "landcolor": "#E5ECF6",
           "showlakes": true,
           "showland": true,
           "subunitcolor": "white"
          },
          "hoverlabel": {
           "align": "left"
          },
          "hovermode": "closest",
          "mapbox": {
           "style": "light"
          },
          "paper_bgcolor": "white",
          "plot_bgcolor": "#E5ECF6",
          "polar": {
           "angularaxis": {
            "gridcolor": "white",
            "linecolor": "white",
            "ticks": ""
           },
           "bgcolor": "#E5ECF6",
           "radialaxis": {
            "gridcolor": "white",
            "linecolor": "white",
            "ticks": ""
           }
          },
          "scene": {
           "xaxis": {
            "backgroundcolor": "#E5ECF6",
            "gridcolor": "white",
            "gridwidth": 2,
            "linecolor": "white",
            "showbackground": true,
            "ticks": "",
            "zerolinecolor": "white"
           },
           "yaxis": {
            "backgroundcolor": "#E5ECF6",
            "gridcolor": "white",
            "gridwidth": 2,
            "linecolor": "white",
            "showbackground": true,
            "ticks": "",
            "zerolinecolor": "white"
           },
           "zaxis": {
            "backgroundcolor": "#E5ECF6",
            "gridcolor": "white",
            "gridwidth": 2,
            "linecolor": "white",
            "showbackground": true,
            "ticks": "",
            "zerolinecolor": "white"
           }
          },
          "shapedefaults": {
           "line": {
            "color": "#2a3f5f"
           }
          },
          "ternary": {
           "aaxis": {
            "gridcolor": "white",
            "linecolor": "white",
            "ticks": ""
           },
           "baxis": {
            "gridcolor": "white",
            "linecolor": "white",
            "ticks": ""
           },
           "bgcolor": "#E5ECF6",
           "caxis": {
            "gridcolor": "white",
            "linecolor": "white",
            "ticks": ""
           }
          },
          "title": {
           "x": 0.05
          },
          "xaxis": {
           "automargin": true,
           "gridcolor": "white",
           "linecolor": "white",
           "ticks": "",
           "title": {
            "standoff": 15
           },
           "zerolinecolor": "white",
           "zerolinewidth": 2
          },
          "yaxis": {
           "automargin": true,
           "gridcolor": "white",
           "linecolor": "white",
           "ticks": "",
           "title": {
            "standoff": 15
           },
           "zerolinecolor": "white",
           "zerolinewidth": 2
          }
         }
        },
        "title": {
         "text": "Distribuição de Transações ao Longo do Tempo (Todos os Meses)"
        },
        "xaxis": {
         "anchor": "y",
         "domain": [
          0,
          1
         ],
         "tickformat": "%m/%Y",
         "title": {
          "text": "Mês/Ano"
         }
        },
        "yaxis": {
         "anchor": "x",
         "domain": [
          0,
          1
         ],
         "title": {
          "text": "Número de Transações"
         }
        }
       }
      }
     },
     "metadata": {},
     "output_type": "display_data"
    },
    {
     "data": {
      "application/vnd.plotly.v1+json": {
       "config": {
        "plotlyServerURL": "https://plot.ly"
       },
       "data": [
        {
         "hovertemplate": "Mês/Ano=%{x}<br>Número de Transações=%{y}<extra></extra>",
         "legendgroup": "",
         "line": {
          "color": "#636efa",
          "dash": "solid"
         },
         "marker": {
          "symbol": "circle"
         },
         "mode": "lines+markers",
         "name": "",
         "orientation": "v",
         "showlegend": false,
         "type": "scatter",
         "x": [
          "2023-03-01T00:00:00.000000000",
          "2023-04-01T00:00:00.000000000",
          "2023-05-01T00:00:00.000000000",
          "2023-06-01T00:00:00.000000000",
          "2023-07-01T00:00:00.000000000",
          "2023-08-01T00:00:00.000000000",
          "2023-09-01T00:00:00.000000000",
          "2023-10-01T00:00:00.000000000",
          "2023-11-01T00:00:00.000000000",
          "2023-12-01T00:00:00.000000000",
          "2024-01-01T00:00:00.000000000",
          "2024-02-01T00:00:00.000000000",
          "2024-03-01T00:00:00.000000000",
          "2024-04-01T00:00:00.000000000",
          "2024-05-01T00:00:00.000000000",
          "2024-06-01T00:00:00.000000000",
          "2024-07-01T00:00:00.000000000",
          "2024-08-01T00:00:00.000000000",
          "2024-09-01T00:00:00.000000000",
          "2024-10-01T00:00:00.000000000",
          "2024-11-01T00:00:00.000000000",
          "2024-12-01T00:00:00.000000000",
          "2025-01-01T00:00:00.000000000"
         ],
         "xaxis": "x",
         "y": {
          "bdata": "nAHAAdIBlgHNAeABlgG3AaMBlgGtAZUBuQGvAdwBtgGpAbcBsAG2AaABvAHLAQ==",
          "dtype": "i2"
         },
         "yaxis": "y"
        }
       ],
       "layout": {
        "annotations": [
         {
          "showarrow": false,
          "text": "Média: 435.48",
          "x": 0,
          "xanchor": "left",
          "xref": "x domain",
          "y": 435.4782608695652,
          "yanchor": "bottom",
          "yref": "y"
         }
        ],
        "legend": {
         "tracegroupgap": 0
        },
        "shapes": [
         {
          "line": {
           "color": "red",
           "dash": "dot"
          },
          "type": "line",
          "x0": 0,
          "x1": 1,
          "xref": "x domain",
          "y0": 435.4782608695652,
          "y1": 435.4782608695652,
          "yref": "y"
         }
        ],
        "template": {
         "data": {
          "bar": [
           {
            "error_x": {
             "color": "#2a3f5f"
            },
            "error_y": {
             "color": "#2a3f5f"
            },
            "marker": {
             "line": {
              "color": "#E5ECF6",
              "width": 0.5
             },
             "pattern": {
              "fillmode": "overlay",
              "size": 10,
              "solidity": 0.2
             }
            },
            "type": "bar"
           }
          ],
          "barpolar": [
           {
            "marker": {
             "line": {
              "color": "#E5ECF6",
              "width": 0.5
             },
             "pattern": {
              "fillmode": "overlay",
              "size": 10,
              "solidity": 0.2
             }
            },
            "type": "barpolar"
           }
          ],
          "carpet": [
           {
            "aaxis": {
             "endlinecolor": "#2a3f5f",
             "gridcolor": "white",
             "linecolor": "white",
             "minorgridcolor": "white",
             "startlinecolor": "#2a3f5f"
            },
            "baxis": {
             "endlinecolor": "#2a3f5f",
             "gridcolor": "white",
             "linecolor": "white",
             "minorgridcolor": "white",
             "startlinecolor": "#2a3f5f"
            },
            "type": "carpet"
           }
          ],
          "choropleth": [
           {
            "colorbar": {
             "outlinewidth": 0,
             "ticks": ""
            },
            "type": "choropleth"
           }
          ],
          "contour": [
           {
            "colorbar": {
             "outlinewidth": 0,
             "ticks": ""
            },
            "colorscale": [
             [
              0,
              "#0d0887"
             ],
             [
              0.1111111111111111,
              "#46039f"
             ],
             [
              0.2222222222222222,
              "#7201a8"
             ],
             [
              0.3333333333333333,
              "#9c179e"
             ],
             [
              0.4444444444444444,
              "#bd3786"
             ],
             [
              0.5555555555555556,
              "#d8576b"
             ],
             [
              0.6666666666666666,
              "#ed7953"
             ],
             [
              0.7777777777777778,
              "#fb9f3a"
             ],
             [
              0.8888888888888888,
              "#fdca26"
             ],
             [
              1,
              "#f0f921"
             ]
            ],
            "type": "contour"
           }
          ],
          "contourcarpet": [
           {
            "colorbar": {
             "outlinewidth": 0,
             "ticks": ""
            },
            "type": "contourcarpet"
           }
          ],
          "heatmap": [
           {
            "colorbar": {
             "outlinewidth": 0,
             "ticks": ""
            },
            "colorscale": [
             [
              0,
              "#0d0887"
             ],
             [
              0.1111111111111111,
              "#46039f"
             ],
             [
              0.2222222222222222,
              "#7201a8"
             ],
             [
              0.3333333333333333,
              "#9c179e"
             ],
             [
              0.4444444444444444,
              "#bd3786"
             ],
             [
              0.5555555555555556,
              "#d8576b"
             ],
             [
              0.6666666666666666,
              "#ed7953"
             ],
             [
              0.7777777777777778,
              "#fb9f3a"
             ],
             [
              0.8888888888888888,
              "#fdca26"
             ],
             [
              1,
              "#f0f921"
             ]
            ],
            "type": "heatmap"
           }
          ],
          "histogram": [
           {
            "marker": {
             "pattern": {
              "fillmode": "overlay",
              "size": 10,
              "solidity": 0.2
             }
            },
            "type": "histogram"
           }
          ],
          "histogram2d": [
           {
            "colorbar": {
             "outlinewidth": 0,
             "ticks": ""
            },
            "colorscale": [
             [
              0,
              "#0d0887"
             ],
             [
              0.1111111111111111,
              "#46039f"
             ],
             [
              0.2222222222222222,
              "#7201a8"
             ],
             [
              0.3333333333333333,
              "#9c179e"
             ],
             [
              0.4444444444444444,
              "#bd3786"
             ],
             [
              0.5555555555555556,
              "#d8576b"
             ],
             [
              0.6666666666666666,
              "#ed7953"
             ],
             [
              0.7777777777777778,
              "#fb9f3a"
             ],
             [
              0.8888888888888888,
              "#fdca26"
             ],
             [
              1,
              "#f0f921"
             ]
            ],
            "type": "histogram2d"
           }
          ],
          "histogram2dcontour": [
           {
            "colorbar": {
             "outlinewidth": 0,
             "ticks": ""
            },
            "colorscale": [
             [
              0,
              "#0d0887"
             ],
             [
              0.1111111111111111,
              "#46039f"
             ],
             [
              0.2222222222222222,
              "#7201a8"
             ],
             [
              0.3333333333333333,
              "#9c179e"
             ],
             [
              0.4444444444444444,
              "#bd3786"
             ],
             [
              0.5555555555555556,
              "#d8576b"
             ],
             [
              0.6666666666666666,
              "#ed7953"
             ],
             [
              0.7777777777777778,
              "#fb9f3a"
             ],
             [
              0.8888888888888888,
              "#fdca26"
             ],
             [
              1,
              "#f0f921"
             ]
            ],
            "type": "histogram2dcontour"
           }
          ],
          "mesh3d": [
           {
            "colorbar": {
             "outlinewidth": 0,
             "ticks": ""
            },
            "type": "mesh3d"
           }
          ],
          "parcoords": [
           {
            "line": {
             "colorbar": {
              "outlinewidth": 0,
              "ticks": ""
             }
            },
            "type": "parcoords"
           }
          ],
          "pie": [
           {
            "automargin": true,
            "type": "pie"
           }
          ],
          "scatter": [
           {
            "fillpattern": {
             "fillmode": "overlay",
             "size": 10,
             "solidity": 0.2
            },
            "type": "scatter"
           }
          ],
          "scatter3d": [
           {
            "line": {
             "colorbar": {
              "outlinewidth": 0,
              "ticks": ""
             }
            },
            "marker": {
             "colorbar": {
              "outlinewidth": 0,
              "ticks": ""
             }
            },
            "type": "scatter3d"
           }
          ],
          "scattercarpet": [
           {
            "marker": {
             "colorbar": {
              "outlinewidth": 0,
              "ticks": ""
             }
            },
            "type": "scattercarpet"
           }
          ],
          "scattergeo": [
           {
            "marker": {
             "colorbar": {
              "outlinewidth": 0,
              "ticks": ""
             }
            },
            "type": "scattergeo"
           }
          ],
          "scattergl": [
           {
            "marker": {
             "colorbar": {
              "outlinewidth": 0,
              "ticks": ""
             }
            },
            "type": "scattergl"
           }
          ],
          "scattermap": [
           {
            "marker": {
             "colorbar": {
              "outlinewidth": 0,
              "ticks": ""
             }
            },
            "type": "scattermap"
           }
          ],
          "scattermapbox": [
           {
            "marker": {
             "colorbar": {
              "outlinewidth": 0,
              "ticks": ""
             }
            },
            "type": "scattermapbox"
           }
          ],
          "scatterpolar": [
           {
            "marker": {
             "colorbar": {
              "outlinewidth": 0,
              "ticks": ""
             }
            },
            "type": "scatterpolar"
           }
          ],
          "scatterpolargl": [
           {
            "marker": {
             "colorbar": {
              "outlinewidth": 0,
              "ticks": ""
             }
            },
            "type": "scatterpolargl"
           }
          ],
          "scatterternary": [
           {
            "marker": {
             "colorbar": {
              "outlinewidth": 0,
              "ticks": ""
             }
            },
            "type": "scatterternary"
           }
          ],
          "surface": [
           {
            "colorbar": {
             "outlinewidth": 0,
             "ticks": ""
            },
            "colorscale": [
             [
              0,
              "#0d0887"
             ],
             [
              0.1111111111111111,
              "#46039f"
             ],
             [
              0.2222222222222222,
              "#7201a8"
             ],
             [
              0.3333333333333333,
              "#9c179e"
             ],
             [
              0.4444444444444444,
              "#bd3786"
             ],
             [
              0.5555555555555556,
              "#d8576b"
             ],
             [
              0.6666666666666666,
              "#ed7953"
             ],
             [
              0.7777777777777778,
              "#fb9f3a"
             ],
             [
              0.8888888888888888,
              "#fdca26"
             ],
             [
              1,
              "#f0f921"
             ]
            ],
            "type": "surface"
           }
          ],
          "table": [
           {
            "cells": {
             "fill": {
              "color": "#EBF0F8"
             },
             "line": {
              "color": "white"
             }
            },
            "header": {
             "fill": {
              "color": "#C8D4E3"
             },
             "line": {
              "color": "white"
             }
            },
            "type": "table"
           }
          ]
         },
         "layout": {
          "annotationdefaults": {
           "arrowcolor": "#2a3f5f",
           "arrowhead": 0,
           "arrowwidth": 1
          },
          "autotypenumbers": "strict",
          "coloraxis": {
           "colorbar": {
            "outlinewidth": 0,
            "ticks": ""
           }
          },
          "colorscale": {
           "diverging": [
            [
             0,
             "#8e0152"
            ],
            [
             0.1,
             "#c51b7d"
            ],
            [
             0.2,
             "#de77ae"
            ],
            [
             0.3,
             "#f1b6da"
            ],
            [
             0.4,
             "#fde0ef"
            ],
            [
             0.5,
             "#f7f7f7"
            ],
            [
             0.6,
             "#e6f5d0"
            ],
            [
             0.7,
             "#b8e186"
            ],
            [
             0.8,
             "#7fbc41"
            ],
            [
             0.9,
             "#4d9221"
            ],
            [
             1,
             "#276419"
            ]
           ],
           "sequential": [
            [
             0,
             "#0d0887"
            ],
            [
             0.1111111111111111,
             "#46039f"
            ],
            [
             0.2222222222222222,
             "#7201a8"
            ],
            [
             0.3333333333333333,
             "#9c179e"
            ],
            [
             0.4444444444444444,
             "#bd3786"
            ],
            [
             0.5555555555555556,
             "#d8576b"
            ],
            [
             0.6666666666666666,
             "#ed7953"
            ],
            [
             0.7777777777777778,
             "#fb9f3a"
            ],
            [
             0.8888888888888888,
             "#fdca26"
            ],
            [
             1,
             "#f0f921"
            ]
           ],
           "sequentialminus": [
            [
             0,
             "#0d0887"
            ],
            [
             0.1111111111111111,
             "#46039f"
            ],
            [
             0.2222222222222222,
             "#7201a8"
            ],
            [
             0.3333333333333333,
             "#9c179e"
            ],
            [
             0.4444444444444444,
             "#bd3786"
            ],
            [
             0.5555555555555556,
             "#d8576b"
            ],
            [
             0.6666666666666666,
             "#ed7953"
            ],
            [
             0.7777777777777778,
             "#fb9f3a"
            ],
            [
             0.8888888888888888,
             "#fdca26"
            ],
            [
             1,
             "#f0f921"
            ]
           ]
          },
          "colorway": [
           "#636efa",
           "#EF553B",
           "#00cc96",
           "#ab63fa",
           "#FFA15A",
           "#19d3f3",
           "#FF6692",
           "#B6E880",
           "#FF97FF",
           "#FECB52"
          ],
          "font": {
           "color": "#2a3f5f"
          },
          "geo": {
           "bgcolor": "white",
           "lakecolor": "white",
           "landcolor": "#E5ECF6",
           "showlakes": true,
           "showland": true,
           "subunitcolor": "white"
          },
          "hoverlabel": {
           "align": "left"
          },
          "hovermode": "closest",
          "mapbox": {
           "style": "light"
          },
          "paper_bgcolor": "white",
          "plot_bgcolor": "#E5ECF6",
          "polar": {
           "angularaxis": {
            "gridcolor": "white",
            "linecolor": "white",
            "ticks": ""
           },
           "bgcolor": "#E5ECF6",
           "radialaxis": {
            "gridcolor": "white",
            "linecolor": "white",
            "ticks": ""
           }
          },
          "scene": {
           "xaxis": {
            "backgroundcolor": "#E5ECF6",
            "gridcolor": "white",
            "gridwidth": 2,
            "linecolor": "white",
            "showbackground": true,
            "ticks": "",
            "zerolinecolor": "white"
           },
           "yaxis": {
            "backgroundcolor": "#E5ECF6",
            "gridcolor": "white",
            "gridwidth": 2,
            "linecolor": "white",
            "showbackground": true,
            "ticks": "",
            "zerolinecolor": "white"
           },
           "zaxis": {
            "backgroundcolor": "#E5ECF6",
            "gridcolor": "white",
            "gridwidth": 2,
            "linecolor": "white",
            "showbackground": true,
            "ticks": "",
            "zerolinecolor": "white"
           }
          },
          "shapedefaults": {
           "line": {
            "color": "#2a3f5f"
           }
          },
          "ternary": {
           "aaxis": {
            "gridcolor": "white",
            "linecolor": "white",
            "ticks": ""
           },
           "baxis": {
            "gridcolor": "white",
            "linecolor": "white",
            "ticks": ""
           },
           "bgcolor": "#E5ECF6",
           "caxis": {
            "gridcolor": "white",
            "linecolor": "white",
            "ticks": ""
           }
          },
          "title": {
           "x": 0.05
          },
          "xaxis": {
           "automargin": true,
           "gridcolor": "white",
           "linecolor": "white",
           "ticks": "",
           "title": {
            "standoff": 15
           },
           "zerolinecolor": "white",
           "zerolinewidth": 2
          },
          "yaxis": {
           "automargin": true,
           "gridcolor": "white",
           "linecolor": "white",
           "ticks": "",
           "title": {
            "standoff": 15
           },
           "zerolinecolor": "white",
           "zerolinewidth": 2
          }
         }
        },
        "title": {
         "text": "Distribuição de Transações ao Longo do Tempo (Excluindo 1º e Último Mês)"
        },
        "xaxis": {
         "anchor": "y",
         "domain": [
          0,
          1
         ],
         "tickformat": "%m/%Y",
         "title": {
          "text": "Mês/Ano"
         }
        },
        "yaxis": {
         "anchor": "x",
         "domain": [
          0,
          1
         ],
         "title": {
          "text": "Número de Transações"
         }
        }
       }
      }
     },
     "metadata": {},
     "output_type": "display_data"
    }
   ],
   "source": [
    "transacoes_por_mes = dados.groupby('data').size().reset_index(name='quantidade_transacoes')\n",
    "\n",
    "# Gráfico 1: Incluindo todos os meses\n",
    "media_transacoes_completos = transacoes_por_mes['quantidade_transacoes'].mean()\n",
    "\n",
    "fig1 = px.line(transacoes_por_mes, x='data', y='quantidade_transacoes',\n",
    "               title='Distribuição de Transações ao Longo do Tempo (Todos os Meses)',\n",
    "               labels={'quantidade_transacoes': 'Número de Transações', 'data': 'Mês/Ano'},\n",
    "               markers=True)\n",
    "\n",
    "# Adicionando a linha de média no primeiro gráfico\n",
    "fig1.add_hline(y=media_transacoes_completos, line_dash=\"dot\", line_color=\"red\",\n",
    "               annotation_text=f\"Média: {media_transacoes_completos:.2f}\",\n",
    "               annotation_position=\"top left\")\n",
    "\n",
    "# Formatando o eixo X no primeiro gráfico\n",
    "fig1.update_layout(xaxis=dict(tickformat=\"%m/%Y\"))\n",
    "\n",
    "# Gráfico 2: Excluindo o primeiro e o último mês\n",
    "transacoes_por_mes_filtrado = transacoes_por_mes.sort_values(by='data').iloc[1:-1]\n",
    "media_transacoes_filtrado = transacoes_por_mes_filtrado['quantidade_transacoes'].mean()\n",
    "\n",
    "\n",
    "\n",
    "fig2 = px.line(transacoes_por_mes_filtrado, x='data', y='quantidade_transacoes',\n",
    "               title='Distribuição de Transações ao Longo do Tempo (Excluindo 1º e Último Mês)',\n",
    "               labels={'quantidade_transacoes': 'Número de Transações', 'data': 'Mês/Ano'},\n",
    "               markers=True)\n",
    "\n",
    "# Adicionando a linha de média no segundo gráfico\n",
    "fig2.add_hline(y=media_transacoes_filtrado, line_dash=\"dot\", line_color=\"red\",\n",
    "               annotation_text=f\"Média: {media_transacoes_filtrado:.2f}\",\n",
    "               annotation_position=\"top left\")\n",
    "\n",
    "# Formatando o eixo X no segundo gráfico\n",
    "fig2.update_layout(xaxis=dict(tickformat=\"%m/%Y\"))\n",
    "\n",
    "fig1.show()\n",
    "fig2.show()"
   ]
  },
  {
   "cell_type": "markdown",
   "metadata": {},
   "source": [
    "Nos dois gráficos apresentados inicialmente, é possível observar um crescimento nas transações, mas com diferenças notáveis entre eles. No primeiro gráfico, que inclui todos os meses, é evidente uma tendência acentuada de queda no final, o que resulta em valores significativamente mais baixos em comparação ao segundo gráfico. Este, por sua vez, exclui o primeiro e o último mês, e apresenta uma trajetória de crescimento mais consistente, especialmente a partir de novembro de 2024. O primeiro gráfico se manteve acima da média por um período mais longo, mas a queda abrupta no final foi um fator de desvio importante. Já o segundo gráfico, sem os meses extremos, apresentou um comportamento mais equilibrado, alternando altos e baixos, sem um claro período de estabilidade.\n",
    "\n",
    "Um possível fator que pode explicar essa diferença nos comportamentos de transações ao longo do tempo está relacionado à falta de estratégias adequadas no setor imobiliário. A ausência de ações eficazes por parte dos profissionais do mercado imobiliário para se adaptarem às mudanças econômicas e comportamentais pode impactar diretamente as vendas. Além disso, a falta de uma interpretação correta do cenário do mercado e a falta de adaptação frente à atual situação econômica são fatores que podem contribuir para a diminuição das transações, como evidenciado nos gráficos.\n",
    "\n",
    "Fonte: [Rankim - Diminuição de vendas de imóveis: descubra agora o porquê](https://rankim.com.br/blog/diminuicao-de-venda-de-imoveis-descubra-agora-o-porque)"
   ]
  },
  {
   "cell_type": "markdown",
   "metadata": {},
   "source": [
    "# 3 - Houve um aumento ou diminuição no número de transações ao longo do tempo? Em quais estados isso é mais evidente?\n",
    "\n",
    "* No gráfico é possível notar que as transações ao longo do tempo mantiveram-se na casa das 400 transações, para ser mais exato possui uma média de 419.40, logo ao ínicio do ano de 2025, teve uma queda \n",
    "brusca.\n",
    "\n",
    "* Para ver quais estados isso é mais evidente iremos calcular a variação percentual. Iremos calcular o crescimento relativo ou diminuição relativa de um valor em comparação com um período anterior.\n",
    "\n",
    "Iremos usar a formula:\n",
    "\n",
    "$$\n",
    "\n",
    "\\text{Variação Percentual} = \\left( \\frac{\\text{Valor de 2024} - \\text{Valor de 2023}}{\\text{Valor de 2023}} \\right) \\times 100\n",
    "\n",
    "$$\n",
    "\n",
    "\n",
    "\n",
    "* Foi decido usar os anos 2023 e 2024 porque possuem os meses completos em comparação a 2025, que se só possui janeiro e fevereiro. Para os cálculos ficarem mais acertiveis, ires fazer apenas com esses dois anos.\n",
    "\n",
    "* ano de 2023 vai ser o valor de referência - ano anterior que está sendo comparado com o valor atual que no caso iremos usar o de 2024.\n",
    "\n",
    "* A variação vai ser divida por 2023 porque dividr pela quantidade de transações de 2023 dá uma medida relativa de quanto o valor de 2024 é maior ou menor em relação a 2023. Sem essa divisão, a variação seria apenas uma diferença absoluta, sem contexto de como isso se compara com o total de 2023\n",
    "\n",
    "* Estados com maior variação positiva indicam um **aumento** substancial nas transações.\n",
    "\n",
    "* Estados com maior varuação negativa indicam uma **diminuição** substancial nas transações\n"
   ]
  },
  {
   "cell_type": "code",
   "execution_count": 331,
   "metadata": {},
   "outputs": [
    {
     "data": {
      "application/vnd.plotly.v1+json": {
       "config": {
        "plotlyServerURL": "https://plot.ly"
       },
       "data": [
        {
         "hovertemplate": "Estado=%{x}<br>Variação Percentual (%)=%{marker.color}<br>text=%{text}<extra></extra>",
         "legendgroup": "",
         "marker": {
          "color": {
           "bdata": "HE2dX3vIREAtLS0tLS1AQI64I+6IOz5A2Ymd2ImdOEC0Ud/ZqO83QGiHwI1lUDZAy0+Is/ITNkAAAAAAAAA0QAAAAAAAADRA7sBcOzDXMkADXm+jPxQyQLHc0wjLPTFAAAAAAAAAMEAxDMMwDMMtQFLJeVnEJyxAzyugcbfOK0ByHMdxHMcrQDoTseWh4CpAO7ETO7ETJ0CSPQNR6cgmQFsRNJzUfSNAUYPdmYwWH0B5P3Kar9UDQJIkSZIkSfI/n+d5nud5/r/OOeecc84JwFZVVVVVVRXA",
           "dtype": "f8"
          },
          "coloraxis": "coloraxis",
          "pattern": {
           "shape": ""
          }
         },
         "name": "",
         "orientation": "v",
         "showlegend": false,
         "text": {
          "bdata": "KVyPwvXIREDNzMzMzCxAQHsUrkfhOj5AH4XrUbieOEBxPQrXo/A3QI/C9ShcTzZAFK5H4XoUNkAAAAAAAAA0QAAAAAAAADRA16NwPQrXMkAUrkfhehQyQD0K16NwPTFAAAAAAAAAMEDD9Shcj8ItQClcj8L1KCxAzczMzMzMK0BI4XoUrscrQOF6FK5H4SpAFK5H4XoUJ0BI4XoUrscmQAAAAAAAgCNAFK5H4XoUH0DXo3A9CtcDQD0K16NwPfI/ZmZmZmZm/r/Xo3A9CtcJwFK4HoXrURXA",
          "dtype": "f8"
         },
         "textposition": "outside",
         "texttemplate": "%{text:.2f}%",
         "type": "bar",
         "x": [
          "CE",
          "MT",
          "AP",
          "MS",
          "GO",
          "RJ",
          "SC",
          "BA",
          "PB",
          "AL",
          "AM",
          "RN",
          "SE",
          "SP",
          "PE",
          "RO",
          "RS",
          "TO",
          "DF",
          "PA",
          "AC",
          "MA",
          "PI",
          "RR",
          "ES",
          "MG",
          "PR"
         ],
         "xaxis": "x",
         "y": {
          "bdata": "HE2dX3vIREAtLS0tLS1AQI64I+6IOz5A2Ymd2ImdOEC0Ud/ZqO83QGiHwI1lUDZAy0+Is/ITNkAAAAAAAAA0QAAAAAAAADRA7sBcOzDXMkADXm+jPxQyQLHc0wjLPTFAAAAAAAAAMEAxDMMwDMMtQFLJeVnEJyxAzyugcbfOK0ByHMdxHMcrQDoTseWh4CpAO7ETO7ETJ0CSPQNR6cgmQFsRNJzUfSNAUYPdmYwWH0B5P3Kar9UDQJIkSZIkSfI/n+d5nud5/r/OOeecc84JwFZVVVVVVRXA",
          "dtype": "f8"
         },
         "yaxis": "y"
        }
       ],
       "layout": {
        "barmode": "relative",
        "coloraxis": {
         "colorbar": {
          "title": {
           "text": "Variação Percentual (%)"
          }
         },
         "colorscale": [
          [
           0,
           "rgb(165,0,38)"
          ],
          [
           0.1,
           "rgb(215,48,39)"
          ],
          [
           0.2,
           "rgb(244,109,67)"
          ],
          [
           0.3,
           "rgb(253,174,97)"
          ],
          [
           0.4,
           "rgb(254,224,139)"
          ],
          [
           0.5,
           "rgb(255,255,191)"
          ],
          [
           0.6,
           "rgb(217,239,139)"
          ],
          [
           0.7,
           "rgb(166,217,106)"
          ],
          [
           0.8,
           "rgb(102,189,99)"
          ],
          [
           0.9,
           "rgb(26,152,80)"
          ],
          [
           1,
           "rgb(0,104,55)"
          ]
         ]
        },
        "font": {
         "size": 12
        },
        "legend": {
         "tracegroupgap": 0
        },
        "plot_bgcolor": "white",
        "template": {
         "data": {
          "bar": [
           {
            "error_x": {
             "color": "#2a3f5f"
            },
            "error_y": {
             "color": "#2a3f5f"
            },
            "marker": {
             "line": {
              "color": "#E5ECF6",
              "width": 0.5
             },
             "pattern": {
              "fillmode": "overlay",
              "size": 10,
              "solidity": 0.2
             }
            },
            "type": "bar"
           }
          ],
          "barpolar": [
           {
            "marker": {
             "line": {
              "color": "#E5ECF6",
              "width": 0.5
             },
             "pattern": {
              "fillmode": "overlay",
              "size": 10,
              "solidity": 0.2
             }
            },
            "type": "barpolar"
           }
          ],
          "carpet": [
           {
            "aaxis": {
             "endlinecolor": "#2a3f5f",
             "gridcolor": "white",
             "linecolor": "white",
             "minorgridcolor": "white",
             "startlinecolor": "#2a3f5f"
            },
            "baxis": {
             "endlinecolor": "#2a3f5f",
             "gridcolor": "white",
             "linecolor": "white",
             "minorgridcolor": "white",
             "startlinecolor": "#2a3f5f"
            },
            "type": "carpet"
           }
          ],
          "choropleth": [
           {
            "colorbar": {
             "outlinewidth": 0,
             "ticks": ""
            },
            "type": "choropleth"
           }
          ],
          "contour": [
           {
            "colorbar": {
             "outlinewidth": 0,
             "ticks": ""
            },
            "colorscale": [
             [
              0,
              "#0d0887"
             ],
             [
              0.1111111111111111,
              "#46039f"
             ],
             [
              0.2222222222222222,
              "#7201a8"
             ],
             [
              0.3333333333333333,
              "#9c179e"
             ],
             [
              0.4444444444444444,
              "#bd3786"
             ],
             [
              0.5555555555555556,
              "#d8576b"
             ],
             [
              0.6666666666666666,
              "#ed7953"
             ],
             [
              0.7777777777777778,
              "#fb9f3a"
             ],
             [
              0.8888888888888888,
              "#fdca26"
             ],
             [
              1,
              "#f0f921"
             ]
            ],
            "type": "contour"
           }
          ],
          "contourcarpet": [
           {
            "colorbar": {
             "outlinewidth": 0,
             "ticks": ""
            },
            "type": "contourcarpet"
           }
          ],
          "heatmap": [
           {
            "colorbar": {
             "outlinewidth": 0,
             "ticks": ""
            },
            "colorscale": [
             [
              0,
              "#0d0887"
             ],
             [
              0.1111111111111111,
              "#46039f"
             ],
             [
              0.2222222222222222,
              "#7201a8"
             ],
             [
              0.3333333333333333,
              "#9c179e"
             ],
             [
              0.4444444444444444,
              "#bd3786"
             ],
             [
              0.5555555555555556,
              "#d8576b"
             ],
             [
              0.6666666666666666,
              "#ed7953"
             ],
             [
              0.7777777777777778,
              "#fb9f3a"
             ],
             [
              0.8888888888888888,
              "#fdca26"
             ],
             [
              1,
              "#f0f921"
             ]
            ],
            "type": "heatmap"
           }
          ],
          "histogram": [
           {
            "marker": {
             "pattern": {
              "fillmode": "overlay",
              "size": 10,
              "solidity": 0.2
             }
            },
            "type": "histogram"
           }
          ],
          "histogram2d": [
           {
            "colorbar": {
             "outlinewidth": 0,
             "ticks": ""
            },
            "colorscale": [
             [
              0,
              "#0d0887"
             ],
             [
              0.1111111111111111,
              "#46039f"
             ],
             [
              0.2222222222222222,
              "#7201a8"
             ],
             [
              0.3333333333333333,
              "#9c179e"
             ],
             [
              0.4444444444444444,
              "#bd3786"
             ],
             [
              0.5555555555555556,
              "#d8576b"
             ],
             [
              0.6666666666666666,
              "#ed7953"
             ],
             [
              0.7777777777777778,
              "#fb9f3a"
             ],
             [
              0.8888888888888888,
              "#fdca26"
             ],
             [
              1,
              "#f0f921"
             ]
            ],
            "type": "histogram2d"
           }
          ],
          "histogram2dcontour": [
           {
            "colorbar": {
             "outlinewidth": 0,
             "ticks": ""
            },
            "colorscale": [
             [
              0,
              "#0d0887"
             ],
             [
              0.1111111111111111,
              "#46039f"
             ],
             [
              0.2222222222222222,
              "#7201a8"
             ],
             [
              0.3333333333333333,
              "#9c179e"
             ],
             [
              0.4444444444444444,
              "#bd3786"
             ],
             [
              0.5555555555555556,
              "#d8576b"
             ],
             [
              0.6666666666666666,
              "#ed7953"
             ],
             [
              0.7777777777777778,
              "#fb9f3a"
             ],
             [
              0.8888888888888888,
              "#fdca26"
             ],
             [
              1,
              "#f0f921"
             ]
            ],
            "type": "histogram2dcontour"
           }
          ],
          "mesh3d": [
           {
            "colorbar": {
             "outlinewidth": 0,
             "ticks": ""
            },
            "type": "mesh3d"
           }
          ],
          "parcoords": [
           {
            "line": {
             "colorbar": {
              "outlinewidth": 0,
              "ticks": ""
             }
            },
            "type": "parcoords"
           }
          ],
          "pie": [
           {
            "automargin": true,
            "type": "pie"
           }
          ],
          "scatter": [
           {
            "fillpattern": {
             "fillmode": "overlay",
             "size": 10,
             "solidity": 0.2
            },
            "type": "scatter"
           }
          ],
          "scatter3d": [
           {
            "line": {
             "colorbar": {
              "outlinewidth": 0,
              "ticks": ""
             }
            },
            "marker": {
             "colorbar": {
              "outlinewidth": 0,
              "ticks": ""
             }
            },
            "type": "scatter3d"
           }
          ],
          "scattercarpet": [
           {
            "marker": {
             "colorbar": {
              "outlinewidth": 0,
              "ticks": ""
             }
            },
            "type": "scattercarpet"
           }
          ],
          "scattergeo": [
           {
            "marker": {
             "colorbar": {
              "outlinewidth": 0,
              "ticks": ""
             }
            },
            "type": "scattergeo"
           }
          ],
          "scattergl": [
           {
            "marker": {
             "colorbar": {
              "outlinewidth": 0,
              "ticks": ""
             }
            },
            "type": "scattergl"
           }
          ],
          "scattermap": [
           {
            "marker": {
             "colorbar": {
              "outlinewidth": 0,
              "ticks": ""
             }
            },
            "type": "scattermap"
           }
          ],
          "scattermapbox": [
           {
            "marker": {
             "colorbar": {
              "outlinewidth": 0,
              "ticks": ""
             }
            },
            "type": "scattermapbox"
           }
          ],
          "scatterpolar": [
           {
            "marker": {
             "colorbar": {
              "outlinewidth": 0,
              "ticks": ""
             }
            },
            "type": "scatterpolar"
           }
          ],
          "scatterpolargl": [
           {
            "marker": {
             "colorbar": {
              "outlinewidth": 0,
              "ticks": ""
             }
            },
            "type": "scatterpolargl"
           }
          ],
          "scatterternary": [
           {
            "marker": {
             "colorbar": {
              "outlinewidth": 0,
              "ticks": ""
             }
            },
            "type": "scatterternary"
           }
          ],
          "surface": [
           {
            "colorbar": {
             "outlinewidth": 0,
             "ticks": ""
            },
            "colorscale": [
             [
              0,
              "#0d0887"
             ],
             [
              0.1111111111111111,
              "#46039f"
             ],
             [
              0.2222222222222222,
              "#7201a8"
             ],
             [
              0.3333333333333333,
              "#9c179e"
             ],
             [
              0.4444444444444444,
              "#bd3786"
             ],
             [
              0.5555555555555556,
              "#d8576b"
             ],
             [
              0.6666666666666666,
              "#ed7953"
             ],
             [
              0.7777777777777778,
              "#fb9f3a"
             ],
             [
              0.8888888888888888,
              "#fdca26"
             ],
             [
              1,
              "#f0f921"
             ]
            ],
            "type": "surface"
           }
          ],
          "table": [
           {
            "cells": {
             "fill": {
              "color": "#EBF0F8"
             },
             "line": {
              "color": "white"
             }
            },
            "header": {
             "fill": {
              "color": "#C8D4E3"
             },
             "line": {
              "color": "white"
             }
            },
            "type": "table"
           }
          ]
         },
         "layout": {
          "annotationdefaults": {
           "arrowcolor": "#2a3f5f",
           "arrowhead": 0,
           "arrowwidth": 1
          },
          "autotypenumbers": "strict",
          "coloraxis": {
           "colorbar": {
            "outlinewidth": 0,
            "ticks": ""
           }
          },
          "colorscale": {
           "diverging": [
            [
             0,
             "#8e0152"
            ],
            [
             0.1,
             "#c51b7d"
            ],
            [
             0.2,
             "#de77ae"
            ],
            [
             0.3,
             "#f1b6da"
            ],
            [
             0.4,
             "#fde0ef"
            ],
            [
             0.5,
             "#f7f7f7"
            ],
            [
             0.6,
             "#e6f5d0"
            ],
            [
             0.7,
             "#b8e186"
            ],
            [
             0.8,
             "#7fbc41"
            ],
            [
             0.9,
             "#4d9221"
            ],
            [
             1,
             "#276419"
            ]
           ],
           "sequential": [
            [
             0,
             "#0d0887"
            ],
            [
             0.1111111111111111,
             "#46039f"
            ],
            [
             0.2222222222222222,
             "#7201a8"
            ],
            [
             0.3333333333333333,
             "#9c179e"
            ],
            [
             0.4444444444444444,
             "#bd3786"
            ],
            [
             0.5555555555555556,
             "#d8576b"
            ],
            [
             0.6666666666666666,
             "#ed7953"
            ],
            [
             0.7777777777777778,
             "#fb9f3a"
            ],
            [
             0.8888888888888888,
             "#fdca26"
            ],
            [
             1,
             "#f0f921"
            ]
           ],
           "sequentialminus": [
            [
             0,
             "#0d0887"
            ],
            [
             0.1111111111111111,
             "#46039f"
            ],
            [
             0.2222222222222222,
             "#7201a8"
            ],
            [
             0.3333333333333333,
             "#9c179e"
            ],
            [
             0.4444444444444444,
             "#bd3786"
            ],
            [
             0.5555555555555556,
             "#d8576b"
            ],
            [
             0.6666666666666666,
             "#ed7953"
            ],
            [
             0.7777777777777778,
             "#fb9f3a"
            ],
            [
             0.8888888888888888,
             "#fdca26"
            ],
            [
             1,
             "#f0f921"
            ]
           ]
          },
          "colorway": [
           "#636efa",
           "#EF553B",
           "#00cc96",
           "#ab63fa",
           "#FFA15A",
           "#19d3f3",
           "#FF6692",
           "#B6E880",
           "#FF97FF",
           "#FECB52"
          ],
          "font": {
           "color": "#2a3f5f"
          },
          "geo": {
           "bgcolor": "white",
           "lakecolor": "white",
           "landcolor": "#E5ECF6",
           "showlakes": true,
           "showland": true,
           "subunitcolor": "white"
          },
          "hoverlabel": {
           "align": "left"
          },
          "hovermode": "closest",
          "mapbox": {
           "style": "light"
          },
          "paper_bgcolor": "white",
          "plot_bgcolor": "#E5ECF6",
          "polar": {
           "angularaxis": {
            "gridcolor": "white",
            "linecolor": "white",
            "ticks": ""
           },
           "bgcolor": "#E5ECF6",
           "radialaxis": {
            "gridcolor": "white",
            "linecolor": "white",
            "ticks": ""
           }
          },
          "scene": {
           "xaxis": {
            "backgroundcolor": "#E5ECF6",
            "gridcolor": "white",
            "gridwidth": 2,
            "linecolor": "white",
            "showbackground": true,
            "ticks": "",
            "zerolinecolor": "white"
           },
           "yaxis": {
            "backgroundcolor": "#E5ECF6",
            "gridcolor": "white",
            "gridwidth": 2,
            "linecolor": "white",
            "showbackground": true,
            "ticks": "",
            "zerolinecolor": "white"
           },
           "zaxis": {
            "backgroundcolor": "#E5ECF6",
            "gridcolor": "white",
            "gridwidth": 2,
            "linecolor": "white",
            "showbackground": true,
            "ticks": "",
            "zerolinecolor": "white"
           }
          },
          "shapedefaults": {
           "line": {
            "color": "#2a3f5f"
           }
          },
          "ternary": {
           "aaxis": {
            "gridcolor": "white",
            "linecolor": "white",
            "ticks": ""
           },
           "baxis": {
            "gridcolor": "white",
            "linecolor": "white",
            "ticks": ""
           },
           "bgcolor": "#E5ECF6",
           "caxis": {
            "gridcolor": "white",
            "linecolor": "white",
            "ticks": ""
           }
          },
          "title": {
           "x": 0.05
          },
          "xaxis": {
           "automargin": true,
           "gridcolor": "white",
           "linecolor": "white",
           "ticks": "",
           "title": {
            "standoff": 15
           },
           "zerolinecolor": "white",
           "zerolinewidth": 2
          },
          "yaxis": {
           "automargin": true,
           "gridcolor": "white",
           "linecolor": "white",
           "ticks": "",
           "title": {
            "standoff": 15
           },
           "zerolinecolor": "white",
           "zerolinewidth": 2
          }
         }
        },
        "title": {
         "text": "Variação Percentual das Transações entre 2023 e 2024 por Estado",
         "x": 0.5
        },
        "xaxis": {
         "anchor": "y",
         "categoryarray": [
          "CE",
          "MT",
          "AP",
          "MS",
          "GO",
          "RJ",
          "SC",
          "BA",
          "PB",
          "AL",
          "AM",
          "RN",
          "SE",
          "SP",
          "PE",
          "RO",
          "RS",
          "TO",
          "DF",
          "PA",
          "AC",
          "MA",
          "PI",
          "RR",
          "ES",
          "MG",
          "PR"
         ],
         "categoryorder": "total descending",
         "domain": [
          0,
          1
         ],
         "title": {
          "text": "Estado"
         }
        },
        "yaxis": {
         "anchor": "x",
         "domain": [
          0,
          1
         ],
         "title": {
          "text": "Variação Percentual das Transações"
         }
        }
       }
      }
     },
     "metadata": {},
     "output_type": "display_data"
    }
   ],
   "source": [
    "transacoes_por_estado = dados.groupby(['estado', 'data']).size().reset_index(name='quantidade_transacoes')\n",
    "transacoes_por_estado['ano'] = transacoes_por_estado['data'].dt.year\n",
    "\n",
    "total_transacoes_por_estado_ano = transacoes_por_estado.groupby(['estado', 'ano'])['quantidade_transacoes'].sum().reset_index()\n",
    "\n",
    "# Filtrando os dados para os anos de 2023 e 2024\n",
    "dados_2023_2024 = total_transacoes_por_estado_ano[total_transacoes_por_estado_ano['ano'].isin([2023, 2024])]\n",
    "\n",
    "dados_pivotados = dados_2023_2024.pivot(index='estado', columns='ano', values='quantidade_transacoes').reset_index()\n",
    "dados_pivotados['diferenca_percentual'] = ((dados_pivotados[2024] - dados_pivotados[2023]) / dados_pivotados[2023]) * 100\n",
    "\n",
    "# Ordenando os estados pela variação percentual\n",
    "dados_pivotados = dados_pivotados.sort_values('diferenca_percentual', ascending=False)\n",
    "\n",
    "fig = px.bar(dados_pivotados,\n",
    "             x='estado',\n",
    "             y='diferenca_percentual',\n",
    "             title='Variação Percentual das Transações entre 2023 e 2024 por Estado',\n",
    "             labels={'diferenca_percentual': 'Variação Percentual (%)', 'estado': 'Estado'},\n",
    "             color='diferenca_percentual',\n",
    "             color_continuous_scale='RdYlGn',\n",
    "             text=dados_pivotados['diferenca_percentual'].round(2),  # Adiciona o texto com a variação\n",
    "             category_orders={'estado': dados_pivotados['estado'].tolist()})\n",
    "\n",
    "\n",
    "# Ajustando a posição dos textos\n",
    "fig.update_traces(texttemplate='%{text:.2f}%', textposition='outside')\n",
    "\n",
    "# Ajustando o layout para melhorar a visualização\n",
    "fig.update_layout(\n",
    "    xaxis_title='Estado',\n",
    "    yaxis_title='Variação Percentual das Transações',\n",
    "    title_x=0.5,\n",
    "    plot_bgcolor='white',\n",
    "    font=dict(size=12),\n",
    "    xaxis={'categoryorder': 'total descending'}\n",
    ")\n",
    "fig.show()"
   ]
  },
  {
   "cell_type": "markdown",
   "metadata": {},
   "source": [
    "### Notas\n",
    "\n",
    "### **Ceará teve uma variação percentual superior aos outros estados**\n",
    "\n",
    "O estado do Ceará teve uma variação positiva e de maior magnitude em relação aos outros estados. Além disso, na página \"Sinduscon CE\" com o título \"Recorde histórico: Mercado Imobiliário de Forteza e Região Metropolitana alcança Valor geral de Vendas de R$ 8.5 bilhoes em 2024\"\n",
    "\n",
    "O mercado imobiliário do Ceará aprensetou um crescimento significativo entre 2023 e 2024. Em 2024, o Valor Geral de Vendas (VGV) em Fortaleza e Região Metropolitana atingiu R$ 8.5 bilhões, representando um aumento de 23% em relação a 2023. Além disso, o volume de financiamentos imobiliários com recursos da poupança alcançou R$ 3.7 bilhões em 2024, o maior dos últimos cinco anos, refletindo um aumento de 84,3% desde 2020.\n",
    "\n",
    "Fatorias que favorecem esse crescimento expressivo:\n",
    "\n",
    "* **Demanda por Segunda Moradia**: Houve aumento de 50% na procura por imóveis destinados a segunda residência, especialmente em áreas litorâneas como Meireles e Praia de Iracema.\n",
    "\n",
    "Fonte: https://investindoporai.com.br/mercado-imobiliario-do-ceara-experimenta-expansao-com-segunda-moradia-e-superpredios\n",
    "\n",
    "*  **Programas Habitacionais**: Iniciativas como o \"Minha Casa, Minha Vida\" impulsionaram o setor, facilitando o acesso à moradia e estimulando o mercado\n",
    "\n",
    "Fonte: https://investindoporai.com.br/mercado-imobiliario-cearense-atinge-numeros-recordes-em-2024-e-projeta-crescimento-para-2025\n",
    "\n",
    "* **Aumento nos Lançamentos Imobiliários**: Fortaleza registrou um aumento de 233% nos lançamentos imobiliários no primeiro trimestre de 2024 em comparação ao mesmo período do ano anterior, indicando confiança dos incorporadores no mercado\n",
    "\n",
    "Fonte: https://cbic.org.br/mercado-imobiliario-de-fortaleza-e-regiao-metropolitana-registra-melhor-trimestre-em-9-anos\n",
    "\n",
    "----------------------------\n",
    "\n",
    "### **Espirito Santo, Minas Gerais e Parana apresentam queda em transferencias imobiliarias**\n",
    "\n",
    "A diminuição nas transações imobiliárias nos estados do Espírito Santo (ES), Minas Gerais (MG) e Paraná (PR) pode ser atribuída a diversos fatores econômicos. Foi feito uma pesquisa para buscar causas que poderiam provocar esses acontecimentos\n",
    "\n",
    "* **Aumento nos Preços dos Imóveis**: Em Vitória, capital do Espírito Santo, os preços dos imóveis registraram um aumento de 12,51% em 2024, atingindo R$ 12.287 por metro quadrado. Esse crescimento é atribuído à escassez de terrenos disponíveis para construção e à busca por qualidade de vida, fatores que podem ter elevado os preços e, consequentemente, reduzido a demanda por imóveis.\n",
    "\n",
    "Fonte: https://g1.globo.com/es/espirito-santo/noticia/2025/01/08/vitoria-e-a-capital-com-o-metro-quadrado-mais-caro-do-brasil-entenda-os-motivos.ghtml\n",
    "\n",
    "* **Taxa de Desocupação e Desemprego**: Embora a redução na taxa de desocupação seja geralmente positiva, uma diminuição significativa pode indicar uma escassez de mão de obra disponível, afetando a construção civil e, por consequência, o mercado imobiliário. No **Paraná** e em **Minas Gerais**, houve recuos na taxa de desocupação o que pode ter impactado o setor\n",
    "\n",
    "Fonte: https://g1.globo.com/es/espirito-santo/noticia/2025/01/08/vitoria-e-a-capital-com-o-metro-quadrado-mais-caro-do-brasil-entenda-os-motivos.ghtml\n",
    "\n"
   ]
  },
  {
   "cell_type": "markdown",
   "metadata": {},
   "source": [
    "# 4 - Gere um gráfico de série temporal mostrando a evolução das transações ao longo dos meses"
   ]
  },
  {
   "cell_type": "code",
   "execution_count": 332,
   "metadata": {},
   "outputs": [
    {
     "data": {
      "application/vnd.plotly.v1+json": {
       "config": {
        "plotlyServerURL": "https://plot.ly"
       },
       "data": [
        {
         "hovertemplate": "Mês=%{x}<br>Número de Transações=%{y}<extra></extra>",
         "legendgroup": "",
         "line": {
          "color": "#636efa",
          "dash": "solid"
         },
         "marker": {
          "symbol": "circle"
         },
         "mode": "lines+markers",
         "name": "",
         "orientation": "v",
         "showlegend": false,
         "type": "scatter",
         "x": {
          "bdata": "AQAAAAIAAAADAAAABAAAAAUAAAAGAAAABwAAAAgAAAAJAAAACgAAAAsAAAAMAAAA",
          "dtype": "i4"
         },
         "xaxis": "x",
         "y": {
          "bdata": "eAMmA1UDbwOuA0wDdgOXA0YDbQNDA1ID",
          "dtype": "i2"
         },
         "yaxis": "y"
        }
       ],
       "layout": {
        "annotations": [
         {
          "font": {
           "size": 12
          },
          "showarrow": false,
          "text": "Média: 868.08",
          "x": 1,
          "xanchor": "right",
          "xref": "x domain",
          "y": 868.0833333333334,
          "yanchor": "top",
          "yref": "y"
         }
        ],
        "legend": {
         "tracegroupgap": 0
        },
        "shapes": [
         {
          "line": {
           "color": "red",
           "dash": "dash"
          },
          "type": "line",
          "x0": 0,
          "x1": 1,
          "xref": "x domain",
          "y0": 868.0833333333334,
          "y1": 868.0833333333334,
          "yref": "y"
         }
        ],
        "template": {
         "data": {
          "bar": [
           {
            "error_x": {
             "color": "#2a3f5f"
            },
            "error_y": {
             "color": "#2a3f5f"
            },
            "marker": {
             "line": {
              "color": "#E5ECF6",
              "width": 0.5
             },
             "pattern": {
              "fillmode": "overlay",
              "size": 10,
              "solidity": 0.2
             }
            },
            "type": "bar"
           }
          ],
          "barpolar": [
           {
            "marker": {
             "line": {
              "color": "#E5ECF6",
              "width": 0.5
             },
             "pattern": {
              "fillmode": "overlay",
              "size": 10,
              "solidity": 0.2
             }
            },
            "type": "barpolar"
           }
          ],
          "carpet": [
           {
            "aaxis": {
             "endlinecolor": "#2a3f5f",
             "gridcolor": "white",
             "linecolor": "white",
             "minorgridcolor": "white",
             "startlinecolor": "#2a3f5f"
            },
            "baxis": {
             "endlinecolor": "#2a3f5f",
             "gridcolor": "white",
             "linecolor": "white",
             "minorgridcolor": "white",
             "startlinecolor": "#2a3f5f"
            },
            "type": "carpet"
           }
          ],
          "choropleth": [
           {
            "colorbar": {
             "outlinewidth": 0,
             "ticks": ""
            },
            "type": "choropleth"
           }
          ],
          "contour": [
           {
            "colorbar": {
             "outlinewidth": 0,
             "ticks": ""
            },
            "colorscale": [
             [
              0,
              "#0d0887"
             ],
             [
              0.1111111111111111,
              "#46039f"
             ],
             [
              0.2222222222222222,
              "#7201a8"
             ],
             [
              0.3333333333333333,
              "#9c179e"
             ],
             [
              0.4444444444444444,
              "#bd3786"
             ],
             [
              0.5555555555555556,
              "#d8576b"
             ],
             [
              0.6666666666666666,
              "#ed7953"
             ],
             [
              0.7777777777777778,
              "#fb9f3a"
             ],
             [
              0.8888888888888888,
              "#fdca26"
             ],
             [
              1,
              "#f0f921"
             ]
            ],
            "type": "contour"
           }
          ],
          "contourcarpet": [
           {
            "colorbar": {
             "outlinewidth": 0,
             "ticks": ""
            },
            "type": "contourcarpet"
           }
          ],
          "heatmap": [
           {
            "colorbar": {
             "outlinewidth": 0,
             "ticks": ""
            },
            "colorscale": [
             [
              0,
              "#0d0887"
             ],
             [
              0.1111111111111111,
              "#46039f"
             ],
             [
              0.2222222222222222,
              "#7201a8"
             ],
             [
              0.3333333333333333,
              "#9c179e"
             ],
             [
              0.4444444444444444,
              "#bd3786"
             ],
             [
              0.5555555555555556,
              "#d8576b"
             ],
             [
              0.6666666666666666,
              "#ed7953"
             ],
             [
              0.7777777777777778,
              "#fb9f3a"
             ],
             [
              0.8888888888888888,
              "#fdca26"
             ],
             [
              1,
              "#f0f921"
             ]
            ],
            "type": "heatmap"
           }
          ],
          "histogram": [
           {
            "marker": {
             "pattern": {
              "fillmode": "overlay",
              "size": 10,
              "solidity": 0.2
             }
            },
            "type": "histogram"
           }
          ],
          "histogram2d": [
           {
            "colorbar": {
             "outlinewidth": 0,
             "ticks": ""
            },
            "colorscale": [
             [
              0,
              "#0d0887"
             ],
             [
              0.1111111111111111,
              "#46039f"
             ],
             [
              0.2222222222222222,
              "#7201a8"
             ],
             [
              0.3333333333333333,
              "#9c179e"
             ],
             [
              0.4444444444444444,
              "#bd3786"
             ],
             [
              0.5555555555555556,
              "#d8576b"
             ],
             [
              0.6666666666666666,
              "#ed7953"
             ],
             [
              0.7777777777777778,
              "#fb9f3a"
             ],
             [
              0.8888888888888888,
              "#fdca26"
             ],
             [
              1,
              "#f0f921"
             ]
            ],
            "type": "histogram2d"
           }
          ],
          "histogram2dcontour": [
           {
            "colorbar": {
             "outlinewidth": 0,
             "ticks": ""
            },
            "colorscale": [
             [
              0,
              "#0d0887"
             ],
             [
              0.1111111111111111,
              "#46039f"
             ],
             [
              0.2222222222222222,
              "#7201a8"
             ],
             [
              0.3333333333333333,
              "#9c179e"
             ],
             [
              0.4444444444444444,
              "#bd3786"
             ],
             [
              0.5555555555555556,
              "#d8576b"
             ],
             [
              0.6666666666666666,
              "#ed7953"
             ],
             [
              0.7777777777777778,
              "#fb9f3a"
             ],
             [
              0.8888888888888888,
              "#fdca26"
             ],
             [
              1,
              "#f0f921"
             ]
            ],
            "type": "histogram2dcontour"
           }
          ],
          "mesh3d": [
           {
            "colorbar": {
             "outlinewidth": 0,
             "ticks": ""
            },
            "type": "mesh3d"
           }
          ],
          "parcoords": [
           {
            "line": {
             "colorbar": {
              "outlinewidth": 0,
              "ticks": ""
             }
            },
            "type": "parcoords"
           }
          ],
          "pie": [
           {
            "automargin": true,
            "type": "pie"
           }
          ],
          "scatter": [
           {
            "fillpattern": {
             "fillmode": "overlay",
             "size": 10,
             "solidity": 0.2
            },
            "type": "scatter"
           }
          ],
          "scatter3d": [
           {
            "line": {
             "colorbar": {
              "outlinewidth": 0,
              "ticks": ""
             }
            },
            "marker": {
             "colorbar": {
              "outlinewidth": 0,
              "ticks": ""
             }
            },
            "type": "scatter3d"
           }
          ],
          "scattercarpet": [
           {
            "marker": {
             "colorbar": {
              "outlinewidth": 0,
              "ticks": ""
             }
            },
            "type": "scattercarpet"
           }
          ],
          "scattergeo": [
           {
            "marker": {
             "colorbar": {
              "outlinewidth": 0,
              "ticks": ""
             }
            },
            "type": "scattergeo"
           }
          ],
          "scattergl": [
           {
            "marker": {
             "colorbar": {
              "outlinewidth": 0,
              "ticks": ""
             }
            },
            "type": "scattergl"
           }
          ],
          "scattermap": [
           {
            "marker": {
             "colorbar": {
              "outlinewidth": 0,
              "ticks": ""
             }
            },
            "type": "scattermap"
           }
          ],
          "scattermapbox": [
           {
            "marker": {
             "colorbar": {
              "outlinewidth": 0,
              "ticks": ""
             }
            },
            "type": "scattermapbox"
           }
          ],
          "scatterpolar": [
           {
            "marker": {
             "colorbar": {
              "outlinewidth": 0,
              "ticks": ""
             }
            },
            "type": "scatterpolar"
           }
          ],
          "scatterpolargl": [
           {
            "marker": {
             "colorbar": {
              "outlinewidth": 0,
              "ticks": ""
             }
            },
            "type": "scatterpolargl"
           }
          ],
          "scatterternary": [
           {
            "marker": {
             "colorbar": {
              "outlinewidth": 0,
              "ticks": ""
             }
            },
            "type": "scatterternary"
           }
          ],
          "surface": [
           {
            "colorbar": {
             "outlinewidth": 0,
             "ticks": ""
            },
            "colorscale": [
             [
              0,
              "#0d0887"
             ],
             [
              0.1111111111111111,
              "#46039f"
             ],
             [
              0.2222222222222222,
              "#7201a8"
             ],
             [
              0.3333333333333333,
              "#9c179e"
             ],
             [
              0.4444444444444444,
              "#bd3786"
             ],
             [
              0.5555555555555556,
              "#d8576b"
             ],
             [
              0.6666666666666666,
              "#ed7953"
             ],
             [
              0.7777777777777778,
              "#fb9f3a"
             ],
             [
              0.8888888888888888,
              "#fdca26"
             ],
             [
              1,
              "#f0f921"
             ]
            ],
            "type": "surface"
           }
          ],
          "table": [
           {
            "cells": {
             "fill": {
              "color": "#EBF0F8"
             },
             "line": {
              "color": "white"
             }
            },
            "header": {
             "fill": {
              "color": "#C8D4E3"
             },
             "line": {
              "color": "white"
             }
            },
            "type": "table"
           }
          ]
         },
         "layout": {
          "annotationdefaults": {
           "arrowcolor": "#2a3f5f",
           "arrowhead": 0,
           "arrowwidth": 1
          },
          "autotypenumbers": "strict",
          "coloraxis": {
           "colorbar": {
            "outlinewidth": 0,
            "ticks": ""
           }
          },
          "colorscale": {
           "diverging": [
            [
             0,
             "#8e0152"
            ],
            [
             0.1,
             "#c51b7d"
            ],
            [
             0.2,
             "#de77ae"
            ],
            [
             0.3,
             "#f1b6da"
            ],
            [
             0.4,
             "#fde0ef"
            ],
            [
             0.5,
             "#f7f7f7"
            ],
            [
             0.6,
             "#e6f5d0"
            ],
            [
             0.7,
             "#b8e186"
            ],
            [
             0.8,
             "#7fbc41"
            ],
            [
             0.9,
             "#4d9221"
            ],
            [
             1,
             "#276419"
            ]
           ],
           "sequential": [
            [
             0,
             "#0d0887"
            ],
            [
             0.1111111111111111,
             "#46039f"
            ],
            [
             0.2222222222222222,
             "#7201a8"
            ],
            [
             0.3333333333333333,
             "#9c179e"
            ],
            [
             0.4444444444444444,
             "#bd3786"
            ],
            [
             0.5555555555555556,
             "#d8576b"
            ],
            [
             0.6666666666666666,
             "#ed7953"
            ],
            [
             0.7777777777777778,
             "#fb9f3a"
            ],
            [
             0.8888888888888888,
             "#fdca26"
            ],
            [
             1,
             "#f0f921"
            ]
           ],
           "sequentialminus": [
            [
             0,
             "#0d0887"
            ],
            [
             0.1111111111111111,
             "#46039f"
            ],
            [
             0.2222222222222222,
             "#7201a8"
            ],
            [
             0.3333333333333333,
             "#9c179e"
            ],
            [
             0.4444444444444444,
             "#bd3786"
            ],
            [
             0.5555555555555556,
             "#d8576b"
            ],
            [
             0.6666666666666666,
             "#ed7953"
            ],
            [
             0.7777777777777778,
             "#fb9f3a"
            ],
            [
             0.8888888888888888,
             "#fdca26"
            ],
            [
             1,
             "#f0f921"
            ]
           ]
          },
          "colorway": [
           "#636efa",
           "#EF553B",
           "#00cc96",
           "#ab63fa",
           "#FFA15A",
           "#19d3f3",
           "#FF6692",
           "#B6E880",
           "#FF97FF",
           "#FECB52"
          ],
          "font": {
           "color": "#2a3f5f"
          },
          "geo": {
           "bgcolor": "white",
           "lakecolor": "white",
           "landcolor": "#E5ECF6",
           "showlakes": true,
           "showland": true,
           "subunitcolor": "white"
          },
          "hoverlabel": {
           "align": "left"
          },
          "hovermode": "closest",
          "mapbox": {
           "style": "light"
          },
          "paper_bgcolor": "white",
          "plot_bgcolor": "#E5ECF6",
          "polar": {
           "angularaxis": {
            "gridcolor": "white",
            "linecolor": "white",
            "ticks": ""
           },
           "bgcolor": "#E5ECF6",
           "radialaxis": {
            "gridcolor": "white",
            "linecolor": "white",
            "ticks": ""
           }
          },
          "scene": {
           "xaxis": {
            "backgroundcolor": "#E5ECF6",
            "gridcolor": "white",
            "gridwidth": 2,
            "linecolor": "white",
            "showbackground": true,
            "ticks": "",
            "zerolinecolor": "white"
           },
           "yaxis": {
            "backgroundcolor": "#E5ECF6",
            "gridcolor": "white",
            "gridwidth": 2,
            "linecolor": "white",
            "showbackground": true,
            "ticks": "",
            "zerolinecolor": "white"
           },
           "zaxis": {
            "backgroundcolor": "#E5ECF6",
            "gridcolor": "white",
            "gridwidth": 2,
            "linecolor": "white",
            "showbackground": true,
            "ticks": "",
            "zerolinecolor": "white"
           }
          },
          "shapedefaults": {
           "line": {
            "color": "#2a3f5f"
           }
          },
          "ternary": {
           "aaxis": {
            "gridcolor": "white",
            "linecolor": "white",
            "ticks": ""
           },
           "baxis": {
            "gridcolor": "white",
            "linecolor": "white",
            "ticks": ""
           },
           "bgcolor": "#E5ECF6",
           "caxis": {
            "gridcolor": "white",
            "linecolor": "white",
            "ticks": ""
           }
          },
          "title": {
           "x": 0.05
          },
          "xaxis": {
           "automargin": true,
           "gridcolor": "white",
           "linecolor": "white",
           "ticks": "",
           "title": {
            "standoff": 15
           },
           "zerolinecolor": "white",
           "zerolinewidth": 2
          },
          "yaxis": {
           "automargin": true,
           "gridcolor": "white",
           "linecolor": "white",
           "ticks": "",
           "title": {
            "standoff": 15
           },
           "zerolinecolor": "white",
           "zerolinewidth": 2
          }
         }
        },
        "title": {
         "font": {
          "color": "black",
          "family": "Arial",
          "size": 16
         },
         "text": "Distribuição de Transações por Mês",
         "x": 0.5
        },
        "xaxis": {
         "anchor": "y",
         "domain": [
          0,
          1
         ],
         "tickmode": "array",
         "ticktext": [
          "Jan",
          "Feb",
          "Mar",
          "Apr",
          "May",
          "Jun",
          "Jul",
          "Aug",
          "Sep",
          "Oct",
          "Nov",
          "Dec"
         ],
         "tickvals": {
          "bdata": "AQAAAAIAAAADAAAABAAAAAUAAAAGAAAABwAAAAgAAAAJAAAACgAAAAsAAAAMAAAA",
          "dtype": "i4"
         },
         "title": {
          "text": "Mês"
         }
        },
        "yaxis": {
         "anchor": "x",
         "domain": [
          0,
          1
         ],
         "title": {
          "text": "Número de Transações"
         }
        }
       }
      }
     },
     "metadata": {},
     "output_type": "display_data"
    }
   ],
   "source": [
    "transacoes_por_data = dados.groupby('mes').size().reset_index(name='quantidade_transacoes')\n",
    "\n",
    "# Calcular a média das transações\n",
    "media_transacoes = transacoes_por_data['quantidade_transacoes'].mean()\n",
    "\n",
    "# Criando o gráfico de linha\n",
    "fig = px.line(transacoes_por_data, x='mes', y='quantidade_transacoes',\n",
    "              title='Distribuição de Transações por Mês',\n",
    "              labels={'quantidade_transacoes': 'Número de Transações', 'mes': 'Mês'},\n",
    "              markers=True)\n",
    "\n",
    "# Adicionando a linha de média\n",
    "fig.add_hline(y=media_transacoes, line=dict(color='red', dash='dash'),\n",
    "              annotation_text=f'Média: {media_transacoes:.2f}',\n",
    "              annotation_position=\"bottom right\", annotation_font_size=12)\n",
    "\n",
    "# Formatando o eixo X para mostrar apenas o mês\n",
    "fig.update_layout(xaxis=dict(tickmode='array', tickvals=transacoes_por_data['mes'], ticktext=[\n",
    "                    'Jan', 'Feb', 'Mar', 'Apr', 'May', 'Jun', 'Jul', 'Aug', 'Sep', 'Oct', 'Nov', 'Dec']),\n",
    "                  xaxis_title=\"Mês\",\n",
    "                  yaxis_title=\"Número de Transações\",\n",
    "                  title_x=0.5,  # Centralizando o título\n",
    "                  title_font=dict(size=16, family=\"Arial\", color=\"black\"))\n",
    "fig.show()"
   ]
  },
  {
   "cell_type": "markdown",
   "metadata": {},
   "source": [
    "A análise aponta para uma tendência de crescimento no mercado imobiliário entre os meses de fevereiro e maio, com um pico de transações notável em maio. Uma possível explicação para esse aumento pode estar relacionada a promoções de início de ano, como ofertas especiais e condições facilitadas que são comuns nesse período. Além disso, durante o mês de fevereiro, há feriados que podem resultar em descontos ou condições atrativas para a compra de imóveis, o que acaba incentivando uma maior atividade nesse intervalo.\n",
    "\n",
    "No entanto, essa tendência pode mudar à medida que o ano avança. Nos meses finais, especialmente novembro e dezembro, observa-se uma diminuição na procura, uma vez que muitas pessoas se preparam para viagens, festas de fim de ano ou momentos em família, o que acaba desviando a atenção dos negócios imobiliários. Como resultado, muitos deixam decisões de compra ou venda para o ano seguinte, visando um novo planejamento ou retomada das atividades após o período de festas.\n",
    "\n",
    "Esses padrões de comportamento no mercado podem ser influenciados tanto pela sazonalidade quanto pelos aspectos culturais e sociais, refletindo um comportamento mais comum de compra e venda em momentos específicos do ano."
   ]
  },
  {
   "cell_type": "markdown",
   "metadata": {},
   "source": [
    "# 5 - Proponha uma segmentação dos cartórios com base nos critérios que achar relevante.\n",
    "\n",
    "Utilizaremos o KMEANS para o processo de clusterização para podemos fazer a segmentação dos cartórios\n",
    "\n",
    "**Clusterização**: é a tarefa de identificar instâncias semelhantes e atribuílas a cluster, ou grupos de instâncias semelhantes. Assim como classificação, cada instância é atribuída a um grupo. No entanto, diferentemente da classificação, a clusterização é uma tarefa não supervisionada.\n",
    "\n",
    "**Kmeans**: É um algoritmo de aprendizado de máquina do tipo não supervisionado utilizado para clusterização. Ele agrupa os dados em K clusters com base na similaridade entre os pontos, minimizando a soma das distância quadradas entre os pontos e o centro do cluster.\n",
    "\n",
    "Ele funciona da seguinte maneira:\n",
    "\n",
    "1 - Escolha do número de cluster (K)\n",
    "\n",
    "* Definimos quantos clusters deseja formar.\n",
    "\n",
    "2 - Inicialização dos centroides\n",
    "\n",
    "* São escolhidos K pontos aleatórios para serem os centroides iniciais dos clusters.\n",
    "\n",
    "3 - Atribuição dos pontos aos clusters\n",
    "\n",
    "* Cada ponto do dataset é atribuído ao cluster cujo centroide está mais próximo (com base na distância Euclidiana)\n",
    "\n",
    "4 - Recalculo dos centroides\n",
    "\n",
    "* O centroide de cada cluster é atualizado com base na média dos pontos pertencentes a ele.\n",
    "\n",
    "5 - Repetição até a convergência\n",
    "\n",
    "* Os passos 3 e 4 são repetidos até que os centroides não mudem mais (ou até atingir um número máximo de iterações)\n"
   ]
  },
  {
   "cell_type": "markdown",
   "metadata": {},
   "source": [
    "Segmentação Abordada\n",
    "\n",
    "Será feito uma segmentação do tamanho do imóvel por tipo do imóvel.\n",
    "\n",
    "**Identificação de Padrões de Distribuição**: Ao segmentar o tamanho do imóvel por tipo, pode-se identificar padrões ou tendências relacionadas ao tipo de imóvel.\n"
   ]
  },
  {
   "cell_type": "code",
   "execution_count": 333,
   "metadata": {},
   "outputs": [],
   "source": [
    "dados_testar = dados.copy()"
   ]
  },
  {
   "cell_type": "code",
   "execution_count": 334,
   "metadata": {},
   "outputs": [],
   "source": [
    "# Convertendo as variáveis categóricas (estado, cidade) para variáveis numéricas\n",
    "dados_convertidos = pd.get_dummies(dados_testar, columns= ['estado', 'cidade'])"
   ]
  },
  {
   "cell_type": "code",
   "execution_count": 335,
   "metadata": {},
   "outputs": [],
   "source": [
    "from sklearn.cluster import KMeans\n",
    "from sklearn.preprocessing import StandardScaler\n",
    "\n",
    "# Normalizando os dados\n",
    "scaler = StandardScaler()\n",
    "dados_scaled = scaler.fit_transform(dados[['tamanho_imovel']])"
   ]
  },
  {
   "cell_type": "code",
   "execution_count": 336,
   "metadata": {},
   "outputs": [],
   "source": [
    "dados_cluster = dados.copy()"
   ]
  },
  {
   "cell_type": "code",
   "execution_count": 337,
   "metadata": {},
   "outputs": [
    {
     "data": {
      "text/html": [
       "<div>\n",
       "<style scoped>\n",
       "    .dataframe tbody tr th:only-of-type {\n",
       "        vertical-align: middle;\n",
       "    }\n",
       "\n",
       "    .dataframe tbody tr th {\n",
       "        vertical-align: top;\n",
       "    }\n",
       "\n",
       "    .dataframe thead th {\n",
       "        text-align: right;\n",
       "    }\n",
       "</style>\n",
       "<table border=\"1\" class=\"dataframe\">\n",
       "  <thead>\n",
       "    <tr style=\"text-align: right;\">\n",
       "      <th></th>\n",
       "      <th>id_cartorio</th>\n",
       "      <th>texto</th>\n",
       "      <th>estado</th>\n",
       "      <th>cidade</th>\n",
       "      <th>data</th>\n",
       "      <th>ano</th>\n",
       "      <th>mes</th>\n",
       "      <th>tamanho_imovel</th>\n",
       "      <th>tipo_transferencia</th>\n",
       "      <th>tipo_imovel</th>\n",
       "      <th>regiao</th>\n",
       "    </tr>\n",
       "  </thead>\n",
       "  <tbody>\n",
       "    <tr>\n",
       "      <th>0</th>\n",
       "      <td>193</td>\n",
       "      <td>Processo Usucapião Extrajudicial Apartamento 1...</td>\n",
       "      <td>PI</td>\n",
       "      <td>Picos</td>\n",
       "      <td>2023-08-01</td>\n",
       "      <td>2023</td>\n",
       "      <td>8</td>\n",
       "      <td>121</td>\n",
       "      <td>Usucapião Extrajudicial</td>\n",
       "      <td>apartamento</td>\n",
       "      <td>Nordeste</td>\n",
       "    </tr>\n",
       "    <tr>\n",
       "      <th>1</th>\n",
       "      <td>276</td>\n",
       "      <td>Processo Usucapião Extrajudicial Terreno Rural...</td>\n",
       "      <td>MA</td>\n",
       "      <td>São Luís</td>\n",
       "      <td>2023-11-01</td>\n",
       "      <td>2023</td>\n",
       "      <td>11</td>\n",
       "      <td>35049</td>\n",
       "      <td>Usucapião Extrajudicial</td>\n",
       "      <td>terreno rural</td>\n",
       "      <td>Nordeste</td>\n",
       "    </tr>\n",
       "    <tr>\n",
       "      <th>2</th>\n",
       "      <td>70</td>\n",
       "      <td>Processo Usucapião Extrajudicial Terreno Rural...</td>\n",
       "      <td>SC</td>\n",
       "      <td>Blumenau</td>\n",
       "      <td>2024-02-01</td>\n",
       "      <td>2024</td>\n",
       "      <td>2</td>\n",
       "      <td>28034</td>\n",
       "      <td>Usucapião Extrajudicial</td>\n",
       "      <td>terreno rural</td>\n",
       "      <td>Sul</td>\n",
       "    </tr>\n",
       "    <tr>\n",
       "      <th>3</th>\n",
       "      <td>277</td>\n",
       "      <td>Casa 291 m² transferido Ana Beatriz Rocha 8910...</td>\n",
       "      <td>CE</td>\n",
       "      <td>Fortaleza</td>\n",
       "      <td>2024-04-01</td>\n",
       "      <td>2024</td>\n",
       "      <td>4</td>\n",
       "      <td>291</td>\n",
       "      <td>Usucapião Extrajudicial</td>\n",
       "      <td>casa</td>\n",
       "      <td>Nordeste</td>\n",
       "    </tr>\n",
       "    <tr>\n",
       "      <th>4</th>\n",
       "      <td>166</td>\n",
       "      <td>Processo Compra Venda Casa 153 m² passou Ramos...</td>\n",
       "      <td>RJ</td>\n",
       "      <td>Niterói</td>\n",
       "      <td>2024-10-01</td>\n",
       "      <td>2024</td>\n",
       "      <td>10</td>\n",
       "      <td>153</td>\n",
       "      <td>Compra e Venda</td>\n",
       "      <td>casa</td>\n",
       "      <td>Sudeste</td>\n",
       "    </tr>\n",
       "    <tr>\n",
       "      <th>...</th>\n",
       "      <td>...</td>\n",
       "      <td>...</td>\n",
       "      <td>...</td>\n",
       "      <td>...</td>\n",
       "      <td>...</td>\n",
       "      <td>...</td>\n",
       "      <td>...</td>\n",
       "      <td>...</td>\n",
       "      <td>...</td>\n",
       "      <td>...</td>\n",
       "      <td>...</td>\n",
       "    </tr>\n",
       "    <tr>\n",
       "      <th>10412</th>\n",
       "      <td>114</td>\n",
       "      <td>Processo Recuperação Crédito Casa 277 m² passo...</td>\n",
       "      <td>PR</td>\n",
       "      <td>Curitiba</td>\n",
       "      <td>2024-10-01</td>\n",
       "      <td>2024</td>\n",
       "      <td>10</td>\n",
       "      <td>277</td>\n",
       "      <td>Recuperação de Crédito</td>\n",
       "      <td>casa</td>\n",
       "      <td>Sul</td>\n",
       "    </tr>\n",
       "    <tr>\n",
       "      <th>10413</th>\n",
       "      <td>314</td>\n",
       "      <td>Apartamento 204 m² transferido Ryan Novaes 146...</td>\n",
       "      <td>MG</td>\n",
       "      <td>Uberlândia</td>\n",
       "      <td>2023-03-01</td>\n",
       "      <td>2023</td>\n",
       "      <td>3</td>\n",
       "      <td>204</td>\n",
       "      <td>Usucapião Extrajudicial</td>\n",
       "      <td>apartamento</td>\n",
       "      <td>Sudeste</td>\n",
       "    </tr>\n",
       "    <tr>\n",
       "      <th>10414</th>\n",
       "      <td>234</td>\n",
       "      <td>Terreno Rural 43156 m² transferido Mendonça 73...</td>\n",
       "      <td>CE</td>\n",
       "      <td>Sobral</td>\n",
       "      <td>2024-11-01</td>\n",
       "      <td>2024</td>\n",
       "      <td>11</td>\n",
       "      <td>43156</td>\n",
       "      <td>Recuperação de Crédito</td>\n",
       "      <td>terreno rural</td>\n",
       "      <td>Nordeste</td>\n",
       "    </tr>\n",
       "    <tr>\n",
       "      <th>10415</th>\n",
       "      <td>72</td>\n",
       "      <td>Apartamento 204 m² transferido Cirino Filhos 7...</td>\n",
       "      <td>SP</td>\n",
       "      <td>Campinas</td>\n",
       "      <td>2024-08-01</td>\n",
       "      <td>2024</td>\n",
       "      <td>8</td>\n",
       "      <td>204</td>\n",
       "      <td>Compra e Venda</td>\n",
       "      <td>apartamento</td>\n",
       "      <td>Sudeste</td>\n",
       "    </tr>\n",
       "    <tr>\n",
       "      <th>10416</th>\n",
       "      <td>353</td>\n",
       "      <td>Casa 199 m² Usucapião Extrajudicial realizado ...</td>\n",
       "      <td>SP</td>\n",
       "      <td>Campinas</td>\n",
       "      <td>2024-05-01</td>\n",
       "      <td>2024</td>\n",
       "      <td>5</td>\n",
       "      <td>199</td>\n",
       "      <td>Usucapião Extrajudicial</td>\n",
       "      <td>casa</td>\n",
       "      <td>Sudeste</td>\n",
       "    </tr>\n",
       "  </tbody>\n",
       "</table>\n",
       "<p>10417 rows × 11 columns</p>\n",
       "</div>"
      ],
      "text/plain": [
       "       id_cartorio                                              texto estado  \\\n",
       "0              193  Processo Usucapião Extrajudicial Apartamento 1...     PI   \n",
       "1              276  Processo Usucapião Extrajudicial Terreno Rural...     MA   \n",
       "2               70  Processo Usucapião Extrajudicial Terreno Rural...     SC   \n",
       "3              277  Casa 291 m² transferido Ana Beatriz Rocha 8910...     CE   \n",
       "4              166  Processo Compra Venda Casa 153 m² passou Ramos...     RJ   \n",
       "...            ...                                                ...    ...   \n",
       "10412          114  Processo Recuperação Crédito Casa 277 m² passo...     PR   \n",
       "10413          314  Apartamento 204 m² transferido Ryan Novaes 146...     MG   \n",
       "10414          234  Terreno Rural 43156 m² transferido Mendonça 73...     CE   \n",
       "10415           72  Apartamento 204 m² transferido Cirino Filhos 7...     SP   \n",
       "10416          353  Casa 199 m² Usucapião Extrajudicial realizado ...     SP   \n",
       "\n",
       "           cidade       data   ano  mes  tamanho_imovel  \\\n",
       "0           Picos 2023-08-01  2023    8             121   \n",
       "1        São Luís 2023-11-01  2023   11           35049   \n",
       "2        Blumenau 2024-02-01  2024    2           28034   \n",
       "3       Fortaleza 2024-04-01  2024    4             291   \n",
       "4         Niterói 2024-10-01  2024   10             153   \n",
       "...           ...        ...   ...  ...             ...   \n",
       "10412    Curitiba 2024-10-01  2024   10             277   \n",
       "10413  Uberlândia 2023-03-01  2023    3             204   \n",
       "10414      Sobral 2024-11-01  2024   11           43156   \n",
       "10415    Campinas 2024-08-01  2024    8             204   \n",
       "10416    Campinas 2024-05-01  2024    5             199   \n",
       "\n",
       "            tipo_transferencia    tipo_imovel    regiao  \n",
       "0      Usucapião Extrajudicial    apartamento  Nordeste  \n",
       "1      Usucapião Extrajudicial  terreno rural  Nordeste  \n",
       "2      Usucapião Extrajudicial  terreno rural       Sul  \n",
       "3      Usucapião Extrajudicial           casa  Nordeste  \n",
       "4               Compra e Venda           casa   Sudeste  \n",
       "...                        ...            ...       ...  \n",
       "10412   Recuperação de Crédito           casa       Sul  \n",
       "10413  Usucapião Extrajudicial    apartamento   Sudeste  \n",
       "10414   Recuperação de Crédito  terreno rural  Nordeste  \n",
       "10415           Compra e Venda    apartamento   Sudeste  \n",
       "10416  Usucapião Extrajudicial           casa   Sudeste  \n",
       "\n",
       "[10417 rows x 11 columns]"
      ]
     },
     "execution_count": 337,
     "metadata": {},
     "output_type": "execute_result"
    }
   ],
   "source": [
    "dados_cluster"
   ]
  },
  {
   "cell_type": "markdown",
   "metadata": {},
   "source": [
    "Pré - processamento de dados categóricos e numéricos\n",
    "\n",
    "* Iremos fazer a transformação nas variáveis categóricas para transformalas em numéricos, porque nenhum modelo de aprendizado de máquina espera receber dados em formato de texto, iremos aplicar o LabelEncoder para fazer essa transformação."
   ]
  },
  {
   "cell_type": "code",
   "execution_count": 338,
   "metadata": {},
   "outputs": [
    {
     "data": {
      "text/html": [
       "<div>\n",
       "<style scoped>\n",
       "    .dataframe tbody tr th:only-of-type {\n",
       "        vertical-align: middle;\n",
       "    }\n",
       "\n",
       "    .dataframe tbody tr th {\n",
       "        vertical-align: top;\n",
       "    }\n",
       "\n",
       "    .dataframe thead th {\n",
       "        text-align: right;\n",
       "    }\n",
       "</style>\n",
       "<table border=\"1\" class=\"dataframe\">\n",
       "  <thead>\n",
       "    <tr style=\"text-align: right;\">\n",
       "      <th></th>\n",
       "      <th>id_cartorio</th>\n",
       "      <th>texto</th>\n",
       "      <th>estado</th>\n",
       "      <th>cidade</th>\n",
       "      <th>data</th>\n",
       "      <th>ano</th>\n",
       "      <th>mes</th>\n",
       "      <th>tamanho_imovel</th>\n",
       "      <th>tipo_transferencia</th>\n",
       "      <th>tipo_imovel</th>\n",
       "      <th>regiao</th>\n",
       "    </tr>\n",
       "  </thead>\n",
       "  <tbody>\n",
       "    <tr>\n",
       "      <th>0</th>\n",
       "      <td>193</td>\n",
       "      <td>Processo Usucapião Extrajudicial Apartamento 1...</td>\n",
       "      <td>PI</td>\n",
       "      <td>Picos</td>\n",
       "      <td>2023-08-01</td>\n",
       "      <td>2023</td>\n",
       "      <td>8</td>\n",
       "      <td>121</td>\n",
       "      <td>Usucapião Extrajudicial</td>\n",
       "      <td>apartamento</td>\n",
       "      <td>Nordeste</td>\n",
       "    </tr>\n",
       "    <tr>\n",
       "      <th>1</th>\n",
       "      <td>276</td>\n",
       "      <td>Processo Usucapião Extrajudicial Terreno Rural...</td>\n",
       "      <td>MA</td>\n",
       "      <td>São Luís</td>\n",
       "      <td>2023-11-01</td>\n",
       "      <td>2023</td>\n",
       "      <td>11</td>\n",
       "      <td>35049</td>\n",
       "      <td>Usucapião Extrajudicial</td>\n",
       "      <td>terreno rural</td>\n",
       "      <td>Nordeste</td>\n",
       "    </tr>\n",
       "    <tr>\n",
       "      <th>2</th>\n",
       "      <td>70</td>\n",
       "      <td>Processo Usucapião Extrajudicial Terreno Rural...</td>\n",
       "      <td>SC</td>\n",
       "      <td>Blumenau</td>\n",
       "      <td>2024-02-01</td>\n",
       "      <td>2024</td>\n",
       "      <td>2</td>\n",
       "      <td>28034</td>\n",
       "      <td>Usucapião Extrajudicial</td>\n",
       "      <td>terreno rural</td>\n",
       "      <td>Sul</td>\n",
       "    </tr>\n",
       "  </tbody>\n",
       "</table>\n",
       "</div>"
      ],
      "text/plain": [
       "   id_cartorio                                              texto estado  \\\n",
       "0          193  Processo Usucapião Extrajudicial Apartamento 1...     PI   \n",
       "1          276  Processo Usucapião Extrajudicial Terreno Rural...     MA   \n",
       "2           70  Processo Usucapião Extrajudicial Terreno Rural...     SC   \n",
       "\n",
       "     cidade       data   ano  mes  tamanho_imovel       tipo_transferencia  \\\n",
       "0     Picos 2023-08-01  2023    8             121  Usucapião Extrajudicial   \n",
       "1  São Luís 2023-11-01  2023   11           35049  Usucapião Extrajudicial   \n",
       "2  Blumenau 2024-02-01  2024    2           28034  Usucapião Extrajudicial   \n",
       "\n",
       "     tipo_imovel    regiao  \n",
       "0    apartamento  Nordeste  \n",
       "1  terreno rural  Nordeste  \n",
       "2  terreno rural       Sul  "
      ]
     },
     "execution_count": 338,
     "metadata": {},
     "output_type": "execute_result"
    }
   ],
   "source": [
    "dados_cluster = dados.copy()\n",
    "dados_cluster.head(3)"
   ]
  },
  {
   "cell_type": "code",
   "execution_count": 339,
   "metadata": {},
   "outputs": [],
   "source": [
    "encoder = LabelEncoder()\n",
    "\n",
    "dados_cluster['estado'] = encoder.fit_transform(dados['estado'])\n",
    "dados_cluster['cidade'] = encoder.fit_transform(dados['cidade'])\n",
    "dados_cluster['tipo_transferencia'] = encoder.fit_transform(dados['tipo_transferencia'])\n",
    "dados_cluster['tipo_imovel'] = encoder.fit_transform(dados['tipo_imovel'])\n",
    "dados_cluster['regiao'] = encoder.fit_transform(dados['regiao'])"
   ]
  },
  {
   "cell_type": "markdown",
   "metadata": {},
   "source": [
    "**Normalização utilizando Logaritmo**\n",
    "\n",
    "A normalização utilizando o logaritmo é uma técnica usada para transformar dados com distribuições assimétricas ou com grande variabilidade em uma escala mais controlada. Essa transformação é útil quando os dados apresentam valores extremos ou outliers, como é o caso de terrenos rurais, que podem ter valores muito altos.\n",
    "\n",
    "**Transformação Logarítmica**\n",
    "\n",
    "Ao aplicar o logaritmo aos dados, você reduz a magnitude das diferenças entre os valores, tornando a distribuição mais próxima de uma distribuição normal. A transformação logarítmica pode ser dada pela seguinte fórmula:\n",
    "\n",
    "$$\n",
    "X_{\\text{log}} = \\log(X)\n",
    "$$\n",
    "\n",
    "Onde:\n",
    "- **X** é o valor original da variável.\n",
    "- **X_log** é o valor da variável após a transformação logarítmica.\n",
    "\n",
    "Características da Transformação Logarítmica\n",
    "\n",
    "1. **Redução da variabilidade**: Ao aplicar o logaritmo, os valores mais altos são comprimidos, reduzindo a variação entre os dados extremos.\n",
    "2. **Manejo de outliers**: Valores muito altos (outliers) são reduzidos, ajudando a melhorar a análise de dados com grande dispersão.\n",
    "3. **Distribuição mais próxima da normal**: Muitos algoritmos de machine learning funcionam melhor quando os dados têm uma distribuição mais simétrica, e o logaritmo pode ajudar a atingir isso."
   ]
  },
  {
   "cell_type": "code",
   "execution_count": 340,
   "metadata": {},
   "outputs": [],
   "source": [
    "# Normalizando a coluna do tamanho de imoveis\n",
    "dados_cluster['tamanho_imovel'] = np.log1p((dados_cluster[['tamanho_imovel']]))"
   ]
  },
  {
   "cell_type": "code",
   "execution_count": 341,
   "metadata": {},
   "outputs": [],
   "source": [
    "# Removendo a coluna de texto\n",
    "dados_cluster = dados_cluster.drop('texto', axis = 1)"
   ]
  },
  {
   "cell_type": "code",
   "execution_count": 342,
   "metadata": {},
   "outputs": [],
   "source": [
    "#Removendo a coluna de data\n",
    "dados_cluster = dados_cluster.drop('data', axis =1)"
   ]
  },
  {
   "cell_type": "code",
   "execution_count": 343,
   "metadata": {},
   "outputs": [
    {
     "data": {
      "text/html": [
       "<div>\n",
       "<style scoped>\n",
       "    .dataframe tbody tr th:only-of-type {\n",
       "        vertical-align: middle;\n",
       "    }\n",
       "\n",
       "    .dataframe tbody tr th {\n",
       "        vertical-align: top;\n",
       "    }\n",
       "\n",
       "    .dataframe thead th {\n",
       "        text-align: right;\n",
       "    }\n",
       "</style>\n",
       "<table border=\"1\" class=\"dataframe\">\n",
       "  <thead>\n",
       "    <tr style=\"text-align: right;\">\n",
       "      <th></th>\n",
       "      <th>id_cartorio</th>\n",
       "      <th>estado</th>\n",
       "      <th>cidade</th>\n",
       "      <th>ano</th>\n",
       "      <th>mes</th>\n",
       "      <th>tamanho_imovel</th>\n",
       "      <th>tipo_transferencia</th>\n",
       "      <th>tipo_imovel</th>\n",
       "      <th>regiao</th>\n",
       "    </tr>\n",
       "  </thead>\n",
       "  <tbody>\n",
       "    <tr>\n",
       "      <th>0</th>\n",
       "      <td>193</td>\n",
       "      <td>16</td>\n",
       "      <td>53</td>\n",
       "      <td>2023</td>\n",
       "      <td>8</td>\n",
       "      <td>4.804021</td>\n",
       "      <td>2</td>\n",
       "      <td>0</td>\n",
       "      <td>1</td>\n",
       "    </tr>\n",
       "    <tr>\n",
       "      <th>1</th>\n",
       "      <td>276</td>\n",
       "      <td>9</td>\n",
       "      <td>69</td>\n",
       "      <td>2023</td>\n",
       "      <td>11</td>\n",
       "      <td>10.464531</td>\n",
       "      <td>2</td>\n",
       "      <td>2</td>\n",
       "      <td>1</td>\n",
       "    </tr>\n",
       "    <tr>\n",
       "      <th>2</th>\n",
       "      <td>70</td>\n",
       "      <td>23</td>\n",
       "      <td>8</td>\n",
       "      <td>2024</td>\n",
       "      <td>2</td>\n",
       "      <td>10.241209</td>\n",
       "      <td>2</td>\n",
       "      <td>2</td>\n",
       "      <td>4</td>\n",
       "    </tr>\n",
       "  </tbody>\n",
       "</table>\n",
       "</div>"
      ],
      "text/plain": [
       "   id_cartorio  estado  cidade   ano  mes  tamanho_imovel  tipo_transferencia  \\\n",
       "0          193      16      53  2023    8        4.804021                   2   \n",
       "1          276       9      69  2023   11       10.464531                   2   \n",
       "2           70      23       8  2024    2       10.241209                   2   \n",
       "\n",
       "   tipo_imovel  regiao  \n",
       "0            0       1  \n",
       "1            2       1  \n",
       "2            2       4  "
      ]
     },
     "execution_count": 343,
     "metadata": {},
     "output_type": "execute_result"
    }
   ],
   "source": [
    "dados_cluster.head(3)"
   ]
  },
  {
   "cell_type": "markdown",
   "metadata": {},
   "source": [
    "**Método Elbow**\n",
    "\n",
    "* Chamada também de método do cotolevo, é uma técnica usada para determinar o número ideal de clusters ao aplicar o algoritmo kmeans ou qualquer outro algoritmo de agrupamento.\n",
    "\n",
    "* Ele é baseado na análise da inércia do modelo kmeans, ou também chamado de Soma dos Erros Quadráticos Dentro do Cluster, essa inércia é a soma dos quadrados das distâncias entre cada ponto e o centroide de seu respectivo cluster. Ele mede quão bem os dados são agrupados dentro dos clusters. Quanto menor a inércia, melhor a qualidade do agrupamento\n",
    "\n",
    "* Nesse caso, o melhor ponto foi entre 3 e 4, optaremos por usar o k = 3"
   ]
  },
  {
   "cell_type": "code",
   "execution_count": null,
   "metadata": {},
   "outputs": [],
   "source": [
    "# Pegaremos 2 variáveis para essa segmentacao \n",
    "x = dados_cluster[['tamanho_imovel', 'regiao']].copy()"
   ]
  },
  {
   "cell_type": "markdown",
   "metadata": {},
   "source": [
    "`'k-means++'` é uma técnica de inicialização para o algoritmo K-Means.\n",
    "- Melhora a escolha dos centróides iniciais, evitando que fiquem muito próximos.\n",
    "- Ajuda a acelerar a convergência e melhora a qualidade da solução.\n",
    "\n",
    "**Como funciona:**\n",
    "1. O primeiro centróide é escolhido aleatoriamente.\n",
    "2. Os próximos centróides são escolhidos com maior probabilidade de estarem distantes dos anteriores.\n",
    "\n",
    "\n",
    "Vamos usar ele porque\n",
    "\n",
    "Escolha inteligente dos centróides: Melhora a inicialização ao escolher centróides mais distantes, evitando soluções ruins.\n",
    "\n",
    "Melhor convergência: Reduz o número de iterações necessárias para o algoritmo convergir.\n",
    "\n",
    "Evita resultados inconsistentes: A inicialização aleatória pode gerar diferentes resultados em execuções repetidas, mas o 'k-means++' minimiza esse risco."
   ]
  },
  {
   "cell_type": "code",
   "execution_count": null,
   "metadata": {},
   "outputs": [
    {
     "data": {
      "application/vnd.plotly.v1+json": {
       "config": {
        "plotlyServerURL": "https://plot.ly"
       },
       "data": [
        {
         "line": {
          "color": "blue",
          "width": 2
         },
         "marker": {
          "color": "blue",
          "size": 10
         },
         "mode": "lines+markers",
         "name": "Inércia",
         "type": "scatter",
         "x": [
          1,
          2,
          3,
          4,
          5,
          6,
          7,
          8,
          9,
          10
         ],
         "y": [
          64589.47032084121,
          5780.804792559077,
          4139.2163870236,
          3759.2861639600274,
          2010.109563022776,
          1871.0673227305977,
          1248.2444510543462,
          681.607939218817,
          542.1436434773001,
          500.59195266377816
         ]
        }
       ],
       "layout": {
        "template": {
         "data": {
          "bar": [
           {
            "error_x": {
             "color": "#2a3f5f"
            },
            "error_y": {
             "color": "#2a3f5f"
            },
            "marker": {
             "line": {
              "color": "white",
              "width": 0.5
             },
             "pattern": {
              "fillmode": "overlay",
              "size": 10,
              "solidity": 0.2
             }
            },
            "type": "bar"
           }
          ],
          "barpolar": [
           {
            "marker": {
             "line": {
              "color": "white",
              "width": 0.5
             },
             "pattern": {
              "fillmode": "overlay",
              "size": 10,
              "solidity": 0.2
             }
            },
            "type": "barpolar"
           }
          ],
          "carpet": [
           {
            "aaxis": {
             "endlinecolor": "#2a3f5f",
             "gridcolor": "#C8D4E3",
             "linecolor": "#C8D4E3",
             "minorgridcolor": "#C8D4E3",
             "startlinecolor": "#2a3f5f"
            },
            "baxis": {
             "endlinecolor": "#2a3f5f",
             "gridcolor": "#C8D4E3",
             "linecolor": "#C8D4E3",
             "minorgridcolor": "#C8D4E3",
             "startlinecolor": "#2a3f5f"
            },
            "type": "carpet"
           }
          ],
          "choropleth": [
           {
            "colorbar": {
             "outlinewidth": 0,
             "ticks": ""
            },
            "type": "choropleth"
           }
          ],
          "contour": [
           {
            "colorbar": {
             "outlinewidth": 0,
             "ticks": ""
            },
            "colorscale": [
             [
              0,
              "#0d0887"
             ],
             [
              0.1111111111111111,
              "#46039f"
             ],
             [
              0.2222222222222222,
              "#7201a8"
             ],
             [
              0.3333333333333333,
              "#9c179e"
             ],
             [
              0.4444444444444444,
              "#bd3786"
             ],
             [
              0.5555555555555556,
              "#d8576b"
             ],
             [
              0.6666666666666666,
              "#ed7953"
             ],
             [
              0.7777777777777778,
              "#fb9f3a"
             ],
             [
              0.8888888888888888,
              "#fdca26"
             ],
             [
              1,
              "#f0f921"
             ]
            ],
            "type": "contour"
           }
          ],
          "contourcarpet": [
           {
            "colorbar": {
             "outlinewidth": 0,
             "ticks": ""
            },
            "type": "contourcarpet"
           }
          ],
          "heatmap": [
           {
            "colorbar": {
             "outlinewidth": 0,
             "ticks": ""
            },
            "colorscale": [
             [
              0,
              "#0d0887"
             ],
             [
              0.1111111111111111,
              "#46039f"
             ],
             [
              0.2222222222222222,
              "#7201a8"
             ],
             [
              0.3333333333333333,
              "#9c179e"
             ],
             [
              0.4444444444444444,
              "#bd3786"
             ],
             [
              0.5555555555555556,
              "#d8576b"
             ],
             [
              0.6666666666666666,
              "#ed7953"
             ],
             [
              0.7777777777777778,
              "#fb9f3a"
             ],
             [
              0.8888888888888888,
              "#fdca26"
             ],
             [
              1,
              "#f0f921"
             ]
            ],
            "type": "heatmap"
           }
          ],
          "histogram": [
           {
            "marker": {
             "pattern": {
              "fillmode": "overlay",
              "size": 10,
              "solidity": 0.2
             }
            },
            "type": "histogram"
           }
          ],
          "histogram2d": [
           {
            "colorbar": {
             "outlinewidth": 0,
             "ticks": ""
            },
            "colorscale": [
             [
              0,
              "#0d0887"
             ],
             [
              0.1111111111111111,
              "#46039f"
             ],
             [
              0.2222222222222222,
              "#7201a8"
             ],
             [
              0.3333333333333333,
              "#9c179e"
             ],
             [
              0.4444444444444444,
              "#bd3786"
             ],
             [
              0.5555555555555556,
              "#d8576b"
             ],
             [
              0.6666666666666666,
              "#ed7953"
             ],
             [
              0.7777777777777778,
              "#fb9f3a"
             ],
             [
              0.8888888888888888,
              "#fdca26"
             ],
             [
              1,
              "#f0f921"
             ]
            ],
            "type": "histogram2d"
           }
          ],
          "histogram2dcontour": [
           {
            "colorbar": {
             "outlinewidth": 0,
             "ticks": ""
            },
            "colorscale": [
             [
              0,
              "#0d0887"
             ],
             [
              0.1111111111111111,
              "#46039f"
             ],
             [
              0.2222222222222222,
              "#7201a8"
             ],
             [
              0.3333333333333333,
              "#9c179e"
             ],
             [
              0.4444444444444444,
              "#bd3786"
             ],
             [
              0.5555555555555556,
              "#d8576b"
             ],
             [
              0.6666666666666666,
              "#ed7953"
             ],
             [
              0.7777777777777778,
              "#fb9f3a"
             ],
             [
              0.8888888888888888,
              "#fdca26"
             ],
             [
              1,
              "#f0f921"
             ]
            ],
            "type": "histogram2dcontour"
           }
          ],
          "mesh3d": [
           {
            "colorbar": {
             "outlinewidth": 0,
             "ticks": ""
            },
            "type": "mesh3d"
           }
          ],
          "parcoords": [
           {
            "line": {
             "colorbar": {
              "outlinewidth": 0,
              "ticks": ""
             }
            },
            "type": "parcoords"
           }
          ],
          "pie": [
           {
            "automargin": true,
            "type": "pie"
           }
          ],
          "scatter": [
           {
            "fillpattern": {
             "fillmode": "overlay",
             "size": 10,
             "solidity": 0.2
            },
            "type": "scatter"
           }
          ],
          "scatter3d": [
           {
            "line": {
             "colorbar": {
              "outlinewidth": 0,
              "ticks": ""
             }
            },
            "marker": {
             "colorbar": {
              "outlinewidth": 0,
              "ticks": ""
             }
            },
            "type": "scatter3d"
           }
          ],
          "scattercarpet": [
           {
            "marker": {
             "colorbar": {
              "outlinewidth": 0,
              "ticks": ""
             }
            },
            "type": "scattercarpet"
           }
          ],
          "scattergeo": [
           {
            "marker": {
             "colorbar": {
              "outlinewidth": 0,
              "ticks": ""
             }
            },
            "type": "scattergeo"
           }
          ],
          "scattergl": [
           {
            "marker": {
             "colorbar": {
              "outlinewidth": 0,
              "ticks": ""
             }
            },
            "type": "scattergl"
           }
          ],
          "scattermap": [
           {
            "marker": {
             "colorbar": {
              "outlinewidth": 0,
              "ticks": ""
             }
            },
            "type": "scattermap"
           }
          ],
          "scattermapbox": [
           {
            "marker": {
             "colorbar": {
              "outlinewidth": 0,
              "ticks": ""
             }
            },
            "type": "scattermapbox"
           }
          ],
          "scatterpolar": [
           {
            "marker": {
             "colorbar": {
              "outlinewidth": 0,
              "ticks": ""
             }
            },
            "type": "scatterpolar"
           }
          ],
          "scatterpolargl": [
           {
            "marker": {
             "colorbar": {
              "outlinewidth": 0,
              "ticks": ""
             }
            },
            "type": "scatterpolargl"
           }
          ],
          "scatterternary": [
           {
            "marker": {
             "colorbar": {
              "outlinewidth": 0,
              "ticks": ""
             }
            },
            "type": "scatterternary"
           }
          ],
          "surface": [
           {
            "colorbar": {
             "outlinewidth": 0,
             "ticks": ""
            },
            "colorscale": [
             [
              0,
              "#0d0887"
             ],
             [
              0.1111111111111111,
              "#46039f"
             ],
             [
              0.2222222222222222,
              "#7201a8"
             ],
             [
              0.3333333333333333,
              "#9c179e"
             ],
             [
              0.4444444444444444,
              "#bd3786"
             ],
             [
              0.5555555555555556,
              "#d8576b"
             ],
             [
              0.6666666666666666,
              "#ed7953"
             ],
             [
              0.7777777777777778,
              "#fb9f3a"
             ],
             [
              0.8888888888888888,
              "#fdca26"
             ],
             [
              1,
              "#f0f921"
             ]
            ],
            "type": "surface"
           }
          ],
          "table": [
           {
            "cells": {
             "fill": {
              "color": "#EBF0F8"
             },
             "line": {
              "color": "white"
             }
            },
            "header": {
             "fill": {
              "color": "#C8D4E3"
             },
             "line": {
              "color": "white"
             }
            },
            "type": "table"
           }
          ]
         },
         "layout": {
          "annotationdefaults": {
           "arrowcolor": "#2a3f5f",
           "arrowhead": 0,
           "arrowwidth": 1
          },
          "autotypenumbers": "strict",
          "coloraxis": {
           "colorbar": {
            "outlinewidth": 0,
            "ticks": ""
           }
          },
          "colorscale": {
           "diverging": [
            [
             0,
             "#8e0152"
            ],
            [
             0.1,
             "#c51b7d"
            ],
            [
             0.2,
             "#de77ae"
            ],
            [
             0.3,
             "#f1b6da"
            ],
            [
             0.4,
             "#fde0ef"
            ],
            [
             0.5,
             "#f7f7f7"
            ],
            [
             0.6,
             "#e6f5d0"
            ],
            [
             0.7,
             "#b8e186"
            ],
            [
             0.8,
             "#7fbc41"
            ],
            [
             0.9,
             "#4d9221"
            ],
            [
             1,
             "#276419"
            ]
           ],
           "sequential": [
            [
             0,
             "#0d0887"
            ],
            [
             0.1111111111111111,
             "#46039f"
            ],
            [
             0.2222222222222222,
             "#7201a8"
            ],
            [
             0.3333333333333333,
             "#9c179e"
            ],
            [
             0.4444444444444444,
             "#bd3786"
            ],
            [
             0.5555555555555556,
             "#d8576b"
            ],
            [
             0.6666666666666666,
             "#ed7953"
            ],
            [
             0.7777777777777778,
             "#fb9f3a"
            ],
            [
             0.8888888888888888,
             "#fdca26"
            ],
            [
             1,
             "#f0f921"
            ]
           ],
           "sequentialminus": [
            [
             0,
             "#0d0887"
            ],
            [
             0.1111111111111111,
             "#46039f"
            ],
            [
             0.2222222222222222,
             "#7201a8"
            ],
            [
             0.3333333333333333,
             "#9c179e"
            ],
            [
             0.4444444444444444,
             "#bd3786"
            ],
            [
             0.5555555555555556,
             "#d8576b"
            ],
            [
             0.6666666666666666,
             "#ed7953"
            ],
            [
             0.7777777777777778,
             "#fb9f3a"
            ],
            [
             0.8888888888888888,
             "#fdca26"
            ],
            [
             1,
             "#f0f921"
            ]
           ]
          },
          "colorway": [
           "#636efa",
           "#EF553B",
           "#00cc96",
           "#ab63fa",
           "#FFA15A",
           "#19d3f3",
           "#FF6692",
           "#B6E880",
           "#FF97FF",
           "#FECB52"
          ],
          "font": {
           "color": "#2a3f5f"
          },
          "geo": {
           "bgcolor": "white",
           "lakecolor": "white",
           "landcolor": "white",
           "showlakes": true,
           "showland": true,
           "subunitcolor": "#C8D4E3"
          },
          "hoverlabel": {
           "align": "left"
          },
          "hovermode": "closest",
          "mapbox": {
           "style": "light"
          },
          "paper_bgcolor": "white",
          "plot_bgcolor": "white",
          "polar": {
           "angularaxis": {
            "gridcolor": "#EBF0F8",
            "linecolor": "#EBF0F8",
            "ticks": ""
           },
           "bgcolor": "white",
           "radialaxis": {
            "gridcolor": "#EBF0F8",
            "linecolor": "#EBF0F8",
            "ticks": ""
           }
          },
          "scene": {
           "xaxis": {
            "backgroundcolor": "white",
            "gridcolor": "#DFE8F3",
            "gridwidth": 2,
            "linecolor": "#EBF0F8",
            "showbackground": true,
            "ticks": "",
            "zerolinecolor": "#EBF0F8"
           },
           "yaxis": {
            "backgroundcolor": "white",
            "gridcolor": "#DFE8F3",
            "gridwidth": 2,
            "linecolor": "#EBF0F8",
            "showbackground": true,
            "ticks": "",
            "zerolinecolor": "#EBF0F8"
           },
           "zaxis": {
            "backgroundcolor": "white",
            "gridcolor": "#DFE8F3",
            "gridwidth": 2,
            "linecolor": "#EBF0F8",
            "showbackground": true,
            "ticks": "",
            "zerolinecolor": "#EBF0F8"
           }
          },
          "shapedefaults": {
           "line": {
            "color": "#2a3f5f"
           }
          },
          "ternary": {
           "aaxis": {
            "gridcolor": "#DFE8F3",
            "linecolor": "#A2B1C6",
            "ticks": ""
           },
           "baxis": {
            "gridcolor": "#DFE8F3",
            "linecolor": "#A2B1C6",
            "ticks": ""
           },
           "bgcolor": "white",
           "caxis": {
            "gridcolor": "#DFE8F3",
            "linecolor": "#A2B1C6",
            "ticks": ""
           }
          },
          "title": {
           "x": 0.05
          },
          "xaxis": {
           "automargin": true,
           "gridcolor": "#EBF0F8",
           "linecolor": "#EBF0F8",
           "ticks": "",
           "title": {
            "standoff": 15
           },
           "zerolinecolor": "#EBF0F8",
           "zerolinewidth": 2
          },
          "yaxis": {
           "automargin": true,
           "gridcolor": "#EBF0F8",
           "linecolor": "#EBF0F8",
           "ticks": "",
           "title": {
            "standoff": 15
           },
           "zerolinecolor": "#EBF0F8",
           "zerolinewidth": 2
          }
         }
        },
        "title": {
         "text": "Método do Cotovelo"
        },
        "xaxis": {
         "title": {
          "text": "Número de Clusters"
         }
        },
        "yaxis": {
         "title": {
          "text": "Inércia"
         }
        }
       }
      }
     },
     "metadata": {},
     "output_type": "display_data"
    }
   ],
   "source": [
    "inertia = []\n",
    "K_range = range(1, 11)\n",
    "for k in K_range:\n",
    "    kmeans = KMeans(n_clusters=k, init='k-means++', random_state=42)\n",
    "    kmeans.fit(dados_cluster[['tamanho_imovel', 'tipo_imovel']])\n",
    "    inertia.append(kmeans.inertia_)\n",
    "\n",
    "# Criando o gráfico com Plotly\n",
    "fig = go.Figure()\n",
    "\n",
    "fig.add_trace(go.Scatter(\n",
    "    x=list(K_range),\n",
    "    y=inertia,\n",
    "    mode='lines+markers',\n",
    "    name='Inércia',\n",
    "    marker=dict(size=10, color='blue'),\n",
    "    line=dict(color='blue', width=2)\n",
    "))\n",
    "\n",
    "# Adicionando título e rótulos\n",
    "fig.update_layout(\n",
    "    title='Método do Cotovelo',\n",
    "    xaxis_title='Número de Clusters',\n",
    "    yaxis_title='Inércia',\n",
    "    template='plotly_white'  # Altere para 'plotly_white' ou remova essa linha\n",
    ")\n",
    "\n",
    "# Exibindo o gráfico\n",
    "fig.show()"
   ]
  },
  {
   "cell_type": "markdown",
   "metadata": {},
   "source": [
    "Utilizaremos a métrica Silhouette Score para avaliar a qualidade do agrupamento. Ele mede o quão bem cada ponto de dados se encaixa em seu próprio cluster em comparação com outros clusters.\n",
    "\n",
    "O valor do Silhouette Score varia de -1 a +1:\n",
    "\n",
    "- +1: O ponto está muito bem agrupado (fortemente associado ao seu próprio cluster e bem distante dos outros clusters).\n",
    "-  0: O ponto está entre dois clusters e não pertence claramente a nenhum deles.\n",
    "- -1: O ponto foi mal agrupado (muito mais próximo de outro cluster do que do seu próprio)."
   ]
  },
  {
   "cell_type": "code",
   "execution_count": null,
   "metadata": {},
   "outputs": [
    {
     "name": "stdout",
     "output_type": "stream",
     "text": [
      "Silhouette Score: 0.7390076503419519\n"
     ]
    }
   ],
   "source": [
    "\n",
    "kmeans = KMeans(n_clusters=3, init='k-means++', random_state=42)\n",
    "dados_cluster['Cluster'] = kmeans.fit_predict(dados_cluster[['tamanho_imovel', 'tipo_imovel']])\n",
    "\n",
    "# Verificando o Silhouette Score\n",
    "score = silhouette_score(dados_cluster[['tamanho_imovel', 'tipo_imovel']], dados_cluster['Cluster'])\n",
    "print(f\"Silhouette Score: {score}\")"
   ]
  },
  {
   "cell_type": "code",
   "execution_count": 347,
   "metadata": {},
   "outputs": [
    {
     "data": {
      "application/vnd.plotly.v1+json": {
       "config": {
        "plotlyServerURL": "https://plot.ly"
       },
       "data": [
        {
         "hovertemplate": "color=0<br>tamanho_imovel=%{x}<br>tipo_imovel=%{y}<extra></extra>",
         "legendgroup": "0",
         "marker": {
          "color": "#636efa",
          "symbol": "circle"
         },
         "mode": "markers",
         "name": "0",
         "showlegend": true,
         "type": "scattergl",
         "x": {
          "bdata": "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",
          "dtype": "f8"
         },
         "xaxis": "x",
         "y": {
          "bdata": "AAAAAAEAAAABAAAAAQAAAAAAAAABAAAAAAAAAAAAAAAAAAAAAAAAAAAAAAABAAAAAQAAAAEAAAABAAAAAQAAAAAAAAABAAAAAQAAAAAAAAAAAAAAAAAAAAEAAAABAAAAAAAAAAAAAAAAAAAAAQAAAAAAAAABAAAAAAAAAAAAAAABAAAAAAAAAAEAAAAAAAAAAQAAAAEAAAABAAAAAAAAAAEAAAAAAAAAAQAAAAAAAAAAAAAAAAAAAAEAAAAAAAAAAQAAAAEAAAAAAAAAAQAAAAAAAAABAAAAAQAAAAAAAAAAAAAAAAAAAAAAAAABAAAAAQAAAAAAAAABAAAAAAAAAAAAAAABAAAAAQAAAAEAAAAAAAAAAQAAAAEAAAABAAAAAAAAAAAAAAAAAAAAAAAAAAAAAAABAAAAAQAAAAAAAAABAAAAAAAAAAEAAAAAAAAAAAAAAAEAAAABAAAAAAAAAAEAAAAAAAAAAAAAAAEAAAAAAAAAAQAAAAEAAAAAAAAAAQAAAAAAAAABAAAAAAAAAAAAAAAAAAAAAAAAAAAAAAABAAAAAAAAAAAAAAAAAAAAAAAAAAEAAAABAAAAAAAAAAAAAAABAAAAAAAAAAEAAAAAAAAAAAAAAAAAAAAAAAAAAQAAAAAAAAABAAAAAQAAAAEAAAABAAAAAQAAAAAAAAAAAAAAAQAAAAAAAAAAAAAAAQAAAAAAAAABAAAAAAAAAAEAAAABAAAAAQAAAAAAAAAAAAAAAAAAAAAAAAABAAAAAQAAAAAAAAAAAAAAAAAAAAAAAAABAAAAAQAAAAAAAAAAAAAAAAAAAAEAAAAAAAAAAQAAAAAAAAAAAAAAAQAAAAAAAAABAAAAAQAAAAAAAAAAAAAAAQAAAAAAAAABAAAAAAAAAAAAAAABAAAAAAAAAAEAAAABAAAAAQAAAAAAAAAAAAAAAAAAAAEAAAAAAAAAAAAAAAAAAAABAAAAAAAAAAEAAAAAAAAAAAAAAAAAAAABAAAAAQAAAAAAAAAAAAAAAQAAAAAAAAABAAAAAAAAAAAAAAAAAAAAAAAAAAAAAAABAAAAAAAAAAAAAAAAAAAAAQAAAAAAAAABAAAAAAAAAAEAAAABAAAAAQAAAAEAAAAAAAAAAAAAAAAAAAAAAAAAAAAAAAAAAAAAAAAAAQAAAAAAAAABAAAAAAAAAAEAAAABAAAAAAAAAAEAAAAAAAAAAAAAAAEAAAABAAAAAQAAAAEAAAABAAAAAAAAAAAAAAABAAAAAAAAAAEAAAAAAAAAAQAAAAAAAAAAAAAAAAAAAAAAAAAAAAAAAQAAAAEAAAABAAAAAQAAAAEAAAAAAAAAAQAAAAEAAAABAAAAAQAAAAEAAAAAAAAAAQAAAAEAAAABAAAAAQAAAAEAAAAAAAAAAQAAAAEAAAABAAAAAQAAAAAAAAABAAAAAAAAAAAAAAABAAAAAAAAAAEAAAABAAAAAAAAAAAAAAAAAAAAAAAAAAAAAAABAAAAAAAAAAEAAAAAAAAAAQAAAAAAAAAAAAAAAAAAAAAAAAAAAAAAAQAAAAAAAAAAAAAAAAAAAAEAAAAAAAAAAQAAAAEAAAABAAAAAAAAAAAAAAABAAAAAQAAAAEAAAABAAAAAQAAAAAAAAABAAAAAAAAAAAAAAAAAAAAAAAAAAEAAAAAAAAAAAAAAAAAAAABAAAAAQAAAAEAAAAAAAAAAQAAAAAAAAABAAAAAAAAAAAAAAABAAAAAAAAAAAAAAAAAAAAAQAAAAEAAAABAAAAAQAAAAAAAAAAAAAAAAAAAAEAAAAAAAAAAAAAAAEAAAAAAAAAAQAAAAAAAAABAAAAAQAAAAEAAAAAAAAAAQAAAAEAAAAAAAAAAQAAAAAAAAABAAAAAAAAAAEAAAAAAAAAAQAAAAAAAAAAAAAAAQAAAAAAAAAAAAAAAAAAAAEAAAAAAAAAAQAAAAEAAAAAAAAAAAAAAAAAAAAAAAAAAAAAAAAAAAAAAAAAAQAAAAEAAAAAAAAAAQAAAAEAAAAAAAAAAgAAAAAAAAAAAAAAAAAAAAAAAAABAAAAAQAAAAEAAAAAAAAAAAAAAAEAAAABAAAAAQAAAAEAAAABAAAAAAAAAAAAAAABAAAAAQAAAAAAAAAAAAAAAAAAAAEAAAABAAAAAAAAAAAAAAABAAAAAAAAAAAAAAAAAAAAAAAAAAEAAAAAAAAAAQAAAAEAAAAAAAAAAQAAAAAAAAABAAAAAQAAAAEAAAAAAAAAAQAAAAAAAAAAAAAAAAAAAAEAAAABAAAAAAAAAAEAAAAAAAAAAAAAAAAAAAABAAAAAAAAAAEAAAABAAAAAAAAAAEAAAAAAAAAAQAAAAAAAAAAAAAAAAAAAAAAAAABAAAAAQAAAAAAAAABAAAAAQAAAAEAAAABAAAAAQAAAAAAAAABAAAAAAAAAAAAAAAAAAAAAQAAAAEAAAABAAAAAQAAAAEAAAAAAAAAAAAAAAAAAAABAAAAAAAAAAEAAAAAAAAAAQAAAAAAAAABAAAAAAAAAAAAAAABAAAAAQAAAAEAAAABAAAAAAAAAAAAAAABAAAAAQAAAAAAAAABAAAAAAAAAAAAAAAAAAAAAQAAAAEAAAABAAAAAQAAAAEAAAAAAAAAAAAAAAEAAAABAAAAAQAAAAAAAAAAAAAAAAAAAAEAAAABAAAAAQAAAAEAAAAAAAAAAAAAAAEAAAABAAAAAQAAAAEAAAAAAAAAAQAAAAAAAAABAAAAAQAAAAAAAAAAAAAAAQAAAAAAAAAAAAAAAQAAAAEAAAABAAAAAQAAAAAAAAABAAAAAAAAAAEAAAABAAAAAAAAAAAAAAAAAAAAAAAAAAAAAAAAAAAAAAAAAAAAAAAAAAAAAQAAAAEAAAABAAAAAQAAAAEAAAAAAAAAAAAAAAAAAAABAAAAAQAAAAAAAAAAAAAAAAAAAAAAAAABAAAAAQAAAAAAAAABAAAAAAAAAAAAAAAAAAAAAQAAAAAAAAABAAAAAAAAAAAAAAABAAAAAAAAAAEAAAAAAAAAAQAAAAAAAAAAAAAAAQAAAAAAAAABAAAAAQAAAAAAAAAAAAAAAAAAAAEAAAAAAAAAAAAAAAAAAAAAAAAAAAAAAAEAAAABAAAAAQAAAAAAAAAAAAAAAAAAAAAAAAABAAAAAQAAAAAAAAAAAAAAAQAAAAAAAAAAAAAAAQAAAAAAAAAAAAAAAAAAAAAAAAAAAAAAAAAAAAAAAAAAAAAAAQAAAAAAAAAAAAAAAAAAAAEAAAAAAAAAAQAAAAAAAAABAAAAAQAAAAEAAAABAAAAAQAAAAEAAAAAAAAAAQAAAAEAAAABAAAAAQAAAAEAAAAAAAAAAQAAAAAAAAAAAAAAAAAAAAEAAAABAAAAAQAAAAAAAAABAAAAAAAAAAAAAAABAAAAAAAAAAAAAAAAAAAAAAAAAAEAAAAAAAAAAQAAAAAAAAABAAAAAQAAAAAAAAAAAAAAAAAAAAAAAAABAAAAAQAAAAAAAAABAAAAAQAAAAEAAAAAAAAAAQAAAAEAAAAAAAAAAAAAAAEAAAAAAAAAAQAAAAAAAAAAAAAAAQAAAAAAAAAAAAAAAAAAAAEAAAABAAAAAAAAAAAAAAAAAAAAAQAAAAEAAAAAAAAAAQAAAAAAAAABAAAAAAAAAAAAAAAAAAAAAAAAAAEAAAABAAAAAAAAAAAAAAAAAAAAAAAAAAAAAAAAAAAAAAAAAAEAAAAAAAAAAQAAAAEAAAABAAAAAAAAAAEAAAAAAAAAAQAAAAEAAAABAAAAAQAAAAAAAAAAAAAAAAAAAAEAAAAAAAAAAQAAAAAAAAAAAAAAAAAAAAAAAAABAAAAAQAAAAAAAAAAAAAAAQAAAAEAAAAAAAAAAQAAAAEAAAABAAAAAQAAAAAAAAABAAAAAQAAAAEAAAABAAAAAQAAAAEAAAABAAAAAQAAAAEAAAABAAAAAQAAAAEAAAAAAAAAAQAAAAAAAAABAAAAAAAAAAAAAAAAAAAAAQAAAAEAAAABAAAAAQAAAAEAAAAAAAAAAAAAAAEAAAAAAAAAAAAAAAAAAAABAAAAAQAAAAEAAAAAAAAAAQAAAAAAAAAAAAAAAAAAAAAAAAAAAAAAAQAAAAEAAAABAAAAAQAAAAAAAAAAAAAAAAAAAAEAAAAAAAAAAAAAAAEAAAABAAAAAQAAAAAAAAAAAAAAAQAAAAAAAAAAAAAAAQAAAAEAAAAAAAAAAQAAAAAAAAAAAAAAAQAAAAAAAAABAAAAAQAAAAEAAAABAAAAAAAAAAEAAAABAAAAAAAAAAEAAAABAAAAAAAAAAAAAAABAAAAAAAAAAAAAAAAAAAAAAAAAAEAAAABAAAAAQAAAAEAAAABAAAAAQAAAAEAAAAAAAAAAQAAAAEAAAAAAAAAAAAAAAEAAAABAAAAAAAAAAAAAAAAAAAAAQAAAAAAAAAAAAAAAAAAAAAAAAABAAAAAAAAAAEAAAABAAAAAAAAAAEAAAABAAAAAQAAAAAAAAAAAAAAAAAAAAAAAAABAAAAAAAAAAEAAAAAAAAAAQAAAAAAAAABAAAAAQAAAAEAAAAAAAAAAAAAAAEAAAABAAAAAAAAAAAAAAABAAAAAQAAAAEAAAAAAAAAAAAAAAAAAAAAAAAAAAAAAAEAAAAAAAAAAAAAAAAAAAAAAAAAAAAAAAAAAAAAAAAAAQAAAAEAAAAAAAAAAAAAAAEAAAAAAAAAAAAAAAAAAAAAAAAAAAAAAAAAAAAAAAAAAQAAAAEAAAAAAAAAAAAAAAAAAAAAAAAAAQAAAAEAAAABAAAAAAAAAAEAAAAAAAAAAQAAAAEAAAABAAAAAQAAAAEAAAAAAAAAAAAAAAEAAAAAAAAAAQAAAAEAAAAAAAAAAQAAAAAAAAAAAAAAAQAAAAAAAAAAAAAAAAAAAAEAAAABAAAAAQAAAAAAAAABAAAAAAAAAAEAAAAAAAAAAQAAAAEAAAABAAAAAAAAAAEAAAABAAAAAQAAAAAAAAAAAAAAAAAAAAEAAAABAAAAAAAAAAAAAAABAAAAAQAAAAAAAAAAAAAAAQAAAAAAAAABAAAAAQAAAAAAAAABAAAAAQAAAAEAAAAAAAAAAQAAAAEAAAABAAAAAQAAAAAAAAABAAAAAAAAAAEAAAAAAAAAAAAAAAAAAAABAAAAAAAAAAAAAAAAAAAAAQAAAAAAAAAAAAAAAQAAAAEAAAAAAAAAAQAAAAAAAAAAAAAAAQAAAAAAAAABAAAAAAAAAAEAAAAAAAAAAAAAAAAAAAABAAAAAAAAAAAAAAABAAAAAAAAAAEAAAABAAAAAQAAAAAAAAAAAAAAAQAAAAEAAAABAAAAAQAAAAEAAAABAAAAAAAAAAAAAAABAAAAAQAAAAAAAAABAAAAAAAAAAAAAAAAAAAAAQAAAAEAAAAAAAAAAAAAAAEAAAAAAAAAAQAAAAAAAAABAAAAAQAAAAAAAAAAAAAAAAAAAAEAAAAAAAAAAAAAAAEAAAABAAAAAAAAAAAAAAABAAAAAQAAAAAAAAAAAAAAAAAAAAAAAAAAAAAAAAAAAAEAAAABAAAAAQAAAAEAAAABAAAAAQAAAAEAAAAAAAAAAQAAAAEAAAABAAAAAAAAAAEAAAAAAAAAAQAAAAEAAAABAAAAAAAAAAEAAAAAAAAAAQAAAAEAAAABAAAAAAAAAAEAAAABAAAAAAAAAAAAAAAAAAAAAQAAAAAAAAABAAAAAAAAAAAAAAAAAAAAAQAAAAAAAAABAAAAAAAAAAAAAAAAAAAAAAAAAAEAAAAAAAAAAQAAAAEAAAAAAAAAAAAAAAAAAAABAAAAAAAAAAAAAAAAAAAAAQAAAAEAAAABAAAAAAAAAAAAAAAAAAAAAQAAAAAAAAABAAAAAAAAAAEAAAABAAAAAQAAAAEAAAABAAAAAQAAAAAAAAAAAAAAAAAAAAEAAAABAAAAAQAAAAAAAAABAAAAAAAAAAEAAAABAAAAAAAAAAAAAAAAAAAAAQAAAAEAAAABAAAAAQAAAAAAAAAAAAAAAAAAAAAAAAAAAAAAAAAAAAEAAAABAAAAAAAAAAEAAAAAAAAAAAAAAAAAAAABAAAAAQAAAAEAAAABAAAAAAAAAAEAAAABAAAAAAAAAAEAAAABAAAAAAAAAAAAAAAAAAAAAQAAAAEAAAAAAAAAAQAAAAAAAAAAAAAAAAAAAAEAAAABAAAAAAAAAAEAAAABAAAAAAAAAAAAAAAAAAAAAQAAAAEAAAAAAAAAAAAAAAAAAAABAAAAAAAAAAEAAAAAAAAAAQAAAAAAAAABAAAAAAAAAAAAAAABAAAAAAAAAAEAAAAAAAAAAQAAAAAAAAAAAAAAAAAAAAAAAAABAAAAAAAAAAAAAAAAAAAAAAAAAAAAAAAAAAAAAQAAAAEAAAAAAAAAAAAAAAAAAAABAAAAAAAAAAAAAAABAAAAAAAAAAEAAAAAAAAAAAAAAAEAAAABAAAAAAAAAAEAAAAAAAAAAQAAAAEAAAAAAAAAAQAAAAAAAAAAAAAAAAAAAAAAAAAAAAAAAAAAAAEAAAABAAAAAQAAAAEAAAABAAAAAQAAAAAAAAAAAAAAAAAAAAAAAAAAAAAAAAAAAAAAAAABAAAAAQAAAAAAAAABAAAAAAAAAAAAAAAAAAAAAAAAAAAAAAAAAAAAAAAAAAEAAAABAAAAAAAAAAEAAAABAAAAAQAAAAEAAAABAAAAAQAAAAEAAAAAAAAAAAAAAAAAAAAAAAAAAAAAAAEAAAABAAAAAQAAAAEAAAAAAAAAAQAAAAEAAAABAAAAAAAAAAEAAAAAAAAAAAAAAAEAAAABAAAAAAAAAAEAAAABAAAAAQAAAAEAAAABAAAAAAAAAAAAAAABAAAAAAAAAAEAAAAAAAAAAAAAAAEAAAABAAAAAQAAAAAAAAABAAAAAAAAAAEAAAABAAAAAAAAAAAAAAABAAAAAQAAAAEAAAABAAAAAAAAAAAAAAABAAAAAQAAAAAAAAAAAAAAAQAAAAAAAAAAAAAAAAAAAAEAAAABAAAAAAAAAAAAAAAAAAAAAQAAAAEAAAAAAAAAAAAAAAAAAAAAAAAAAQAAAAAAAAABAAAAAAAAAAAAAAAAAAAAAQAAAAAAAAAAAAAAAAAAAAEAAAABAAAAAAAAAAAAAAABAAAAAQAAAAAAAAAAAAAAAAAAAAAAAAABAAAAAQAAAAAAAAABAAAAAAAAAAEAAAABAAAAAQAAAAEAAAABAAAAAQAAAAAAAAABAAAAAAAAAAEAAAAAAAAAAAAAAAEAAAABAAAAAQAAAAEAAAAAAAAAAAAAAAEAAAAAAAAAAAAAAAEAAAAAAAAAAQAAAAEAAAAAAAAAAQAAAAEAAAAAAAAAAQAAAAAAAAAAAAAAAAAAAAEAAAABAAAAAAAAAAAAAAAAAAAAAQAAAAAAAAAAAAAAAAAAAAAAAAAAAAAAAAAAAAEAAAAAAAAAAAAAAAAAAAABAAAAAAAAAAAAAAAAAAAAAQAAAAEAAAABAAAAAAAAAAEAAAAAAAAAAQAAAAAAAAABAAAAAAAAAAAAAAAAAAAAAQAAAAEAAAABAAAAAAAAAAAAAAABAAAAAAAAAAEAAAABAAAAAAAAAAEAAAAAAAAAAAAAAAEAAAAAAAAAAAAAAAAAAAABAAAAAQAAAAAAAAABAAAAAAAAAAEAAAAAAAAAAAAAAAEAAAAAAAAAAAAAAAEAAAABAAAAAQAAAAEAAAABAAAAAQAAAAAAAAABAAAAAAAAAAEAAAABAAAAAAAAAAEAAAABAAAAAQAAAAAAAAABAAAAAQAAAAEAAAABAAAAAAAAAAEAAAAAAAAAAQAAAAAAAAABAAAAAQAAAAEAAAABAAAAAQAAAAAAAAAAAAAAAQAAAAEAAAAAAAAAAAAAAAAAAAABAAAAAAAAAAAAAAAAAAAAAAAAAAEAAAAAAAAAAAAAAAAAAAABAAAAAAAAAAEAAAAAAAAAAAAAAAAAAAAAAAAAAAAAAAEAAAAAAAAAAAAAAAAAAAABAAAAAAAAAAEAAAAAAAAAAQAAAAAAAAAAAAAAAAAAAAAAAAAAAAAAAQAAAAEAAAABAAAAAAAAAAEAAAABAAAAAQAAAAEAAAABAAAAAQAAAAAAAAABAAAAAAAAAAAAAAAAAAAAAAAAAAAAAAAAAAAAAAAAAAEAAAABAAAAAQAAAAAAAAABAAAAAAAAAAAAAAAAAAAAAAAAAAEAAAABAAAAAQAAAAEAAAAAAAAAAAAAAAAAAAAAAAAAAQAAAAAAAAAAAAAAAAAAAAAAAAAAAAAAAAAAAAAAAAABAAAAAAAAAAAAAAAAAAAAAQAAAAEAAAABAAAAAQAAAAEAAAABAAAAAAAAAAEAAAAAAAAAAQAAAAAAAAAAAAAAAQAAAAAAAAABAAAAAQAAAAEAAAABAAAAAAAAAAEAAAAAAAAAAQAAAAAAAAABAAAAAAAAAAAAAAABAAAAAAAAAAEAAAAAAAAAAQAAAAAAAAAAAAAAAQAAAAAAAAAAAAAAAQAAAAAAAAABAAAAAQAAAAAAAAABAAAAAQAAAAAAAAABAAAAAAAAAAEAAAAAAAAAAAAAAAAAAAAAAAAAAAAAAAEAAAABAAAAAQAAAAEAAAAAAAAAAQAAAAEAAAABAAAAAQAAAAEAAAAAAAAAAQAAAAAAAAAAAAAAAAAAAAAAAAAAAAAAAQAAAAAAAAAAAAAAAAAAAAAAAAAAAAAAAAAAAAAAAAABAAAAAQAAAAEAAAAAAAAAAAAAAAEAAAAAAAAAAAAAAAAAAAAAAAAAAQAAAAAAAAABAAAAAQAAAAEAAAABAAAAAQAAAAAAAAAAAAAAAAAAAAEAAAAAAAAAAQAAAAAAAAAAAAAAAQAAAAAAAAABAAAAAAAAAAEAAAABAAAAAAAAAAAAAAAAAAAAAAAAAAAAAAAAAAAAAQAAAAAAAAABAAAAAAAAAAEAAAABAAAAAAAAAAEAAAAAAAAAAQAAAAAAAAAAAAAAAAAAAAEAAAAAAAAAAAAAAAEAAAABAAAAAQAAAAEAAAAAAAAAAAAAAAEAAAABAAAAAAAAAAEAAAAAAAAAAAAAAAAAAAAAAAAAAAAAAAAAAAABAAAAAQAAAAEAAAABAAAAAAAAAAEAAAAAAAAAAQAAAAAAAAAAAAAAAAAAAAAAAAAAAAAAAAAAAAEAAAAAAAAAAAAAAAEAAAABAAAAAQAAAAAAAAABAAAAAAAAAAAAAAAAAAAAAQAAAAEAAAABAAAAAAAAAAEAAAABAAAAAAAAAAAAAAAAAAAAAAAAAAEAAAAAAAAAAQAAAAEAAAABAAAAAAAAAAEAAAAAAAAAAAAAAAAAAAAAAAAAAAAAAAEAAAABAAAAAQAAAAEAAAABAAAAAQAAAAEAAAABAAAAAAAAAAEAAAAAAAAAAAAAAAEAAAAAAAAAAAAAAAAAAAAAAAAAAQAAAAEAAAAAAAAAAQAAAAAAAAABAAAAAAAAAAEAAAAAAAAAAQAAAAEAAAABAAAAAAAAAAAAAAAAAAAAAQAAAAEAAAAAAAAAAQAAAAEAAAAAAAAAAAAAAAEAAAABAAAAAAAAAAEAAAABAAAAAQAAAAAAAAABAAAAAAAAAAEAAAAAAAAAAQAAAAAAAAAAAAAAAQAAAAAAAAAAAAAAAAAAAAEAAAABAAAAAAAAAAAAAAAAAAAAAAAAAAAAAAAAAAAAAQAAAAAAAAABAAAAAQAAAAEAAAAAAAAAAAAAAAEAAAABAAAAAQAAAAEAAAABAAAAAQAAAAEAAAAAAAAAAAAAAAEAAAAAAAAAAAAAAAEAAAAAAAAAAAAAAAEAAAAAAAAAAAAAAAAAAAABAAAAAQAAAAAAAAABAAAAAQAAAAEAAAAAAAAAAAAAAAAAAAAAAAAAAQAAAAAAAAABAAAAAAAAAAAAAAAAAAAAAQAAAAEAAAAAAAAAAQAAAAEAAAABAAAAAQAAAAAAAAABAAAAAQAAAAEAAAAAAAAAAQAAAAAAAAAAAAAAAQAAAAEAAAAAAAAAAAAAAAAAAAAAAAAAAAAAAAEAAAAAAAAAAAAAAAEAAAAAAAAAAAAAAAAAAAABAAAAAQAAAAAAAAAAAAAAAQAAAAAAAAAAAAAAAQAAAAAAAAABAAAAAAAAAAAAAAABAAAAAAAAAAAAAAABAAAAAQAAAAEAAAAAAAAAAQAAAAEAAAABAAAAAAAAAAEAAAABAAAAAQAAAAEAAAAAAAAAAAAAAAEAAAAAAAAAAAAAAAAAAAABAAAAAAAAAAAAAAABAAAAAQAAAAEAAAABAAAAAQAAAAAAAAABAAAAAAAAAAAAAAABAAAAAAAAAAAAAAAAAAAAAAAAAAAAAAABAAAAAQAAAAEAAAAAAAAAAQAAAAEAAAAAAAAAAQAAAAEAAAABAAAAAAAAAAEAAAABAAAAAQAAAAEAAAAAAAAAAAAAAAEAAAABAAAAAQAAAAAAAAABAAAAAAAAAAEAAAABAAAAAQAAAAAAAAAAAAAAAAAAAAEAAAABAAAAAQAAAAAAAAABAAAAAQAAAAEAAAABAAAAAAAAAAAAAAAAAAAAAAAAAAAAAAAAAAAAAQAAAAEAAAABAAAAAQAAAAAAAAAAAAAAAQAAAAAAAAABAAAAAAAAAAEAAAAAAAAAAQAAAAAAAAAAAAAAAQAAAAEAAAABAAAAAAAAAAAAAAABAAAAAAAAAAEAAAAAAAAAAAAAAAEAAAABAAAAAAAAAAEAAAABAAAAAAAAAAEAAAABAAAAAQAAAAAAAAABAAAAAQAAAAEAAAABAAAAAAAAAAEAAAAAAAAAAAAAAAAAAAAAAAAAAAAAAAEAAAABAAAAAAAAAAEAAAABAAAAAAAAAAAAAAABAAAAAAAAAAAAAAABAAAAAAAAAAAAAAABAAAAAAAAAAAAAAABAAAAAAAAAAAAAAABAAAAAAAAAAEAAAABAAAAAAAAAAAAAAABAAAAAAAAAAEAAAABAAAAAAAAAAEAAAAAAAAAAAAAAAAAAAABAAAAAAAAAAEAAAAAAAAAAAAAAAEAAAAAAAAAAQAAAAAAAAABAAAAAQAAAAAAAAABAAAAAQAAAAAAAAABAAAAAQAAAAAAAAAAAAAAAAAAAAAAAAAAAAAAAQAAAAAAAAABAAAAAAAAAAEAAAAAAAAAAQAAAAEAAAABAAAAAAAAAAAAAAAAAAAAAQAAAAAAAAAAAAAAAQAAAAAAAAABAAAAAAAAAAAAAAABAAAAAAAAAAEAAAAAAAAAAQAAAAAAAAABAAAAAQAAAAAAAAAAAAAAAQAAAAEAAAAAAAAAAAAAAAEAAAAAAAAAAAAAAAEAAAAAAAAAAQAAAAAAAAAAAAAAAQAAAAEAAAAAAAAAAQAAAAAAAAABAAAAAQAAAAEAAAABAAAAAQAAAAAAAAAAAAAAAQAAAAAAAAAAAAAAAAAAAAAAAAAAAAAAAQAAAAEAAAAAAAAAAQAAAAEAAAABAAAAAQAAAAEAAAABAAAAAQAAAAEAAAABAAAAAAAAAAEAAAABAAAAAAAAAAEAAAAAAAAAAAAAAAEAAAABAAAAAQAAAAEAAAABAAAAAAAAAAEAAAABAAAAAAAAAAAAAAAAAAAAAQAAAAEAAAAAAAAAAQAAAAAAAAAAAAAAAAAAAAEAAAABAAAAAAAAAAEAAAABAAAAAAAAAAAAAAABAAAAAAAAAAAAAAAAAAAAAQAAAAAAAAAAAAAAAAAAAAEAAAAAAAAAAQAAAAEAAAABAAAAAQAAAAEAAAAAAAAAAAAAAAEAAAAAAAAAAAAAAAAAAAABAAAAAQAAAAAAAAABAAAAAAAAAAAAAAAAAAAAAAAAAAAAAAABAAAAAAAAAAEAAAABAAAAAQAAAAAAAAAAAAAAAAAAAAEAAAABAAAAAAAAAAAAAAAAAAAAAAAAAAAAAAABAAAAAQAAAAAAAAABAAAAAAAAAAAAAAAAAAAAAAAAAAAAAAABAAAAAQAAAAEAAAAAAAAAAAAAAAEAAAABAAAAAQAAAAEAAAABAAAAAAAAAAEAAAABAAAAAAAAAAAAAAABAAAAAAAAAAEAAAAAAAAAAQAAAAAAAAAAAAAAAAAAAAEAAAABAAAAAQAAAAAAAAABAAAAAAAAAAAAAAABAAAAAAAAAAAAAAAAAAAAAQAAAAEAAAABAAAAAAAAAAEAAAAAAAAAAAAAAAEAAAAAAAAAAQAAAAAAAAABAAAAAQAAAAAAAAAAAAAAAQAAAAEAAAABAAAAAQAAAAEAAAABAAAAAQAAAAEAAAABAAAAAQAAAAAAAAAAAAAAAAAAAAEAAAAAAAAAAQAAAAEAAAABAAAAAQAAAAAAAAAAAAAAAAAAAAAAAAABAAAAAQAAAAEAAAABAAAAAQAAAAEAAAAAAAAAAQAAAAEAAAABAAAAAQAAAAAAAAAAAAAAAQAAAAAAAAABAAAAAQAAAAEAAAABAAAAAAAAAAEAAAABAAAAAQAAAAEAAAAAAAAAAAAAAAAAAAABAAAAAQAAAAEAAAABAAAAAQAAAAAAAAABAAAAAQAAAAEAAAABAAAAAAAAAAAAAAAAAAAAAAAAAAEAAAAAAAAAAAAAAAEAAAABAAAAAQAAAAAAAAAAAAAAAAAAAAEAAAABAAAAAQAAAAEAAAABAAAAAQAAAAEAAAABAAAAAQAAAAEAAAABAAAAAQAAAAEAAAAAAAAAAQAAAAAAAAAAAAAAAQAAAAEAAAABAAAAAAAAAAEAAAAAAAAAAAAAAAAAAAABAAAAAQAAAAAAAAAAAAAAAQAAAAEAAAAAAAAAAAAAAAAAAAAAAAAAAAAAAAEAAAABAAAAAQAAAAEAAAAAAAAAAAAAAAAAAAABAAAAAQAAAAAAAAAAAAAAAQAAAAEAAAABAAAAAQAAAAEAAAABAAAAAAAAAAEAAAABAAAAAAAAAAEAAAABAAAAAAAAAAAAAAABAAAAAQAAAAEAAAABAAAAAAAAAAAAAAABAAAAAQAAAAEAAAAAAAAAAQAAAAEAAAABAAAAAAAAAAAAAAABAAAAAAAAAAEAAAAAAAAAAQAAAAAAAAAAAAAAAAAAAAAAAAAAAAAAAQAAAAEAAAAAAAAAAQAAAAAAAAABAAAAAAAAAAAAAAAAAAAAAQAAAAEAAAAAAAAAAQAAAAEAAAABAAAAAQAAAAAAAAABAAAAAAAAAAEAAAAAAAAAAAAAAAAAAAAAAAAAAAAAAAEAAAAAAAAAAQAAAAEAAAABAAAAAAAAAAAAAAAAAAAAAAAAAAEAAAABAAAAAAAAAAAAAAAAAAAAAAAAAAAAAAABAAAAAQAAAAEAAAAAAAAAAAAAAAAAAAABAAAAAAAAAAAAAAAAAAAAAQAAAAEAAAAAAAAAAAAAAAEAAAABAAAAAQAAAAAAAAAAAAAAAAAAAAEAAAABAAAAAQAAAAAAAAAAAAAAAQAAAAAAAAAAAAAAAAAAAAEAAAAAAAAAAQAAAAEAAAAAAAAAAQAAAAEAAAABAAAAAAAAAAAAAAAAAAAAAQAAAAEAAAAAAAAAAQAAAAAAAAABAAAAAQAAAAAAAAABAAAAAQAAAAEAAAAAAAAAAAAAAAEAAAABAAAAAAAAAAAAAAAAAAAAAAAAAAAAAAAAAAAAAQAAAAAAAAABAAAAAQAAAAAAAAAAAAAAAAAAAAEAAAAAAAAAAQAAAAEAAAAAAAAAAAAAAAAAAAABAAAAAQAAAAEAAAABAAAAAQAAAAAAAAAAAAAAAAAAAAAAAAABAAAAAAAAAAAAAAAAAAAAAQAAAAEAAAABAAAAAAAAAAAAAAABAAAAAQAAAAAAAAAAAAAAAQAAAAAAAAABAAAAAQAAAAAAAAABAAAAAQAAAAAAAAABAAAAAQAAAAAAAAABAAAAAQAAAAAAAAABAAAAAAAAAAAAAAABAAAAAAAAAAEAAAAAAAAAAQAAAAAAAAABAAAAAQAAAAEAAAABAAAAAQAAAAAAAAABAAAAAQAAAAAAAAABAAAAAAAAAAAAAAAAAAAAAQAAAAEAAAABAAAAAAAAAAAAAAAAAAAAAQAAAAAAAAAAAAAAAAAAAAEAAAABAAAAAQAAAAAAAAABAAAAAAAAAAAAAAAAAAAAAAAAAAAAAAAAAAAAAQAAAAAAAAABAAAAAQAAAAAAAAABAAAAAQAAAAEAAAAAAAAAAQAAAAEAAAAAAAAAAQAAAAEAAAAAAAAAAQAAAAAAAAAAAAAAAQAAAAAAAAABAAAAAAAAAAEAAAAAAAAAAQAAAAAAAAABAAAAAAAAAAAAAAAAAAAAAQAAAAAAAAAAAAAAAAAAAAAAAAABAAAAAQAAAAEAAAABAAAAAQAAAAEAAAABAAAAAAAAAAAAAAABAAAAAQAAAAEAAAABAAAAAAAAAAAAAAABAAAAAAAAAAAAAAABAAAAAAAAAAAAAAAAAAAAAAAAAAEAAAAAAAAAAAAAAAEAAAAAAAAAAQAAAAEAAAABAAAAAAAAAAAAAAABAAAAAAAAAAEAAAAAAAAAAAAAAAAAAAAAAAAAAQAAAAAAAAAAAAAAAAAAAAAAAAAAAAAAAQAAAAEAAAABAAAAAAAAAAAAAAAAAAAAAQAAAAEAAAAAAAAAAQAAAAAAAAABAAAAAQAAAAAAAAABAAAAAQAAAAEAAAABAAAAAAAAAAAAAAAAAAAAAAAAAAAAAAAAAAAAAAAAAAAAAAAAAAAAAQAAAAEAAAABAAAAAQAAAAAAAAAAAAAAAQAAAAEAAAABAAAAAAAAAAEAAAAAAAAAAAAAAAAAAAABAAAAAAAAAAAAAAABAAAAAQAAAAEAAAABAAAAAAAAAAEAAAAAAAAAAAAAAAEAAAAAAAAAAAAAAAAAAAABAAAAAAAAAAAAAAABAAAAAQAAAAEAAAABAAAAAAAAAAEAAAABAAAAAQAAAAAAAAABAAAAAAAAAAEAAAABAAAAAQAAAAEAAAABAAAAAAAAAAAAAAAAAAAAAAAAAAEAAAAAAAAAAAAAAAEAAAABAAAAAAAAAAEAAAABAAAAAQAAAAEAAAABAAAAAQAAAAEAAAABAAAAAQAAAAAAAAAAAAAAAQAAAAEAAAAAAAAAAQAAAAAAAAABAAAAAQAAAAEAAAABAAAAAAAAAAAAAAABAAAAAAAAAAAAAAABAAAAAQAAAAAAAAABAAAAAAAAAAAAAAAAAAAAAQAAAAAAAAABAAAAAQAAAAEAAAAAAAAAAAAAAAEAAAAAAAAAAAAAAAEAAAAAAAAAAAAAAAEAAAAAAAAAAQAAAAEAAAABAAAAAQAAAAAAAAAAAAAAAQAAAAEAAAABAAAAAQAAAAEAAAAAAAAAAQAAAAAAAAABAAAAAAAAAAEAAAABAAAAAAAAAAEAAAAAAAAAAQAAAAEAAAAAAAAAAQAAAAEAAAABAAAAAAAAAAEAAAABAAAAAQAAAAEAAAAAAAAAAAAAAAAAAAAAAAAAAAAAAAEAAAAAAAAAAAAAAAEAAAAAAAAAAAAAAAEAAAAAAAAAAQAAAAAAAAABAAAAAAAAAAAAAAAAAAAAAQAAAAAAAAAAAAAAAQAAAAEAAAAAAAAAAAAAAAEAAAAAAAAAAQAAAAAAAAAAAAAAAQAAAAEAAAAAAAAAAAAAAAEAAAAAAAAAAQAAAAEAAAABAAAAAAAAAAAAAAABAAAAAAAAAAAAAAAAAAAAAAAAAAAAAAABAAAAAQAAAAEAAAAAAAAAAAAAAAEAAAABAAAAAQAAAAEAAAABAAAAAQAAAAAAAAABAAAAAAAAAAEAAAAAAAAAAQAAAAEAAAAAAAAAAQAAAAAAAAABAAAAAAAAAAEAAAABAAAAAQAAAAEAAAABAAAAAQAAAAEAAAABAAAAAAAAAAAAAAABAAAAAAAAAAEAAAAAAAAAAAAAAAEAAAABAAAAAAAAAAEAAAABAAAAAAAAAAEAAAAAAAAAAQAAAAAAAAAAAAAAAAAAAAEAAAAAAAAAAQAAAAEAAAAAAAAAAQAAAAAAAAAAAAAAAAAAAAEAAAABAAAAAAAAAAEAAAABAAAAAQAAAAEAAAAAAAAAAAAAAAEAAAABAAAAAAAAAAEAAAABAAAAAAAAAAAAAAAAAAAAAAAAAAEAAAABAAAAAAAAAAEAAAABAAAAAQAAAAAAAAAAAAAAAQAAAAAAAAABAAAAAAAAAAEAAAAAAAAAAQAAAAAAAAAAAAAAAAAAAAEAAAABAAAAAAAAAAEAAAAAAAAAAAAAAAAAAAABAAAAAAAAAAAAAAABAAAAAQAAAAAAAAABAAAAAAAAAAEAAAAAAAAAAQAAAAAAAAAAAAAAAQAAAAEAAAAAAAAAAAAAAAAAAAABAAAAAAAAAAAAAAABAAAAAAAAAAEAAAABAAAAAAAAAAEAAAABAAAAAAAAAAEAAAAAAAAAAAAAAAAAAAAAAAAAAAAAAAAAAAAAAAAAAQAAAAEAAAABAAAAAQAAAAEAAAABAAAAAAAAAAEAAAABAAAAAAAAAAAAAAABAAAAAAAAAAEAAAAAAAAAAAAAAAAAAAAAAAAAAQAAAAEAAAAAAAAAAQAAAAEAAAAAAAAAAQAAAAAAAAAAAAAAAAAAAAAAAAAAAAAAAQAAAAAAAAABAAAAAAAAAAAAAAAAAAAAAAAAAAAAAAAAAAAAAAAAAAAAAAAAAAAAAAAAAAEAAAAAAAAAAQAAAAAAAAAAAAAAAAAAAAEAAAAAAAAAAQAAAAEAAAAAAAAAAQAAAAAAAAABAAAAAQAAAAAAAAAAAAAAAAAAAAAAAAABAAAAAAAAAAEAAAABAAAAAQAAAAAAAAAAAAAAAAAAAAAAAAAAAAAAAQAAAAEAAAAAAAAAAAAAAAAAAAAAAAAAAQAAAAAAAAABAAAAAAAAAAAAAAAAAAAAAAAAAAEAAAABAAAAAQAAAAEAAAABAAAAAAAAAAEAAAAAAAAAAAAAAAEAAAAAAAAAAAAAAAEAAAAAAAAAAQAAAAEAAAAAAAAAAQAAAAEAAAAAAAAAAAAAAAEAAAAAAAAAAQAAAAEAAAAAAAAAAQAAAAAAAAAAAAAAAAAAAAEAAAAAAAAAAQAAAAEAAAABAAAAAQAAAAEAAAABAAAAAQAAAAEAAAAAAAAAAQAAAAEAAAAAAAAAAQAAAAEAAAABAAAAAQAAAAEAAAABAAAAAAAAAAEAAAABAAAAAAAAAAEAAAAAAAAAAQAAAAEAAAAAAAAAAAAAAAEAAAABAAAAAQAAAAAAAAAAAAAAAQAAAAAAAAABAAAAAQAAAAAAAAABAAAAAQAAAAAAAAAAAAAAAQAAAAEAAAAAAAAAAQAAAAEAAAAAAAAAAQAAAAAAAAAAAAAAAQAAAAEAAAABAAAAAQAAAAAAAAAAAAAAAQAAAAEAAAAAAAAAAQAAAAAAAAABAAAAAQAAAAEAAAABAAAAAQAAAAAAAAABAAAAAAAAAAAAAAAAAAAAAQAAAAEAAAAAAAAAAQAAAAEAAAABAAAAAAAAAAAAAAABAAAAAAAAAAEAAAABAAAAAQAAAAAAAAAAAAAAAQAAAAAAAAABAAAAAQAAAAEAAAABAAAAAAAAAAAAAAAAAAAAAAAAAAAAAAAAAAAAAAAAAAAAAAABAAAAAQAAAAEAAAAAAAAAAQAAAAEAAAABAAAAAAAAAAEAAAABAAAAAAAAAAAAAAAAAAAAAAAAAAAAAAAAAAAAAAAAAAAAAAABAAAAAAAAAAEAAAABAAAAAQAAAAEAAAAAAAAAAAAAAAEAAAABAAAAAQAAAAAAAAABAAAAAQAAAAAAAAAAAAAAAAAAAAAAAAABAAAAAAAAAAEAAAAAAAAAAAAAAAEAAAAAAAAAAAAAAAAAAAAAAAAAAQAAAAEAAAABAAAAAAAAAAAAAAABAAAAAAAAAAEAAAAAAAAAAAAAAAEAAAAAAAAAAQAAAAAAAAABAAAAAQAAAAEAAAABAAAAAQAAAAAAAAABAAAAAAAAAAAAAAAAAAAAAQAAAAAAAAAAAAAAAAAAAAEAAAAAAAAAAAAAAAAAAAAAAAAAAAAAAAAAAAABAAAAAQAAAAAAAAABAAAAAAAAAAEAAAABAAAAAAAAAAAAAAABAAAAAAAAAAEAAAAAAAAAAAAAAAAAAAAAAAAAAQAAAAEAAAABAAAAAQAAAAEAAAAAAAAAAAAAAAAAAAABAAAAAQAAAAEAAAABAAAAAAAAAAEAAAAAAAAAAAAAAAEAAAABAAAAAAAAAAAAAAAAAAAAAAAAAAEAAAABAAAAAQAAAAAAAAAAAAAAAAAAAAAAAAABAAAAAQAAAAEAAAAAAAAAAAAAAAAAAAAAAAAAAAAAAAEAAAAAAAAAAQAAAAEAAAABAAAAAQAAAAEAAAABAAAAAQAAAAEAAAAAAAAAAAAAAAAAAAABAAAAAAAAAAAAAAAAAAAAAQAAAAEAAAAAAAAAAQAAAAEAAAAAAAAAAQAAAAAAAAAAAAAAAQAAAAEAAAAAAAAAAAAAAAAAAAABAAAAAAAAAAEAAAABAAAAAAAAAAEAAAABAAAAAAAAAAEAAAABAAAAAQAAAAEAAAABAAAAAAAAAAAAAAAAAAAAAQAAAAEAAAAAAAAAAQAAAAAAAAAAAAAAAAAAAAAAAAAAAAAAAQAAAAEAAAABAAAAAQAAAAAAAAAAAAAAAAAAAAAAAAABAAAAAQAAAAAAAAABAAAAAAAAAAAAAAAAAAAAAAAAAAEAAAAAAAAAAQAAAAAAAAAAAAAAAQAAAAAAAAAAAAAAAQAAAAAAAAABAAAAAQAAAAAAAAAAAAAAAQAAAAAAAAABAAAAAAAAAAAAAAABAAAAAAAAAAEAAAABAAAAAQAAAAAAAAABAAAAAAAAAAEAAAABAAAAAQAAAAAAAAABAAAAAAAAAAEAAAABAAAAAQAAAAAAAAABAAAAAQAAAAEAAAAAAAAAAQAAAAAAAAABAAAAAQAAAAEAAAABAAAAAQAAAAEAAAAAAAAAAAAAAAAAAAAAAAAAAAAAAAEAAAABAAAAAAAAAAEAAAAAAAAAAQAAAAAAAAAAAAAAAAAAAAEAAAABAAAAAQAAAAAAAAAAAAAAAAAAAAAAAAAAAAAAAAAAAAEAAAABAAAAAQAAAAEAAAABAAAAAQAAAAAAAAABAAAAAQAAAAAAAAABAAAAAQAAAAEAAAAAAAAAAAAAAAEAAAAAAAAAAQAAAAEAAAABAAAAAQAAAAAAAAABAAAAAQAAAAAAAAAAAAAAAAAAAAAAAAABAAAAAQAAAAEAAAABAAAAAAAAAAEAAAABAAAAAAAAAAAAAAABAAAAAQAAAAEAAAABAAAAAQAAAAEAAAAAAAAAAQAAAAAAAAABAAAAAQAAAAAAAAABAAAAAAAAAAAAAAABAAAAAQAAAAAAAAABAAAAAQAAAAEAAAAAAAAAAAAAAAEAAAABAAAAAAAAAAEAAAAAAAAAAQAAAAAAAAABAAAAAQAAAAAAAAABAAAAAQAAAAEAAAAAAAAAAAAAAAEAAAABAAAAAAAAAAEAAAABAAAAAQAAAAAAAAAAAAAAAAAAAAEAAAABAAAAAQAAAAEAAAAAAAAAAQAAAAAAAAAAAAAAAAAAAAEAAAABAAAAAAAAAAEAAAAAAAAAAQAAAAEAAAABAAAAAQAAAAAAAAABAAAAAAAAAAEAAAAAAAAAAQAAAAEAAAAAAAAAAQAAAAAAAAAAAAAAAAAAAAAAAAABAAAAAAAAAAAAAAAAAAAAAAAAAAAAAAABAAAAAAAAAAEAAAAAAAAAAQAAAAAAAAAAAAAAAAAAAAEAAAABAAAAAAAAAAEAAAABAAAAAAAAAAAAAAABAAAAAAAAAAEAAAAAAAAAAAAAAAAAAAABAAAAAQAAAAAAAAABAAAAAQAAAAEAAAAAAAAAAAAAAAEAAAAAAAAAAAAAAAEAAAABAAAAAQAAAAEAAAABAAAAAAAAAAAAAAABAAAAAAAAAAEAAAABAAAAAQAAAAEAAAAAAAAAAAAAAAEAAAAAAAAAAAAAAAAAAAABAAAAAAAAAAAAAAABAAAAAAAAAAEAAAABAAAAAAAAAAAAAAABAAAAAAAAAAAAAAABAAAAAAAAAAAAAAAAAAAAAAAAAAEAAAAAAAAAAAAAAAEAAAAAAAAAAAAAAAEAAAAAAAAAAAAAAAAAAAAAAAAAAQAAAAAAAAAAAAAAAQAAAAEAAAAAAAAAAQAAAAEAAAABAAAAAQAAAAEAAAAAAAAAAAAAAAAAAAABAAAAAAAAAAEAAAABAAAAAQAAAAAAAAAAAAAAAQAAAAAAAAAAAAAAAQAAAAEAAAABAAAAAQAAAAEAAAAAAAAAAQAAAAEAAAAAAAAAAQAAAAAAAAAAAAAAAQAAAAEAAAABAAAAAQAAAAAAAAABAAAAAQAAAAAAAAABAAAAAAAAAAAAAAAAAAAAAAAAAAAAAAAAAAAAAAAAAAEAAAABAAAAAQAAAAEAAAABAAAAAQAAAAAAAAAAAAAAAAAAAAEAAAAAAAAAAQAAAAEAAAABAAAAAAAAAAEAAAABAAAAAQAAAAEAAAAAAAAAAAAAAAEAAAAAAAAAAQAAAAAAAAAAAAAAAAAAAAEAAAABAAAAAAAAAAAAAAAAAAAAAQAAAAEAAAABAAAAAQAAAAAAAAABAAAAAQAAAAAAAAABAAAAAAAAAAEAAAABAAAAAAAAAAEAAAABAAAAAAAAAAEAAAABAAAAAQAAAAAAAAAAAAAAAQAAAAEAAAABAAAAAAAAAAAAAAAAAAAAAAAAAAAAAAABAAAAAQAAAAEAAAAAAAAAAAAAAAAAAAABAAAAAQAAAAAAAAAAAAAAAQAAAAEAAAAAAAAAAQAAAAEAAAAAAAAAAQAAAAAAAAAAAAAAAQAAAAEAAAABAAAAAQAAAAEAAAAAAAAAAQAAAAAAAAABAAAAAAAAAAAAAAABAAAAAAAAAAAAAAAAAAAAAQAAAAEAAAAAAAAAAAAAAAAAAAABAAAAAQAAAAAAAAAAAAAAAQAAAAEAAAAAAAAAAQAAAAEAAAABAAAAAQAAAAEAAAAAAAAAAAAAAAAAAAAAAAAAAQAAAAAAAAAAAAAAAQAAAAEAAAABAAAAAQAAAAAAAAAAAAAAAQAAAAEAAAAAAAAAAAAAAAAAAAAAAAAAAQAAAAAAAAAAAAAAAQAAAAAAAAAAAAAAAQAAAAAAAAABAAAAAQAAAAEAAAAAAAAAAAAAAAEAAAABAAAAAQAAAAAAAAABAAAAAQAAAAEAAAABAAAAAAAAAAAAAAAAAAAAAAAAAAEAAAABAAAAAQAAAAAAAAAAAAAAAAAAAAEAAAAAAAAAAAAAAAAAAAAAAAAAAQAAAAEAAAABAAAAAAAAAAEAAAABAAAAAQAAAAEAAAABAAAAAAAAAAEAAAABAAAAAQAAAAAAAAAAAAAAAQAAAAEAAAABAAAAAQAAAAEAAAABAAAAAQAAAAAAAAAAAAAAAQAAAAEAAAAAAAAAAQAAAAAAAAAAAAAAAQAAAAAAAAAAAAAAAQAAAAEAAAABAAAAAAAAAAEAAAAAAAAAAQAAAAAAAAABAAAAAQAAAAEAAAAAAAAAAQAAAAEAAAABAAAAAAAAAAEAAAAAAAAAAAAAAAAAAAAAAAAAAAAAAAAAAAAAAAAAAAAAAAAAAAABAAAAAAAAAAAAAAAAAAAAAAAAAAAAAAAAAAAAAAAAAAAAAAAAAAAAAQAAAAAAAAABAAAAAAAAAAAAAAAAAAAAAQAAAAEAAAAAAAAAAAAAAAEAAAAAAAAAAAAAAAEAAAAAAAAAAAAAAAAAAAAAAAAAAQAAAAEAAAAAAAAAAQAAAAAAAAAAAAAAAQAAAAAAAAABAAAAAAAAAAEAAAABAAAAAQAAAAAAAAAAAAAAAAAAAAEAAAAAAAAAAAAAAAAAAAABAAAAAAAAAAEAAAAAAAAAAAAAAAAAAAABAAAAAAAAAAAAAAABAAAAAQAAAAAAAAABAAAAAQAAAAEAAAAAAAAAAAAAAAEAAAAAAAAAAAAAAAEAAAAAAAAAAQAAAAEAAAAAAAAAAAAAAAAAAAAAAAAAAAAAAAEAAAABAAAAAAAAAAEAAAAAAAAAAQAAAAAAAAAAAAAAAQAAAAEAAAAAAAAAAAAAAAEAAAAAAAAAAAAAAAAAAAABAAAAAQAAAAEAAAABAAAAAQAAAAAAAAABAAAAAQAAAAAAAAAAAAAAAAAAAAAAAAABAAAAAAAAAAEAAAAAAAAAAQAAAAAAAAABAAAAAAAAAAEAAAAAAAAAAAAAAAEAAAABAAAAAQAAAAEAAAABAAAAAQAAAAAAAAABAAAAAAAAAAAAAAABAAAAAQAAAAAAAAABAAAAAQAAAAAAAAABAAAAAQAAAAEAAAABAAAAAAAAAAAAAAAAAAAAAQAAAAEAAAAAAAAAAQAAAAAAAAAAAAAAAQAAAAEAAAABAAAAAAAAAAAAAAABAAAAAAAAAAAAAAAAAAAAAAAAAAAAAAABAAAAAAAAAAAAAAAAAAAAAAAAAAAAAAABAAAAAAAAAAEAAAABAAAAAAAAAAAAAAAAAAAAAQAAAAAAAAAAAAAAAQAAAAEAAAABAAAAAQAAAAEAAAAAAAAAAAAAAAAAAAAAAAAAAQAAAAEAAAABAAAAAAAAAAEAAAABAAAAAQAAAAEAAAABAAAAAAAAAAAAAAABAAAAAAAAAAAAAAAAAAAAAAAAAAAAAAAAAAAAAQAAAAEAAAABAAAAAAAAAAAAAAABAAAAAAAAAAAAAAABAAAAAAAAAAEAAAABAAAAAAAAAAAAAAABAAAAAQAAAAEAAAABAAAAAQAAAAAAAAABAAAAAAAAAAAAAAABAAAAAQAAAAEAAAABAAAAAQAAAAEAAAABAAAAAAAAAAEAAAAAAAAAAgAAAAEAAAAAAAAAAAAAAAAAAAABAAAAAAAAAAEAAAABAAAAAAAAAAEAAAAAAAAAAAAAAAAAAAAAAAAAAAAAAAEAAAABAAAAAQAAAAAAAAABAAAAAQAAAAEAAAAAAAAAAAAAAAAAAAAAAAAAAQAAAAEAAAABAAAAAAAAAAAAAAABAAAAAAAAAAAAAAABAAAAAQAAAAEAAAAAAAAAAQAAAAEAAAABAAAAAQAAAAAAAAABAAAAAQAAAAAAAAAAAAAAAQAAAAEAAAABAAAAAAAAAAEAAAABAAAAAQAAAAEAAAAAAAAAAAAAAAAAAAABAAAAAQAAAAEAAAAAAAAAAAAAAAEAAAABAAAAAAAAAAEAAAABAAAAAQAAAAAAAAAAAAAAAQAAAAAAAAABAAAAAAAAAAEAAAABAAAAAAAAAAAAAAAAAAAAAAAAAAEAAAABAAAAAQAAAAAAAAABAAAAAAAAAAEAAAABAAAAAAAAAAAAAAAAAAAAAQAAAAAAAAABAAAAAAAAAAEAAAAAAAAAAAAAAAAAAAABAAAAAQAAAAAAAAABAAAAAQAAAAEAAAABAAAAAAAAAAAAAAABAAAAAQAAAAEAAAABAAAAAQAAAAEAAAABAAAAAQAAAAEAAAAAAAAAAQAAAAAAAAABAAAAAAAAAAEAAAAAAAAAAAAAAAEAAAAAAAAAAAAAAAAAAAAAAAAAAAAAAAAAAAABAAAAAQAAAAEAAAABAAAAAQAAAAAAAAABAAAAAQAAAAAAAAABAAAAAQAAAAAAAAAAAAAAAAAAAAEAAAABAAAAAQAAAAAAAAAAAAAAAAAAAAAAAAAAAAAAAAAAAAAAAAABAAAAAQAAAAEAAAABAAAAAQAAAAAAAAAAAAAAAAAAAAAAAAABAAAAAAAAAAAAAAAAAAAAAAAAAAAAAAAAAAAAAAAAAAAAAAABAAAAAQAAAAAAAAAAAAAAAAAAAAEAAAAAAAAAAAAAAAEAAAABAAAAAAAAAAEAAAABAAAAAAAAAAAAAAABAAAAAAAAAAAAAAABAAAAAQAAAAAAAAABAAAAAAAAAAAAAAABAAAAAAAAAAEAAAABAAAAAQAAAAEAAAABAAAAAAAAAAEAAAAAAAAAAQAAAAEAAAABAAAAAAAAAAAAAAAAAAAAAAAAAAAAAAABAAAAAQAAAAEAAAAAAAAAAQAAAAEAAAAAAAAAAAAAAAAAAAAAAAAAAQAAAAAAAAAAAAAAAQAAAAEAAAABAAAAAQAAAAAAAAABAAAAAAAAAAAAAAAAAAAAAQAAAAEAAAABAAAAAQAAAAAAAAAAAAAAAQAAAAAAAAABAAAAAQAAAAEAAAABAAAAAQAAAAAAAAABAAAAAAAAAAAAAAAAAAAAAAAAAAAAAAABAAAAAQAAAAEAAAAAAAAAAAAAAAEAAAAAAAAAAQAAAAAAAAABAAAAAAAAAAEAAAAAAAAAAAAAAAEAAAAAAAAAAQAAAAAAAAAAAAAAAAAAAAAAAAABAAAAAQAAAAAAAAAAAAAAAQAAAAEAAAAAAAAAAAAAAAEAAAAAAAAAAAAAAAEAAAABAAAAAQAAAAAAAAABAAAAAQAAAAAAAAABAAAAAAAAAAAAAAABAAAAAAAAAAEAAAAAAAAAAAAAAAAAAAAAAAAAAAAAAAEAAAAAAAAAAAAAAAAAAAAAAAAAAQAAAAAAAAAAAAAAAQAAAAAAAAAAAAAAAAAAAAEAAAABAAAAAQAAAAAAAAABAAAAAQAAAAEAAAAAAAAAAAAAAAAAAAAAAAAAAAAAAAAAAAABAAAAAQAAAAEAAAABAAAAAAAAAAAAAAABAAAAAQAAAAEAAAAAAAAAAAAAAAAAAAABAAAAAAAAAAEAAAABAAAAAQAAAAEAAAABAAAAAAAAAAAAAAABAAAAAAAAAAAAAAABAAAAAAAAAAEAAAAAAAAAAQAAAAAAAAABAAAAAQAAAAAAAAAAAAAAAAAAAAEAAAABAAAAAAAAAAEAAAAAAAAAAQAAAAEAAAAAAAAAAAAAAAEAAAAAAAAAAAAAAAEAAAABAAAAAQAAAAEAAAABAAAAAAAAAAAAAAAAAAAAAAAAAAAAAAAAAAAAAAAAAAAAAAABAAAAAAAAAAAAAAABAAAAAAAAAAAAAAABAAAAAQAAAAAAAAABAAAAAAAAAAEAAAAAAAAAAQAAAAEAAAAAAAAAAQAAAAAAAAAAAAAAAQAAAAAAAAAAAAAAAQAAAAAAAAAAAAAAAAAAAAAAAAAAAAAAAQAAAAEAAAABAAAAAAAAAAAAAAABAAAAAAAAAAAAAAABAAAAAAAAAAEAAAAAAAAAAQAAAAEAAAABAAAAAQAAAAAAAAAAAAAAAQAAAAAAAAABAAAAAAAAAAAAAAABAAAAAQAAAAAAAAAAAAAAAQAAAAAAAAAAAAAAAQAAAAAAAAABAAAAAAAAAAEAAAAAAAAAAQAAAAAAAAAAAAAAAQAAAAEAAAAAAAAAAAAAAAEAAAAAAAAAAQAAAAAAAAAAAAAAAAAAAAAAAAABAAAAAQAAAAAAAAAAAAAAAAAAAAAAAAAAAAAAAAAAAAEAAAABAAAAAQAAAAAAAAABAAAAAAAAAAAAAAABAAAAAAAAAAEAAAAAAAAAAAAAAAAAAAABAAAAAAAAAAAAAAABAAAAAQAAAAEAAAAAAAAAAAAAAAAAAAAAAAAAAQAAAAEAAAABAAAAAQAAAAAAAAAAAAAAAAAAAAEAAAABAAAAAQAAAAAAAAABAAAAAAAAAAAAAAABAAAAAQAAAAAAAAABAAAAAAAAAAAAAAAAAAAAAAAAAAEAAAABAAAAAAAAAAAAAAAAAAAAAQAAAAEAAAABAAAAAQAAAAEAAAAAAAAAAAAAAAEAAAABAAAAAQAAAAAAAAAAAAAAAAAAAAAAAAAAAAAAAQAAAAAAAAAAAAAAAAAAAAEAAAAAAAAAAAAAAAEAAAAAAAAAAAAAAAEAAAAAAAAAAQAAAAAAAAAAAAAAAAAAAAEAAAAAAAAAAAAAAAEAAAABAAAAAAAAAAAAAAABAAAAAAAAAAAAAAABAAAAAQAAAAEAAAAAAAAAAQAAAAEAAAAAAAAAAQAAAAEAAAABAAAAAAAAAAAAAAAAAAAAAQAAAAAAAAAAAAAAAAAAAAEAAAABAAAAAQAAAAAAAAABAAAAAAAAAAEAAAABAAAAAQAAAAAAAAABAAAAAAAAAAEAAAAAAAAAAAAAAAAAAAAAAAAAAQAAAAEAAAABAAAAAAAAAAEAAAAAAAAAAAAAAAAAAAABAAAAAQAAAAAAAAABAAAAAQAAAAEAAAAAAAAAAAAAAAAAAAABAAAAAAAAAAAAAAAAAAAAAQAAAAAAAAABAAAAAAAAAAAAAAABAAAAAQAAAAAAAAAAAAAAAAAAAAEAAAABAAAAAQAAAAAAAAAAAAAAAAAAAAAAAAABAAAAAAAAAAAAAAABAAAAAAAAAAAAAAAAAAAAAAAAAAAAAAAAAAAAAQAAAAAAAAAAAAAAAQAAAAAAAAAAAAAAAQAAAAEAAAABAAAAAQAAAAAAAAABAAAAAAAAAAEAAAABAAAAAQAAAAEAAAABAAAAAAAAAAAAAAAAAAAAAAAAAAAAAAAAAAAAAAAAAAEAAAABAAAAAAAAAAAAAAAAAAAAAQAAAAEAAAABAAAAAQAAAAAAAAABAAAAAAAAAAEAAAABAAAAAAAAAAAAAAAAAAAAAQAAAAEAAAAAAAAAAQAAAAEAAAABAAAAAAAAAAAAAAAAAAAAAQAAAAAAAAABAAAAAAAAAAEAAAAAAAAAAAAAAAAAAAAAAAAAAAAAAAAAAAAAAAAAAAAAAAEAAAABAAAAAAAAAAAAAAAAAAAAAQAAAAEAAAABAAAAAAAAAAAAAAABAAAAAQAAAAEAAAABAAAAAAAAAAEAAAABAAAAAAAAAAEAAAAAAAAAAQAAAAAAAAAAAAAAAAAAAAEAAAAAAAAAAQAAAAEAAAABAAAAAQAAAAAAAAABAAAAAQAAAAAAAAAAAAAAAAAAAAEAAAAAAAAAAQAAAAAAAAABAAAAAAAAAAAAAAAAAAAAAAAAAAEAAAABAAAAAQAAAAAAAAAAAAAAAAAAAAEAAAABAAAAAAAAAAEAAAABAAAAAAAAAAEAAAAAAAAAAAAAAAEAAAABAAAAAAAAAAEAAAABAAAAAQAAAAAAAAAAAAAAAAAAAAAAAAAAAAAAAQAAAAAAAAAAAAAAAAAAAAAAAAAAAAAAAAAAAAEAAAABAAAAAAAAAAAAAAAAAAAAAQAAAAEAAAAAAAAAAAAAAAEAAAABAAAAAAAAAAEAAAABAAAAAQAAAAAAAAABAAAAAQAAAAAAAAAAAAAAAQAAAAAAAAABAAAAAQAAAAEAAAABAAAAAAAAAAAAAAABAAAAAAAAAAEAAAABAAAAAQAAAAAAAAAAAAAAAAAAAAEAAAAAAAAAAAAAAAEAAAAAAAAAAQAAAAEAAAABAAAAAQAAAAAAAAABAAAAAAAAAAAAAAABAAAAAAAAAAEAAAABAAAAAQAAAAAAAAAAAAAAAAAAAAEAAAABAAAAAQAAAAEAAAAAAAAAAAAAAAEAAAAAAAAAAAAAAAEAAAABAAAAAQAAAAAAAAABAAAAAQAAAAAAAAABAAAAAAAAAAAAAAABAAAAAQAAAAEAAAABAAAAAAAAAAEAAAABAAAAAAAAAAEAAAABAAAAAQAAAAEAAAAAAAAAAQAAAAEAAAAAAAAAAQAAAAEAAAAAAAAAAAAAAAAAAAAAAAAAAQAAAAEAAAABAAAAAQAAAAAAAAAAAAAAAAAAAAEAAAAAAAAAAQAAAAAAAAAAAAAAAAAAAAAAAAAAAAAAAAAAAAAAAAABAAAAAAAAAAAAAAABAAAAAAAAAAAAAAABAAAAAQAAAAEAAAAAAAAAAQAAAAEAAAAAAAAAAAAAAAEAAAAAAAAAAQAAAAAAAAAAAAAAAAAAAAEAAAAAAAAAAAAAAAEAAAAAAAAAAAAAAAEAAAAAAAAAAAAAAAAAAAAAAAAAAQAAAAEAAAAAAAAAAAAAAAEAAAAAAAAAAQAAAAAAAAAAAAAAAQAAAAEAAAAAAAAAAQAAAAEAAAAAAAAAAAAAAAAAAAAAAAAAAQAAAAAAAAABAAAAAQAAAAEAAAAAAAAAAAAAAAEAAAAAAAAAAQAAAAEAAAABAAAAAQAAAAEAAAAAAAAAAQAAAAAAAAABAAAAAAAAAAAAAAAAAAAAAQAAAAAAAAABAAAAAAAAAAAAAAABAAAAAQAAAAEAAAABAAAAAQAAAAAAAAAAAAAAAAAAAAEAAAABAAAAAQAAAAEAAAAAAAAAAQAAAAAAAAAAAAAAAQAAAAEAAAAAAAAAAQAAAAEAAAAAAAAAAQAAAAAAAAAAAAAAAAAAAAAAAAAAAAAAAQAAAAAAAAABAAAAAQAAAAEAAAABAAAAAAAAAAAAAAAAAAAAAQAAAAEAAAABAAAAAAAAAAEAAAABAAAAAQAAAAEAAAAAAAAAAAAAAAEAAAAAAAAAAAAAAAEAAAABAAAAAAAAAAEAAAABAAAAAAAAAAEAAAAAAAAAAQAAAAEAAAABAAAAAAAAAAAAAAABAAAAAQAAAAEAAAABAAAAAQAAAAAAAAAAAAAAAAAAAAAAAAAAAAAAAQAAAAEAAAAAAAAAAAAAAAAAAAAAAAAAAAAAAAAAAAABAAAAAQAAAAEAAAABAAAAAAAAAAEAAAABAAAAAQAAAAEAAAAAAAAAAAAAAAAAAAAAAAAAAAAAAAEAAAAAAAAAAAAAAAAAAAAAAAAAAQAAAAAAAAAAAAAAAQAAAAEAAAAAAAAAAAAAAAEAAAABAAAAAAAAAAAAAAAAAAAAAAAAAAEAAAABAAAAAQAAAAAAAAAAAAAAAQAAAAAAAAAAAAAAAQAAAAEAAAABAAAAAQAAAAEAAAABAAAAAAAAAAEAAAABAAAAAQAAAAAAAAABAAAAAQAAAAEAAAABAAAAAQAAAAEAAAABAAAAAQAAAAAAAAAAAAAAAAAAAAEAAAAAAAAAAQAAAAEAAAABAAAAAAAAAAAAAAABAAAAAQAAAAEAAAAAAAAAAQAAAAEAAAAAAAAAAAAAAAAAAAAAAAAAAAAAAAEAAAABAAAAAQAAAAEAAAAAAAAAAAAAAAEAAAABAAAAAQAAAAEAAAABAAAAAAAAAAEAAAAAAAAAAAAAAAAAAAAAAAAAAAAAAAAAAAABAAAAAAAAAAEAAAAAAAAAAQAAAAAAAAABAAAAAQAAAAEAAAABAAAAAAAAAAEAAAABAAAAAAAAAAAAAAABAAAAAAAAAAAAAAAAAAAAAQAAAAAAAAAAAAAAAAAAAAAAAAAAAAAAAQAAAAEAAAABAAAAAAAAAAAAAAAAAAAAAQAAAAAAAAAAAAAAAQAAAAEAAAAAAAAAAQAAAAEAAAAAAAAAAQAAAAEAAAABAAAAAQAAAAEAAAABAAAAAQAAAAAAAAAAAAAAAQAAAAAAAAAAAAAAAAAAAAAAAAABAAAAAAAAAAAAAAAAAAAAAQAAAAEAAAABAAAAAAAAAAAAAAABAAAAAAAAAAEAAAAAAAAAAAAAAAEAAAAAAAAAAQAAAAAAAAABAAAAAQAAAAEAAAAAAAAAAAAAAAAAAAAAAAAAAAAAAAEAAAABAAAAAAAAAAEAAAABAAAAAQAAAAEAAAABAAAAAAAAAAEAAAABAAAAAQAAAAEAAAABAAAAAAAAAAEAAAAAAAAAAAAAAAAAAAABAAAAAAAAAAAAAAAAAAAAAAAAAAAAAAABAAAAAQAAAAAAAAAAAAAAAAAAAAEAAAAAAAAAAAAAAAEAAAAAAAAAAQAAAAEAAAABAAAAAAAAAAAAAAABAAAAAQAAAAEAAAAAAAAAAQAAAAAAAAAAAAAAAAAAAAEAAAAAAAAAAAAAAAEAAAAAAAAAAQAAAAEAAAABAAAAAQAAAAEAAAAAAAAAAQAAAAAAAAABAAAAAAAAAAEAAAAAAAAAAAAAAAAAAAABAAAAAQAAAAAAAAABAAAAAAAAAAAAAAABAAAAAQAAAAEAAAAAAAAAAAAAAAEAAAAAAAAAAAAAAAAAAAAAAAAAAAAAAAAAAAAAAAAAAAAAAAEAAAABAAAAAQAAAAEAAAABAAAAAAAAAAAAAAABAAAAAQAAAAEAAAABAAAAAAAAAAAAAAAAAAAAAQAAAAAAAAABAAAAAAAAAAEAAAAAAAAAAAAAAAAAAAABAAAAAAAAAAAAAAABAAAAAAAAAAAAAAABAAAAAAAAAAEAAAABAAAAAQAAAAEAAAABAAAAAQAAAAAAAAAAAAAAAAAAAAAAAAABAAAAAQAAAAEAAAAAAAAAAAAAAAEAAAABAAAAAAAAAAAAAAABAAAAAAAAAAEAAAABAAAAAQAAAAEAAAABAAAAAAAAAAAAAAAAAAAAAQAAAAAAAAAAAAAAAAAAAAEAAAAAAAAAAQAAAAEAAAAAAAAAAQAAAAAAAAAAAAAAAAAAAAEAAAABAAAAAQAAAAAAAAAAAAAAAAAAAAEAAAABAAAAAQAAAAEAAAAAAAAAAAAAAAEAAAABAAAAAAAAAAAAAAAAAAAAAAAAAAAAAAABAAAAAQAAAAEAAAAAAAAAAAAAAAAAAAABAAAAAAAAAAAAAAAAAAAAAQAAAAAAAAABAAAAAQAAAAEAAAAAAAAAAQAAAAAAAAAAAAAAAQAAAAEAAAABAAAAAQAAAAAAAAAAAAAAAQAAAAAAAAABAAAAAQAAAAAAAAABAAAAAQAAAAAAAAABAAAAAQAAAAAAAAABAAAAAQAAAAAAAAAAAAAAAAAAAAEAAAABAAAAAQAAAAAAAAAAAAAAAQAAAAAAAAABAAAAAQAAAAEAAAABAAAAAQAAAAEAAAABAAAAAQAAAAEAAAABAAAAAQAAAAEAAAABAAAAAAAAAAEAAAABAAAAAAAAAAEAAAABAAAAAQAAAAAAAAABAAAAAAAAAAAAAAAAAAAAAAAAAAEAAAAAAAAAAQAAAAAAAAABAAAAAAAAAAEAAAAAAAAAAQAAAAEAAAABAAAAAAAAAAAAAAAAAAAAAAAAAAAAAAABAAAAAAAAAAAAAAABAAAAAAAAAAEAAAAAAAAAAQAAAAAAAAAAAAAAAAAAAAAAAAABAAAAAAAAAAAAAAAAAAAAAQAAAAAAAAAAAAAAAAAAAAEAAAAAAAAAAQAAAAEAAAABAAAAAQAAAAAAAAAAAAAAAQAAAAEAAAAAAAAAAAAAAAAAAAAAAAAAAQAAAAEAAAAAAAAAAAAAAAEAAAAAAAAAAQAAAAAAAAAAAAAAAQAAAAEAAAABAAAAAAAAAAEAAAABAAAAAQAAAAEAAAAAAAAAAQAAAAEAAAABAAAAAQAAAAEAAAAAAAAAAQAAAAEAAAAAAAAAAQAAAAAAAAABAAAAAAAAAAAAAAAAAAAAAQAAAAAAAAABAAAAAQAAAAEAAAAAAAAAAAAAAAEAAAAAAAAAAAAAAAAAAAAAAAAAAQAAAAAAAAABAAAAAAAAAAAAAAABAAAAAQAAAAEAAAAAAAAAAAAAAAEAAAABAAAAAAAAAAAAAAABAAAAAQAAAAEAAAAAAAAAAAAAAAEAAAAAAAAAAAAAAAEAAAABAAAAAAAAAAEAAAABAAAAAQAAAAEAAAABAAAAAQAAAAAAAAAAAAAAAQAAAAAAAAABAAAAAAAAAAAAAAABAAAAAAAAAAAAAAAAAAAAAAAAAAAAAAABAAAAAAAAAAAAAAAAAAAAAQAAAAEAAAABAAAAAQAAAAAAAAAAAAAAAAAAAAEAAAABAAAAAQAAAAAAAAAAAAAAAQAAAAEAAAABAAAAAAAAAAAAAAAAAAAAAQAAAAAAAAABAAAAAQAAAAAAAAAAAAAAAAAAAAAAAAAAAAAAAAAAAAEAAAABAAAAAQAAAAEAAAAAAAAAAAAAAAEAAAABAAAAAAAAAAAAAAAAAAAAAAAAAAEAAAAAAAAAAQAAAAAAAAAAAAAAAQAAAAAAAAABAAAAAQAAAAEAAAAAAAAAAQAAAAAAAAABAAAAAAAAAAEAAAABAAAAAQAAAAEAAAAAAAAAAQAAAAEAAAAAAAAAAQAAAAEAAAAAAAAAAQAAAAEAAAAAAAAAAQAAAAEAAAABAAAAAQAAAAAAAAAAAAAAAAAAAAEAAAABAAAAAQAAAAEAAAABAAAAAAAAAAAAAAABAAAAAQAAAAAAAAAAAAAAAQAAAAEAAAAAAAAAAQAAAAAAAAABAAAAAQAAAAEAAAABAAAAAQAAAAAAAAAAAAAAAQAAAAAAAAABAAAAAAAAAAEAAAABAAAAAQAAAAAAAAABAAAAAQAAAAEAAAABAAAAAQAAAAEAAAAAAAAAAQAAAAAAAAABAAAAAAAAAAEAAAABAAAAAAAAAAAAAAAAAAAAAQAAAAEAAAAAAAAAAAAAAAAAAAABAAAAAAAAAAEAAAAAAAAAAQAAAAAAAAABAAAAAQAAAAEAAAABAAAAAQAAAAAAAAABAAAAAQAAAAEAAAAAAAAAAAAAAAAAAAABAAAAAAAAAAAAAAAAAAAAAQAAAAAAAAAAAAAAAQAAAAEAAAAAAAAAAAAAAAEAAAABAAAAAQAAAAEAAAABAAAAAQAAAAAAAAABAAAAAAAAAAAAAAAAAAAAAQAAAAEAAAAAAAAAAQAAAAEAAAABAAAAAQAAAAAAAAABAAAAAAAAAAAAAAAAAAAAAAAAAAAAAAABAAAAAAAAAAEAAAABAAAAAQAAAAEAAAABAAAAAQAAAAAAAAABAAAAAAAAAAEAAAABAAAAAAAAAAAAAAAAAAAAAQAAAAAAAAAAAAAAAAAAAAAAAAAAAAAAAQAAAAEAAAAAAAAAAAAAAAEAAAAAAAAAAAAAAAEAAAABAAAAAAAAAAEAAAABAAAAAQAAAAEAAAAAAAAAAAAAAAAAAAABAAAAAAAAAAAAAAABAAAAAAAAAAEAAAAAAAAAAAAAAAEAAAAAAAAAAAAAAAAAAAABAAAAAQAAAAEAAAABAAAAAQAAAAEAAAABAAAAAAAAAAEAAAABAAAAAAAAAAEAAAABAAAAAAAAAAEAAAABAAAAAQAAAAEAAAAAAAAAAAAAAAAAAAAAAAAAAQAAAAEAAAABAAAAAAAAAAEAAAAAAAAAAAAAAAAAAAAAAAAAAQAAAAEAAAABAAAAAQAAAAAAAAAAAAAAAAAAAAAAAAAAAAAAAAAAAAAAAAABAAAAAQAAAAAAAAAAAAAAAQAAAAAAAAABAAAAAAAAAAAAAAABAAAAAAAAAAAAAAABAAAAAQAAAAAAAAABAAAAAAAAAAAAAAABAAAAAQAAAAEAAAABAAAAAQAAAAAAAAABAAAAAAAAAAAAAAABAAAAAAAAAAAAAAABAAAAAAAAAAEAAAABAAAAAAAAAAEAAAAAAAAAAAAAAAEAAAAAAAAAAAAAAAEAAAAAAAAAAAAAAAEAAAABAAAAAQAAAAAAAAABAAAAAQAAAAAAAAAAAAAAAQAAAAAAAAABAAAAAAAAAAEAAAAAAAAAAAAAAAAAAAABAAAAAAAAAAEAAAABAAAAAAAAAAEAAAABAAAAAQAAAAAAAAABAAAAAAAAAAAAAAAAAAAAAAAAAAAAAAABAAAAAAAAAAAAAAABAAAAAQAAAAEAAAAAAAAAAQAAAAEAAAAAAAAAAQAAAAAAAAAAAAAAAQAAAAAAAAAAAAAAAQAAAAAAAAAAAAAAAQAAAAAAAAAAAAAAAQAAAAAAAAAAAAAAAQAAAAAAAAAAAAAAAQAAAAAAAAABAAAAAAAAAAAAAAABAAAAAAAAAAEAAAABAAAAAAAAAAAAAAAAAAAAAAAAAAAAAAABAAAAAAAAAAEAAAABAAAAAQAAAAAAAAAAAAAAAAAAAAEAAAAAAAAAAQAAAAAAAAABAAAAAAAAAAEAAAABAAAAAAAAAAAAAAAAAAAAAQAAAAAAAAAAAAAAAAAAAAEAAAAAAAAAAQAAAAEAAAABAAAAAQAAAAAAAAAAAAAAAQAAAAAAAAABAAAAAQAAAAEAAAABAAAAAQAAAAAAAAABAAAAAQAAAAEAAAABAAAAAQAAAAEAAAABAAAAAQAAAAAAAAAAAAAAAQAAAAAAAAABAAAAAQAAAAAAAAABAAAAAQAAAAEAAAAAAAAAAQAAAAEAAAABAAAAAAAAAAEAAAABAAAAAQAAAAEAAAAAAAAAAQAAAAEAAAAAAAAAAAAAAAAAAAABAAAAAAAAAAAAAAABAAAAAAAAAAEAAAAAAAAAAQAAAAEAAAAAAAAAAQAAAAAAAAABAAAAAQAAAAAAAAAAAAAAAQAAAAEAAAAAAAAAAAAAAAAAAAAAAAAAAAAAAAAAAAAAAAAAAAAAAAAAAAAAAAAAAQAAAAEAAAAAAAAAAAAAAAEAAAABAAAAAQAAAAAAAAABAAAAAQAAAAEAAAAAAAAAAQAAAAEAAAABAAAAAAAAAAAAAAABAAAAAAAAAAAAAAAAAAAAAAAAAAEAAAAAAAAAAAAAAAAAAAAAAAAAAAAAAAEAAAABAAAAAAAAAAEAAAAAAAAAAAAAAAEAAAAAAAAAAQAAAAAAAAAAAAAAAQAAAAEAAAABAAAAAAAAAAEAAAAAAAAAAAAAAAAAAAAAAAAAAAAAAAEAAAABAAAAAAAAAAAAAAAAAAAAAAAAAAAAAAAAAAAAAQAAAAEAAAAAAAAAAAAAAAAAAAABAAAAAQAAAAAAAAAAAAAAAQAAAAAAAAABAAAAAQAAAAAAAAAAAAAAAAAAAAAAAAABAAAAAQAAAAAAAAABAAAAAQAAAAAAAAABAAAAAQAAAAAAAAAAAAAAAQAAAAEAAAABAAAAAAAAAAAAAAAAAAAAAAAAAAEAAAAAAAAAAAAAAAEAAAAAAAAAAAAAAAEAAAAAAAAAAQAAAAAAAAABAAAAAQAAAAEAAAAAAAAAAAAAAAEAAAABAAAAAAAAAAAAAAAAAAAAAAAAAAEAAAABAAAAAQAAAAAAAAAAAAAAAAAAAAEAAAABAAAAAQAAAAEAAAABAAAAAAAAAAEAAAAAAAAAAQAAAAEAAAAAAAAAAAAAAAAAAAAAAAAAAAAAAAAAAAABAAAAAAAAAAEAAAABAAAAAQAAAAAAAAAAAAAAAQAAAAEAAAABAAAAAQAAAAEAAAAAAAAAAQAAAAEAAAABAAAAAQAAAAEAAAABAAAAAQAAAAEAAAAAAAAAAAAAAAEAAAAAAAAAAQAAAAEAAAABAAAAAAAAAAAAAAABAAAAAAAAAAAAAAABAAAAAAAAAAEAAAAAAAAAAAAAAAEAAAAAAAAAAQAAAAAAAAAAAAAAAAAAAAEAAAABAAAAAAAAAAEAAAABAAAAAQAAAAEAAAABAAAAAQAAAAAAAAABAAAAAAAAAAAAAAAAAAAAAQAAAAEAAAAAAAAAAQAAAAEAAAAAAAAAAAAAAAAAAAAAAAAAAQAAAAAAAAABAAAAAAAAAAAAAAAAAAAAAAAAAAAAAAAAAAAAAQAAAAAAAAABAAAAAQAAAAAAAAABAAAAAAAAAAEAAAAAAAAAAQAAAAEAAAAAAAAAAAAAAAAAAAABAAAAAQAAAAAAAAABAAAAAAAAAAAAAAABAAAAAAAAAAAAAAABAAAAAAAAAAEAAAAAAAAAAQAAAAEAAAABAAAAAAAAAAEAAAABAAAAAQAAAAEAAAAAAAAAAQAAAAAAAAABAAAAAAAAAAEAAAAAAAAAAQAAAAEAAAAAAAAAAAAAAAAAAAABAAAAAAAAAAAAAAAAAAAAAAAAAAAAAAABAAAAAQAAAAEAAAABAAAAAAAAAAEAAAABAAAAAAAAAAAAAAABAAAAAAAAAAAAAAAAAAAAAQAAAAEAAAAAAAAAAQAAAAAAAAAAAAAAAAAAAAEAAAAAAAAAAAAAAAEAAAABAAAAAQAAAAEAAAABAAAAAAAAAAEAAAABAAAAAAAAAAEAAAABAAAAAAAAAAAAAAABAAAAAQAAAAEAAAABAAAAAQAAAAEAAAABAAAAAQAAAAEAAAABAAAAAAAAAAAAAAABAAAAAQAAAAEAAAABAAAAAQAAAAEAAAAAAAAAAQAAAAAAAAABAAAAAAAAAAEAAAAAAAAAAAAAAAEAAAABAAAAAQAAAAEAAAAAAAAAAQAAAAEAAAABAAAAAAAAAAAAAAAAAAAAAQAAAAEAAAABAAAAAQAAAAEAAAAAAAAAAAAAAAEAAAAAAAAAAQAAAAEAAAABAAAAAQAAAAAAAAAAAAAAAAAAAAAAAAAAAAAAAQAAAAAAAAABAAAAAAAAAAEAAAABAAAAAAAAAAAAAAABAAAAAAAAAAEAAAABAAAAAAAAAAEAAAAAAAAAAAAAAAEAAAAAAAAAAAAAAAAAAAABAAAAAQAAAAEAAAAAAAAAAQAAAAAAAAABAAAAAAAAAAAAAAABAAAAAAAAAAEAAAABAAAAAAAAAAEAAAABAAAAAQAAAAEAAAABAAAAAQAAAAAAAAAAAAAAAQAAAAAAAAABAAAAAQAAAAAAAAAAAAAAAAAAAAEAAAAAAAAAAQAAAAEAAAAAAAAAAAAAAAAAAAAAAAAAAAAAAAEAAAABAAAAAQAAAAAAAAABAAAAAQAAAAEAAAAAAAAAAQAAAAEAAAABAAAAAAAAAAEAAAABAAAAAQAAAAEAAAABAAAAAQAAAAEAAAAAAAAAAAAAAAEAAAAAAAAAAAAAAAAAAAABAAAAAAAAAAEAAAAAAAAAAAAAAAEAAAAAAAAAAQAAAAAAAAAAAAAAAQAAAAEAAAAAAAAAAQAAAAAAAAABAAAAAAAAAAEAAAABAAAAAQAAAAAAAAABAAAAAAAAAAAAAAABAAAAAQAAAAAAAAAAAAAAAQAAAAEAAAAAAAAAAAAAAAEAAAABAAAAAAAAAAAAAAABAAAAAAAAAAEAAAAAAAAAAAAAAAAAAAAAAAAAAQAAAAEAAAAAAAAAAQAAAAAAAAABAAAAAQAAAAEAAAABAAAAAQAAAAAAAAABAAAAAQAAAAEAAAABAAAAAQAAAAAAAAABAAAAAAAAAAEAAAAAAAAAAAAAAAAAAAAAAAAAAAAAAAAAAAABAAAAAQAAAAAAAAABAAAAAQAAAAAAAAAAAAAAAAAAAAAAAAABAAAAAAAAAAEAAAAAAAAAAAAAAAEAAAAAAAAAAQAAAAAAAAABAAAAAQAAAAAAAAABAAAAAQAAAAAAAAAAAAAAAQAAAAEAAAAAAAAAAAAAAAEAAAAAAAAAAQAAAAEAAAAAAAAAAQAAAAAAAAAAAAAAAAAAAAEAAAABAAAAAQAAAAEAAAABAAAAAQAAAAAAAAABAAAAAQAAAAEAAAAAAAAAAAAAAAAAAAAAAAAAAQAAAAEAAAABAAAAAAAAAAAAAAABAAAA",
          "dtype": "i4"
         },
         "yaxis": "y"
        },
        {
         "hovertemplate": "color=1<br>tamanho_imovel=%{x}<br>tipo_imovel=%{y}<extra></extra>",
         "legendgroup": "1",
         "marker": {
          "color": "#EF553B",
          "symbol": "circle"
         },
         "mode": "markers",
         "name": "1",
         "showlegend": true,
         "type": "scattergl",
         "x": {
          "bdata": "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",
          "dtype": "f8"
         },
         "xaxis": "x",
         "y": {
          "bdata": "AgAAAAIAAAACAAAAAgAAAAIAAAACAAAAAgAAAAIAAAACAAAAAgAAAAIAAAACAAAAAgAAAAIAAAACAAAAAgAAAAIAAAACAAAAAgAAAAIAAAACAAAAAgAAAAIAAAACAAAAAgAAAAIAAAACAAAAAgAAAAIAAAACAAAAAgAAAAIAAAACAAAAAgAAAAIAAAACAAAAAgAAAAIAAAACAAAAAgAAAAIAAAACAAAAAgAAAAIAAAACAAAAAgAAAAIAAAACAAAAAgAAAAIAAAACAAAAAgAAAAIAAAACAAAAAgAAAAIAAAACAAAAAgAAAAIAAAACAAAAAgAAAAIAAAACAAAAAgAAAAIAAAACAAAAAgAAAAIAAAACAAAAAgAAAAIAAAACAAAAAgAAAAIAAAACAAAAAgAAAAIAAAACAAAAAgAAAAIAAAACAAAAAgAAAAIAAAACAAAAAgAAAAIAAAACAAAAAgAAAAIAAAACAAAAAgAAAAIAAAACAAAAAgAAAAIAAAACAAAAAgAAAAIAAAACAAAAAgAAAAIAAAACAAAAAgAAAAIAAAACAAAAAgAAAAIAAAACAAAAAgAAAAIAAAACAAAAAgAAAAIAAAACAAAAAgAAAAIAAAACAAAAAgAAAAIAAAACAAAAAgAAAAIAAAACAAAAAgAAAAIAAAACAAAAAgAAAAIAAAACAAAAAgAAAAIAAAACAAAAAgAAAAIAAAACAAAAAgAAAAIAAAACAAAAAgAAAAIAAAACAAAAAgAAAAIAAAACAAAAAgAAAAIAAAACAAAAAgAAAAIAAAACAAAAAgAAAAIAAAACAAAAAgAAAAIAAAACAAAAAgAAAAIAAAACAAAAAgAAAAIAAAACAAAAAgAAAAIAAAACAAAAAgAAAAIAAAACAAAAAgAAAAIAAAACAAAAAgAAAAIAAAACAAAAAgAAAAIAAAACAAAAAgAAAAIAAAACAAAAAgAAAAIAAAACAAAAAgAAAAIAAAACAAAAAgAAAAIAAAACAAAAAgAAAAIAAAACAAAAAgAAAAIAAAACAAAAAgAAAAIAAAACAAAAAgAAAAIAAAACAAAAAgAAAAIAAAACAAAAAgAAAAIAAAACAAAAAgAAAAIAAAACAAAAAgAAAAIAAAACAAAAAgAAAAIAAAACAAAAAgAAAAIAAAACAAAAAgAAAAIAAAACAAAAAgAAAAIAAAACAAAAAgAAAAIAAAACAAAAAgAAAAIAAAACAAAAAgAAAAIAAAACAAAAAgAAAAIAAAACAAAAAgAAAAIAAAACAAAAAgAAAAIAAAACAAAAAgAAAAIAAAACAAAAAgAAAAIAAAACAAAAAgAAAAIAAAACAAAAAgAAAAIAAAACAAAAAgAAAAIAAAACAAAAAgAAAAIAAAACAAAAAgAAAAIAAAACAAAAAgAAAAIAAAACAAAAAgAAAAIAAAACAAAAAgAAAAIAAAACAAAAAgAAAAIAAAACAAAAAgAAAAIAAAACAAAAAgAAAAIAAAACAAAAAgAAAAIAAAACAAAAAgAAAAIAAAACAAAAAgAAAAIAAAACAAAAAgAAAAIAAAACAAAAAgAAAAIAAAACAAAAAgAAAAIAAAACAAAAAgAAAAIAAAACAAAAAgAAAAIAAAACAAAAAgAAAAIAAAACAAAAAgAAAAIAAAACAAAAAgAAAAIAAAACAAAAAgAAAAIAAAACAAAAAgAAAAIAAAACAAAAAgAAAAIAAAACAAAAAgAAAAIAAAACAAAAAgAAAAIAAAACAAAAAgAAAAIAAAACAAAAAgAAAAIAAAACAAAAAgAAAAIAAAACAAAAAgAAAAIAAAACAAAAAgAAAAIAAAACAAAAAgAAAAIAAAACAAAAAgAAAAIAAAACAAAAAgAAAAIAAAACAAAAAgAAAAIAAAACAAAAAgAAAAIAAAACAAAAAgAAAAIAAAACAAAAAgAAAAIAAAACAAAAAgAAAAIAAAACAAAAAgAAAAIAAAACAAAAAgAAAAIAAAACAAAAAgAAAAIAAAACAAAAAgAAAAIAAAACAAAAAgAAAAIAAAACAAAAAgAAAAIAAAACAAAAAgAAAAIAAAACAAAAAgAAAAIAAAACAAAAAgAAAAIAAAACAAAAAgAAAAIAAAACAAAAAgAAAAIAAAACAAAAAgAAAAIAAAACAAAAAgAAAAIAAAACAAAAAgAAAAIAAAACAAAAAgAAAAIAAAACAAAAAgAAAAIAAAACAAAAAgAAAAIAAAACAAAAAgAAAAIAAAACAAAAAgAAAAIAAAACAAAAAgAAAAIAAAACAAAAAgAAAAIAAAACAAAAAgAAAAIAAAACAAAAAgAAAAIAAAACAAAAAgAAAAIAAAACAAAAAgAAAAIAAAACAAAAAgAAAAIAAAACAAAAAgAAAAIAAAACAAAAAgAAAAIAAAACAAAAAgAAAAIAAAACAAAAAgAAAAIAAAACAAAAAgAAAAIAAAACAAAAAgAAAAIAAAACAAAAAgAAAAIAAAACAAAAAgAAAAIAAAACAAAAAgAAAAIAAAACAAAAAgAAAAIAAAACAAAAAgAAAAIAAAACAAAAAgAAAAIAAAACAAAAAgAAAAIAAAACAAAAAgAAAAIAAAACAAAAAgAAAAIAAAACAAAAAgAAAAIAAAACAAAAAgAAAAIAAAACAAAAAgAAAAIAAAACAAAAAgAAAAIAAAACAAAAAgAAAAIAAAACAAAAAgAAAAIAAAACAAAAAgAAAAIAAAACAAAAAgAAAAIAAAACAAAAAgAAAAIAAAACAAAAAgAAAAIAAAACAAAAAgAAAAIAAAACAAAAAgAAAAIAAAACAAAAAgAAAAIAAAACAAAAAgAAAAIAAAACAAAAAgAAAAIAAAACAAAAAgAAAAIAAAACAAAAAgAAAAIAAAACAAAAAgAAAAIAAAACAAAAAgAAAAIAAAACAAAAAgAAAAIAAAACAAAAAgAAAAIAAAACAAAAAgAAAAIAAAACAAAAAgAAAAIAAAACAAAAAgAAAAIAAAACAAAAAgAAAAIAAAACAAAAAgAAAAIAAAACAAAAAgAAAAIAAAACAAAAAgAAAAIAAAACAAAAAgAAAAIAAAACAAAAAgAAAAIAAAACAAAAAgAAAAIAAAACAAAAAgAAAAIAAAACAAAAAgAAAAIAAAACAAAAAgAAAAIAAAACAAAAAgAAAAIAAAACAAAAAgAAAAIAAAACAAAAAgAAAAIAAAACAAAAAgAAAAIAAAACAAAAAgAAAAIAAAACAAAAAgAAAAIAAAACAAAAAgAAAAIAAAACAAAAAgAAAAIAAAACAAAAAgAAAAIAAAACAAAAAgAAAAIAAAACAAAAAgAAAAIAAAACAAAAAgAAAAIAAAACAAAAAgAAAAIAAAACAAAAAgAAAAIAAAACAAAAAgAAAAIAAAACAAAAAgAAAAIAAAACAAAAAgAAAAIAAAACAAAAAgAAAAIAAAACAAAAAgAAAAIAAAACAAAAAgAAAAIAAAACAAAAAgAAAAIAAAACAAAAAgAAAAIAAAACAAAAAgAAAAIAAAACAAAAAgAAAAIAAAACAAAAAgAAAAIAAAACAAAAAgAAAAIAAAACAAAAAgAAAAIAAAACAAAAAgAAAAIAAAACAAAAAgAAAAIAAAACAAAAAgAAAAIAAAACAAAAAgAAAAIAAAACAAAAAgAAAAIAAAACAAAAAgAAAAIAAAACAAAAAgAAAAIAAAACAAAAAgAAAAIAAAACAAAAAgAAAAIAAAACAAAAAgAAAAIAAAACAAAAAgAAAAIAAAACAAAAAgAAAAIAAAACAAAAAgAAAAIAAAACAAAAAgAAAAIAAAACAAAAAgAAAAIAAAACAAAAAgAAAAIAAAACAAAAAgAAAAIAAAACAAAAAgAAAAIAAAACAAAAAgAAAAIAAAACAAAAAgAAAAIAAAACAAAAAgAAAAIAAAACAAAAAgAAAAIAAAACAAAAAgAAAAIAAAACAAAAAgAAAAIAAAACAAAAAgAAAAIAAAACAAAAAgAAAAIAAAACAAAAAgAAAAIAAAACAAAAAgAAAAIAAAACAAAAAgAAAAIAAAACAAAAAgAAAAIAAAACAAAAAgAAAAIAAAACAAAAAgAAAAIAAAACAAAAAgAAAAIAAAACAAAAAgAAAAIAAAACAAAAAgAAAAIAAAACAAAAAgAAAAIAAAACAAAAAgAAAAIAAAACAAAAAgAAAAIAAAACAAAAAgAAAAIAAAACAAAAAgAAAAIAAAACAAAAAgAAAAIAAAACAAAAAgAAAAIAAAACAAAAAgAAAAIAAAACAAAAAgAAAAIAAAACAAAAAgAAAAIAAAACAAAAAgAAAAIAAAACAAAAAgAAAAIAAAACAAAAAgAAAAIAAAACAAAAAgAAAAIAAAACAAAAAgAAAAIAAAACAAAAAgAAAAIAAAACAAAAAgAAAAIAAAACAAAAAgAAAAIAAAACAAAAAgAAAAIAAAACAAAAAgAAAAIAAAACAAAAAgAAAAIAAAACAAAAAgAAAAIAAAACAAAAAgAAAAIAAAACAAAAAgAAAAIAAAACAAAAAgAAAAIAAAACAAAAAgAAAAIAAAACAAAAAgAAAAIAAAACAAAAAgAAAAIAAAACAAAAAgAAAAIAAAACAAAAAgAAAAIAAAACAAAAAgAAAAIAAAACAAAAAgAAAAIAAAACAAAAAgAAAAIAAAACAAAAAgAAAAIAAAACAAAAAgAAAAIAAAACAAAAAgAAAAIAAAACAAAAAgAAAAIAAAACAAAAAgAAAAIAAAACAAAAAgAAAAIAAAACAAAAAgAAAAIAAAACAAAAAgAAAAIAAAACAAAAAgAAAAIAAAACAAAAAgAAAAIAAAACAAAAAgAAAAIAAAACAAAAAgAAAAIAAAACAAAAAgAAAAIAAAACAAAAAgAAAAIAAAACAAAAAgAAAAIAAAACAAAAAgAAAAIAAAACAAAAAgAAAAIAAAACAAAAAgAAAAIAAAACAAAAAgAAAAIAAAACAAAAAgAAAAIAAAACAAAAAgAAAAIAAAACAAAAAgAAAAIAAAACAAAAAgAAAAIAAAACAAAAAgAAAAIAAAACAAAAAgAAAAIAAAACAAAAAgAAAAIAAAACAAAAAgAAAAIAAAACAAAAAgAAAAIAAAACAAAAAgAAAAIAAAACAAAAAgAAAAIAAAACAAAAAgAAAAIAAAACAAAAAgAAAAIAAAACAAAAAgAAAAIAAAACAAAAAgAAAAIAAAACAAAAAgAAAAIAAAACAAAAAgAAAAIAAAACAAAAAgAAAAIAAAACAAAAAgAAAAIAAAACAAAAAgAAAAIAAAACAAAAAgAAAAIAAAACAAAAAgAAAAIAAAACAAAAAgAAAAIAAAACAAAAAgAAAAIAAAACAAAAAgAAAAIAAAACAAAAAgAAAAIAAAACAAAAAgAAAAIAAAACAAAAAgAAAAIAAAACAAAAAgAAAAIAAAACAAAAAgAAAAIAAAACAAAAAgAAAAIAAAACAAAAAgAAAAIAAAACAAAAAgAAAAIAAAACAAAAAgAAAAIAAAACAAAAAgAAAAIAAAACAAAAAgAAAAIAAAACAAAAAgAAAAIAAAACAAAAAgAAAAIAAAACAAAAAgAAAAIAAAACAAAAAgAAAAIAAAACAAAAAgAAAAIAAAACAAAAAgAAAAIAAAACAAAAAgAAAAIAAAACAAAAAgAAAAIAAAACAAAAAgAAAAIAAAACAAAAAgAAAAIAAAACAAAAAgAAAAIAAAACAAAAAgAAAAIAAAACAAAAAgAAAAIAAAACAAAAAgAAAAIAAAACAAAAAgAAAAIAAAACAAAAAgAAAAIAAAACAAAAAgAAAAIAAAACAAAAAgAAAAIAAAACAAAAAgAAAAIAAAACAAAAAgAAAAIAAAACAAAAAgAAAAIAAAACAAAAAgAAAAIAAAACAAAAAgAAAAIAAAACAAAAAgAAAAIAAAACAAAAAgAAAAIAAAACAAAAAgAAAAIAAAACAAAAAgAAAAIAAAACAAAAAgAAAAIAAAACAAAAAgAAAAIAAAACAAAAAgAAAAIAAAACAAAAAgAAAAIAAAACAAAAAgAAAAIAAAACAAAAAgAAAAIAAAACAAAAAgAAAAIAAAACAAAAAgAAAAIAAAACAAAAAgAAAAIAAAACAAAAAgAAAAIAAAACAAAAAgAAAAIAAAACAAAAAgAAAAIAAAACAAAAAgAAAAIAAAACAAAAAgAAAAIAAAACAAAAAgAAAAIAAAACAAAAAgAAAAIAAAACAAAAAgAAAAIAAAACAAAAAgAAAAIAAAACAAAAAgAAAAIAAAACAAAAAgAAAAIAAAACAAAAAgAAAAIAAAACAAAAAgAAAAIAAAACAAAAAgAAAAIAAAACAAAAAgAAAAIAAAACAAAAAgAAAAIAAAACAAAAAgAAAAIAAAACAAAAAgAAAAIAAAACAAAAAgAAAAIAAAACAAAAAgAAAAIAAAACAAAAAgAAAAIAAAACAAAAAgAAAAIAAAACAAAAAgAAAAIAAAACAAAAAgAAAAIAAAACAAAAAgAAAAIAAAACAAAAAgAAAAIAAAACAAAAAgAAAAIAAAACAAAAAgAAAAIAAAACAAAAAgAAAAIAAAACAAAAAgAAAAIAAAACAAAAAgAAAAIAAAACAAAAAgAAAAIAAAACAAAAAgAAAAIAAAACAAAAAgAAAAIAAAACAAAAAgAAAAIAAAACAAAAAgAAAAIAAAACAAAAAgAAAAIAAAACAAAAAgAAAAIAAAACAAAAAgAAAAIAAAACAAAAAgAAAAIAAAACAAAAAgAAAAIAAAACAAAAAgAAAAIAAAACAAAAAgAAAAIAAAACAAAAAgAAAAIAAAACAAAAAgAAAAIAAAACAAAAAgAAAAIAAAACAAAAAgAAAAIAAAACAAAAAgAAAAIAAAACAAAAAgAAAAIAAAACAAAAAgAAAAIAAAACAAAAAgAAAAIAAAACAAAAAgAAAAIAAAACAAAAAgAAAAIAAAACAAAAAgAAAAIAAAACAAAAAgAAAAIAAAACAAAAAgAAAAIAAAACAAAAAgAAAAIAAAACAAAAAgAAAAIAAAACAAAAAgAAAAIAAAACAAAAAgAAAAIAAAACAAAAAgAAAAIAAAACAAAAAgAAAAIAAAACAAAAAgAAAAIAAAACAAAAAgAAAAIAAAACAAAAAgAAAAIAAAACAAAAAgAAAAIAAAACAAAAAgAAAAIAAAACAAAAAgAAAAIAAAACAAAAAgAAAAIAAAACAAAAAgAAAAIAAAACAAAAAgAAAAIAAAACAAAAAgAAAAIAAAACAAAAAgAAAAIAAAACAAAAAgAAAAIAAAACAAAAAgAAAAIAAAACAAAAAgAAAAIAAAACAAAAAgAAAAIAAAACAAAAAgAAAAIAAAACAAAAAgAAAAIAAAACAAAAAgAAAAIAAAACAAAAAgAAAAIAAAACAAAAAgAAAAIAAAACAAAAAgAAAAIAAAACAAAAAgAAAAIAAAACAAAAAgAAAAIAAAACAAAAAgAAAAIAAAACAAAAAgAAAAIAAAACAAAAAgAAAAIAAAACAAAAAgAAAAIAAAACAAAAAgAAAAIAAAACAAAAAgAAAAIAAAACAAAAAgAAAAIAAAACAAAAAgAAAAIAAAACAAAAAgAAAAIAAAACAAAAAgAAAAIAAAACAAAAAgAAAAIAAAACAAAAAgAAAAIAAAACAAAAAgAAAAIAAAACAAAAAgAAAAIAAAACAAAAAgAAAAIAAAACAAAAAgAAAAIAAAACAAAAAgAAAAIAAAACAAAAAgAAAAIAAAACAAAAAgAAAAIAAAACAAAAAgAAAAIAAAACAAAAAgAAAAIAAAACAAAAAgAAAAIAAAACAAAAAgAAAAIAAAACAAAAAgAAAAIAAAACAAAAAgAAAAIAAAACAAAAAgAAAAIAAAACAAAAAgAAAAIAAAACAAAAAgAAAAIAAAACAAAAAgAAAAIAAAACAAAAAgAAAAIAAAACAAAAAgAAAAIAAAACAAAAAgAAAAIAAAACAAAAAgAAAAIAAAACAAAAAgAAAAIAAAACAAAAAgAAAAIAAAACAAAAAgAAAAIAAAACAAAAAgAAAAIAAAACAAAAAgAAAAIAAAACAAAAAgAAAAIAAAACAAAAAgAAAAIAAAACAAAAAgAAAAIAAAACAAAAAgAAAAIAAAACAAAAAgAAAAIAAAACAAAAAgAAAAIAAAACAAAAAgAAAAIAAAACAAAAAgAAAAIAAAACAAAAAgAAAAIAAAACAAAAAgAAAAIAAAACAAAAAgAAAAIAAAACAAAAAgAAAAIAAAACAAAAAgAAAAIAAAACAAAAAgAAAAIAAAACAAAAAgAAAAIAAAACAAAAAgAAAAIAAAACAAAAAgAAAAIAAAACAAAAAgAAAAIAAAACAAAAAgAAAAIAAAACAAAAAgAAAAIAAAACAAAAAgAAAAIAAAACAAAAAgAAAAIAAAACAAAAAgAAAAIAAAACAAAAAgAAAAIAAAACAAAAAgAAAAIAAAACAAAAAgAAAAIAAAACAAAAAgAAAAIAAAACAAAAAgAAAAIAAAACAAAAAgAAAAIAAAACAAAAAgAAAAIAAAACAAAAAgAAAAIAAAACAAAAAgAAAAIAAAACAAAAAgAAAAIAAAACAAAAAgAAAAIAAAACAAAAAgAAAAIAAAACAAAAAgAAAAIAAAACAAAAAgAAAAIAAAACAAAAAgAAAAIAAAACAAAAAgAAAAIAAAACAAAAAgAAAAIAAAACAAAAAgAAAAIAAAACAAAAAgAAAAIAAAACAAAAAgAAAAIAAAACAAAAAgAAAAIAAAACAAAAAgAAAAIAAAACAAAAAgAAAAIAAAACAAAAAgAAAAIAAAACAAAAAgAAAAIAAAACAAAAAgAAAAIAAAACAAAAAgAAAAIAAAACAAAAAgAAAAIAAAACAAAAAgAAAAIAAAACAAAAAgAAAAIAAAACAAAAAgAAAAIAAAACAAAAAgAAAAIAAAACAAAAAgAAAAIAAAACAAAAAgAAAAIAAAACAAAAAgAAAAIAAAACAAAAAgAAAAIAAAACAAAAAgAAAAIAAAACAAAAAgAAAAIAAAACAAAAAgAAAAIAAAACAAAAAgAAAAIAAAACAAAAAgAAAAIAAAACAAAAAgAAAAIAAAACAAAAAgAAAAIAAAACAAAAAgAAAAIAAAACAAAAAgAAAAIAAAACAAAAAgAAAAIAAAACAAAAAgAAAAIAAAACAAAAAgAAAAIAAAACAAAAAgAAAAIAAAACAAAAAgAAAAIAAAACAAAAAgAAAAIAAAACAAAAAgAAAAIAAAACAAAAAgAAAAIAAAACAAAAAgAAAAIAAAACAAAAAgAAAAIAAAACAAAAAgAAAAIAAAACAAAAAgAAAAIAAAACAAAAAgAAAAIAAAACAAAAAgAAAAIAAAACAAAAAgAAAAIAAAACAAAAAgAAAAIAAAACAAAAAgAAAAIAAAACAAAAAgAAAAIAAAACAAAAAgAAAAIAAAACAAAAAgAAAAIAAAACAAAAAgAAAAIAAAACAAAAAgAAAAIAAAACAAAAAgAAAAIAAAACAAAAAgAAAAIAAAACAAAAAgAAAAIAAAACAAAAAgAAAAIAAAACAAAAAgAAAAIAAAACAAAAAgAAAAIAAAACAAAAAgAAAAIAAAACAAAAAgAAAAIAAAACAAAAAgAAAAIAAAACAAAAAgAAAAIAAAACAAAAAgAAAAIAAAACAAAAAgAAAAIAAAACAAAAAgAAAAIAAAACAAAAAgAAAAIAAAACAAAAAgAAAAIAAAACAAAAAgAAAAIAAAACAAAAAgAAAAIAAAACAAAAAgAAAAIAAAACAAAAAgAAAAIAAAACAAAAAgAAAAIAAAACAAAAAgAAAAIAAAACAAAAAgAAAAIAAAACAAAAAgAAAAIAAAACAAAAAgAAAAIAAAACAAAAAgAAAAIAAAACAAAAAgAAAAIAAAACAAAAAgAAAAIAAAACAAAAAgAAAAIAAAACAAAAAgAAAAIAAAACAAAAAgAAAAIAAAACAAAAAgAAAAIAAAACAAAAAgAAAAIAAAACAAAAAgAAAAIAAAACAAAAAgAAAAIAAAACAAAAAgAAAAIAAAACAAAAAgAAAAIAAAACAAAAAgAAAAIAAAACAAAAAgAAAAIAAAACAAAAAgAAAAIAAAACAAAAAgAAAAIAAAACAAAAAgAAAAIAAAACAAAAAgAAAAIAAAACAAAAAgAAAAIAAAACAAAAAgAAAAIAAAACAAAAAgAAAAIAAAACAAAAAgAAAAIAAAACAAAAAgAAAAIAAAACAAAAAgAAAAIAAAACAAAAAgAAAAIAAAACAAAAAgAAAAIAAAACAAAAAgAAAAIAAAACAAAAAgAAAAIAAAACAAAAAgAAAAIAAAACAAAAAgAAAAIAAAACAAAAAgAAAAIAAAACAAAAAgAAAAIAAAACAAAAAgAAAAIAAAACAAAAAgAAAAIAAAACAAAAAgAAAAIAAAACAAAAAgAAAAIAAAACAAAAAgAAAAIAAAACAAAAAgAAAAIAAAACAAAAAgAAAAIAAAACAAAAAgAAAAIAAAACAAAAAgAAAAIAAAACAAAAAgAAAAIAAAACAAAAAgAAAAIAAAACAAAAAgAAAAIAAAACAAAAAgAAAAIAAAACAAAAAgAAAAIAAAACAAAAAgAAAAIAAAACAAAAAgAAAAIAAAACAAAAAgAAAAIAAAACAAAAAgAAAAIAAAACAAAAAgAAAAIAAAACAAAAAgAAAAIAAAACAAAAAgAAAAIAAAACAAAAAgAAAAIAAAACAAAAAgAAAAIAAAACAAAAAgAAAAIAAAACAAAAAgAAAAIAAAACAAAAAgAAAAIAAAACAAAAAgAAAAIAAAACAAAAAgAAAAIAAAACAAAAAgAAAAIAAAACAAAAAgAAAAIAAAACAAAAAgAAAAIAAAACAAAAAgAAAAIAAAACAAAAAgAAAAIAAAACAAAAAgAAAAIAAAACAAAAAgAAAAIAAAACAAAAAgAAAAIAAAACAAAAAgAAAAIAAAACAAAAAgAAAAIAAAACAAAAAgAAAAIAAAACAAAAAgAAAAIAAAACAAAAAgAAAAIAAAACAAAAAgAAAAIAAAACAAAAAgAAAAIAAAACAAAAAgAAAAIAAAACAAAAAgAAAAIAAAACAAAAAgAAAAIAAAACAAAAAgAAAAIAAAACAAAAAgAAAAIAAAACAAAAAgAAAAIAAAACAAAAAgAAAAIAAAACAAAAAgAAAAIAAAACAAAAAgAAAAIAAAACAAAAAgAAAAIAAAACAAAAAgAAAAIAAAACAAAAAgAAAAIAAAACAAAAAgAAAAIAAAACAAAAAgAAAAIAAAACAAAAAgAAAAIAAAACAAAAAgAAAAIAAAACAAAAAgAAAAIAAAACAAAAAgAAAAIAAAACAAAAAgAAAAIAAAACAAAAAgAAAAIAAAACAAAAAgAAAAIAAAACAAAAAgAAAAIAAAACAAAAAgAAAAIAAAACAAAAAgAAAAIAAAACAAAAAgAAAAIAAAACAAAAAgAAAAIAAAACAAAAAgAAAAIAAAACAAAAAgAAAAIAAAACAAAAAgAAAAIAAAACAAAAAgAAAAIAAAACAAAAAgAAAAIAAAACAAAAAgAAAAIAAAACAAAAAgAAAAIAAAACAAAAAgAAAAIAAAACAAAAAgAAAAIAAAACAAAAAgAAAAIAAAACAAAAAgAAAAIAAAACAAAAAgAAAAIAAAACAAAAAgAAAAIAAAACAAAAAgAAAAIAAAACAAAAAgAAAAIAAAACAAAAAgAAAAIAAAACAAAAAgAAAAIAAAACAAAAAgAAAAIAAAACAAAAAgAAAAIAAAACAAAAAgAAAAIAAAACAAAAAgAAAAIAAAACAAAAAgAAAAIAAAACAAAAAgAAAAIAAAACAAAAAgAAAAIAAAACAAAAAgAAAAIAAAACAAAAAgAAAAIAAAACAAAAAgAAAAIAAAACAAAAAgAAAAIAAAACAAAAAgAAAAIAAAACAAAAAgAAAAIAAAACAAAAAgAAAAIAAAACAAAAAgAAAAIAAAACAAAAAgAAAAIAAAACAAAAAgAAAAIAAAACAAAAAgAAAAIAAAACAAAAAgAAAAIAAAACAAAAAgAAAAIAAAACAAAAAgAAAAIAAAACAAAAAgAAAAIAAAACAAAAAgAAAAIAAAACAAAAAgAAAAIAAAACAAAAAgAAAAIAAAACAAAAAgAAAAIAAAACAAAAAgAAAAIAAAACAAAAAgAAAAIAAAACAAAAAgAAAAIAAAACAAAAAgAAAAIAAAACAAAAAgAAAAIAAAACAAAAAgAAAAIAAAACAAAAAgAAAAIAAAACAAAAAgAAAAIAAAACAAAAAgAAAAIAAAACAAAAAgAAAAIAAAACAAAAAgAAAAIAAAACAAAAAgAAAAIAAAACAAAAAgAAAAIAAAACAAAAAgAAAAIAAAACAAAAAgAAAAIAAAACAAAAAgAAAAIAAAACAAAAAgAAAAIAAAACAAAAAgAAAAIAAAACAAAAAgAAAAIAAAACAAAAAgAAAAIAAAACAAAAAgAAAAIAAAACAAAAAgAAAAIAAAACAAAAAgAAAAIAAAACAAAAAgAAAAIAAAACAAAAAgAAAAIAAAACAAAAAgAAAAIAAAACAAAAAgAAAAIAAAACAAAAAgAAAAIAAAACAAAAAgAAAAIAAAACAAAAAgAAAAIAAAACAAAAAgAAAAIAAAACAAAAAgAAAAIAAAACAAAAAgAAAAIAAAACAAAAAgAAAAIAAAACAAAAAgAAAAIAAAACAAAAAgAAAAIAAAACAAAAAgAAAAIAAAACAAAAAgAAAAIAAAACAAAAAgAAAAIAAAACAAAAAgAAAAIAAAACAAAAAgAAAAIAAAACAAAAAgAAAAIAAAACAAAAAgAAAAIAAAACAAAAAgAAAAIAAAACAAAAAgAAAAIAAAACAAAAAgAAAAIAAAACAAAAAgAAAAIAAAACAAAAAgAAAAIAAAACAAAAAgAAAAIAAAACAAAAAgAAAAIAAAACAAAAAgAAAAIAAAACAAAAAgAAAAIAAAACAAAAAgAAAAIAAAACAAAAAgAAAAIAAAACAAAAAgAAAAIAAAACAAAAAgAAAAIAAAACAAAAAgAAAAIAAAACAAAAAgAAAAIAAAACAAAAAgAAAAIAAAACAAAAAgAAAAIAAAACAAAAAgAAAAIAAAACAAAAAgAAAAIAAAACAAAAAgAAAAIAAAACAAAAAgAAAAIAAAACAAAAAgAAAAIAAAACAAAAAgAAAAIAAAACAAAAAgAAAAIAAAACAAAAAgAAAAIAAAACAAAAAgAAAAIAAAACAAAAAgAAAAIAAAACAAAAAgAAAAIAAAACAAAAAgAAAAIAAAACAAAAAgAAAAIAAAACAAAAAgAAAAIAAAACAAAAAgAAAAIAAAACAAAAAgAAAAIAAAACAAAAAgAAAAIAAAACAAAAAgAAAAIAAAACAAAAAgAAAAIAAAACAAAAAgAAAAIAAAACAAAAAgAAAAIAAAACAAAAAgAAAAIAAAACAAAAAgAAAAIAAAACAAAAAgAAAAIAAAACAAAAAgAAAAIAAAACAAAAAgAAAAIAAAACAAAAAgAAAAIAAAACAAAAAgAAAAIAAAACAAAAAgAAAAIAAAACAAAAAgAAAAIAAAACAAAAAgAAAAIAAAACAAAAAgAAAAIAAAACAAAAAgAAAAIAAAACAAAAAgAAAAIAAAACAAAAAgAAAAIAAAACAAAAAgAAAAIAAAACAAAAAgAAAAIAAAACAAAAAgAAAAIAAAACAAAAAgAAAAIAAAACAAAAAgAAAAIAAAACAAAAAgAAAAIAAAACAAAAAgAAAAIAAAACAAAAAgAAAAIAAAACAAAAAgAAAAIAAAACAAAA",
          "dtype": "i4"
         },
         "yaxis": "y"
        },
        {
         "hovertemplate": "color=2<br>tamanho_imovel=%{x}<br>tipo_imovel=%{y}<extra></extra>",
         "legendgroup": "2",
         "marker": {
          "color": "#00cc96",
          "symbol": "circle"
         },
         "mode": "markers",
         "name": "2",
         "showlegend": true,
         "type": "scattergl",
         "x": {
          "bdata": "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",
          "dtype": "f8"
         },
         "xaxis": "x",
         "y": {
          "bdata": "AgAAAAIAAAACAAAAAgAAAAIAAAACAAAAAgAAAAIAAAACAAAAAgAAAAIAAAACAAAAAgAAAAIAAAACAAAAAgAAAAIAAAACAAAAAgAAAAIAAAACAAAAAgAAAAIAAAACAAAAAgAAAAIAAAACAAAAAgAAAAIAAAACAAAAAgAAAAIAAAACAAAAAgAAAAIAAAACAAAAAgAAAAIAAAACAAAAAgAAAAIAAAACAAAAAgAAAAIAAAACAAAAAgAAAAIAAAACAAAAAgAAAAIAAAACAAAAAgAAAAIAAAACAAAAAgAAAAIAAAACAAAAAgAAAAIAAAACAAAAAgAAAAIAAAACAAAAAgAAAAIAAAACAAAAAgAAAAIAAAACAAAAAgAAAAIAAAACAAAAAgAAAAIAAAACAAAAAgAAAAIAAAACAAAAAgAAAAIAAAACAAAAAgAAAAIAAAACAAAAAgAAAAIAAAACAAAAAgAAAAIAAAACAAAAAgAAAAIAAAACAAAAAgAAAAIAAAACAAAAAgAAAAIAAAACAAAAAgAAAAIAAAACAAAAAgAAAAIAAAACAAAAAgAAAAIAAAACAAAAAgAAAAIAAAACAAAAAgAAAAIAAAACAAAAAgAAAAIAAAACAAAAAgAAAAIAAAACAAAAAgAAAAIAAAACAAAAAgAAAAIAAAACAAAAAgAAAAIAAAACAAAAAgAAAAIAAAACAAAAAgAAAAIAAAACAAAAAgAAAAIAAAACAAAAAgAAAAIAAAACAAAAAgAAAAIAAAACAAAAAgAAAAIAAAACAAAAAgAAAAIAAAACAAAAAgAAAAIAAAACAAAAAgAAAAIAAAACAAAAAgAAAAIAAAACAAAAAgAAAAIAAAACAAAAAgAAAAIAAAACAAAAAgAAAAIAAAACAAAAAgAAAAIAAAACAAAAAgAAAAIAAAACAAAAAgAAAAIAAAACAAAAAgAAAAIAAAACAAAAAgAAAAIAAAACAAAAAgAAAAIAAAACAAAAAgAAAAIAAAACAAAAAgAAAAIAAAACAAAAAgAAAAIAAAACAAAAAgAAAAIAAAACAAAAAgAAAAIAAAACAAAAAgAAAAIAAAACAAAAAgAAAAIAAAACAAAAAgAAAAIAAAACAAAAAgAAAAIAAAACAAAAAgAAAAIAAAACAAAAAgAAAAIAAAACAAAAAgAAAAIAAAACAAAAAgAAAAIAAAACAAAAAgAAAAIAAAACAAAAAgAAAAIAAAACAAAAAgAAAAIAAAACAAAAAgAAAAIAAAACAAAAAgAAAAIAAAACAAAAAgAAAAIAAAACAAAAAgAAAAIAAAACAAAAAgAAAAIAAAACAAAAAgAAAAIAAAACAAAAAgAAAAIAAAACAAAAAgAAAAIAAAACAAAAAgAAAAIAAAACAAAAAgAAAAIAAAACAAAAAgAAAAIAAAACAAAAAgAAAAIAAAACAAAAAgAAAAIAAAACAAAAAgAAAAIAAAACAAAAAgAAAAIAAAACAAAAAgAAAAIAAAACAAAAAgAAAAIAAAACAAAAAgAAAAIAAAACAAAAAgAAAAIAAAACAAAAAgAAAAIAAAACAAAAAgAAAAIAAAACAAAAAgAAAAIAAAACAAAAAgAAAAIAAAACAAAAAgAAAAIAAAACAAAAAgAAAAIAAAACAAAAAgAAAAIAAAACAAAAAgAAAAIAAAACAAAAAgAAAAIAAAACAAAAAgAAAAIAAAACAAAAAgAAAAIAAAACAAAAAgAAAAIAAAACAAAAAgAAAAIAAAACAAAAAgAAAAIAAAACAAAAAgAAAAIAAAACAAAAAgAAAAIAAAACAAAAAgAAAAIAAAACAAAAAgAAAAIAAAACAAAAAgAAAAIAAAACAAAAAgAAAAIAAAACAAAAAgAAAAIAAAACAAAAAgAAAAIAAAACAAAAAgAAAAIAAAACAAAAAgAAAAIAAAACAAAAAgAAAAIAAAACAAAAAgAAAAIAAAACAAAAAgAAAAIAAAACAAAAAgAAAAIAAAACAAAAAgAAAAIAAAACAAAAAgAAAAIAAAACAAAAAgAAAAIAAAACAAAAAgAAAAIAAAACAAAAAgAAAAIAAAACAAAAAgAAAAIAAAACAAAAAgAAAAIAAAACAAAAAgAAAAIAAAACAAAAAgAAAAIAAAACAAAAAgAAAAIAAAACAAAAAgAAAAIAAAACAAAAAgAAAAIAAAACAAAAAgAAAAIAAAACAAAAAgAAAAIAAAACAAAAAgAAAAIAAAACAAAAAgAAAAIAAAACAAAAAgAAAAIAAAACAAAAAgAAAAIAAAACAAAAAgAAAAIAAAACAAAAAgAAAAIAAAACAAAAAgAAAAIAAAACAAAAAgAAAAIAAAACAAAAAgAAAAIAAAACAAAAAgAAAAIAAAACAAAAAgAAAAIAAAACAAAAAgAAAAIAAAACAAAAAgAAAAIAAAACAAAAAgAAAAIAAAACAAAAAgAAAAIAAAACAAAAAgAAAAIAAAACAAAAAgAAAAIAAAACAAAAAgAAAAIAAAACAAAAAgAAAAIAAAACAAAAAgAAAAIAAAACAAAAAgAAAAIAAAACAAAAAgAAAAIAAAACAAAAAgAAAAIAAAACAAAAAgAAAAIAAAACAAAAAgAAAAIAAAACAAAAAgAAAAIAAAACAAAAAgAAAAIAAAACAAAAAgAAAAIAAAACAAAAAgAAAAIAAAACAAAAAgAAAAIAAAACAAAAAgAAAAIAAAACAAAAAgAAAAIAAAACAAAAAgAAAAIAAAACAAAAAgAAAAIAAAACAAAAAgAAAAIAAAACAAAAAgAAAAIAAAACAAAAAgAAAAIAAAACAAAAAgAAAAIAAAACAAAAAgAAAAIAAAACAAAAAgAAAAIAAAACAAAAAgAAAAIAAAACAAAAAgAAAAIAAAACAAAAAgAAAAIAAAACAAAAAgAAAAIAAAACAAAAAgAAAAIAAAACAAAAAgAAAAIAAAACAAAAAgAAAAIAAAACAAAAAgAAAAIAAAACAAAAAgAAAAIAAAACAAAAAgAAAAIAAAACAAAAAgAAAAIAAAACAAAAAgAAAAIAAAACAAAAAgAAAAIAAAACAAAAAgAAAAIAAAACAAAAAgAAAAIAAAACAAAAAgAAAAIAAAACAAAAAgAAAAIAAAACAAAAAgAAAAIAAAACAAAAAgAAAAIAAAACAAAAAgAAAAIAAAACAAAAAgAAAAIAAAACAAAAAgAAAAIAAAACAAAAAgAAAAIAAAACAAAAAgAAAAIAAAACAAAAAgAAAAIAAAACAAAAAgAAAAIAAAACAAAAAgAAAAIAAAACAAAAAgAAAAIAAAACAAAAAgAAAAIAAAACAAAAAgAAAAIAAAACAAAAAgAAAAIAAAACAAAAAgAAAAIAAAACAAAAAgAAAAIAAAACAAAAAgAAAAIAAAACAAAAAgAAAAIAAAACAAAAAgAAAAIAAAACAAAAAgAAAAIAAAACAAAAAgAAAAIAAAACAAAAAgAAAAIAAAACAAAAAgAAAAIAAAACAAAAAgAAAAIAAAACAAAAAgAAAAIAAAACAAAAAgAAAAIAAAACAAAAAgAAAAIAAAACAAAAAgAAAAIAAAACAAAAAgAAAAIAAAACAAAAAgAAAAIAAAACAAAAAgAAAAIAAAACAAAAAgAAAAIAAAACAAAAAgAAAAIAAAACAAAAAgAAAAIAAAACAAAAAgAAAAIAAAACAAAAAgAAAAIAAAACAAAAAgAAAAIAAAACAAAAAgAAAAIAAAACAAAAAgAAAAIAAAACAAAAAgAAAAIAAAACAAAAAgAAAAIAAAACAAAAAgAAAAIAAAACAAAAAgAAAAIAAAACAAAAAgAAAAIAAAACAAAAAgAAAAIAAAACAAAAAgAAAAIAAAACAAAAAgAAAAIAAAACAAAAAgAAAAIAAAACAAAAAgAAAAIAAAACAAAAAgAAAAIAAAACAAAAAgAAAAIAAAACAAAAAgAAAAIAAAACAAAAAgAAAAIAAAACAAAAAgAAAAIAAAACAAAAAgAAAAIAAAACAAAAAgAAAAIAAAACAAAAAgAAAAIAAAACAAAAAgAAAAIAAAACAAAAAgAAAAIAAAACAAAAAgAAAAIAAAACAAAAAgAAAAIAAAACAAAAAgAAAAIAAAACAAAAAgAAAAIAAAACAAAAAgAAAAIAAAACAAAAAgAAAAIAAAACAAAAAgAAAAIAAAACAAAAAgAAAAIAAAACAAAAAgAAAAIAAAACAAAAAgAAAAIAAAACAAAAAgAAAAIAAAACAAAAAgAAAAIAAAACAAAAAgAAAAIAAAACAAAAAgAAAAIAAAACAAAAAgAAAAIAAAACAAAAAgAAAAIAAAACAAAAAgAAAAIAAAACAAAAAgAAAAIAAAACAAAAAgAAAAIAAAACAAAAAgAAAA==",
          "dtype": "i4"
         },
         "yaxis": "y"
        }
       ],
       "layout": {
        "legend": {
         "title": {
          "text": "color"
         },
         "tracegroupgap": 0
        },
        "template": {
         "data": {
          "bar": [
           {
            "error_x": {
             "color": "#2a3f5f"
            },
            "error_y": {
             "color": "#2a3f5f"
            },
            "marker": {
             "line": {
              "color": "#E5ECF6",
              "width": 0.5
             },
             "pattern": {
              "fillmode": "overlay",
              "size": 10,
              "solidity": 0.2
             }
            },
            "type": "bar"
           }
          ],
          "barpolar": [
           {
            "marker": {
             "line": {
              "color": "#E5ECF6",
              "width": 0.5
             },
             "pattern": {
              "fillmode": "overlay",
              "size": 10,
              "solidity": 0.2
             }
            },
            "type": "barpolar"
           }
          ],
          "carpet": [
           {
            "aaxis": {
             "endlinecolor": "#2a3f5f",
             "gridcolor": "white",
             "linecolor": "white",
             "minorgridcolor": "white",
             "startlinecolor": "#2a3f5f"
            },
            "baxis": {
             "endlinecolor": "#2a3f5f",
             "gridcolor": "white",
             "linecolor": "white",
             "minorgridcolor": "white",
             "startlinecolor": "#2a3f5f"
            },
            "type": "carpet"
           }
          ],
          "choropleth": [
           {
            "colorbar": {
             "outlinewidth": 0,
             "ticks": ""
            },
            "type": "choropleth"
           }
          ],
          "contour": [
           {
            "colorbar": {
             "outlinewidth": 0,
             "ticks": ""
            },
            "colorscale": [
             [
              0,
              "#0d0887"
             ],
             [
              0.1111111111111111,
              "#46039f"
             ],
             [
              0.2222222222222222,
              "#7201a8"
             ],
             [
              0.3333333333333333,
              "#9c179e"
             ],
             [
              0.4444444444444444,
              "#bd3786"
             ],
             [
              0.5555555555555556,
              "#d8576b"
             ],
             [
              0.6666666666666666,
              "#ed7953"
             ],
             [
              0.7777777777777778,
              "#fb9f3a"
             ],
             [
              0.8888888888888888,
              "#fdca26"
             ],
             [
              1,
              "#f0f921"
             ]
            ],
            "type": "contour"
           }
          ],
          "contourcarpet": [
           {
            "colorbar": {
             "outlinewidth": 0,
             "ticks": ""
            },
            "type": "contourcarpet"
           }
          ],
          "heatmap": [
           {
            "colorbar": {
             "outlinewidth": 0,
             "ticks": ""
            },
            "colorscale": [
             [
              0,
              "#0d0887"
             ],
             [
              0.1111111111111111,
              "#46039f"
             ],
             [
              0.2222222222222222,
              "#7201a8"
             ],
             [
              0.3333333333333333,
              "#9c179e"
             ],
             [
              0.4444444444444444,
              "#bd3786"
             ],
             [
              0.5555555555555556,
              "#d8576b"
             ],
             [
              0.6666666666666666,
              "#ed7953"
             ],
             [
              0.7777777777777778,
              "#fb9f3a"
             ],
             [
              0.8888888888888888,
              "#fdca26"
             ],
             [
              1,
              "#f0f921"
             ]
            ],
            "type": "heatmap"
           }
          ],
          "histogram": [
           {
            "marker": {
             "pattern": {
              "fillmode": "overlay",
              "size": 10,
              "solidity": 0.2
             }
            },
            "type": "histogram"
           }
          ],
          "histogram2d": [
           {
            "colorbar": {
             "outlinewidth": 0,
             "ticks": ""
            },
            "colorscale": [
             [
              0,
              "#0d0887"
             ],
             [
              0.1111111111111111,
              "#46039f"
             ],
             [
              0.2222222222222222,
              "#7201a8"
             ],
             [
              0.3333333333333333,
              "#9c179e"
             ],
             [
              0.4444444444444444,
              "#bd3786"
             ],
             [
              0.5555555555555556,
              "#d8576b"
             ],
             [
              0.6666666666666666,
              "#ed7953"
             ],
             [
              0.7777777777777778,
              "#fb9f3a"
             ],
             [
              0.8888888888888888,
              "#fdca26"
             ],
             [
              1,
              "#f0f921"
             ]
            ],
            "type": "histogram2d"
           }
          ],
          "histogram2dcontour": [
           {
            "colorbar": {
             "outlinewidth": 0,
             "ticks": ""
            },
            "colorscale": [
             [
              0,
              "#0d0887"
             ],
             [
              0.1111111111111111,
              "#46039f"
             ],
             [
              0.2222222222222222,
              "#7201a8"
             ],
             [
              0.3333333333333333,
              "#9c179e"
             ],
             [
              0.4444444444444444,
              "#bd3786"
             ],
             [
              0.5555555555555556,
              "#d8576b"
             ],
             [
              0.6666666666666666,
              "#ed7953"
             ],
             [
              0.7777777777777778,
              "#fb9f3a"
             ],
             [
              0.8888888888888888,
              "#fdca26"
             ],
             [
              1,
              "#f0f921"
             ]
            ],
            "type": "histogram2dcontour"
           }
          ],
          "mesh3d": [
           {
            "colorbar": {
             "outlinewidth": 0,
             "ticks": ""
            },
            "type": "mesh3d"
           }
          ],
          "parcoords": [
           {
            "line": {
             "colorbar": {
              "outlinewidth": 0,
              "ticks": ""
             }
            },
            "type": "parcoords"
           }
          ],
          "pie": [
           {
            "automargin": true,
            "type": "pie"
           }
          ],
          "scatter": [
           {
            "fillpattern": {
             "fillmode": "overlay",
             "size": 10,
             "solidity": 0.2
            },
            "type": "scatter"
           }
          ],
          "scatter3d": [
           {
            "line": {
             "colorbar": {
              "outlinewidth": 0,
              "ticks": ""
             }
            },
            "marker": {
             "colorbar": {
              "outlinewidth": 0,
              "ticks": ""
             }
            },
            "type": "scatter3d"
           }
          ],
          "scattercarpet": [
           {
            "marker": {
             "colorbar": {
              "outlinewidth": 0,
              "ticks": ""
             }
            },
            "type": "scattercarpet"
           }
          ],
          "scattergeo": [
           {
            "marker": {
             "colorbar": {
              "outlinewidth": 0,
              "ticks": ""
             }
            },
            "type": "scattergeo"
           }
          ],
          "scattergl": [
           {
            "marker": {
             "colorbar": {
              "outlinewidth": 0,
              "ticks": ""
             }
            },
            "type": "scattergl"
           }
          ],
          "scattermap": [
           {
            "marker": {
             "colorbar": {
              "outlinewidth": 0,
              "ticks": ""
             }
            },
            "type": "scattermap"
           }
          ],
          "scattermapbox": [
           {
            "marker": {
             "colorbar": {
              "outlinewidth": 0,
              "ticks": ""
             }
            },
            "type": "scattermapbox"
           }
          ],
          "scatterpolar": [
           {
            "marker": {
             "colorbar": {
              "outlinewidth": 0,
              "ticks": ""
             }
            },
            "type": "scatterpolar"
           }
          ],
          "scatterpolargl": [
           {
            "marker": {
             "colorbar": {
              "outlinewidth": 0,
              "ticks": ""
             }
            },
            "type": "scatterpolargl"
           }
          ],
          "scatterternary": [
           {
            "marker": {
             "colorbar": {
              "outlinewidth": 0,
              "ticks": ""
             }
            },
            "type": "scatterternary"
           }
          ],
          "surface": [
           {
            "colorbar": {
             "outlinewidth": 0,
             "ticks": ""
            },
            "colorscale": [
             [
              0,
              "#0d0887"
             ],
             [
              0.1111111111111111,
              "#46039f"
             ],
             [
              0.2222222222222222,
              "#7201a8"
             ],
             [
              0.3333333333333333,
              "#9c179e"
             ],
             [
              0.4444444444444444,
              "#bd3786"
             ],
             [
              0.5555555555555556,
              "#d8576b"
             ],
             [
              0.6666666666666666,
              "#ed7953"
             ],
             [
              0.7777777777777778,
              "#fb9f3a"
             ],
             [
              0.8888888888888888,
              "#fdca26"
             ],
             [
              1,
              "#f0f921"
             ]
            ],
            "type": "surface"
           }
          ],
          "table": [
           {
            "cells": {
             "fill": {
              "color": "#EBF0F8"
             },
             "line": {
              "color": "white"
             }
            },
            "header": {
             "fill": {
              "color": "#C8D4E3"
             },
             "line": {
              "color": "white"
             }
            },
            "type": "table"
           }
          ]
         },
         "layout": {
          "annotationdefaults": {
           "arrowcolor": "#2a3f5f",
           "arrowhead": 0,
           "arrowwidth": 1
          },
          "autotypenumbers": "strict",
          "coloraxis": {
           "colorbar": {
            "outlinewidth": 0,
            "ticks": ""
           }
          },
          "colorscale": {
           "diverging": [
            [
             0,
             "#8e0152"
            ],
            [
             0.1,
             "#c51b7d"
            ],
            [
             0.2,
             "#de77ae"
            ],
            [
             0.3,
             "#f1b6da"
            ],
            [
             0.4,
             "#fde0ef"
            ],
            [
             0.5,
             "#f7f7f7"
            ],
            [
             0.6,
             "#e6f5d0"
            ],
            [
             0.7,
             "#b8e186"
            ],
            [
             0.8,
             "#7fbc41"
            ],
            [
             0.9,
             "#4d9221"
            ],
            [
             1,
             "#276419"
            ]
           ],
           "sequential": [
            [
             0,
             "#0d0887"
            ],
            [
             0.1111111111111111,
             "#46039f"
            ],
            [
             0.2222222222222222,
             "#7201a8"
            ],
            [
             0.3333333333333333,
             "#9c179e"
            ],
            [
             0.4444444444444444,
             "#bd3786"
            ],
            [
             0.5555555555555556,
             "#d8576b"
            ],
            [
             0.6666666666666666,
             "#ed7953"
            ],
            [
             0.7777777777777778,
             "#fb9f3a"
            ],
            [
             0.8888888888888888,
             "#fdca26"
            ],
            [
             1,
             "#f0f921"
            ]
           ],
           "sequentialminus": [
            [
             0,
             "#0d0887"
            ],
            [
             0.1111111111111111,
             "#46039f"
            ],
            [
             0.2222222222222222,
             "#7201a8"
            ],
            [
             0.3333333333333333,
             "#9c179e"
            ],
            [
             0.4444444444444444,
             "#bd3786"
            ],
            [
             0.5555555555555556,
             "#d8576b"
            ],
            [
             0.6666666666666666,
             "#ed7953"
            ],
            [
             0.7777777777777778,
             "#fb9f3a"
            ],
            [
             0.8888888888888888,
             "#fdca26"
            ],
            [
             1,
             "#f0f921"
            ]
           ]
          },
          "colorway": [
           "#636efa",
           "#EF553B",
           "#00cc96",
           "#ab63fa",
           "#FFA15A",
           "#19d3f3",
           "#FF6692",
           "#B6E880",
           "#FF97FF",
           "#FECB52"
          ],
          "font": {
           "color": "#2a3f5f"
          },
          "geo": {
           "bgcolor": "white",
           "lakecolor": "white",
           "landcolor": "#E5ECF6",
           "showlakes": true,
           "showland": true,
           "subunitcolor": "white"
          },
          "hoverlabel": {
           "align": "left"
          },
          "hovermode": "closest",
          "mapbox": {
           "style": "light"
          },
          "paper_bgcolor": "white",
          "plot_bgcolor": "#E5ECF6",
          "polar": {
           "angularaxis": {
            "gridcolor": "white",
            "linecolor": "white",
            "ticks": ""
           },
           "bgcolor": "#E5ECF6",
           "radialaxis": {
            "gridcolor": "white",
            "linecolor": "white",
            "ticks": ""
           }
          },
          "scene": {
           "xaxis": {
            "backgroundcolor": "#E5ECF6",
            "gridcolor": "white",
            "gridwidth": 2,
            "linecolor": "white",
            "showbackground": true,
            "ticks": "",
            "zerolinecolor": "white"
           },
           "yaxis": {
            "backgroundcolor": "#E5ECF6",
            "gridcolor": "white",
            "gridwidth": 2,
            "linecolor": "white",
            "showbackground": true,
            "ticks": "",
            "zerolinecolor": "white"
           },
           "zaxis": {
            "backgroundcolor": "#E5ECF6",
            "gridcolor": "white",
            "gridwidth": 2,
            "linecolor": "white",
            "showbackground": true,
            "ticks": "",
            "zerolinecolor": "white"
           }
          },
          "shapedefaults": {
           "line": {
            "color": "#2a3f5f"
           }
          },
          "ternary": {
           "aaxis": {
            "gridcolor": "white",
            "linecolor": "white",
            "ticks": ""
           },
           "baxis": {
            "gridcolor": "white",
            "linecolor": "white",
            "ticks": ""
           },
           "bgcolor": "#E5ECF6",
           "caxis": {
            "gridcolor": "white",
            "linecolor": "white",
            "ticks": ""
           }
          },
          "title": {
           "x": 0.05
          },
          "xaxis": {
           "automargin": true,
           "gridcolor": "white",
           "linecolor": "white",
           "ticks": "",
           "title": {
            "standoff": 15
           },
           "zerolinecolor": "white",
           "zerolinewidth": 2
          },
          "yaxis": {
           "automargin": true,
           "gridcolor": "white",
           "linecolor": "white",
           "ticks": "",
           "title": {
            "standoff": 15
           },
           "zerolinecolor": "white",
           "zerolinewidth": 2
          }
         }
        },
        "title": {
         "text": "Segmentação por Tamanho do Imóvel e Tipo de Imóvel"
        },
        "xaxis": {
         "anchor": "y",
         "domain": [
          0,
          1
         ],
         "title": {
          "text": "tamanho_imovel"
         }
        },
        "yaxis": {
         "anchor": "x",
         "domain": [
          0,
          1
         ],
         "title": {
          "text": "tipo_imovel"
         }
        }
       }
      }
     },
     "metadata": {},
     "output_type": "display_data"
    }
   ],
   "source": [
    "fig = px.scatter(dados_cluster, x='tamanho_imovel', y='tipo_imovel', color=dados_cluster['Cluster'].astype(str),\n",
    "                 title='Segmentação por Tamanho do Imóvel e Tipo de Imóvel',\n",
    "                 labels={'Cluster': 'Grupo'},\n",
    "                 hover_data=['tamanho_imovel', 'tipo_imovel'])\n",
    "\n",
    "fig.show()"
   ]
  },
  {
   "cell_type": "code",
   "execution_count": 348,
   "metadata": {},
   "outputs": [],
   "source": [
    "dados['cluster'] = kmeans.fit_predict(dados_cluster[['tamanho_imovel', 'tipo_imovel']])"
   ]
  },
  {
   "cell_type": "code",
   "execution_count": 349,
   "metadata": {},
   "outputs": [
    {
     "data": {
      "text/html": [
       "<div>\n",
       "<style scoped>\n",
       "    .dataframe tbody tr th:only-of-type {\n",
       "        vertical-align: middle;\n",
       "    }\n",
       "\n",
       "    .dataframe tbody tr th {\n",
       "        vertical-align: top;\n",
       "    }\n",
       "\n",
       "    .dataframe thead th {\n",
       "        text-align: right;\n",
       "    }\n",
       "</style>\n",
       "<table border=\"1\" class=\"dataframe\">\n",
       "  <thead>\n",
       "    <tr style=\"text-align: right;\">\n",
       "      <th></th>\n",
       "      <th>id_cartorio</th>\n",
       "      <th>texto</th>\n",
       "      <th>estado</th>\n",
       "      <th>cidade</th>\n",
       "      <th>data</th>\n",
       "      <th>ano</th>\n",
       "      <th>mes</th>\n",
       "      <th>tamanho_imovel</th>\n",
       "      <th>tipo_transferencia</th>\n",
       "      <th>tipo_imovel</th>\n",
       "      <th>regiao</th>\n",
       "      <th>cluster</th>\n",
       "    </tr>\n",
       "  </thead>\n",
       "  <tbody>\n",
       "    <tr>\n",
       "      <th>0</th>\n",
       "      <td>193</td>\n",
       "      <td>Processo Usucapião Extrajudicial Apartamento 1...</td>\n",
       "      <td>PI</td>\n",
       "      <td>Picos</td>\n",
       "      <td>2023-08-01</td>\n",
       "      <td>2023</td>\n",
       "      <td>8</td>\n",
       "      <td>121</td>\n",
       "      <td>Usucapião Extrajudicial</td>\n",
       "      <td>apartamento</td>\n",
       "      <td>Nordeste</td>\n",
       "      <td>0</td>\n",
       "    </tr>\n",
       "    <tr>\n",
       "      <th>1</th>\n",
       "      <td>276</td>\n",
       "      <td>Processo Usucapião Extrajudicial Terreno Rural...</td>\n",
       "      <td>MA</td>\n",
       "      <td>São Luís</td>\n",
       "      <td>2023-11-01</td>\n",
       "      <td>2023</td>\n",
       "      <td>11</td>\n",
       "      <td>35049</td>\n",
       "      <td>Usucapião Extrajudicial</td>\n",
       "      <td>terreno rural</td>\n",
       "      <td>Nordeste</td>\n",
       "      <td>1</td>\n",
       "    </tr>\n",
       "    <tr>\n",
       "      <th>2</th>\n",
       "      <td>70</td>\n",
       "      <td>Processo Usucapião Extrajudicial Terreno Rural...</td>\n",
       "      <td>SC</td>\n",
       "      <td>Blumenau</td>\n",
       "      <td>2024-02-01</td>\n",
       "      <td>2024</td>\n",
       "      <td>2</td>\n",
       "      <td>28034</td>\n",
       "      <td>Usucapião Extrajudicial</td>\n",
       "      <td>terreno rural</td>\n",
       "      <td>Sul</td>\n",
       "      <td>1</td>\n",
       "    </tr>\n",
       "    <tr>\n",
       "      <th>3</th>\n",
       "      <td>277</td>\n",
       "      <td>Casa 291 m² transferido Ana Beatriz Rocha 8910...</td>\n",
       "      <td>CE</td>\n",
       "      <td>Fortaleza</td>\n",
       "      <td>2024-04-01</td>\n",
       "      <td>2024</td>\n",
       "      <td>4</td>\n",
       "      <td>291</td>\n",
       "      <td>Usucapião Extrajudicial</td>\n",
       "      <td>casa</td>\n",
       "      <td>Nordeste</td>\n",
       "      <td>0</td>\n",
       "    </tr>\n",
       "    <tr>\n",
       "      <th>4</th>\n",
       "      <td>166</td>\n",
       "      <td>Processo Compra Venda Casa 153 m² passou Ramos...</td>\n",
       "      <td>RJ</td>\n",
       "      <td>Niterói</td>\n",
       "      <td>2024-10-01</td>\n",
       "      <td>2024</td>\n",
       "      <td>10</td>\n",
       "      <td>153</td>\n",
       "      <td>Compra e Venda</td>\n",
       "      <td>casa</td>\n",
       "      <td>Sudeste</td>\n",
       "      <td>0</td>\n",
       "    </tr>\n",
       "  </tbody>\n",
       "</table>\n",
       "</div>"
      ],
      "text/plain": [
       "   id_cartorio                                              texto estado  \\\n",
       "0          193  Processo Usucapião Extrajudicial Apartamento 1...     PI   \n",
       "1          276  Processo Usucapião Extrajudicial Terreno Rural...     MA   \n",
       "2           70  Processo Usucapião Extrajudicial Terreno Rural...     SC   \n",
       "3          277  Casa 291 m² transferido Ana Beatriz Rocha 8910...     CE   \n",
       "4          166  Processo Compra Venda Casa 153 m² passou Ramos...     RJ   \n",
       "\n",
       "      cidade       data   ano  mes  tamanho_imovel       tipo_transferencia  \\\n",
       "0      Picos 2023-08-01  2023    8             121  Usucapião Extrajudicial   \n",
       "1   São Luís 2023-11-01  2023   11           35049  Usucapião Extrajudicial   \n",
       "2   Blumenau 2024-02-01  2024    2           28034  Usucapião Extrajudicial   \n",
       "3  Fortaleza 2024-04-01  2024    4             291  Usucapião Extrajudicial   \n",
       "4    Niterói 2024-10-01  2024   10             153           Compra e Venda   \n",
       "\n",
       "     tipo_imovel    regiao  cluster  \n",
       "0    apartamento  Nordeste        0  \n",
       "1  terreno rural  Nordeste        1  \n",
       "2  terreno rural       Sul        1  \n",
       "3           casa  Nordeste        0  \n",
       "4           casa   Sudeste        0  "
      ]
     },
     "execution_count": 349,
     "metadata": {},
     "output_type": "execute_result"
    }
   ],
   "source": [
    "dados.head()"
   ]
  },
  {
   "cell_type": "markdown",
   "metadata": {},
   "source": [
    "Analisando os resultados do clustering, observa-se que as categorias de clusters 1 e 2 foram completamente dominadas por imóveis do tipo \"terreno rural\", enquanto o cluster 0 apresenta apenas uma pequena proporção desse tipo de imóvel. Além disso, o cluster 0 é mais heterogêneo, dividindo o espaço entre imóveis de \"apartamento\" e \"casa\"."
   ]
  },
  {
   "cell_type": "code",
   "execution_count": 350,
   "metadata": {},
   "outputs": [
    {
     "data": {
      "application/vnd.plotly.v1+json": {
       "config": {
        "plotlyServerURL": "https://plot.ly"
       },
       "data": [
        {
         "hovertemplate": "tipo_imovel=apartamento<br>cluster=%{x}<br>Proporção=%{y}<extra></extra>",
         "legendgroup": "apartamento",
         "marker": {
          "color": "#636efa",
          "pattern": {
           "shape": ""
          }
         },
         "name": "apartamento",
         "orientation": "v",
         "showlegend": true,
         "textposition": "auto",
         "type": "bar",
         "x": {
          "bdata": "AAAAAAEAAAACAAAA",
          "dtype": "i4"
         },
         "xaxis": "x",
         "y": {
          "bdata": "2FKhR/cJ4D8AAAAAAAD4fwAAAAAAAPh/",
          "dtype": "f8"
         },
         "yaxis": "y"
        },
        {
         "hovertemplate": "tipo_imovel=casa<br>cluster=%{x}<br>Proporção=%{y}<extra></extra>",
         "legendgroup": "casa",
         "marker": {
          "color": "#EF553B",
          "pattern": {
           "shape": ""
          }
         },
         "name": "casa",
         "orientation": "v",
         "showlegend": true,
         "textposition": "auto",
         "type": "bar",
         "x": {
          "bdata": "AAAAAAEAAAACAAAA",
          "dtype": "i4"
         },
         "xaxis": "x",
         "y": {
          "bdata": "r42P1mDn3z8AAAAAAAD4fwAAAAAAAPh/",
          "dtype": "f8"
         },
         "yaxis": "y"
        },
        {
         "hovertemplate": "tipo_imovel=terreno rural<br>cluster=%{x}<br>Proporção=%{y}<extra></extra>",
         "legendgroup": "terreno rural",
         "marker": {
          "color": "#00cc96",
          "pattern": {
           "shape": ""
          }
         },
         "name": "terreno rural",
         "orientation": "v",
         "showlegend": true,
         "textposition": "auto",
         "type": "bar",
         "x": {
          "bdata": "AAAAAAEAAAACAAAA",
          "dtype": "i4"
         },
         "xaxis": "x",
         "y": {
          "bdata": "nYYyt2jCMj8AAAAAAADwPwAAAAAAAPA/",
          "dtype": "f8"
         },
         "yaxis": "y"
        }
       ],
       "layout": {
        "barmode": "stack",
        "legend": {
         "title": {
          "text": "tipo_imovel"
         },
         "tracegroupgap": 0
        },
        "template": {
         "data": {
          "bar": [
           {
            "error_x": {
             "color": "#2a3f5f"
            },
            "error_y": {
             "color": "#2a3f5f"
            },
            "marker": {
             "line": {
              "color": "#E5ECF6",
              "width": 0.5
             },
             "pattern": {
              "fillmode": "overlay",
              "size": 10,
              "solidity": 0.2
             }
            },
            "type": "bar"
           }
          ],
          "barpolar": [
           {
            "marker": {
             "line": {
              "color": "#E5ECF6",
              "width": 0.5
             },
             "pattern": {
              "fillmode": "overlay",
              "size": 10,
              "solidity": 0.2
             }
            },
            "type": "barpolar"
           }
          ],
          "carpet": [
           {
            "aaxis": {
             "endlinecolor": "#2a3f5f",
             "gridcolor": "white",
             "linecolor": "white",
             "minorgridcolor": "white",
             "startlinecolor": "#2a3f5f"
            },
            "baxis": {
             "endlinecolor": "#2a3f5f",
             "gridcolor": "white",
             "linecolor": "white",
             "minorgridcolor": "white",
             "startlinecolor": "#2a3f5f"
            },
            "type": "carpet"
           }
          ],
          "choropleth": [
           {
            "colorbar": {
             "outlinewidth": 0,
             "ticks": ""
            },
            "type": "choropleth"
           }
          ],
          "contour": [
           {
            "colorbar": {
             "outlinewidth": 0,
             "ticks": ""
            },
            "colorscale": [
             [
              0,
              "#0d0887"
             ],
             [
              0.1111111111111111,
              "#46039f"
             ],
             [
              0.2222222222222222,
              "#7201a8"
             ],
             [
              0.3333333333333333,
              "#9c179e"
             ],
             [
              0.4444444444444444,
              "#bd3786"
             ],
             [
              0.5555555555555556,
              "#d8576b"
             ],
             [
              0.6666666666666666,
              "#ed7953"
             ],
             [
              0.7777777777777778,
              "#fb9f3a"
             ],
             [
              0.8888888888888888,
              "#fdca26"
             ],
             [
              1,
              "#f0f921"
             ]
            ],
            "type": "contour"
           }
          ],
          "contourcarpet": [
           {
            "colorbar": {
             "outlinewidth": 0,
             "ticks": ""
            },
            "type": "contourcarpet"
           }
          ],
          "heatmap": [
           {
            "colorbar": {
             "outlinewidth": 0,
             "ticks": ""
            },
            "colorscale": [
             [
              0,
              "#0d0887"
             ],
             [
              0.1111111111111111,
              "#46039f"
             ],
             [
              0.2222222222222222,
              "#7201a8"
             ],
             [
              0.3333333333333333,
              "#9c179e"
             ],
             [
              0.4444444444444444,
              "#bd3786"
             ],
             [
              0.5555555555555556,
              "#d8576b"
             ],
             [
              0.6666666666666666,
              "#ed7953"
             ],
             [
              0.7777777777777778,
              "#fb9f3a"
             ],
             [
              0.8888888888888888,
              "#fdca26"
             ],
             [
              1,
              "#f0f921"
             ]
            ],
            "type": "heatmap"
           }
          ],
          "histogram": [
           {
            "marker": {
             "pattern": {
              "fillmode": "overlay",
              "size": 10,
              "solidity": 0.2
             }
            },
            "type": "histogram"
           }
          ],
          "histogram2d": [
           {
            "colorbar": {
             "outlinewidth": 0,
             "ticks": ""
            },
            "colorscale": [
             [
              0,
              "#0d0887"
             ],
             [
              0.1111111111111111,
              "#46039f"
             ],
             [
              0.2222222222222222,
              "#7201a8"
             ],
             [
              0.3333333333333333,
              "#9c179e"
             ],
             [
              0.4444444444444444,
              "#bd3786"
             ],
             [
              0.5555555555555556,
              "#d8576b"
             ],
             [
              0.6666666666666666,
              "#ed7953"
             ],
             [
              0.7777777777777778,
              "#fb9f3a"
             ],
             [
              0.8888888888888888,
              "#fdca26"
             ],
             [
              1,
              "#f0f921"
             ]
            ],
            "type": "histogram2d"
           }
          ],
          "histogram2dcontour": [
           {
            "colorbar": {
             "outlinewidth": 0,
             "ticks": ""
            },
            "colorscale": [
             [
              0,
              "#0d0887"
             ],
             [
              0.1111111111111111,
              "#46039f"
             ],
             [
              0.2222222222222222,
              "#7201a8"
             ],
             [
              0.3333333333333333,
              "#9c179e"
             ],
             [
              0.4444444444444444,
              "#bd3786"
             ],
             [
              0.5555555555555556,
              "#d8576b"
             ],
             [
              0.6666666666666666,
              "#ed7953"
             ],
             [
              0.7777777777777778,
              "#fb9f3a"
             ],
             [
              0.8888888888888888,
              "#fdca26"
             ],
             [
              1,
              "#f0f921"
             ]
            ],
            "type": "histogram2dcontour"
           }
          ],
          "mesh3d": [
           {
            "colorbar": {
             "outlinewidth": 0,
             "ticks": ""
            },
            "type": "mesh3d"
           }
          ],
          "parcoords": [
           {
            "line": {
             "colorbar": {
              "outlinewidth": 0,
              "ticks": ""
             }
            },
            "type": "parcoords"
           }
          ],
          "pie": [
           {
            "automargin": true,
            "type": "pie"
           }
          ],
          "scatter": [
           {
            "fillpattern": {
             "fillmode": "overlay",
             "size": 10,
             "solidity": 0.2
            },
            "type": "scatter"
           }
          ],
          "scatter3d": [
           {
            "line": {
             "colorbar": {
              "outlinewidth": 0,
              "ticks": ""
             }
            },
            "marker": {
             "colorbar": {
              "outlinewidth": 0,
              "ticks": ""
             }
            },
            "type": "scatter3d"
           }
          ],
          "scattercarpet": [
           {
            "marker": {
             "colorbar": {
              "outlinewidth": 0,
              "ticks": ""
             }
            },
            "type": "scattercarpet"
           }
          ],
          "scattergeo": [
           {
            "marker": {
             "colorbar": {
              "outlinewidth": 0,
              "ticks": ""
             }
            },
            "type": "scattergeo"
           }
          ],
          "scattergl": [
           {
            "marker": {
             "colorbar": {
              "outlinewidth": 0,
              "ticks": ""
             }
            },
            "type": "scattergl"
           }
          ],
          "scattermap": [
           {
            "marker": {
             "colorbar": {
              "outlinewidth": 0,
              "ticks": ""
             }
            },
            "type": "scattermap"
           }
          ],
          "scattermapbox": [
           {
            "marker": {
             "colorbar": {
              "outlinewidth": 0,
              "ticks": ""
             }
            },
            "type": "scattermapbox"
           }
          ],
          "scatterpolar": [
           {
            "marker": {
             "colorbar": {
              "outlinewidth": 0,
              "ticks": ""
             }
            },
            "type": "scatterpolar"
           }
          ],
          "scatterpolargl": [
           {
            "marker": {
             "colorbar": {
              "outlinewidth": 0,
              "ticks": ""
             }
            },
            "type": "scatterpolargl"
           }
          ],
          "scatterternary": [
           {
            "marker": {
             "colorbar": {
              "outlinewidth": 0,
              "ticks": ""
             }
            },
            "type": "scatterternary"
           }
          ],
          "surface": [
           {
            "colorbar": {
             "outlinewidth": 0,
             "ticks": ""
            },
            "colorscale": [
             [
              0,
              "#0d0887"
             ],
             [
              0.1111111111111111,
              "#46039f"
             ],
             [
              0.2222222222222222,
              "#7201a8"
             ],
             [
              0.3333333333333333,
              "#9c179e"
             ],
             [
              0.4444444444444444,
              "#bd3786"
             ],
             [
              0.5555555555555556,
              "#d8576b"
             ],
             [
              0.6666666666666666,
              "#ed7953"
             ],
             [
              0.7777777777777778,
              "#fb9f3a"
             ],
             [
              0.8888888888888888,
              "#fdca26"
             ],
             [
              1,
              "#f0f921"
             ]
            ],
            "type": "surface"
           }
          ],
          "table": [
           {
            "cells": {
             "fill": {
              "color": "#EBF0F8"
             },
             "line": {
              "color": "white"
             }
            },
            "header": {
             "fill": {
              "color": "#C8D4E3"
             },
             "line": {
              "color": "white"
             }
            },
            "type": "table"
           }
          ]
         },
         "layout": {
          "annotationdefaults": {
           "arrowcolor": "#2a3f5f",
           "arrowhead": 0,
           "arrowwidth": 1
          },
          "autotypenumbers": "strict",
          "coloraxis": {
           "colorbar": {
            "outlinewidth": 0,
            "ticks": ""
           }
          },
          "colorscale": {
           "diverging": [
            [
             0,
             "#8e0152"
            ],
            [
             0.1,
             "#c51b7d"
            ],
            [
             0.2,
             "#de77ae"
            ],
            [
             0.3,
             "#f1b6da"
            ],
            [
             0.4,
             "#fde0ef"
            ],
            [
             0.5,
             "#f7f7f7"
            ],
            [
             0.6,
             "#e6f5d0"
            ],
            [
             0.7,
             "#b8e186"
            ],
            [
             0.8,
             "#7fbc41"
            ],
            [
             0.9,
             "#4d9221"
            ],
            [
             1,
             "#276419"
            ]
           ],
           "sequential": [
            [
             0,
             "#0d0887"
            ],
            [
             0.1111111111111111,
             "#46039f"
            ],
            [
             0.2222222222222222,
             "#7201a8"
            ],
            [
             0.3333333333333333,
             "#9c179e"
            ],
            [
             0.4444444444444444,
             "#bd3786"
            ],
            [
             0.5555555555555556,
             "#d8576b"
            ],
            [
             0.6666666666666666,
             "#ed7953"
            ],
            [
             0.7777777777777778,
             "#fb9f3a"
            ],
            [
             0.8888888888888888,
             "#fdca26"
            ],
            [
             1,
             "#f0f921"
            ]
           ],
           "sequentialminus": [
            [
             0,
             "#0d0887"
            ],
            [
             0.1111111111111111,
             "#46039f"
            ],
            [
             0.2222222222222222,
             "#7201a8"
            ],
            [
             0.3333333333333333,
             "#9c179e"
            ],
            [
             0.4444444444444444,
             "#bd3786"
            ],
            [
             0.5555555555555556,
             "#d8576b"
            ],
            [
             0.6666666666666666,
             "#ed7953"
            ],
            [
             0.7777777777777778,
             "#fb9f3a"
            ],
            [
             0.8888888888888888,
             "#fdca26"
            ],
            [
             1,
             "#f0f921"
            ]
           ]
          },
          "colorway": [
           "#636efa",
           "#EF553B",
           "#00cc96",
           "#ab63fa",
           "#FFA15A",
           "#19d3f3",
           "#FF6692",
           "#B6E880",
           "#FF97FF",
           "#FECB52"
          ],
          "font": {
           "color": "#2a3f5f"
          },
          "geo": {
           "bgcolor": "white",
           "lakecolor": "white",
           "landcolor": "#E5ECF6",
           "showlakes": true,
           "showland": true,
           "subunitcolor": "white"
          },
          "hoverlabel": {
           "align": "left"
          },
          "hovermode": "closest",
          "mapbox": {
           "style": "light"
          },
          "paper_bgcolor": "white",
          "plot_bgcolor": "#E5ECF6",
          "polar": {
           "angularaxis": {
            "gridcolor": "white",
            "linecolor": "white",
            "ticks": ""
           },
           "bgcolor": "#E5ECF6",
           "radialaxis": {
            "gridcolor": "white",
            "linecolor": "white",
            "ticks": ""
           }
          },
          "scene": {
           "xaxis": {
            "backgroundcolor": "#E5ECF6",
            "gridcolor": "white",
            "gridwidth": 2,
            "linecolor": "white",
            "showbackground": true,
            "ticks": "",
            "zerolinecolor": "white"
           },
           "yaxis": {
            "backgroundcolor": "#E5ECF6",
            "gridcolor": "white",
            "gridwidth": 2,
            "linecolor": "white",
            "showbackground": true,
            "ticks": "",
            "zerolinecolor": "white"
           },
           "zaxis": {
            "backgroundcolor": "#E5ECF6",
            "gridcolor": "white",
            "gridwidth": 2,
            "linecolor": "white",
            "showbackground": true,
            "ticks": "",
            "zerolinecolor": "white"
           }
          },
          "shapedefaults": {
           "line": {
            "color": "#2a3f5f"
           }
          },
          "ternary": {
           "aaxis": {
            "gridcolor": "white",
            "linecolor": "white",
            "ticks": ""
           },
           "baxis": {
            "gridcolor": "white",
            "linecolor": "white",
            "ticks": ""
           },
           "bgcolor": "#E5ECF6",
           "caxis": {
            "gridcolor": "white",
            "linecolor": "white",
            "ticks": ""
           }
          },
          "title": {
           "x": 0.05
          },
          "xaxis": {
           "automargin": true,
           "gridcolor": "white",
           "linecolor": "white",
           "ticks": "",
           "title": {
            "standoff": 15
           },
           "zerolinecolor": "white",
           "zerolinewidth": 2
          },
          "yaxis": {
           "automargin": true,
           "gridcolor": "white",
           "linecolor": "white",
           "ticks": "",
           "title": {
            "standoff": 15
           },
           "zerolinecolor": "white",
           "zerolinewidth": 2
          }
         }
        },
        "title": {
         "text": "Distribuição dos Tipos de Imóvel por Cluster"
        },
        "xaxis": {
         "anchor": "y",
         "domain": [
          0,
          1
         ],
         "title": {
          "text": "cluster"
         }
        },
        "yaxis": {
         "anchor": "x",
         "domain": [
          0,
          1
         ],
         "title": {
          "text": "Proporção"
         }
        }
       }
      }
     },
     "metadata": {},
     "output_type": "display_data"
    }
   ],
   "source": [
    "tipo_imovel_cluster = dados.groupby('cluster')['tipo_imovel'].value_counts(normalize=True).unstack()\n",
    "\n",
    "# Criar um gráfico de barras empilhadas para visualizar\n",
    "fig = px.bar(tipo_imovel_cluster,\n",
    "             title=\"Distribuição dos Tipos de Imóvel por Cluster\",\n",
    "             labels={'value': 'Proporção', 'Cluster': 'Cluster'},\n",
    "             barmode='stack')\n",
    "\n",
    "fig.show()"
   ]
  },
  {
   "cell_type": "code",
   "execution_count": 351,
   "metadata": {},
   "outputs": [
    {
     "data": {
      "text/html": [
       "<div>\n",
       "<style scoped>\n",
       "    .dataframe tbody tr th:only-of-type {\n",
       "        vertical-align: middle;\n",
       "    }\n",
       "\n",
       "    .dataframe tbody tr th {\n",
       "        vertical-align: top;\n",
       "    }\n",
       "\n",
       "    .dataframe thead th {\n",
       "        text-align: right;\n",
       "    }\n",
       "</style>\n",
       "<table border=\"1\" class=\"dataframe\">\n",
       "  <thead>\n",
       "    <tr style=\"text-align: right;\">\n",
       "      <th></th>\n",
       "      <th>cluster</th>\n",
       "      <th>regiao</th>\n",
       "      <th>count</th>\n",
       "    </tr>\n",
       "  </thead>\n",
       "  <tbody>\n",
       "    <tr>\n",
       "      <th>11</th>\n",
       "      <td>2</td>\n",
       "      <td>Nordeste</td>\n",
       "      <td>287</td>\n",
       "    </tr>\n",
       "    <tr>\n",
       "      <th>12</th>\n",
       "      <td>2</td>\n",
       "      <td>Norte</td>\n",
       "      <td>226</td>\n",
       "    </tr>\n",
       "    <tr>\n",
       "      <th>13</th>\n",
       "      <td>2</td>\n",
       "      <td>Sudeste</td>\n",
       "      <td>110</td>\n",
       "    </tr>\n",
       "    <tr>\n",
       "      <th>10</th>\n",
       "      <td>2</td>\n",
       "      <td>Centro-Oeste</td>\n",
       "      <td>103</td>\n",
       "    </tr>\n",
       "    <tr>\n",
       "      <th>14</th>\n",
       "      <td>2</td>\n",
       "      <td>Sul</td>\n",
       "      <td>97</td>\n",
       "    </tr>\n",
       "    <tr>\n",
       "      <th>6</th>\n",
       "      <td>1</td>\n",
       "      <td>Nordeste</td>\n",
       "      <td>860</td>\n",
       "    </tr>\n",
       "    <tr>\n",
       "      <th>7</th>\n",
       "      <td>1</td>\n",
       "      <td>Norte</td>\n",
       "      <td>759</td>\n",
       "    </tr>\n",
       "    <tr>\n",
       "      <th>8</th>\n",
       "      <td>1</td>\n",
       "      <td>Sudeste</td>\n",
       "      <td>360</td>\n",
       "    </tr>\n",
       "    <tr>\n",
       "      <th>5</th>\n",
       "      <td>1</td>\n",
       "      <td>Centro-Oeste</td>\n",
       "      <td>320</td>\n",
       "    </tr>\n",
       "    <tr>\n",
       "      <th>9</th>\n",
       "      <td>1</td>\n",
       "      <td>Sul</td>\n",
       "      <td>308</td>\n",
       "    </tr>\n",
       "    <tr>\n",
       "      <th>1</th>\n",
       "      <td>0</td>\n",
       "      <td>Nordeste</td>\n",
       "      <td>2194</td>\n",
       "    </tr>\n",
       "    <tr>\n",
       "      <th>2</th>\n",
       "      <td>0</td>\n",
       "      <td>Norte</td>\n",
       "      <td>2015</td>\n",
       "    </tr>\n",
       "    <tr>\n",
       "      <th>3</th>\n",
       "      <td>0</td>\n",
       "      <td>Sudeste</td>\n",
       "      <td>1056</td>\n",
       "    </tr>\n",
       "    <tr>\n",
       "      <th>0</th>\n",
       "      <td>0</td>\n",
       "      <td>Centro-Oeste</td>\n",
       "      <td>881</td>\n",
       "    </tr>\n",
       "    <tr>\n",
       "      <th>4</th>\n",
       "      <td>0</td>\n",
       "      <td>Sul</td>\n",
       "      <td>841</td>\n",
       "    </tr>\n",
       "  </tbody>\n",
       "</table>\n",
       "</div>"
      ],
      "text/plain": [
       "    cluster        regiao  count\n",
       "11        2      Nordeste    287\n",
       "12        2         Norte    226\n",
       "13        2       Sudeste    110\n",
       "10        2  Centro-Oeste    103\n",
       "14        2           Sul     97\n",
       "6         1      Nordeste    860\n",
       "7         1         Norte    759\n",
       "8         1       Sudeste    360\n",
       "5         1  Centro-Oeste    320\n",
       "9         1           Sul    308\n",
       "1         0      Nordeste   2194\n",
       "2         0         Norte   2015\n",
       "3         0       Sudeste   1056\n",
       "0         0  Centro-Oeste    881\n",
       "4         0           Sul    841"
      ]
     },
     "execution_count": 351,
     "metadata": {},
     "output_type": "execute_result"
    }
   ],
   "source": [
    "# Agrupar os dados por 'cluster' e 'regiao' e contar as ocorrências\n",
    "cluster_por_regiao = dados.groupby(['cluster', 'regiao']).size().reset_index(name='count')\n",
    "cluster_por_regiao = cluster_por_regiao.sort_values(by = ['cluster', 'count'], ascending= False)\n",
    "cluster_por_regiao"
   ]
  },
  {
   "cell_type": "markdown",
   "metadata": {},
   "source": [
    "- O gráfico de barras mostra que há uma predominância de terrenos rurais (verde) nos clusters 0 e 1, enquanto apartamentos (azul) e casas (vermelho) aparecem majoritariamente no primeiro cluster.\n",
    "\n",
    "## **Distribuição Regional dos Clusters**\n",
    "\n",
    "- O **cluster 0** tem uma forte presença nas regiões:\n",
    "  - **Nordeste** (2194 registros)\n",
    "  - **Norte** (2015 registros)\n",
    "  - **Sudeste** (1056 registros)\n",
    "  - **Centro-Oeste** (881 registros)\n",
    "  - **Sul** (841 registros)\n",
    "\n",
    "  Isso sugere que o cluster 0 pode representar uma região específica ou um perfil de imóveis mais comum nessas áreas.\n",
    "\n",
    "- O **cluster 1** se distribui principalmente entre as regiões:\n",
    "  - **Nordeste** (860 registros)\n",
    "  - **Norte** (759 registros)\n",
    "  - **Sudeste** (360 registros)\n",
    "  - **Centro-Oeste** (320 registros)\n",
    "  - **Sul** (308 registros)\n",
    "\n",
    "  Isso pode indicar um padrão de mercado diferenciado nessas regiões.\n",
    "\n",
    "- O **cluster 2** é mais frequente nas regiões:\n",
    "  - **Nordeste** (287 registros)\n",
    "  - **Norte** (226 registros)\n",
    "  - **Sudeste** (110 registros)\n",
    "  - **Centro-Oeste** (103 registros)\n",
    "  - **Sul** (97 registros)\n",
    "\n",
    "  Isso pode indicar um segmento de mercado ou faixa de preço específica.\n",
    "\n",
    "\n",
    "\n",
    "### Analisando cada cluster\n",
    "\n",
    "- Cluster 0\n",
    "\n",
    "* Média 174.64 metros quadrados - Imóveis pequenos em geral.\n",
    "* Mínimo/Máximo: De 5 até 300 metros quadrados, mostrando uma grande variação.\n",
    "* 1° Quartil (112) e 3° Quartil (237): Mostra que 75% dos imóveis têm no máximo 237 metros quadrados\n",
    "\n",
    "- Cluster 1\n",
    "\n",
    "* Média: 31305.21 metros quadrados - Imóveis maiores que os do cluster 0\n",
    "* Desvio Padrão: 10784.93 - Há uma variação alta nos tamanhos.\n",
    "* Mínimo/Máximo: De 12753.0 a 49921.0 metros quadrados, ou seja, **não há imóveis pequenos** nesse cluster\n",
    "* Distribuição: Como a mediana (31322.0) é próxima da média, a distribuiçãa para mais simétrica\n",
    "\n",
    "- Cluster 2\n",
    "\n",
    "* Média: 6659.160 metros quadrados\n",
    "* Desvio Padão: 3356.41\t- Possui alta variação.\n",
    "* Mínimo/Máximo: De 1002 até 12720 metros quadrados\n",
    "* Distribuição: A mediana (6575.0 metros quadrados)\n",
    "\n",
    "\n",
    "Cluster 0: Este cluster é predominantemente composto por imóveis de tamanho pequeno a médio, com uma média de 174.64 metros quadrados. A variação de tamanho é significativa, indo de 5 a 300 metros quadrados, mas 75% dos imóveis têm no máximo 237 metros quadrados, o que sugere uma concentração de imóveis menores. Esse cluster parece englobar imóveis comuns em várias regiões, com uma forte presença no Nordeste e Norte.\n",
    "\n",
    "Cluster 1: Imóveis neste cluster têm um tamanho médio muito maior, com uma média de 31,305 metros quadrados. A faixa de tamanho vai de 12,753 a 49,921 metros quadrados, indicando que são imóveis grandes ou terrenos rurais. A distribuição desses imóveis é mais concentrada nas regiões Nordeste e Norte, e o perfil sugere que são imóveis de alto valor ou específicos de determinadas localizações ou segmentos de mercado.\n",
    "\n",
    "Cluster 2: Este cluster inclui imóveis de tamanho médio, com uma média de 6,659 metros quadrados. A variação de tamanho vai de 1,002 a 12,720 metros quadrados, com uma mediana de 6,575 metros quadrados, indicando que a distribuição é mais equilibrada. Esse cluster parece representar imóveis com um perfil intermediário, tanto em termos de tamanho quanto de valor, e está mais concentrado em regiões menores como o Sudeste e o Centro-Oeste."
   ]
  },
  {
   "cell_type": "code",
   "execution_count": 352,
   "metadata": {},
   "outputs": [
    {
     "data": {
      "text/html": [
       "<div>\n",
       "<style scoped>\n",
       "    .dataframe tbody tr th:only-of-type {\n",
       "        vertical-align: middle;\n",
       "    }\n",
       "\n",
       "    .dataframe tbody tr th {\n",
       "        vertical-align: top;\n",
       "    }\n",
       "\n",
       "    .dataframe thead th {\n",
       "        text-align: right;\n",
       "    }\n",
       "</style>\n",
       "<table border=\"1\" class=\"dataframe\">\n",
       "  <thead>\n",
       "    <tr style=\"text-align: right;\">\n",
       "      <th></th>\n",
       "      <th>count</th>\n",
       "      <th>mean</th>\n",
       "      <th>std</th>\n",
       "      <th>min</th>\n",
       "      <th>25%</th>\n",
       "      <th>50%</th>\n",
       "      <th>75%</th>\n",
       "      <th>max</th>\n",
       "    </tr>\n",
       "    <tr>\n",
       "      <th>cluster</th>\n",
       "      <th></th>\n",
       "      <th></th>\n",
       "      <th></th>\n",
       "      <th></th>\n",
       "      <th></th>\n",
       "      <th></th>\n",
       "      <th></th>\n",
       "      <th></th>\n",
       "    </tr>\n",
       "  </thead>\n",
       "  <tbody>\n",
       "    <tr>\n",
       "      <th>0</th>\n",
       "      <td>6987.0</td>\n",
       "      <td>174.646629</td>\n",
       "      <td>72.652797</td>\n",
       "      <td>5.0</td>\n",
       "      <td>112.0</td>\n",
       "      <td>175.0</td>\n",
       "      <td>237.0</td>\n",
       "      <td>300.0</td>\n",
       "    </tr>\n",
       "    <tr>\n",
       "      <th>1</th>\n",
       "      <td>2607.0</td>\n",
       "      <td>31305.314921</td>\n",
       "      <td>10784.931929</td>\n",
       "      <td>12753.0</td>\n",
       "      <td>21835.0</td>\n",
       "      <td>31322.0</td>\n",
       "      <td>40666.0</td>\n",
       "      <td>49921.0</td>\n",
       "    </tr>\n",
       "    <tr>\n",
       "      <th>2</th>\n",
       "      <td>823.0</td>\n",
       "      <td>6659.160389</td>\n",
       "      <td>3356.412731</td>\n",
       "      <td>1002.0</td>\n",
       "      <td>3824.0</td>\n",
       "      <td>6575.0</td>\n",
       "      <td>9498.0</td>\n",
       "      <td>12720.0</td>\n",
       "    </tr>\n",
       "  </tbody>\n",
       "</table>\n",
       "</div>"
      ],
      "text/plain": [
       "          count          mean           std      min      25%      50%  \\\n",
       "cluster                                                                  \n",
       "0        6987.0    174.646629     72.652797      5.0    112.0    175.0   \n",
       "1        2607.0  31305.314921  10784.931929  12753.0  21835.0  31322.0   \n",
       "2         823.0   6659.160389   3356.412731   1002.0   3824.0   6575.0   \n",
       "\n",
       "             75%      max  \n",
       "cluster                    \n",
       "0          237.0    300.0  \n",
       "1        40666.0  49921.0  \n",
       "2         9498.0  12720.0  "
      ]
     },
     "execution_count": 352,
     "metadata": {},
     "output_type": "execute_result"
    }
   ],
   "source": [
    "dados.groupby(\"cluster\")[\"tamanho_imovel\"].describe()"
   ]
  },
  {
   "cell_type": "markdown",
   "metadata": {},
   "source": [
    "# 6 - Existe alguma relação entre a quantidade de transações e a região geográfica do Brasil?"
   ]
  },
  {
   "cell_type": "code",
   "execution_count": 355,
   "metadata": {},
   "outputs": [
    {
     "name": "stdout",
     "output_type": "stream",
     "text": [
      "         regiao  transacoes\n",
      "1      Nordeste        3341\n",
      "2         Norte        3000\n",
      "3       Sudeste        1526\n",
      "0  Centro-Oeste        1304\n",
      "4           Sul        1246\n"
     ]
    }
   ],
   "source": [
    "transacoes_por_regiao = dados.groupby(\"regiao\").size().reset_index(name = 'transacoes')\n",
    "transacoes_por_regiao = transacoes_por_regiao.sort_values(by = 'transacoes', ascending= False)\n",
    "print(transacoes_por_regiao)"
   ]
  },
  {
   "cell_type": "code",
   "execution_count": 356,
   "metadata": {},
   "outputs": [
    {
     "data": {
      "application/vnd.plotly.v1+json": {
       "config": {
        "plotlyServerURL": "https://plot.ly"
       },
       "data": [
        {
         "hovertemplate": "regiao=%{x}<br>transacoes=%{y}<extra></extra>",
         "legendgroup": "",
         "marker": {
          "color": "#636efa",
          "pattern": {
           "shape": ""
          }
         },
         "name": "",
         "orientation": "v",
         "showlegend": false,
         "textposition": "auto",
         "texttemplate": "%{y}",
         "type": "bar",
         "x": [
          "Nordeste",
          "Norte",
          "Sudeste",
          "Centro-Oeste",
          "Sul"
         ],
         "xaxis": "x",
         "y": {
          "bdata": "DQ24C/YFGAXeBA==",
          "dtype": "i2"
         },
         "yaxis": "y"
        }
       ],
       "layout": {
        "barmode": "relative",
        "legend": {
         "tracegroupgap": 0
        },
        "template": {
         "data": {
          "bar": [
           {
            "error_x": {
             "color": "#2a3f5f"
            },
            "error_y": {
             "color": "#2a3f5f"
            },
            "marker": {
             "line": {
              "color": "#E5ECF6",
              "width": 0.5
             },
             "pattern": {
              "fillmode": "overlay",
              "size": 10,
              "solidity": 0.2
             }
            },
            "type": "bar"
           }
          ],
          "barpolar": [
           {
            "marker": {
             "line": {
              "color": "#E5ECF6",
              "width": 0.5
             },
             "pattern": {
              "fillmode": "overlay",
              "size": 10,
              "solidity": 0.2
             }
            },
            "type": "barpolar"
           }
          ],
          "carpet": [
           {
            "aaxis": {
             "endlinecolor": "#2a3f5f",
             "gridcolor": "white",
             "linecolor": "white",
             "minorgridcolor": "white",
             "startlinecolor": "#2a3f5f"
            },
            "baxis": {
             "endlinecolor": "#2a3f5f",
             "gridcolor": "white",
             "linecolor": "white",
             "minorgridcolor": "white",
             "startlinecolor": "#2a3f5f"
            },
            "type": "carpet"
           }
          ],
          "choropleth": [
           {
            "colorbar": {
             "outlinewidth": 0,
             "ticks": ""
            },
            "type": "choropleth"
           }
          ],
          "contour": [
           {
            "colorbar": {
             "outlinewidth": 0,
             "ticks": ""
            },
            "colorscale": [
             [
              0,
              "#0d0887"
             ],
             [
              0.1111111111111111,
              "#46039f"
             ],
             [
              0.2222222222222222,
              "#7201a8"
             ],
             [
              0.3333333333333333,
              "#9c179e"
             ],
             [
              0.4444444444444444,
              "#bd3786"
             ],
             [
              0.5555555555555556,
              "#d8576b"
             ],
             [
              0.6666666666666666,
              "#ed7953"
             ],
             [
              0.7777777777777778,
              "#fb9f3a"
             ],
             [
              0.8888888888888888,
              "#fdca26"
             ],
             [
              1,
              "#f0f921"
             ]
            ],
            "type": "contour"
           }
          ],
          "contourcarpet": [
           {
            "colorbar": {
             "outlinewidth": 0,
             "ticks": ""
            },
            "type": "contourcarpet"
           }
          ],
          "heatmap": [
           {
            "colorbar": {
             "outlinewidth": 0,
             "ticks": ""
            },
            "colorscale": [
             [
              0,
              "#0d0887"
             ],
             [
              0.1111111111111111,
              "#46039f"
             ],
             [
              0.2222222222222222,
              "#7201a8"
             ],
             [
              0.3333333333333333,
              "#9c179e"
             ],
             [
              0.4444444444444444,
              "#bd3786"
             ],
             [
              0.5555555555555556,
              "#d8576b"
             ],
             [
              0.6666666666666666,
              "#ed7953"
             ],
             [
              0.7777777777777778,
              "#fb9f3a"
             ],
             [
              0.8888888888888888,
              "#fdca26"
             ],
             [
              1,
              "#f0f921"
             ]
            ],
            "type": "heatmap"
           }
          ],
          "histogram": [
           {
            "marker": {
             "pattern": {
              "fillmode": "overlay",
              "size": 10,
              "solidity": 0.2
             }
            },
            "type": "histogram"
           }
          ],
          "histogram2d": [
           {
            "colorbar": {
             "outlinewidth": 0,
             "ticks": ""
            },
            "colorscale": [
             [
              0,
              "#0d0887"
             ],
             [
              0.1111111111111111,
              "#46039f"
             ],
             [
              0.2222222222222222,
              "#7201a8"
             ],
             [
              0.3333333333333333,
              "#9c179e"
             ],
             [
              0.4444444444444444,
              "#bd3786"
             ],
             [
              0.5555555555555556,
              "#d8576b"
             ],
             [
              0.6666666666666666,
              "#ed7953"
             ],
             [
              0.7777777777777778,
              "#fb9f3a"
             ],
             [
              0.8888888888888888,
              "#fdca26"
             ],
             [
              1,
              "#f0f921"
             ]
            ],
            "type": "histogram2d"
           }
          ],
          "histogram2dcontour": [
           {
            "colorbar": {
             "outlinewidth": 0,
             "ticks": ""
            },
            "colorscale": [
             [
              0,
              "#0d0887"
             ],
             [
              0.1111111111111111,
              "#46039f"
             ],
             [
              0.2222222222222222,
              "#7201a8"
             ],
             [
              0.3333333333333333,
              "#9c179e"
             ],
             [
              0.4444444444444444,
              "#bd3786"
             ],
             [
              0.5555555555555556,
              "#d8576b"
             ],
             [
              0.6666666666666666,
              "#ed7953"
             ],
             [
              0.7777777777777778,
              "#fb9f3a"
             ],
             [
              0.8888888888888888,
              "#fdca26"
             ],
             [
              1,
              "#f0f921"
             ]
            ],
            "type": "histogram2dcontour"
           }
          ],
          "mesh3d": [
           {
            "colorbar": {
             "outlinewidth": 0,
             "ticks": ""
            },
            "type": "mesh3d"
           }
          ],
          "parcoords": [
           {
            "line": {
             "colorbar": {
              "outlinewidth": 0,
              "ticks": ""
             }
            },
            "type": "parcoords"
           }
          ],
          "pie": [
           {
            "automargin": true,
            "type": "pie"
           }
          ],
          "scatter": [
           {
            "fillpattern": {
             "fillmode": "overlay",
             "size": 10,
             "solidity": 0.2
            },
            "type": "scatter"
           }
          ],
          "scatter3d": [
           {
            "line": {
             "colorbar": {
              "outlinewidth": 0,
              "ticks": ""
             }
            },
            "marker": {
             "colorbar": {
              "outlinewidth": 0,
              "ticks": ""
             }
            },
            "type": "scatter3d"
           }
          ],
          "scattercarpet": [
           {
            "marker": {
             "colorbar": {
              "outlinewidth": 0,
              "ticks": ""
             }
            },
            "type": "scattercarpet"
           }
          ],
          "scattergeo": [
           {
            "marker": {
             "colorbar": {
              "outlinewidth": 0,
              "ticks": ""
             }
            },
            "type": "scattergeo"
           }
          ],
          "scattergl": [
           {
            "marker": {
             "colorbar": {
              "outlinewidth": 0,
              "ticks": ""
             }
            },
            "type": "scattergl"
           }
          ],
          "scattermap": [
           {
            "marker": {
             "colorbar": {
              "outlinewidth": 0,
              "ticks": ""
             }
            },
            "type": "scattermap"
           }
          ],
          "scattermapbox": [
           {
            "marker": {
             "colorbar": {
              "outlinewidth": 0,
              "ticks": ""
             }
            },
            "type": "scattermapbox"
           }
          ],
          "scatterpolar": [
           {
            "marker": {
             "colorbar": {
              "outlinewidth": 0,
              "ticks": ""
             }
            },
            "type": "scatterpolar"
           }
          ],
          "scatterpolargl": [
           {
            "marker": {
             "colorbar": {
              "outlinewidth": 0,
              "ticks": ""
             }
            },
            "type": "scatterpolargl"
           }
          ],
          "scatterternary": [
           {
            "marker": {
             "colorbar": {
              "outlinewidth": 0,
              "ticks": ""
             }
            },
            "type": "scatterternary"
           }
          ],
          "surface": [
           {
            "colorbar": {
             "outlinewidth": 0,
             "ticks": ""
            },
            "colorscale": [
             [
              0,
              "#0d0887"
             ],
             [
              0.1111111111111111,
              "#46039f"
             ],
             [
              0.2222222222222222,
              "#7201a8"
             ],
             [
              0.3333333333333333,
              "#9c179e"
             ],
             [
              0.4444444444444444,
              "#bd3786"
             ],
             [
              0.5555555555555556,
              "#d8576b"
             ],
             [
              0.6666666666666666,
              "#ed7953"
             ],
             [
              0.7777777777777778,
              "#fb9f3a"
             ],
             [
              0.8888888888888888,
              "#fdca26"
             ],
             [
              1,
              "#f0f921"
             ]
            ],
            "type": "surface"
           }
          ],
          "table": [
           {
            "cells": {
             "fill": {
              "color": "#EBF0F8"
             },
             "line": {
              "color": "white"
             }
            },
            "header": {
             "fill": {
              "color": "#C8D4E3"
             },
             "line": {
              "color": "white"
             }
            },
            "type": "table"
           }
          ]
         },
         "layout": {
          "annotationdefaults": {
           "arrowcolor": "#2a3f5f",
           "arrowhead": 0,
           "arrowwidth": 1
          },
          "autotypenumbers": "strict",
          "coloraxis": {
           "colorbar": {
            "outlinewidth": 0,
            "ticks": ""
           }
          },
          "colorscale": {
           "diverging": [
            [
             0,
             "#8e0152"
            ],
            [
             0.1,
             "#c51b7d"
            ],
            [
             0.2,
             "#de77ae"
            ],
            [
             0.3,
             "#f1b6da"
            ],
            [
             0.4,
             "#fde0ef"
            ],
            [
             0.5,
             "#f7f7f7"
            ],
            [
             0.6,
             "#e6f5d0"
            ],
            [
             0.7,
             "#b8e186"
            ],
            [
             0.8,
             "#7fbc41"
            ],
            [
             0.9,
             "#4d9221"
            ],
            [
             1,
             "#276419"
            ]
           ],
           "sequential": [
            [
             0,
             "#0d0887"
            ],
            [
             0.1111111111111111,
             "#46039f"
            ],
            [
             0.2222222222222222,
             "#7201a8"
            ],
            [
             0.3333333333333333,
             "#9c179e"
            ],
            [
             0.4444444444444444,
             "#bd3786"
            ],
            [
             0.5555555555555556,
             "#d8576b"
            ],
            [
             0.6666666666666666,
             "#ed7953"
            ],
            [
             0.7777777777777778,
             "#fb9f3a"
            ],
            [
             0.8888888888888888,
             "#fdca26"
            ],
            [
             1,
             "#f0f921"
            ]
           ],
           "sequentialminus": [
            [
             0,
             "#0d0887"
            ],
            [
             0.1111111111111111,
             "#46039f"
            ],
            [
             0.2222222222222222,
             "#7201a8"
            ],
            [
             0.3333333333333333,
             "#9c179e"
            ],
            [
             0.4444444444444444,
             "#bd3786"
            ],
            [
             0.5555555555555556,
             "#d8576b"
            ],
            [
             0.6666666666666666,
             "#ed7953"
            ],
            [
             0.7777777777777778,
             "#fb9f3a"
            ],
            [
             0.8888888888888888,
             "#fdca26"
            ],
            [
             1,
             "#f0f921"
            ]
           ]
          },
          "colorway": [
           "#636efa",
           "#EF553B",
           "#00cc96",
           "#ab63fa",
           "#FFA15A",
           "#19d3f3",
           "#FF6692",
           "#B6E880",
           "#FF97FF",
           "#FECB52"
          ],
          "font": {
           "color": "#2a3f5f"
          },
          "geo": {
           "bgcolor": "white",
           "lakecolor": "white",
           "landcolor": "#E5ECF6",
           "showlakes": true,
           "showland": true,
           "subunitcolor": "white"
          },
          "hoverlabel": {
           "align": "left"
          },
          "hovermode": "closest",
          "mapbox": {
           "style": "light"
          },
          "paper_bgcolor": "white",
          "plot_bgcolor": "#E5ECF6",
          "polar": {
           "angularaxis": {
            "gridcolor": "white",
            "linecolor": "white",
            "ticks": ""
           },
           "bgcolor": "#E5ECF6",
           "radialaxis": {
            "gridcolor": "white",
            "linecolor": "white",
            "ticks": ""
           }
          },
          "scene": {
           "xaxis": {
            "backgroundcolor": "#E5ECF6",
            "gridcolor": "white",
            "gridwidth": 2,
            "linecolor": "white",
            "showbackground": true,
            "ticks": "",
            "zerolinecolor": "white"
           },
           "yaxis": {
            "backgroundcolor": "#E5ECF6",
            "gridcolor": "white",
            "gridwidth": 2,
            "linecolor": "white",
            "showbackground": true,
            "ticks": "",
            "zerolinecolor": "white"
           },
           "zaxis": {
            "backgroundcolor": "#E5ECF6",
            "gridcolor": "white",
            "gridwidth": 2,
            "linecolor": "white",
            "showbackground": true,
            "ticks": "",
            "zerolinecolor": "white"
           }
          },
          "shapedefaults": {
           "line": {
            "color": "#2a3f5f"
           }
          },
          "ternary": {
           "aaxis": {
            "gridcolor": "white",
            "linecolor": "white",
            "ticks": ""
           },
           "baxis": {
            "gridcolor": "white",
            "linecolor": "white",
            "ticks": ""
           },
           "bgcolor": "#E5ECF6",
           "caxis": {
            "gridcolor": "white",
            "linecolor": "white",
            "ticks": ""
           }
          },
          "title": {
           "x": 0.05
          },
          "xaxis": {
           "automargin": true,
           "gridcolor": "white",
           "linecolor": "white",
           "ticks": "",
           "title": {
            "standoff": 15
           },
           "zerolinecolor": "white",
           "zerolinewidth": 2
          },
          "yaxis": {
           "automargin": true,
           "gridcolor": "white",
           "linecolor": "white",
           "ticks": "",
           "title": {
            "standoff": 15
           },
           "zerolinecolor": "white",
           "zerolinewidth": 2
          }
         }
        },
        "title": {
         "text": "Quantidade de Transações por Região"
        },
        "xaxis": {
         "anchor": "y",
         "domain": [
          0,
          1
         ],
         "title": {
          "text": "regiao"
         }
        },
        "yaxis": {
         "anchor": "x",
         "domain": [
          0,
          1
         ],
         "title": {
          "text": "transacoes"
         }
        }
       }
      }
     },
     "metadata": {},
     "output_type": "display_data"
    },
    {
     "data": {
      "application/vnd.plotly.v1+json": {
       "config": {
        "plotlyServerURL": "https://plot.ly"
       },
       "data": [
        {
         "hovertemplate": "regiao=Centro-Oeste<br>Data=%{x}<br>Quantidade de Transações=%{y}<extra></extra>",
         "legendgroup": "Centro-Oeste",
         "line": {
          "color": "#636efa",
          "dash": "solid"
         },
         "marker": {
          "symbol": "circle"
         },
         "mode": "lines+markers",
         "name": "Centro-Oeste",
         "orientation": "v",
         "showlegend": true,
         "type": "scatter",
         "x": [
          "2023-02-01T00:00:00.000000000",
          "2023-03-01T00:00:00.000000000",
          "2023-04-01T00:00:00.000000000",
          "2023-05-01T00:00:00.000000000",
          "2023-06-01T00:00:00.000000000",
          "2023-07-01T00:00:00.000000000",
          "2023-08-01T00:00:00.000000000",
          "2023-09-01T00:00:00.000000000",
          "2023-10-01T00:00:00.000000000",
          "2023-11-01T00:00:00.000000000",
          "2023-12-01T00:00:00.000000000",
          "2024-01-01T00:00:00.000000000",
          "2024-02-01T00:00:00.000000000",
          "2024-03-01T00:00:00.000000000",
          "2024-04-01T00:00:00.000000000",
          "2024-05-01T00:00:00.000000000",
          "2024-06-01T00:00:00.000000000",
          "2024-07-01T00:00:00.000000000",
          "2024-08-01T00:00:00.000000000",
          "2024-09-01T00:00:00.000000000",
          "2024-10-01T00:00:00.000000000",
          "2024-11-01T00:00:00.000000000",
          "2024-12-01T00:00:00.000000000",
          "2025-01-01T00:00:00.000000000",
          "2025-02-01T00:00:00.000000000"
         ],
         "xaxis": "x",
         "y": {
          "bdata": "FicwOy87RDA6LDozQD1EOTtAMTUyKzgtIg==",
          "dtype": "i1"
         },
         "yaxis": "y"
        },
        {
         "hovertemplate": "regiao=Nordeste<br>Data=%{x}<br>Quantidade de Transações=%{y}<extra></extra>",
         "legendgroup": "Nordeste",
         "line": {
          "color": "#EF553B",
          "dash": "solid"
         },
         "marker": {
          "symbol": "circle"
         },
         "mode": "lines+markers",
         "name": "Nordeste",
         "orientation": "v",
         "showlegend": true,
         "type": "scatter",
         "x": [
          "2023-02-01T00:00:00.000000000",
          "2023-03-01T00:00:00.000000000",
          "2023-04-01T00:00:00.000000000",
          "2023-05-01T00:00:00.000000000",
          "2023-06-01T00:00:00.000000000",
          "2023-07-01T00:00:00.000000000",
          "2023-08-01T00:00:00.000000000",
          "2023-09-01T00:00:00.000000000",
          "2023-10-01T00:00:00.000000000",
          "2023-11-01T00:00:00.000000000",
          "2023-12-01T00:00:00.000000000",
          "2024-01-01T00:00:00.000000000",
          "2024-02-01T00:00:00.000000000",
          "2024-03-01T00:00:00.000000000",
          "2024-04-01T00:00:00.000000000",
          "2024-05-01T00:00:00.000000000",
          "2024-06-01T00:00:00.000000000",
          "2024-07-01T00:00:00.000000000",
          "2024-08-01T00:00:00.000000000",
          "2024-09-01T00:00:00.000000000",
          "2024-10-01T00:00:00.000000000",
          "2024-11-01T00:00:00.000000000",
          "2024-12-01T00:00:00.000000000",
          "2025-01-01T00:00:00.000000000",
          "2025-02-01T00:00:00.000000000"
         ],
         "xaxis": "x",
         "y": {
          "bdata": "QgCHAIwAnwB6AJcAqACMAHkAggB+AJQAhgCXAJgAlACRAIYAnwCRAIIAfwCQAHgALgA=",
          "dtype": "i2"
         },
         "yaxis": "y"
        },
        {
         "hovertemplate": "regiao=Norte<br>Data=%{x}<br>Quantidade de Transações=%{y}<extra></extra>",
         "legendgroup": "Norte",
         "line": {
          "color": "#00cc96",
          "dash": "solid"
         },
         "marker": {
          "symbol": "circle"
         },
         "mode": "lines+markers",
         "name": "Norte",
         "orientation": "v",
         "showlegend": true,
         "type": "scatter",
         "x": [
          "2023-02-01T00:00:00.000000000",
          "2023-03-01T00:00:00.000000000",
          "2023-04-01T00:00:00.000000000",
          "2023-05-01T00:00:00.000000000",
          "2023-06-01T00:00:00.000000000",
          "2023-07-01T00:00:00.000000000",
          "2023-08-01T00:00:00.000000000",
          "2023-09-01T00:00:00.000000000",
          "2023-10-01T00:00:00.000000000",
          "2023-11-01T00:00:00.000000000",
          "2023-12-01T00:00:00.000000000",
          "2024-01-01T00:00:00.000000000",
          "2024-02-01T00:00:00.000000000",
          "2024-03-01T00:00:00.000000000",
          "2024-04-01T00:00:00.000000000",
          "2024-05-01T00:00:00.000000000",
          "2024-06-01T00:00:00.000000000",
          "2024-07-01T00:00:00.000000000",
          "2024-08-01T00:00:00.000000000",
          "2024-09-01T00:00:00.000000000",
          "2024-10-01T00:00:00.000000000",
          "2024-11-01T00:00:00.000000000",
          "2024-12-01T00:00:00.000000000",
          "2025-01-01T00:00:00.000000000",
          "2025-02-01T00:00:00.000000000"
         ],
         "xaxis": "x",
         "y": {
          "bdata": "RwCEAHsAhQBvAHwAdABtAIQAhQCDAHcAdwBxAHAAjwB3AIEAfgBzAIAAgACKAJEAMwA=",
          "dtype": "i2"
         },
         "yaxis": "y"
        },
        {
         "hovertemplate": "regiao=Sudeste<br>Data=%{x}<br>Quantidade de Transações=%{y}<extra></extra>",
         "legendgroup": "Sudeste",
         "line": {
          "color": "#ab63fa",
          "dash": "solid"
         },
         "marker": {
          "symbol": "circle"
         },
         "mode": "lines+markers",
         "name": "Sudeste",
         "orientation": "v",
         "showlegend": true,
         "type": "scatter",
         "x": [
          "2023-02-01T00:00:00.000000000",
          "2023-03-01T00:00:00.000000000",
          "2023-04-01T00:00:00.000000000",
          "2023-05-01T00:00:00.000000000",
          "2023-06-01T00:00:00.000000000",
          "2023-07-01T00:00:00.000000000",
          "2023-08-01T00:00:00.000000000",
          "2023-09-01T00:00:00.000000000",
          "2023-10-01T00:00:00.000000000",
          "2023-11-01T00:00:00.000000000",
          "2023-12-01T00:00:00.000000000",
          "2024-01-01T00:00:00.000000000",
          "2024-02-01T00:00:00.000000000",
          "2024-03-01T00:00:00.000000000",
          "2024-04-01T00:00:00.000000000",
          "2024-05-01T00:00:00.000000000",
          "2024-06-01T00:00:00.000000000",
          "2024-07-01T00:00:00.000000000",
          "2024-08-01T00:00:00.000000000",
          "2024-09-01T00:00:00.000000000",
          "2024-10-01T00:00:00.000000000",
          "2024-11-01T00:00:00.000000000",
          "2024-12-01T00:00:00.000000000",
          "2025-01-01T00:00:00.000000000",
          "2025-02-01T00:00:00.000000000"
         ],
         "xaxis": "x",
         "y": {
          "bdata": "IUFGQEw/REJKOjAxLzwxSFE3PDpBSDtYGg==",
          "dtype": "i1"
         },
         "yaxis": "y"
        },
        {
         "hovertemplate": "regiao=Sul<br>Data=%{x}<br>Quantidade de Transações=%{y}<extra></extra>",
         "legendgroup": "Sul",
         "line": {
          "color": "#FFA15A",
          "dash": "solid"
         },
         "marker": {
          "symbol": "circle"
         },
         "mode": "lines+markers",
         "name": "Sul",
         "orientation": "v",
         "showlegend": true,
         "type": "scatter",
         "x": [
          "2023-02-01T00:00:00.000000000",
          "2023-03-01T00:00:00.000000000",
          "2023-04-01T00:00:00.000000000",
          "2023-05-01T00:00:00.000000000",
          "2023-06-01T00:00:00.000000000",
          "2023-07-01T00:00:00.000000000",
          "2023-08-01T00:00:00.000000000",
          "2023-09-01T00:00:00.000000000",
          "2023-10-01T00:00:00.000000000",
          "2023-11-01T00:00:00.000000000",
          "2023-12-01T00:00:00.000000000",
          "2024-01-01T00:00:00.000000000",
          "2024-02-01T00:00:00.000000000",
          "2024-03-01T00:00:00.000000000",
          "2024-04-01T00:00:00.000000000",
          "2024-05-01T00:00:00.000000000",
          "2024-06-01T00:00:00.000000000",
          "2024-07-01T00:00:00.000000000",
          "2024-08-01T00:00:00.000000000",
          "2024-09-01T00:00:00.000000000",
          "2024-10-01T00:00:00.000000000",
          "2024-11-01T00:00:00.000000000",
          "2024-12-01T00:00:00.000000000",
          "2025-01-01T00:00:00.000000000",
          "2025-02-01T00:00:00.000000000"
         ],
         "xaxis": "x",
         "y": {
          "bdata": "IClDMzJAPCs2Nis+KTgyOCIrLT1BLi89FA==",
          "dtype": "i1"
         },
         "yaxis": "y"
        }
       ],
       "layout": {
        "legend": {
         "title": {
          "text": "regiao"
         },
         "tracegroupgap": 0
        },
        "template": {
         "data": {
          "bar": [
           {
            "error_x": {
             "color": "#2a3f5f"
            },
            "error_y": {
             "color": "#2a3f5f"
            },
            "marker": {
             "line": {
              "color": "#E5ECF6",
              "width": 0.5
             },
             "pattern": {
              "fillmode": "overlay",
              "size": 10,
              "solidity": 0.2
             }
            },
            "type": "bar"
           }
          ],
          "barpolar": [
           {
            "marker": {
             "line": {
              "color": "#E5ECF6",
              "width": 0.5
             },
             "pattern": {
              "fillmode": "overlay",
              "size": 10,
              "solidity": 0.2
             }
            },
            "type": "barpolar"
           }
          ],
          "carpet": [
           {
            "aaxis": {
             "endlinecolor": "#2a3f5f",
             "gridcolor": "white",
             "linecolor": "white",
             "minorgridcolor": "white",
             "startlinecolor": "#2a3f5f"
            },
            "baxis": {
             "endlinecolor": "#2a3f5f",
             "gridcolor": "white",
             "linecolor": "white",
             "minorgridcolor": "white",
             "startlinecolor": "#2a3f5f"
            },
            "type": "carpet"
           }
          ],
          "choropleth": [
           {
            "colorbar": {
             "outlinewidth": 0,
             "ticks": ""
            },
            "type": "choropleth"
           }
          ],
          "contour": [
           {
            "colorbar": {
             "outlinewidth": 0,
             "ticks": ""
            },
            "colorscale": [
             [
              0,
              "#0d0887"
             ],
             [
              0.1111111111111111,
              "#46039f"
             ],
             [
              0.2222222222222222,
              "#7201a8"
             ],
             [
              0.3333333333333333,
              "#9c179e"
             ],
             [
              0.4444444444444444,
              "#bd3786"
             ],
             [
              0.5555555555555556,
              "#d8576b"
             ],
             [
              0.6666666666666666,
              "#ed7953"
             ],
             [
              0.7777777777777778,
              "#fb9f3a"
             ],
             [
              0.8888888888888888,
              "#fdca26"
             ],
             [
              1,
              "#f0f921"
             ]
            ],
            "type": "contour"
           }
          ],
          "contourcarpet": [
           {
            "colorbar": {
             "outlinewidth": 0,
             "ticks": ""
            },
            "type": "contourcarpet"
           }
          ],
          "heatmap": [
           {
            "colorbar": {
             "outlinewidth": 0,
             "ticks": ""
            },
            "colorscale": [
             [
              0,
              "#0d0887"
             ],
             [
              0.1111111111111111,
              "#46039f"
             ],
             [
              0.2222222222222222,
              "#7201a8"
             ],
             [
              0.3333333333333333,
              "#9c179e"
             ],
             [
              0.4444444444444444,
              "#bd3786"
             ],
             [
              0.5555555555555556,
              "#d8576b"
             ],
             [
              0.6666666666666666,
              "#ed7953"
             ],
             [
              0.7777777777777778,
              "#fb9f3a"
             ],
             [
              0.8888888888888888,
              "#fdca26"
             ],
             [
              1,
              "#f0f921"
             ]
            ],
            "type": "heatmap"
           }
          ],
          "histogram": [
           {
            "marker": {
             "pattern": {
              "fillmode": "overlay",
              "size": 10,
              "solidity": 0.2
             }
            },
            "type": "histogram"
           }
          ],
          "histogram2d": [
           {
            "colorbar": {
             "outlinewidth": 0,
             "ticks": ""
            },
            "colorscale": [
             [
              0,
              "#0d0887"
             ],
             [
              0.1111111111111111,
              "#46039f"
             ],
             [
              0.2222222222222222,
              "#7201a8"
             ],
             [
              0.3333333333333333,
              "#9c179e"
             ],
             [
              0.4444444444444444,
              "#bd3786"
             ],
             [
              0.5555555555555556,
              "#d8576b"
             ],
             [
              0.6666666666666666,
              "#ed7953"
             ],
             [
              0.7777777777777778,
              "#fb9f3a"
             ],
             [
              0.8888888888888888,
              "#fdca26"
             ],
             [
              1,
              "#f0f921"
             ]
            ],
            "type": "histogram2d"
           }
          ],
          "histogram2dcontour": [
           {
            "colorbar": {
             "outlinewidth": 0,
             "ticks": ""
            },
            "colorscale": [
             [
              0,
              "#0d0887"
             ],
             [
              0.1111111111111111,
              "#46039f"
             ],
             [
              0.2222222222222222,
              "#7201a8"
             ],
             [
              0.3333333333333333,
              "#9c179e"
             ],
             [
              0.4444444444444444,
              "#bd3786"
             ],
             [
              0.5555555555555556,
              "#d8576b"
             ],
             [
              0.6666666666666666,
              "#ed7953"
             ],
             [
              0.7777777777777778,
              "#fb9f3a"
             ],
             [
              0.8888888888888888,
              "#fdca26"
             ],
             [
              1,
              "#f0f921"
             ]
            ],
            "type": "histogram2dcontour"
           }
          ],
          "mesh3d": [
           {
            "colorbar": {
             "outlinewidth": 0,
             "ticks": ""
            },
            "type": "mesh3d"
           }
          ],
          "parcoords": [
           {
            "line": {
             "colorbar": {
              "outlinewidth": 0,
              "ticks": ""
             }
            },
            "type": "parcoords"
           }
          ],
          "pie": [
           {
            "automargin": true,
            "type": "pie"
           }
          ],
          "scatter": [
           {
            "fillpattern": {
             "fillmode": "overlay",
             "size": 10,
             "solidity": 0.2
            },
            "type": "scatter"
           }
          ],
          "scatter3d": [
           {
            "line": {
             "colorbar": {
              "outlinewidth": 0,
              "ticks": ""
             }
            },
            "marker": {
             "colorbar": {
              "outlinewidth": 0,
              "ticks": ""
             }
            },
            "type": "scatter3d"
           }
          ],
          "scattercarpet": [
           {
            "marker": {
             "colorbar": {
              "outlinewidth": 0,
              "ticks": ""
             }
            },
            "type": "scattercarpet"
           }
          ],
          "scattergeo": [
           {
            "marker": {
             "colorbar": {
              "outlinewidth": 0,
              "ticks": ""
             }
            },
            "type": "scattergeo"
           }
          ],
          "scattergl": [
           {
            "marker": {
             "colorbar": {
              "outlinewidth": 0,
              "ticks": ""
             }
            },
            "type": "scattergl"
           }
          ],
          "scattermap": [
           {
            "marker": {
             "colorbar": {
              "outlinewidth": 0,
              "ticks": ""
             }
            },
            "type": "scattermap"
           }
          ],
          "scattermapbox": [
           {
            "marker": {
             "colorbar": {
              "outlinewidth": 0,
              "ticks": ""
             }
            },
            "type": "scattermapbox"
           }
          ],
          "scatterpolar": [
           {
            "marker": {
             "colorbar": {
              "outlinewidth": 0,
              "ticks": ""
             }
            },
            "type": "scatterpolar"
           }
          ],
          "scatterpolargl": [
           {
            "marker": {
             "colorbar": {
              "outlinewidth": 0,
              "ticks": ""
             }
            },
            "type": "scatterpolargl"
           }
          ],
          "scatterternary": [
           {
            "marker": {
             "colorbar": {
              "outlinewidth": 0,
              "ticks": ""
             }
            },
            "type": "scatterternary"
           }
          ],
          "surface": [
           {
            "colorbar": {
             "outlinewidth": 0,
             "ticks": ""
            },
            "colorscale": [
             [
              0,
              "#0d0887"
             ],
             [
              0.1111111111111111,
              "#46039f"
             ],
             [
              0.2222222222222222,
              "#7201a8"
             ],
             [
              0.3333333333333333,
              "#9c179e"
             ],
             [
              0.4444444444444444,
              "#bd3786"
             ],
             [
              0.5555555555555556,
              "#d8576b"
             ],
             [
              0.6666666666666666,
              "#ed7953"
             ],
             [
              0.7777777777777778,
              "#fb9f3a"
             ],
             [
              0.8888888888888888,
              "#fdca26"
             ],
             [
              1,
              "#f0f921"
             ]
            ],
            "type": "surface"
           }
          ],
          "table": [
           {
            "cells": {
             "fill": {
              "color": "#EBF0F8"
             },
             "line": {
              "color": "white"
             }
            },
            "header": {
             "fill": {
              "color": "#C8D4E3"
             },
             "line": {
              "color": "white"
             }
            },
            "type": "table"
           }
          ]
         },
         "layout": {
          "annotationdefaults": {
           "arrowcolor": "#2a3f5f",
           "arrowhead": 0,
           "arrowwidth": 1
          },
          "autotypenumbers": "strict",
          "coloraxis": {
           "colorbar": {
            "outlinewidth": 0,
            "ticks": ""
           }
          },
          "colorscale": {
           "diverging": [
            [
             0,
             "#8e0152"
            ],
            [
             0.1,
             "#c51b7d"
            ],
            [
             0.2,
             "#de77ae"
            ],
            [
             0.3,
             "#f1b6da"
            ],
            [
             0.4,
             "#fde0ef"
            ],
            [
             0.5,
             "#f7f7f7"
            ],
            [
             0.6,
             "#e6f5d0"
            ],
            [
             0.7,
             "#b8e186"
            ],
            [
             0.8,
             "#7fbc41"
            ],
            [
             0.9,
             "#4d9221"
            ],
            [
             1,
             "#276419"
            ]
           ],
           "sequential": [
            [
             0,
             "#0d0887"
            ],
            [
             0.1111111111111111,
             "#46039f"
            ],
            [
             0.2222222222222222,
             "#7201a8"
            ],
            [
             0.3333333333333333,
             "#9c179e"
            ],
            [
             0.4444444444444444,
             "#bd3786"
            ],
            [
             0.5555555555555556,
             "#d8576b"
            ],
            [
             0.6666666666666666,
             "#ed7953"
            ],
            [
             0.7777777777777778,
             "#fb9f3a"
            ],
            [
             0.8888888888888888,
             "#fdca26"
            ],
            [
             1,
             "#f0f921"
            ]
           ],
           "sequentialminus": [
            [
             0,
             "#0d0887"
            ],
            [
             0.1111111111111111,
             "#46039f"
            ],
            [
             0.2222222222222222,
             "#7201a8"
            ],
            [
             0.3333333333333333,
             "#9c179e"
            ],
            [
             0.4444444444444444,
             "#bd3786"
            ],
            [
             0.5555555555555556,
             "#d8576b"
            ],
            [
             0.6666666666666666,
             "#ed7953"
            ],
            [
             0.7777777777777778,
             "#fb9f3a"
            ],
            [
             0.8888888888888888,
             "#fdca26"
            ],
            [
             1,
             "#f0f921"
            ]
           ]
          },
          "colorway": [
           "#636efa",
           "#EF553B",
           "#00cc96",
           "#ab63fa",
           "#FFA15A",
           "#19d3f3",
           "#FF6692",
           "#B6E880",
           "#FF97FF",
           "#FECB52"
          ],
          "font": {
           "color": "#2a3f5f"
          },
          "geo": {
           "bgcolor": "white",
           "lakecolor": "white",
           "landcolor": "#E5ECF6",
           "showlakes": true,
           "showland": true,
           "subunitcolor": "white"
          },
          "hoverlabel": {
           "align": "left"
          },
          "hovermode": "closest",
          "mapbox": {
           "style": "light"
          },
          "paper_bgcolor": "white",
          "plot_bgcolor": "#E5ECF6",
          "polar": {
           "angularaxis": {
            "gridcolor": "white",
            "linecolor": "white",
            "ticks": ""
           },
           "bgcolor": "#E5ECF6",
           "radialaxis": {
            "gridcolor": "white",
            "linecolor": "white",
            "ticks": ""
           }
          },
          "scene": {
           "xaxis": {
            "backgroundcolor": "#E5ECF6",
            "gridcolor": "white",
            "gridwidth": 2,
            "linecolor": "white",
            "showbackground": true,
            "ticks": "",
            "zerolinecolor": "white"
           },
           "yaxis": {
            "backgroundcolor": "#E5ECF6",
            "gridcolor": "white",
            "gridwidth": 2,
            "linecolor": "white",
            "showbackground": true,
            "ticks": "",
            "zerolinecolor": "white"
           },
           "zaxis": {
            "backgroundcolor": "#E5ECF6",
            "gridcolor": "white",
            "gridwidth": 2,
            "linecolor": "white",
            "showbackground": true,
            "ticks": "",
            "zerolinecolor": "white"
           }
          },
          "shapedefaults": {
           "line": {
            "color": "#2a3f5f"
           }
          },
          "ternary": {
           "aaxis": {
            "gridcolor": "white",
            "linecolor": "white",
            "ticks": ""
           },
           "baxis": {
            "gridcolor": "white",
            "linecolor": "white",
            "ticks": ""
           },
           "bgcolor": "#E5ECF6",
           "caxis": {
            "gridcolor": "white",
            "linecolor": "white",
            "ticks": ""
           }
          },
          "title": {
           "x": 0.05
          },
          "xaxis": {
           "automargin": true,
           "gridcolor": "white",
           "linecolor": "white",
           "ticks": "",
           "title": {
            "standoff": 15
           },
           "zerolinecolor": "white",
           "zerolinewidth": 2
          },
          "yaxis": {
           "automargin": true,
           "gridcolor": "white",
           "linecolor": "white",
           "ticks": "",
           "title": {
            "standoff": 15
           },
           "zerolinecolor": "white",
           "zerolinewidth": 2
          }
         }
        },
        "title": {
         "text": "Tendência de Transações por Região ao Longo do Tempo"
        },
        "xaxis": {
         "anchor": "y",
         "domain": [
          0,
          1
         ],
         "title": {
          "text": "Data"
         }
        },
        "yaxis": {
         "anchor": "x",
         "domain": [
          0,
          1
         ],
         "title": {
          "text": "Quantidade de Transações"
         }
        }
       }
      }
     },
     "metadata": {},
     "output_type": "display_data"
    }
   ],
   "source": [
    "# Gráfico de barras\n",
    "fig = px.bar(transacoes_por_regiao, x=\"regiao\", y=\"transacoes\",\n",
    "             title=\"Quantidade de Transações por Região\", text_auto=True)\n",
    "fig.show()\n",
    "\n",
    "\n",
    "# Criando o gráfico de linhas\n",
    "transacoes_por_mes_regiao = dados.groupby([dados['data'], 'regiao']).size().reset_index(name='transacoes')\n",
    "fig = px.line(transacoes_por_mes_regiao,\n",
    "              x='data',\n",
    "              y='transacoes',\n",
    "              color='regiao',\n",
    "              title=\"Tendência de Transações por Região ao Longo do Tempo\",\n",
    "              labels={'data': 'Data', 'transacoes': 'Quantidade de Transações'},\n",
    "              markers=True)\n",
    "\n",
    "# Exibindo o gráfico\n",
    "fig.show()"
   ]
  },
  {
   "cell_type": "markdown",
   "metadata": {},
   "source": [
    "### Notas:\n",
    "\n",
    "**Nordeste lidera nas transações imobiliarias**\n",
    "Os dois gráficos mostram que a região do Nordeste possui uma quantidade de transações maiores que os das outras regiões. De acordo com o site \"SBR empreendimentos\" - na sua matéria com o título \"O mercado mobiliário das capitais nodestinas está em plena ascensão\" - O mercado imobiliário das capitais nordestinas continua a demonstrar sua força e resiliência, registrando números expressivos no primeiro trimestre de 2024. A região movimentou mais de R$ 6,6 bilhões, refletindo um crescimento de 6% no Valor Geral de Vendas (VGV) em comparação com o mesmo período do ano anterior. Esse desempenho robusto é um indicativo claro de que o setor está em franca expansão, atraindo cada vez mais investidores e compradores em busca de oportunidades sólidas e rentáveis. Investidores estão de olho na valorização contínua dos imóveis, impulsionada tanto pela demanda local quanto pelo interesse de pessoas de outras regiões do Brasil e do exterior. As capitais nordestinas oferecem um mix atrativo de oportunidades, que vão desde empreendimentos residenciais de alto padrão até opções mais acessíveis, como as oferecidas pelo programa Minha Casa, Minha Vida.\"\n",
    "\n",
    "Link da matéria: https://sbrempreendimentos.com.br/o-mercado-imobiliario-das-capitais-nordestinas-esta-em-plena-ascensao/\n",
    "\n",
    "fonte: Ademi-BA\n",
    "\n",
    "Outra fonte interessante, dessa vez do site  \"Movimento Econômico\" - 15/02/2025 na sua matéria com o título \"Mercado de imóveis de luxo cresce 85% em dois anos no Nordeste\"\n",
    "O mercado de imóveis de luxo no Nordeste cresceu 85% nos últimos dois anos, destacando-se como um setor em ascensão. Em 2024, foram lançadas 1.143 unidades no segmento de luxo e superluxo, representando 3% das vendas da região, mas correspondendo a 25% do valor total das transações imobiliárias. Os dados são da Brain Inteligência Estratégica.\n",
    "\n",
    "Link da matéria: https://movimentoeconomico.com.br/estados/2025/02/15/mercado-de-imoveis-de-luxo-cresce-85-em-dois-anos-no-nordeste/\n",
    "\n",
    "fonte: BRAIN | ELABORAÇÂO: BRAIN\n",
    "\n",
    "\n",
    "\n",
    "**Sudeste - Centro Oeste - Sul com um pouco mais que a metade das transações do Norte e Nordeste**\n",
    "\n",
    "É notório perceber que essas três regiões apresentaram baixas transações imobiliarias, de acordo com o portal \"imoveis.estadao.com.br\"  19/09/2023 com a matéria de \"Sudeste registra queda em lançamentos e vendas de imóveis no último trimestre\" - \"Esoecialistas aponta para efeitos da alta taxa de juros, nível de desemprego e turbulência política\" \"O mercado imobiliário do Sudeste não vive um momento tão positivo em 2023. De acordo com um levantamento da Brain Inteligência Estratégica, o setor registrou queda no número de lançamentos (-18%), vendas (-1,5%) e oferta final (-5,1%) na comparação do último trimestre deste ano com o mesmo período do ano passado. \"Quando se analisa o primeiro semestre deste ano e o primeiro semestre de 2022, a queda permanece considerável. A redução no número de lançamentos foi de 16,7%, do número de vendas foi de 2,4% e a queda na oferta final também foi de 5,1%. “A redução de lançamentos justifica-se em especial por um primeiro trimestre fraco”, explica Fábio Tadeu Araújo, CEO da Brain Inteligência Estratégica.\n",
    "\n",
    "“Isso aconteceu por dois motivos: a economia, impulsionada pela elevada taxa de juros, nível de desemprego e um nível de renda baixo; e a incerteza política, simbolizada pela mudança de governo”, justifica. Na visão dele, o primeiro trimestre do ano é marcado pela indecisão de empreendedores e incorporadores e o adiamento dos lançamentos para o segundo trimestre ou para o final do trimestre.\"\n",
    "\n",
    "link da matéria: https://imoveis.estadao.com.br/compra/sudeste-registra-queda-em-lancamentos-e-vendas-de-imoveis-no-ultimo-trimestre/\n",
    "\n",
    "fonte: Levantamento Mercado Imobiliário da Região Sudeste/ Brain Inteligência Estratégica\n"
   ]
  },
  {
   "cell_type": "markdown",
   "metadata": {},
   "source": [
    "### Considerações Finais\n",
    "\n",
    "Este projeto foi um grande desafio desde o início. Comecei lidando com a extração de dados de uma coluna de texto, algo que exigiu paciência e atenção aos detalhes. Além disso, fui capaz de entender um pouco mais sobre o funcionamento do mercado imobiliário, algo que não conhecia profundamente antes.\n",
    "\n",
    "Outro ponto desafiador foi a coluna referente ao \"tamanho do imóvel\", que apresentava uma grande variação nos valores. Esses dados não eram necessariamente outliers, mas a falta de normalização acabou tornando a análise mais complexa. A pesquisa que fiz sobre o setor me abriu os olhos para a realidade do mercado, especialmente no nordeste, onde pude aprender sobre o crescimento das imobiliárias e a valorização do setor.\n",
    "\n",
    "Ao longo deste processo, me dediquei ao máximo e dei o melhor de mim. Foi uma experiência muito enriquecedora, tanto do ponto de vista técnico quanto do conhecimento do mercado. Estou muito grato pela oportunidade de mostrar minhas habilidades, aprender mais sobre esse ramo e também conhecer mais sobre a empresa e suas operações.\n",
    "\n",
    "Espero que o meu trabalho tenha sido do seu agrado e que tenha agregado valor. Agradeço pela oportunidade de participar deste projeto."
   ]
  }
 ],
 "metadata": {
  "kernelspec": {
   "display_name": "Python 3",
   "language": "python",
   "name": "python3"
  },
  "language_info": {
   "codemirror_mode": {
    "name": "ipython",
    "version": 3
   },
   "file_extension": ".py",
   "mimetype": "text/x-python",
   "name": "python",
   "nbconvert_exporter": "python",
   "pygments_lexer": "ipython3",
   "version": "3.12.2"
  }
 },
 "nbformat": 4,
 "nbformat_minor": 2
}
